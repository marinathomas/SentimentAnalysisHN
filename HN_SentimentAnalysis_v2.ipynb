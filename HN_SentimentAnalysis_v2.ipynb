{
  "nbformat": 4,
  "nbformat_minor": 0,
  "metadata": {
    "colab": {
      "name": "HN_SentimentAnalysis_v2.ipynb",
      "provenance": [],
      "include_colab_link": true
    },
    "kernelspec": {
      "name": "python3",
      "display_name": "Python 3"
    }
  },
  "cells": [
    {
      "cell_type": "markdown",
      "metadata": {
        "id": "view-in-github",
        "colab_type": "text"
      },
      "source": [
        "<a href=\"https://colab.research.google.com/github/marinathomas/SentimentAnalysisHN/blob/master/HN_SentimentAnalysis_v2.ipynb\" target=\"_parent\"><img src=\"https://colab.research.google.com/assets/colab-badge.svg\" alt=\"Open In Colab\"/></a>"
      ]
    },
    {
      "cell_type": "markdown",
      "metadata": {
        "id": "G3KSAt8AZ99W",
        "colab_type": "text"
      },
      "source": [
        "1. Load credentials to access BigQuery\n",
        "2. Read the story ids for 2017 from the 'full' table.\n",
        "3. For each story, get the associated 'main' comments. We are not considering response to the comments for now.\n",
        "4. Analyze the comments and give the story a score based off the sentiment of the comments."
      ]
    },
    {
      "cell_type": "markdown",
      "metadata": {
        "id": "NoeDjIX-akYF",
        "colab_type": "text"
      },
      "source": [
        "Step 1 - Load credentials"
      ]
    },
    {
      "cell_type": "code",
      "metadata": {
        "id": "fQp6b_UOhDXd",
        "colab_type": "code",
        "colab": {
          "base_uri": "https://localhost:8080/",
          "height": 35
        },
        "outputId": "625c8581-0b50-4b7e-f75e-267d0fef294b"
      },
      "source": [
        "from google.cloud import bigquery\n",
        "import pandas as pd\n",
        "import os\n",
        "\n",
        "from google.colab import drive\n",
        "drive.mount('/content/gdrive')"
      ],
      "execution_count": 18,
      "outputs": [
        {
          "output_type": "stream",
          "text": [
            "Drive already mounted at /content/gdrive; to attempt to forcibly remount, call drive.mount(\"/content/gdrive\", force_remount=True).\n"
          ],
          "name": "stdout"
        }
      ]
    },
    {
      "cell_type": "code",
      "metadata": {
        "id": "MGloHhbS8Neq",
        "colab_type": "code",
        "colab": {}
      },
      "source": [
        "credential_path = \"/content/gdrive/Shared drives/HackerNews:SentimentAnalysis/BigData-HackerNews-77d9fa1b02c1.json\"\n",
        "os.environ['GOOGLE_APPLICATION_CREDENTIALS'] = credential_path"
      ],
      "execution_count": 0,
      "outputs": []
    },
    {
      "cell_type": "markdown",
      "metadata": {
        "id": "iMk5ahU8emp9",
        "colab_type": "text"
      },
      "source": [
        "Step 2 - Install the sentiment analysis library\n",
        "https://github.com/cjhutto/vaderSentiment"
      ]
    },
    {
      "cell_type": "code",
      "metadata": {
        "id": "r0FMASZlGpLX",
        "colab_type": "code",
        "outputId": "d89b922b-fd6a-4ec0-caa3-5c250615f59f",
        "colab": {
          "base_uri": "https://localhost:8080/",
          "height": 124
        }
      },
      "source": [
        "!pip install vaderSentiment"
      ],
      "execution_count": 9,
      "outputs": [
        {
          "output_type": "stream",
          "text": [
            "Collecting vaderSentiment\n",
            "\u001b[?25l  Downloading https://files.pythonhosted.org/packages/86/9e/c53e1fc61aac5ee490a6ac5e21b1ac04e55a7c2aba647bb8411c9aadf24e/vaderSentiment-3.2.1-py2.py3-none-any.whl (125kB)\n",
            "\r\u001b[K     |██▋                             | 10kB 17.8MB/s eta 0:00:01\r\u001b[K     |█████▏                          | 20kB 6.1MB/s eta 0:00:01\r\u001b[K     |███████▉                        | 30kB 8.4MB/s eta 0:00:01\r\u001b[K     |██████████▍                     | 40kB 5.4MB/s eta 0:00:01\r\u001b[K     |█████████████                   | 51kB 6.6MB/s eta 0:00:01\r\u001b[K     |███████████████▋                | 61kB 7.8MB/s eta 0:00:01\r\u001b[K     |██████████████████▎             | 71kB 8.8MB/s eta 0:00:01\r\u001b[K     |████████████████████▉           | 81kB 9.8MB/s eta 0:00:01\r\u001b[K     |███████████████████████▍        | 92kB 10.9MB/s eta 0:00:01\r\u001b[K     |██████████████████████████      | 102kB 8.7MB/s eta 0:00:01\r\u001b[K     |████████████████████████████▋   | 112kB 8.7MB/s eta 0:00:01\r\u001b[K     |███████████████████████████████▎| 122kB 8.7MB/s eta 0:00:01\r\u001b[K     |████████████████████████████████| 133kB 8.7MB/s \n",
            "\u001b[?25hInstalling collected packages: vaderSentiment\n",
            "Successfully installed vaderSentiment-3.2.1\n"
          ],
          "name": "stdout"
        }
      ]
    },
    {
      "cell_type": "code",
      "metadata": {
        "id": "2PIfMSlUq0Aw",
        "colab_type": "code",
        "colab": {}
      },
      "source": [
        "from vaderSentiment.vaderSentiment import SentimentIntensityAnalyzer\n",
        "analyser = SentimentIntensityAnalyzer()"
      ],
      "execution_count": 0,
      "outputs": []
    },
    {
      "cell_type": "markdown",
      "metadata": {
        "id": "Y3GPA8d_gG70",
        "colab_type": "text"
      },
      "source": [
        "Step 3 - Load BigQuery client and HackerNews dataset\n",
        "1. Load the BigQuery client\n",
        "2. Get a reference to HackerNews dataset\n",
        "3. Load the data set"
      ]
    },
    {
      "cell_type": "code",
      "metadata": {
        "id": "1i3BPczYgKOL",
        "colab_type": "code",
        "colab": {}
      },
      "source": [
        "client = bigquery.Client()\n",
        "hn_dataset_ref = client.dataset('hacker_news', project='bigquery-public-data')\n",
        "hn_dset = client.get_dataset(hn_dataset_ref)"
      ],
      "execution_count": 0,
      "outputs": []
    },
    {
      "cell_type": "markdown",
      "metadata": {
        "id": "cgFk8Np_hv0b",
        "colab_type": "text"
      },
      "source": [
        "Step 4 - Look for 3 most popular stories of 2017"
      ]
    },
    {
      "cell_type": "code",
      "metadata": {
        "id": "0pz4ABH68SCr",
        "colab_type": "code",
        "colab": {}
      },
      "source": [
        "def get_stories():\n",
        "    query = \"\"\"\n",
        "    SELECT *\n",
        "    FROM `bigquery-public-data.hacker_news.full`\n",
        "    WHERE  REGEXP_CONTAINS(title, r\"(S|s)how HN\") and (deleted IS NULL or deleted IS FALSE) and  EXTRACT(YEAR FROM timestamp)=2017\n",
        "    ORDER BY SCORE desc\n",
        "    LIMIT 3\n",
        "    \"\"\"\n",
        "\n",
        "    query_job = client.query(query)\n",
        "    iterator = query_job.result(timeout=30)\n",
        "    rows = list(iterator)\n",
        "\n",
        "    # Transform the rows into a nice pandas dataframe\n",
        "    stories = pd.DataFrame(data=[list(x.values()) for x in rows], columns=list(rows[0].keys()))\n",
        "    stories.head(3)\n",
        "\n",
        "    return stories"
      ],
      "execution_count": 0,
      "outputs": []
    },
    {
      "cell_type": "markdown",
      "metadata": {
        "id": "i7BD3HNff6dc",
        "colab_type": "text"
      },
      "source": [
        "Lets check the data"
      ]
    },
    {
      "cell_type": "code",
      "metadata": {
        "id": "KvQed0Shpypt",
        "colab_type": "code",
        "colab": {
          "base_uri": "https://localhost:8080/",
          "height": 121
        },
        "outputId": "1583be17-9e56-48f8-e191-0739e12e79b8"
      },
      "source": [
        "stories = get_stories()\n",
        "for index,row in stories.iterrows():\n",
        "    title, descendents, parent_id = row['title'], row['descendants'], row['id']\n",
        "    print(\"----------------------------------------\")\n",
        "    print('Title: {} \\t  Descendants: {} \\t  ID: {}'.format(title, descendents, parent_id))"
      ],
      "execution_count": 23,
      "outputs": [
        {
          "output_type": "stream",
          "text": [
            "----------------------------------------\n",
            "Title: Show HN: Airmash – Multiplayer Missile Warfare HTML5 Game \t  Descendants: 304 \t  ID: 15892066\n",
            "----------------------------------------\n",
            "Title: Show HN: Sorting Two Metric Tons of Lego \t  Descendants: 211 \t  ID: 14226889\n",
            "----------------------------------------\n",
            "Title: Show HN: Privacy-focused, ad-free, non-tracking torrent search engine \t  Descendants: 346 \t  ID: 13423629\n"
          ],
          "name": "stdout"
        }
      ]
    },
    {
      "cell_type": "markdown",
      "metadata": {
        "id": "sZTiPg2diEXk",
        "colab_type": "text"
      },
      "source": [
        "Let's bring up the comments for the above stories"
      ]
    },
    {
      "cell_type": "markdown",
      "metadata": {
        "id": "4JKtiaSaa-zg",
        "colab_type": "text"
      },
      "source": [
        "Step 5 - For each story, bring up the associated comment"
      ]
    },
    {
      "cell_type": "code",
      "metadata": {
        "id": "2tQ7FmpX8S6n",
        "colab_type": "code",
        "colab": {}
      },
      "source": [
        "def get_comments(parent_id):\n",
        "    query = \"\"\"\n",
        "    select  *\n",
        "    from `bigquery-public-data.hacker_news.full` \n",
        "    where type = 'comment'  and (deleted IS NULL or deleted IS FALSE) and parent = @parent\n",
        "    order by parent ;\n",
        "    \"\"\"\n",
        "\n",
        "    query_params = [\n",
        "        bigquery.ScalarQueryParameter(\"parent\", \"INT64\", parent_id)\n",
        "    ] \n",
        "\n",
        "    job_config = bigquery.QueryJobConfig()\n",
        "    job_config.query_parameters = query_params\n",
        "    query_job = client.query(query,location=\"US\",job_config=job_config,)  \n",
        "\n",
        "    iterator = query_job.result(timeout=30)\n",
        "    rows = list(iterator)\n",
        "\n",
        "    # Transform the rows into a nice pandas dataframe\n",
        "    comments = pd.DataFrame(data=[list(x.values()) for x in rows], columns=list(rows[0].keys()))\n",
        "    comments.head(20)\n",
        "\n",
        "    return comments"
      ],
      "execution_count": 0,
      "outputs": []
    },
    {
      "cell_type": "markdown",
      "metadata": {
        "id": "XWnSGti1fb5l",
        "colab_type": "text"
      },
      "source": [
        "Step 6 - Analyse comments"
      ]
    },
    {
      "cell_type": "code",
      "metadata": {
        "id": "0B99QrxLgUsP",
        "colab_type": "code",
        "colab": {}
      },
      "source": [
        "for index, row in stories.iterrows():\n",
        "  parent_id = row['id']\n",
        "  comments = get_comments(parent_id)\n",
        "  break;"
      ],
      "execution_count": 0,
      "outputs": []
    },
    {
      "cell_type": "code",
      "metadata": {
        "id": "GCb90L1uL0H5",
        "colab_type": "code",
        "colab": {}
      },
      "source": [
        "def analyse_comments(comments):\n",
        "    scores = []\n",
        "    for index,row in comments.iterrows():\n",
        "        sentence = row['text']\n",
        "        score = analyser.polarity_scores(str(sentence))\n",
        "        print(\"{}\\t Comment: {} \\t SCORE: {}\".format(index, sentence, str(score)))\n",
        "        print(\"==============================================================================\")\n",
        "        scores.append(score)\n",
        "    return scores\n"
      ],
      "execution_count": 0,
      "outputs": []
    },
    {
      "cell_type": "code",
      "metadata": {
        "id": "W_lwzFHEg67N",
        "colab_type": "code",
        "colab": {
          "base_uri": "https://localhost:8080/",
          "height": 1000
        },
        "outputId": "e19653ed-8543-48ed-bea6-eb5abb643590"
      },
      "source": [
        "analyse_comments(comments)"
      ],
      "execution_count": 28,
      "outputs": [
        {
          "output_type": "stream",
          "text": [
            "0\t Comment: Very cool!  Can you tell us about the back end arch? \t SCORE: {'neg': 0.0, 'neu': 0.776, 'pos': 0.224, 'compound': 0.4376}\n",
            "==============================================================================\n",
            "1\t Comment: What a bloody delight! \t SCORE: {'neg': 0.358, 'neu': 0.124, 'pos': 0.518, 'compound': 0.3164}\n",
            "==============================================================================\n",
            "2\t Comment: Very nice game, but I couldn&#x27;t enjoy much because of my high ping. I&#x27;d like to see an South America and Africa servers. AFAIK AWS provides South America servers for Sao Paulo, Brazil.<p>Are there any plans on letting anyone host their own servers? \t SCORE: {'neg': 0.0, 'neu': 0.803, 'pos': 0.197, 'compound': 0.8624}\n",
            "==============================================================================\n",
            "3\t Comment: That was a lot of fun! One quick request - can the level-up popup not appear square in the middle of the screen? That can be a real problem if you happen to level while you&#x27;re in the middle of a fight.<p>One other quick request, now I think of it - can the key event handler pass F11 through? Being able to un-fullscreen would be handy.<p>Awesome game! I look forward to the writeup on the tech stack and how it&#x27;s done. \t SCORE: {'neg': 0.034, 'neu': 0.912, 'pos': 0.054, 'compound': 0.3703}\n",
            "==============================================================================\n",
            "4\t Comment: Kind of reminds me of SubSpace.  I think, it has been a very long time since I&#x27;ve played it. \t SCORE: {'neg': 0.0, 'neu': 0.87, 'pos': 0.13, 'compound': 0.34}\n",
            "==============================================================================\n",
            "5\t Comment: Request: a campaign mode where you download my cities&#x27; map and let me flyover and protect it from inbound hordes. Maybe let me network with other players in my city to coordinate defence or watch our neighbourhoods burn! \t SCORE: {'neg': 0.0, 'neu': 0.891, 'pos': 0.109, 'compound': 0.5093}\n",
            "==============================================================================\n",
            "6\t Comment: What does it use for networking? \t SCORE: {'neg': 0.0, 'neu': 1.0, 'pos': 0.0, 'compound': 0.0}\n",
            "==============================================================================\n",
            "7\t Comment: This game is great. I opened it and lost an hour then and there. Well done, OP! \t SCORE: {'neg': 0.106, 'neu': 0.597, 'pos': 0.298, 'compound': 0.636}\n",
            "==============================================================================\n",
            "8\t Comment: Apparently these are called &quot;io games&quot;. I was visiting family last month and watched my nephew play these for hours.<p>Large list here: <a href=\"http:&#x2F;&#x2F;iogames.space\" rel=\"nofollow\">http:&#x2F;&#x2F;iogames.space</a> \t SCORE: {'neg': 0.0, 'neu': 0.906, 'pos': 0.094, 'compound': 0.34}\n",
            "==============================================================================\n",
            "9\t Comment: this is fun! how did you make it? give us some details. \t SCORE: {'neg': 0.0, 'neu': 0.754, 'pos': 0.246, 'compound': 0.5562}\n",
            "==============================================================================\n",
            "10\t Comment: Good game, I really enjoy it. \t SCORE: {'neg': 0.0, 'neu': 0.319, 'pos': 0.681, 'compound': 0.7501}\n",
            "==============================================================================\n",
            "11\t Comment: super addictive game! IMO, when you&#x27;re at the top, it&#x27;s a bit much to lose so many upgrades since they take a lot of time to farm! Also, perhaps shared killing-scores and team mode!! Good job! \t SCORE: {'neg': 0.062, 'neu': 0.661, 'pos': 0.277, 'compound': 0.858}\n",
            "==============================================================================\n",
            "12\t Comment: The gameplay is smooth and everything is nicely done. Good job! \t SCORE: {'neg': 0.0, 'neu': 0.596, 'pos': 0.404, 'compound': 0.7263}\n",
            "==============================================================================\n",
            "13\t Comment: BTW, it does not recognize 4 simultanous key inputs on Firefox 57. Other than that, it is really cool game! Great job! \t SCORE: {'neg': 0.0, 'neu': 0.716, 'pos': 0.284, 'compound': 0.8196}\n",
            "==============================================================================\n",
            "14\t Comment: This worked surprisingly well on iPad. Great game! \t SCORE: {'neg': 0.0, 'neu': 0.365, 'pos': 0.635, 'compound': 0.8268}\n",
            "==============================================================================\n",
            "15\t Comment: I&#x27;m amazed by how well this works on mobile. I literally played this game for about half an hour on my phone in the HN app web view because it&#x27;s just so much fun. I&#x27;m used to normal web pages that don&#x27;t even really work on mobile and this game just worked seamlessly without any problems whatsoever. Great Job! \t SCORE: {'neg': 0.0, 'neu': 0.744, 'pos': 0.256, 'compound': 0.9511}\n",
            "==============================================================================\n",
            "16\t Comment: I&#x27;m not proud that most of my kills were AFK, but meh, I mostly sustain myself on low hanging fruit. \t SCORE: {'neg': 0.355, 'neu': 0.645, 'pos': 0.0, 'compound': -0.7398}\n",
            "==============================================================================\n",
            "17\t Comment: This is awesome! \t SCORE: {'neg': 0.0, 'neu': 0.313, 'pos': 0.687, 'compound': 0.6588}\n",
            "==============================================================================\n",
            "18\t Comment: This is incredible! Were you a Subspace Continuum player? The similarities are many and my (albeit not great) skills translate right over. Although discrete life&#x2F;weapon energy removes some of the 1v1 strategy, it doesn&#x27;t feel lacking at all. Dogfighting is a lot of fun, lots of generally pleasant players in from HN. Love it! Wasted hours grinding level 4 but the rainbow flag was worth it so I can dominate with flair :D<p>This. Is. Ace! Thank you!<p>Callsign: tseug \t SCORE: {'neg': 0.05, 'neu': 0.772, 'pos': 0.178, 'compound': 0.8735}\n",
            "==============================================================================\n",
            "19\t Comment: Really fun game. Very smooth and addictive. Curious to know about tech stack \t SCORE: {'neg': 0.0, 'neu': 0.651, 'pos': 0.349, 'compound': 0.7089}\n",
            "==============================================================================\n",
            "20\t Comment: You know, I really had stuff I needed to do today...Thanks a lot... &#x2F;s :) Awesome game, can&#x27;t seem to stop playing \t SCORE: {'neg': 0.084, 'neu': 0.575, 'pos': 0.341, 'compound': 0.7717}\n",
            "==============================================================================\n",
            "21\t Comment: The gameplay reminds me a bit of an old favorite of mine - Starport: Galactic Empires. I wonder of games of that nature could undergo a revival as browser games. \t SCORE: {'neg': 0.0, 'neu': 0.893, 'pos': 0.107, 'compound': 0.4588}\n",
            "==============================================================================\n",
            "22\t Comment: CTF is actually fun too, it just needs more players :D \t SCORE: {'neg': 0.0, 'neu': 0.542, 'pos': 0.458, 'compound': 0.823}\n",
            "==============================================================================\n",
            "23\t Comment: Played on the pc for about 20 minutes; great fun but controls mess up sometimes (shooting). Tried on my iPhone6s but screen isn’t correctly; bottom 20px or so are missing in safari.<p>Great fun though! \t SCORE: {'neg': 0.142, 'neu': 0.614, 'pos': 0.244, 'compound': 0.5682}\n",
            "==============================================================================\n",
            "24\t Comment: So amazing \t SCORE: {'neg': 0.0, 'neu': 0.196, 'pos': 0.804, 'compound': 0.624}\n",
            "==============================================================================\n",
            "25\t Comment: This is fucking amazing!!! \t SCORE: {'neg': 0.0, 'neu': 0.376, 'pos': 0.624, 'compound': 0.7157}\n",
            "==============================================================================\n",
            "26\t Comment: This reminds me of two very popular age old games (from around 1990&#x27;s) called Inner Space and Critical Mass.<p>[1] <a href=\"http:&#x2F;&#x2F;www.sdispace.com&#x2F;index.html\" rel=\"nofollow\">http:&#x2F;&#x2F;www.sdispace.com&#x2F;index.html</a><p>[2] <a href=\"http:&#x2F;&#x2F;www.windowsgames.co.uk&#x2F;critical.html\" rel=\"nofollow\">http:&#x2F;&#x2F;www.windowsgames.co.uk&#x2F;critical.html</a><p>Love this game :) \t SCORE: {'neg': 0.069, 'neu': 0.749, 'pos': 0.182, 'compound': 0.5849}\n",
            "==============================================================================\n",
            "27\t Comment: This is fantastic fun. \t SCORE: {'neg': 0.0, 'neu': 0.225, 'pos': 0.775, 'compound': 0.7845}\n",
            "==============================================================================\n",
            "28\t Comment: Does this remind anyone else of the old Subspace&#x2F;Continuum game? \t SCORE: {'neg': 0.0, 'neu': 1.0, 'pos': 0.0, 'compound': 0.0}\n",
            "==============================================================================\n",
            "29\t Comment: OMG this game is so fun. Great job! \t SCORE: {'neg': 0.0, 'neu': 0.402, 'pos': 0.598, 'compound': 0.8724}\n",
            "==============================================================================\n",
            "30\t Comment: Wow.<p>It&#x27;s fun, and implemented beautifully.<p>Great job! \t SCORE: {'neg': 0.0, 'neu': 0.582, 'pos': 0.418, 'compound': 0.5562}\n",
            "==============================================================================\n",
            "31\t Comment: great execution, love this game. Whats next for this project? \t SCORE: {'neg': 0.0, 'neu': 0.491, 'pos': 0.509, 'compound': 0.8519}\n",
            "==============================================================================\n",
            "32\t Comment: Super smooth. \t SCORE: {'neg': 0.0, 'neu': 0.204, 'pos': 0.796, 'compound': 0.5994}\n",
            "==============================================================================\n",
            "33\t Comment: Really demonstrates how far clean responsive physics and simple mechanics will get you! \t SCORE: {'neg': 0.0, 'neu': 0.667, 'pos': 0.333, 'compound': 0.6696}\n",
            "==============================================================================\n",
            "34\t Comment: A lot of friendly fire among the HN crowd. &quot;Make go boom&quot; appears to be our goal. \t SCORE: {'neg': 0.122, 'neu': 0.714, 'pos': 0.163, 'compound': 0.2023}\n",
            "==============================================================================\n",
            "35\t Comment: This is SO MUCH FUN! (and so smooth!) \t SCORE: {'neg': 0.0, 'neu': 0.556, 'pos': 0.444, 'compound': 0.7644}\n",
            "==============================================================================\n",
            "36\t Comment: So much productivity for today. :) Very nice game. Congrats. \t SCORE: {'neg': 0.0, 'neu': 0.418, 'pos': 0.582, 'compound': 0.8676}\n",
            "==============================================================================\n",
            "37\t Comment: no strafing? \t SCORE: {'neg': 0.688, 'neu': 0.312, 'pos': 0.0, 'compound': -0.296}\n",
            "==============================================================================\n",
            "38\t Comment: Needs error handling for unsupported browsers, which seems to be anything other than bleeding edge latest browser version. Can&#x27;t get past &quot;enter name&quot;, it just sits there doing nothing. I prefer to hold off on bleeding edge browser versions because backwards compatibility is a good thing to test for. \t SCORE: {'neg': 0.103, 'neu': 0.841, 'pos': 0.055, 'compound': -0.3612}\n",
            "==============================================================================\n",
            "39\t Comment: This is incredibly fun.  Nice job. \t SCORE: {'neg': 0.0, 'neu': 0.375, 'pos': 0.625, 'compound': 0.7698}\n",
            "==============================================================================\n",
            "40\t Comment: A+ nice work! \t SCORE: {'neg': 0.0, 'neu': 0.393, 'pos': 0.607, 'compound': 0.4753}\n",
            "==============================================================================\n",
            "41\t Comment: totally fun! \t SCORE: {'neg': 0.0, 'neu': 0.205, 'pos': 0.795, 'compound': 0.5974}\n",
            "==============================================================================\n",
            "42\t Comment: Real fun \t SCORE: {'neg': 0.0, 'neu': 0.233, 'pos': 0.767, 'compound': 0.5106}\n",
            "==============================================================================\n",
            "43\t Comment: Congratulations, great game.<p>1. Was cross-hair&#x2F;radar lock, omitted on purpose to improve screen on time or would any upgrade give that ability ?<p>2. Analytics - In the free for all, do see players avoiding other players if they see their country flag on them? \t SCORE: {'neg': 0.043, 'neu': 0.651, 'pos': 0.305, 'compound': 0.9378}\n",
            "==============================================================================\n",
            "44\t Comment: Nifty and addictive little game! Good job. \t SCORE: {'neg': 0.0, 'neu': 0.471, 'pos': 0.529, 'compound': 0.6822}\n",
            "==============================================================================\n",
            "45\t Comment: Great game!! can i ask you which hosting are you using ?\n",
            "how many servers what are there configuration ? \t SCORE: {'neg': 0.0, 'neu': 0.76, 'pos': 0.24, 'compound': 0.7222}\n",
            "==============================================================================\n",
            "46\t Comment: Damn you.  This is amazing. \t SCORE: {'neg': 0.284, 'neu': 0.316, 'pos': 0.4, 'compound': 0.2732}\n",
            "==============================================================================\n",
            "47\t Comment: Really fun! I was super excited to see that it also supports controllers but for some reason there is at least a one second delay between button presses on my xbox controller and the game :( \t SCORE: {'neg': 0.157, 'neu': 0.645, 'pos': 0.199, 'compound': -0.1934}\n",
            "==============================================================================\n",
            "48\t Comment: this is very well done! \t SCORE: {'neg': 0.0, 'neu': 0.598, 'pos': 0.402, 'compound': 0.3989}\n",
            "==============================================================================\n",
            "49\t Comment: #funz0<p>@fivesigma thank you!!!<p>#2k17 \t SCORE: {'neg': 0.0, 'neu': 0.372, 'pos': 0.628, 'compound': 0.5229}\n",
            "==============================================================================\n",
            "50\t Comment: dammit this is addictive, even to me!\n",
            "please add a &quot;auto lock&quot; feature, that you can find in military aircrafts since the 80s, like a &quot;god mode&quot;. \t SCORE: {'neg': 0.0, 'neu': 0.819, 'pos': 0.181, 'compound': 0.6239}\n",
            "==============================================================================\n",
            "51\t Comment: +1 for flat earther physics with teleportation from north-pole to south-pole :) Just kidding, well done. \t SCORE: {'neg': 0.0, 'neu': 0.667, 'pos': 0.333, 'compound': 0.6705}\n",
            "==============================================================================\n",
            "52\t Comment: This thing is addicting as crap. Hahah just spent the last few hours. 3.15 KD! \t SCORE: {'neg': 0.171, 'neu': 0.829, 'pos': 0.0, 'compound': -0.4389}\n",
            "==============================================================================\n",
            "53\t Comment: This game reminds me of XPilot released back in 1992: <a href=\"https:&#x2F;&#x2F;en.wikipedia.org&#x2F;wiki&#x2F;XPilot\" rel=\"nofollow\">https:&#x2F;&#x2F;en.wikipedia.org&#x2F;wiki&#x2F;XPilot</a><p>Some gameplay footage: <a href=\"https:&#x2F;&#x2F;www.youtube.com&#x2F;watch?v=LiO6XYt8M14&amp;list=PL192CF249EA2E99AA&amp;index=1\" rel=\"nofollow\">https:&#x2F;&#x2F;www.youtube.com&#x2F;watch?v=LiO6XYt8M14&amp;list=PL192CF249E...</a> \t SCORE: {'neg': 0.0, 'neu': 1.0, 'pos': 0.0, 'compound': 0.0}\n",
            "==============================================================================\n",
            "54\t Comment: Very good on mobile, got in first place a couple of times. Should stop disclaiming about the mobile experience \t SCORE: {'neg': 0.103, 'neu': 0.748, 'pos': 0.149, 'compound': 0.2484}\n",
            "==============================================================================\n",
            "55\t Comment: Very cool! What server company are you using? \t SCORE: {'neg': 0.0, 'neu': 0.708, 'pos': 0.292, 'compound': 0.4376}\n",
            "==============================================================================\n",
            "56\t Comment: Well great... i&#x27;m addicted. There goes my project deadline. \t SCORE: {'neg': 0.0, 'neu': 0.792, 'pos': 0.208, 'compound': 0.2732}\n",
            "==============================================================================\n",
            "57\t Comment: I can&#x27;t seem to get my aircraft to move forward using a keyboard. Flying backwards is fine, but using the ^ key is a nogo. Controller works fin theough!<p>OS: Windows 10 (Build 16251)\n",
            "Browser: Firefox Developer Edition (58.0b10 64-bit) \t SCORE: {'neg': 0.0, 'neu': 0.953, 'pos': 0.047, 'compound': 0.1759}\n",
            "==============================================================================\n",
            "58\t Comment: I opened this game in an incognito tab. And started dev tools. \n",
            "The entire game is only 2.8 MB. It loads fast. Such graphics, much small. A lesson for modern web developers about website obesity and performance. \t SCORE: {'neg': 0.0, 'neu': 1.0, 'pos': 0.0, 'compound': 0.0}\n",
            "==============================================================================\n",
            "59\t Comment: you just wasted my entire day :D<p>btw it performs better on Firefox 57 than chrome, I had some lags on chrome then switched to Firefox and it worked without a single lag \t SCORE: {'neg': 0.156, 'neu': 0.71, 'pos': 0.135, 'compound': -0.1935}\n",
            "==============================================================================\n",
            "60\t Comment: Works great in Firefox 57. But Chrome 63 on Linux 17.10. With GPU accel. The bitmap sprites are just rendering as weird grey bounding rects :( \t SCORE: {'neg': 0.186, 'neu': 0.693, 'pos': 0.121, 'compound': -0.4678}\n",
            "==============================================================================\n",
            "61\t Comment: How long has this been released? Seems very polished. How long did it take you to build? \t SCORE: {'neg': 0.0, 'neu': 1.0, 'pos': 0.0, 'compound': 0.0}\n",
            "==============================================================================\n",
            "62\t Comment: Really enjoyed this even after playing a few minutes. Good graphics and nice controls. \t SCORE: {'neg': 0.0, 'neu': 0.448, 'pos': 0.552, 'compound': 0.8777}\n",
            "==============================================================================\n",
            "63\t Comment: This is super addictive, well done. Runs incredibly fast too.  \n",
            "As a strategy tip, you can fly in reverse, it&#x27;s great for dodging missles and maneuvering in general. \t SCORE: {'neg': 0.041, 'neu': 0.667, 'pos': 0.293, 'compound': 0.8658}\n",
            "==============================================================================\n",
            "64\t Comment: what is the backend tech being used? \t SCORE: {'neg': 0.0, 'neu': 1.0, 'pos': 0.0, 'compound': 0.0}\n",
            "==============================================================================\n",
            "65\t Comment: This was definitely thought out. Can&#x27;t even put Zalgo text as a username and have it fill the screen to cheat :^). \t SCORE: {'neg': 0.121, 'neu': 0.769, 'pos': 0.109, 'compound': -0.0772}\n",
            "==============================================================================\n",
            "66\t Comment: Great game, would be nice to be able to switch off controllers though - when I bumped into my G29 it immediately registered and I had to start steering :) \t SCORE: {'neg': 0.0, 'neu': 0.708, 'pos': 0.292, 'compound': 0.872}\n",
            "==============================================================================\n",
            "67\t Comment: Damn, this game is so addictive, and so well done. Congratulations!<p>I wish there were more stuff to upgrade&#x2F;unlock, I&#x27;ve reached level 6 and even&#x27;t unlocked anything in the past 3 levels.<p>Hi from &quot;Moz:&#x2F;&#x2F;a&quot; in the game! \t SCORE: {'neg': 0.067, 'neu': 0.748, 'pos': 0.185, 'compound': 0.5755}\n",
            "==============================================================================\n",
            "68\t Comment: How does one turn into a helicopter or a large drone? \t SCORE: {'neg': 0.0, 'neu': 1.0, 'pos': 0.0, 'compound': 0.0}\n",
            "==============================================================================\n",
            "69\t Comment: Really slow in the seattle area. Not sure if this is because of servers being overloaded right now. \t SCORE: {'neg': 0.103, 'neu': 0.897, 'pos': 0.0, 'compound': -0.2411}\n",
            "==============================================================================\n",
            "70\t Comment: The game space is a little crowded i felt. Otherwise pretty cool game ! \n",
            "Do you plan to open source or do you know of a HTML5 game of similar complexity that is ? Would love to read the code. \t SCORE: {'neg': 0.0, 'neu': 0.762, 'pos': 0.238, 'compound': 0.8748}\n",
            "==============================================================================\n",
            "71\t Comment: Amazing game! fun fact - works a lot smoother on mobile nexus 6P than MB Pro 2015 :) \t SCORE: {'neg': 0.0, 'neu': 0.556, 'pos': 0.444, 'compound': 0.8858}\n",
            "==============================================================================\n",
            "72\t Comment: Awesome game. My only request would be make the planes less maneuverable and move more like real planes. This would make it less chaotic and allow more dog-fight and strategic play. \t SCORE: {'neg': 0.073, 'neu': 0.653, 'pos': 0.274, 'compound': 0.7919}\n",
            "==============================================================================\n",
            "73\t Comment: It&#x27;s well coded, very fast, small size, runs even in mobile, and the most important it&#x27;s funny to play! \t SCORE: {'neg': 0.0, 'neu': 0.599, 'pos': 0.401, 'compound': 0.8422}\n",
            "==============================================================================\n",
            "74\t Comment: And I quit... This is too addicting... \t SCORE: {'neg': 0.0, 'neu': 1.0, 'pos': 0.0, 'compound': 0.0}\n",
            "==============================================================================\n",
            "75\t Comment: ADDICTIVE! Very nice game, well done! \t SCORE: {'neg': 0.0, 'neu': 0.398, 'pos': 0.602, 'compound': 0.7219}\n",
            "==============================================================================\n",
            "76\t Comment: Arrrgh, clicked too! So much fun and beware - addictive! \t SCORE: {'neg': 0.0, 'neu': 0.658, 'pos': 0.342, 'compound': 0.6325}\n",
            "==============================================================================\n",
            "77\t Comment: Completely playable on a 2009 MacBook. Thanks for keeping it tiny and clean! \t SCORE: {'neg': 0.0, 'neu': 0.629, 'pos': 0.371, 'compound': 0.7088}\n",
            "==============================================================================\n",
            "78\t Comment: What a fun little game! Well done \t SCORE: {'neg': 0.0, 'neu': 0.425, 'pos': 0.575, 'compound': 0.6612}\n",
            "==============================================================================\n",
            "79\t Comment: Would love a write up on how you achieved such smooth responsive game play! \t SCORE: {'neg': 0.0, 'neu': 0.516, 'pos': 0.484, 'compound': 0.8553}\n",
            "==============================================================================\n",
            "80\t Comment: Well there went an hour and a half of my time.  Very nicely done. \t SCORE: {'neg': 0.0, 'neu': 0.675, 'pos': 0.325, 'compound': 0.6478}\n",
            "==============================================================================\n",
            "81\t Comment: I have now accidentally closed the game twice ctrl + w and bookmarked once ctrl + d but the game itself is so much fun :) +1 from me \t SCORE: {'neg': 0.053, 'neu': 0.657, 'pos': 0.29, 'compound': 0.8612}\n",
            "==============================================================================\n",
            "82\t Comment: This is actually really impressive well done \t SCORE: {'neg': 0.0, 'neu': 0.456, 'pos': 0.544, 'compound': 0.7159}\n",
            "==============================================================================\n",
            "83\t Comment: Holy crap that game is fun \t SCORE: {'neg': 0.263, 'neu': 0.404, 'pos': 0.333, 'compound': 0.1779}\n",
            "==============================================================================\n",
            "84\t Comment: This game is so awesome! Can you make a tutorial on how you designed it? \t SCORE: {'neg': 0.0, 'neu': 0.701, 'pos': 0.299, 'compound': 0.7603}\n",
            "==============================================================================\n",
            "85\t Comment: Please add regular sign-up form as well! I do not want to use one of my social network profiles to save my progress. \t SCORE: {'neg': 0.042, 'neu': 0.588, 'pos': 0.37, 'compound': 0.858}\n",
            "==============================================================================\n",
            "86\t Comment: Man, that game is addicting.<p>I have so much work to do but can&#x27;t keep off it! \t SCORE: {'neg': 0.0, 'neu': 1.0, 'pos': 0.0, 'compound': 0.0}\n",
            "==============================================================================\n",
            "87\t Comment: I don&#x27;t know if this is HN effect or what but I just dont&#x27;t get to the game.\n",
            "All I see after log in is some terrain and, a few moments later &quot;Destroyed by &quot; someone. No units movement, nothing. \t SCORE: {'neg': 0.074, 'neu': 0.926, 'pos': 0.0, 'compound': -0.4215}\n",
            "==============================================================================\n",
            "88\t Comment: Kudos!  I appreciate anything that works out of the box with uMatrix blocking enabled.<p>Gameplay wise:  looks like you may want to slow down the reverse speed... or not it&#x27;s pretty fun as is \t SCORE: {'neg': 0.176, 'neu': 0.532, 'pos': 0.292, 'compound': 0.6442}\n",
            "==============================================================================\n",
            "89\t Comment: Works buttery smooth on Chrome 53 on Android over a cell  connection (90ms latency). Can&#x27;t wait to review on desktop to view the WebSocket traffic! \t SCORE: {'neg': 0.0, 'neu': 1.0, 'pos': 0.0, 'compound': 0.0}\n",
            "==============================================================================\n",
            "90\t Comment: This is great, it&#x27;s going to be the next big hit, calling it now. Awesome work :). \t SCORE: {'neg': 0.0, 'neu': 0.647, 'pos': 0.353, 'compound': 0.8481}\n",
            "==============================================================================\n",
            "91\t Comment: Bravo! Cute game. So many things done well. \t SCORE: {'neg': 0.0, 'neu': 0.527, 'pos': 0.473, 'compound': 0.6588}\n",
            "==============================================================================\n",
            "92\t Comment: blue tooth physical keyboard on ipad: caps lock kills controls.<p>please update to ignore case in controls.<p>also bug, BT KB kills any touch control on an ipad... plus it hangs on a certain direction and contrl dies very fast...<p>way too buggy to even play on an ipad with a BT KB \t SCORE: {'neg': 0.167, 'neu': 0.754, 'pos': 0.079, 'compound': -0.7184}\n",
            "==============================================================================\n",
            "93\t Comment: I played it for two minutes and immmedialy had great memories of Subspace multiplayer.<p>And it even still exists!\n",
            "store.steampowered.com&#x2F;app&#x2F;352700&#x2F;Subspace_Continuum&#x2F; \t SCORE: {'neg': 0.0, 'neu': 0.702, 'pos': 0.298, 'compound': 0.7777}\n",
            "==============================================================================\n",
            "94\t Comment: What a very well executed fun game. And it performs extremely well on my lap top. Great job! \t SCORE: {'neg': 0.0, 'neu': 0.452, 'pos': 0.548, 'compound': 0.9266}\n",
            "==============================================================================\n",
            "95\t Comment: works great, impressive! \t SCORE: {'neg': 0.0, 'neu': 0.115, 'pos': 0.885, 'compound': 0.8268}\n",
            "==============================================================================\n",
            "96\t Comment: Staying #1 is incredibly exhilarating. My strategy was upgrading defense and staying out of big clusters while still shooting towards them. \t SCORE: {'neg': 0.0, 'neu': 0.809, 'pos': 0.191, 'compound': 0.5413}\n",
            "==============================================================================\n",
            "97\t Comment: Such a simple and good looking game. Fantastic! Gives you a sense of just how big our oceans are. \t SCORE: {'neg': 0.0, 'neu': 0.688, 'pos': 0.312, 'compound': 0.7777}\n",
            "==============================================================================\n",
            "98\t Comment: the best game i had in a long time \t SCORE: {'neg': 0.0, 'neu': 0.588, 'pos': 0.412, 'compound': 0.6369}\n",
            "==============================================================================\n",
            "99\t Comment: Really fun and I played for a long time with no connection issues or bugs. \t SCORE: {'neg': 0.119, 'neu': 0.542, 'pos': 0.339, 'compound': 0.6195}\n",
            "==============================================================================\n",
            "100\t Comment: Hey pretty fun. \t SCORE: {'neg': 0.0, 'neu': 0.133, 'pos': 0.867, 'compound': 0.7579}\n",
            "==============================================================================\n",
            "101\t Comment: Great job! Would love to read a write up on how you made it. \t SCORE: {'neg': 0.0, 'neu': 0.561, 'pos': 0.439, 'compound': 0.8622}\n",
            "==============================================================================\n",
            "102\t Comment: Does not load in Palemoon :-( \t SCORE: {'neg': 0.333, 'neu': 0.667, 'pos': 0.0, 'compound': -0.3612}\n",
            "==============================================================================\n",
            "103\t Comment: Addictive! Great job! \t SCORE: {'neg': 0.0, 'neu': 0.299, 'pos': 0.701, 'compound': 0.6892}\n",
            "==============================================================================\n",
            "104\t Comment: WOW -- where did my last hour go! \t SCORE: {'neg': 0.0, 'neu': 0.592, 'pos': 0.408, 'compound': 0.7027}\n",
            "==============================================================================\n",
            "105\t Comment: Awesome game, played for almost ah hour already! \t SCORE: {'neg': 0.0, 'neu': 0.469, 'pos': 0.531, 'compound': 0.7777}\n",
            "==============================================================================\n",
            "106\t Comment: Very fun! I think the Mohawk helicopter has the most potential due to its strafe ability. \t SCORE: {'neg': 0.0, 'neu': 0.678, 'pos': 0.322, 'compound': 0.7339}\n",
            "==============================================================================\n",
            "107\t Comment: You&#x27;re traffic is about to go up, I just put it on ProductHunt also :) \t SCORE: {'neg': 0.0, 'neu': 0.812, 'pos': 0.188, 'compound': 0.4588}\n",
            "==============================================================================\n",
            "108\t Comment: A W E S O M E! So simple, so much fun! \t SCORE: {'neg': 0.0, 'neu': 0.546, 'pos': 0.454, 'compound': 0.6325}\n",
            "==============================================================================\n",
            "109\t Comment: This really is an addictive game and the attention to detail is amazing. As a web developer myself, I&#x27;m quite familiar with building a typical web application but nothing close to this. If you ever decide to write a piece explaining how you built this at the high level, peeps like myself will find it extremely valuable. \t SCORE: {'neg': 0.0, 'neu': 0.833, 'pos': 0.167, 'compound': 0.8817}\n",
            "==============================================================================\n",
            "110\t Comment: What did u use too make the game? \t SCORE: {'neg': 0.0, 'neu': 1.0, 'pos': 0.0, 'compound': 0.0}\n",
            "==============================================================================\n",
            "111\t Comment: Now somebody say web apps are not the future. \t SCORE: {'neg': 0.0, 'neu': 1.0, 'pos': 0.0, 'compound': 0.0}\n",
            "==============================================================================\n",
            "112\t Comment: Fun fun fun. Good stuff. \t SCORE: {'neg': 0.0, 'neu': 0.072, 'pos': 0.928, 'compound': 0.9153}\n",
            "==============================================================================\n",
            "113\t Comment: Gameplay feedback:<p><pre><code>  Mohawk (helicopter) and Prowler (stealthy) don&#x27;t seem worth it.\n",
            "</code></pre>\n",
            "The helicopter dies from a single stray rocket, random spam and attacks from behind. Alt+arrow for strafe worked in DooM because field of view always pointed away from the player. Here, strafing is hard to get used to.\n",
            "Since there are already 2 keys for ability, why not make one of them &quot;strafe left&quot; and the other &quot;strafe right&quot; ?\n",
            "Also, because helicopter lacks a clear point, it&#x27;s harder to aim.<p>Stealthy Prowler is very slow and not especially fun to play. To the point that only effective way to play is to cloak after every rocket fired. You crawl towards a victim, then shoot at close range, then recloak. Visual notification is quite subtle, there&#x27;s no sound and you end up mashing the ability key never quite sure if it already worked. So it kinda works against newbies... but sneak attacks are also effective with Goliath (the fat one) and Tornado (multifire). So I don&#x27;t see the point. And here&#x27;s the kicker: advanced players see it because they play (and aim!) by radar. This is an issue when fighting away from the crowd.<p>Thoughts on upgrades:\n",
            "- I would appreciate a kind of &quot;laser sight&quot; upgrade. Each level would render a laser line in front of your plane, and the line would get longer with levels. \t SCORE: {'neg': 0.101, 'neu': 0.792, 'pos': 0.107, 'compound': 0.553}\n",
            "==============================================================================\n",
            "114\t Comment: Reminds me of `Raptor: Call of the Shadows`: <a href=\"https:&#x2F;&#x2F;www.youtube.com&#x2F;watch?v=j19rc8YB3sY\" rel=\"nofollow\">https:&#x2F;&#x2F;www.youtube.com&#x2F;watch?v=j19rc8YB3sY</a><p>Plenty of nostalgia there as that was the first computer game I ever played and a classic from the 90s. \t SCORE: {'neg': 0.0, 'neu': 0.907, 'pos': 0.093, 'compound': 0.4137}\n",
            "==============================================================================\n",
            "115\t Comment: Is it just me or is this becoming a more popular Internet game format. The reason I ask is because Slither.io uses this same idea. \t SCORE: {'neg': 0.0, 'neu': 0.877, 'pos': 0.123, 'compound': 0.4754}\n",
            "==============================================================================\n",
            "116\t Comment: I just played the game for 30 mins on my iPad Pro and its really fun and addictive, great work! \t SCORE: {'neg': 0.0, 'neu': 0.606, 'pos': 0.394, 'compound': 0.8856}\n",
            "==============================================================================\n"
          ],
          "name": "stdout"
        }
      ]
    },
    {
      "cell_type": "markdown",
      "metadata": {
        "id": "3nxvy0358Z3y",
        "colab_type": "text"
      },
      "source": [
        "TODO: Analyze comments of comments ==> Will take up later"
      ]
    },
    {
      "cell_type": "code",
      "metadata": {
        "id": "Er6ATerIzh9W",
        "colab_type": "code",
        "colab": {}
      },
      "source": [
        "def score_story(scores):\n",
        "  story_score = 0\n",
        "  for row in scores:\n",
        "    compound_score = row['compound']\n",
        "    if compound_score >= 0.05:\n",
        "      story_score += 1\n",
        "    elif compound_score <= -0.05:\n",
        "      story_score -= 1\n",
        "  return story_score\n"
      ],
      "execution_count": 0,
      "outputs": []
    },
    {
      "cell_type": "code",
      "metadata": {
        "id": "i5DLqcGd8giv",
        "colab_type": "code",
        "colab": {}
      },
      "source": [
        "def analyse_hacker_news():\n",
        "  stories = get_stories()\n",
        "  scored_stories = []\n",
        "  for index, row in stories.iterrows():\n",
        "    parent_id = row['id']\n",
        "    comments = get_comments(parent_id)\n",
        "    scores = analyse_comments(comments)\n",
        "    story_point = score_story(scores)\n",
        "    print(\"Story {} with id {} scored {}\".format(row['title'], parent_id, story_point))\n",
        "    break;"
      ],
      "execution_count": 0,
      "outputs": []
    },
    {
      "cell_type": "code",
      "metadata": {
        "id": "i3L55tVC3cCL",
        "colab_type": "code",
        "colab": {
          "base_uri": "https://localhost:8080/",
          "height": 1000
        },
        "outputId": "0083ca19-cfbb-42a3-c078-1363ef7606f6"
      },
      "source": [
        "analyse_hacker_news()"
      ],
      "execution_count": 39,
      "outputs": [
        {
          "output_type": "stream",
          "text": [
            "0\t Comment: Very cool!  Can you tell us about the back end arch? \t SCORE: {'neg': 0.0, 'neu': 0.776, 'pos': 0.224, 'compound': 0.4376}\n",
            "==============================================================================\n",
            "1\t Comment: What a bloody delight! \t SCORE: {'neg': 0.358, 'neu': 0.124, 'pos': 0.518, 'compound': 0.3164}\n",
            "==============================================================================\n",
            "2\t Comment: Very nice game, but I couldn&#x27;t enjoy much because of my high ping. I&#x27;d like to see an South America and Africa servers. AFAIK AWS provides South America servers for Sao Paulo, Brazil.<p>Are there any plans on letting anyone host their own servers? \t SCORE: {'neg': 0.0, 'neu': 0.803, 'pos': 0.197, 'compound': 0.8624}\n",
            "==============================================================================\n",
            "3\t Comment: That was a lot of fun! One quick request - can the level-up popup not appear square in the middle of the screen? That can be a real problem if you happen to level while you&#x27;re in the middle of a fight.<p>One other quick request, now I think of it - can the key event handler pass F11 through? Being able to un-fullscreen would be handy.<p>Awesome game! I look forward to the writeup on the tech stack and how it&#x27;s done. \t SCORE: {'neg': 0.034, 'neu': 0.912, 'pos': 0.054, 'compound': 0.3703}\n",
            "==============================================================================\n",
            "4\t Comment: Kind of reminds me of SubSpace.  I think, it has been a very long time since I&#x27;ve played it. \t SCORE: {'neg': 0.0, 'neu': 0.87, 'pos': 0.13, 'compound': 0.34}\n",
            "==============================================================================\n",
            "5\t Comment: Request: a campaign mode where you download my cities&#x27; map and let me flyover and protect it from inbound hordes. Maybe let me network with other players in my city to coordinate defence or watch our neighbourhoods burn! \t SCORE: {'neg': 0.0, 'neu': 0.891, 'pos': 0.109, 'compound': 0.5093}\n",
            "==============================================================================\n",
            "6\t Comment: What does it use for networking? \t SCORE: {'neg': 0.0, 'neu': 1.0, 'pos': 0.0, 'compound': 0.0}\n",
            "==============================================================================\n",
            "7\t Comment: This game is great. I opened it and lost an hour then and there. Well done, OP! \t SCORE: {'neg': 0.106, 'neu': 0.597, 'pos': 0.298, 'compound': 0.636}\n",
            "==============================================================================\n",
            "8\t Comment: Apparently these are called &quot;io games&quot;. I was visiting family last month and watched my nephew play these for hours.<p>Large list here: <a href=\"http:&#x2F;&#x2F;iogames.space\" rel=\"nofollow\">http:&#x2F;&#x2F;iogames.space</a> \t SCORE: {'neg': 0.0, 'neu': 0.906, 'pos': 0.094, 'compound': 0.34}\n",
            "==============================================================================\n",
            "9\t Comment: this is fun! how did you make it? give us some details. \t SCORE: {'neg': 0.0, 'neu': 0.754, 'pos': 0.246, 'compound': 0.5562}\n",
            "==============================================================================\n",
            "10\t Comment: Good game, I really enjoy it. \t SCORE: {'neg': 0.0, 'neu': 0.319, 'pos': 0.681, 'compound': 0.7501}\n",
            "==============================================================================\n",
            "11\t Comment: super addictive game! IMO, when you&#x27;re at the top, it&#x27;s a bit much to lose so many upgrades since they take a lot of time to farm! Also, perhaps shared killing-scores and team mode!! Good job! \t SCORE: {'neg': 0.062, 'neu': 0.661, 'pos': 0.277, 'compound': 0.858}\n",
            "==============================================================================\n",
            "12\t Comment: The gameplay is smooth and everything is nicely done. Good job! \t SCORE: {'neg': 0.0, 'neu': 0.596, 'pos': 0.404, 'compound': 0.7263}\n",
            "==============================================================================\n",
            "13\t Comment: BTW, it does not recognize 4 simultanous key inputs on Firefox 57. Other than that, it is really cool game! Great job! \t SCORE: {'neg': 0.0, 'neu': 0.716, 'pos': 0.284, 'compound': 0.8196}\n",
            "==============================================================================\n",
            "14\t Comment: This worked surprisingly well on iPad. Great game! \t SCORE: {'neg': 0.0, 'neu': 0.365, 'pos': 0.635, 'compound': 0.8268}\n",
            "==============================================================================\n",
            "15\t Comment: I&#x27;m amazed by how well this works on mobile. I literally played this game for about half an hour on my phone in the HN app web view because it&#x27;s just so much fun. I&#x27;m used to normal web pages that don&#x27;t even really work on mobile and this game just worked seamlessly without any problems whatsoever. Great Job! \t SCORE: {'neg': 0.0, 'neu': 0.744, 'pos': 0.256, 'compound': 0.9511}\n",
            "==============================================================================\n",
            "16\t Comment: I&#x27;m not proud that most of my kills were AFK, but meh, I mostly sustain myself on low hanging fruit. \t SCORE: {'neg': 0.355, 'neu': 0.645, 'pos': 0.0, 'compound': -0.7398}\n",
            "==============================================================================\n",
            "17\t Comment: This is awesome! \t SCORE: {'neg': 0.0, 'neu': 0.313, 'pos': 0.687, 'compound': 0.6588}\n",
            "==============================================================================\n",
            "18\t Comment: This is incredible! Were you a Subspace Continuum player? The similarities are many and my (albeit not great) skills translate right over. Although discrete life&#x2F;weapon energy removes some of the 1v1 strategy, it doesn&#x27;t feel lacking at all. Dogfighting is a lot of fun, lots of generally pleasant players in from HN. Love it! Wasted hours grinding level 4 but the rainbow flag was worth it so I can dominate with flair :D<p>This. Is. Ace! Thank you!<p>Callsign: tseug \t SCORE: {'neg': 0.05, 'neu': 0.772, 'pos': 0.178, 'compound': 0.8735}\n",
            "==============================================================================\n",
            "19\t Comment: Really fun game. Very smooth and addictive. Curious to know about tech stack \t SCORE: {'neg': 0.0, 'neu': 0.651, 'pos': 0.349, 'compound': 0.7089}\n",
            "==============================================================================\n",
            "20\t Comment: You know, I really had stuff I needed to do today...Thanks a lot... &#x2F;s :) Awesome game, can&#x27;t seem to stop playing \t SCORE: {'neg': 0.084, 'neu': 0.575, 'pos': 0.341, 'compound': 0.7717}\n",
            "==============================================================================\n",
            "21\t Comment: The gameplay reminds me a bit of an old favorite of mine - Starport: Galactic Empires. I wonder of games of that nature could undergo a revival as browser games. \t SCORE: {'neg': 0.0, 'neu': 0.893, 'pos': 0.107, 'compound': 0.4588}\n",
            "==============================================================================\n",
            "22\t Comment: CTF is actually fun too, it just needs more players :D \t SCORE: {'neg': 0.0, 'neu': 0.542, 'pos': 0.458, 'compound': 0.823}\n",
            "==============================================================================\n",
            "23\t Comment: Played on the pc for about 20 minutes; great fun but controls mess up sometimes (shooting). Tried on my iPhone6s but screen isn’t correctly; bottom 20px or so are missing in safari.<p>Great fun though! \t SCORE: {'neg': 0.142, 'neu': 0.614, 'pos': 0.244, 'compound': 0.5682}\n",
            "==============================================================================\n",
            "24\t Comment: So amazing \t SCORE: {'neg': 0.0, 'neu': 0.196, 'pos': 0.804, 'compound': 0.624}\n",
            "==============================================================================\n",
            "25\t Comment: This is fucking amazing!!! \t SCORE: {'neg': 0.0, 'neu': 0.376, 'pos': 0.624, 'compound': 0.7157}\n",
            "==============================================================================\n",
            "26\t Comment: This reminds me of two very popular age old games (from around 1990&#x27;s) called Inner Space and Critical Mass.<p>[1] <a href=\"http:&#x2F;&#x2F;www.sdispace.com&#x2F;index.html\" rel=\"nofollow\">http:&#x2F;&#x2F;www.sdispace.com&#x2F;index.html</a><p>[2] <a href=\"http:&#x2F;&#x2F;www.windowsgames.co.uk&#x2F;critical.html\" rel=\"nofollow\">http:&#x2F;&#x2F;www.windowsgames.co.uk&#x2F;critical.html</a><p>Love this game :) \t SCORE: {'neg': 0.069, 'neu': 0.749, 'pos': 0.182, 'compound': 0.5849}\n",
            "==============================================================================\n",
            "27\t Comment: This is fantastic fun. \t SCORE: {'neg': 0.0, 'neu': 0.225, 'pos': 0.775, 'compound': 0.7845}\n",
            "==============================================================================\n",
            "28\t Comment: Does this remind anyone else of the old Subspace&#x2F;Continuum game? \t SCORE: {'neg': 0.0, 'neu': 1.0, 'pos': 0.0, 'compound': 0.0}\n",
            "==============================================================================\n",
            "29\t Comment: OMG this game is so fun. Great job! \t SCORE: {'neg': 0.0, 'neu': 0.402, 'pos': 0.598, 'compound': 0.8724}\n",
            "==============================================================================\n",
            "30\t Comment: Wow.<p>It&#x27;s fun, and implemented beautifully.<p>Great job! \t SCORE: {'neg': 0.0, 'neu': 0.582, 'pos': 0.418, 'compound': 0.5562}\n",
            "==============================================================================\n",
            "31\t Comment: great execution, love this game. Whats next for this project? \t SCORE: {'neg': 0.0, 'neu': 0.491, 'pos': 0.509, 'compound': 0.8519}\n",
            "==============================================================================\n",
            "32\t Comment: Super smooth. \t SCORE: {'neg': 0.0, 'neu': 0.204, 'pos': 0.796, 'compound': 0.5994}\n",
            "==============================================================================\n",
            "33\t Comment: Really demonstrates how far clean responsive physics and simple mechanics will get you! \t SCORE: {'neg': 0.0, 'neu': 0.667, 'pos': 0.333, 'compound': 0.6696}\n",
            "==============================================================================\n",
            "34\t Comment: A lot of friendly fire among the HN crowd. &quot;Make go boom&quot; appears to be our goal. \t SCORE: {'neg': 0.122, 'neu': 0.714, 'pos': 0.163, 'compound': 0.2023}\n",
            "==============================================================================\n",
            "35\t Comment: This is SO MUCH FUN! (and so smooth!) \t SCORE: {'neg': 0.0, 'neu': 0.556, 'pos': 0.444, 'compound': 0.7644}\n",
            "==============================================================================\n",
            "36\t Comment: So much productivity for today. :) Very nice game. Congrats. \t SCORE: {'neg': 0.0, 'neu': 0.418, 'pos': 0.582, 'compound': 0.8676}\n",
            "==============================================================================\n",
            "37\t Comment: no strafing? \t SCORE: {'neg': 0.688, 'neu': 0.312, 'pos': 0.0, 'compound': -0.296}\n",
            "==============================================================================\n",
            "38\t Comment: Needs error handling for unsupported browsers, which seems to be anything other than bleeding edge latest browser version. Can&#x27;t get past &quot;enter name&quot;, it just sits there doing nothing. I prefer to hold off on bleeding edge browser versions because backwards compatibility is a good thing to test for. \t SCORE: {'neg': 0.103, 'neu': 0.841, 'pos': 0.055, 'compound': -0.3612}\n",
            "==============================================================================\n",
            "39\t Comment: This is incredibly fun.  Nice job. \t SCORE: {'neg': 0.0, 'neu': 0.375, 'pos': 0.625, 'compound': 0.7698}\n",
            "==============================================================================\n",
            "40\t Comment: A+ nice work! \t SCORE: {'neg': 0.0, 'neu': 0.393, 'pos': 0.607, 'compound': 0.4753}\n",
            "==============================================================================\n",
            "41\t Comment: totally fun! \t SCORE: {'neg': 0.0, 'neu': 0.205, 'pos': 0.795, 'compound': 0.5974}\n",
            "==============================================================================\n",
            "42\t Comment: Real fun \t SCORE: {'neg': 0.0, 'neu': 0.233, 'pos': 0.767, 'compound': 0.5106}\n",
            "==============================================================================\n",
            "43\t Comment: Congratulations, great game.<p>1. Was cross-hair&#x2F;radar lock, omitted on purpose to improve screen on time or would any upgrade give that ability ?<p>2. Analytics - In the free for all, do see players avoiding other players if they see their country flag on them? \t SCORE: {'neg': 0.043, 'neu': 0.651, 'pos': 0.305, 'compound': 0.9378}\n",
            "==============================================================================\n",
            "44\t Comment: Nifty and addictive little game! Good job. \t SCORE: {'neg': 0.0, 'neu': 0.471, 'pos': 0.529, 'compound': 0.6822}\n",
            "==============================================================================\n",
            "45\t Comment: Great game!! can i ask you which hosting are you using ?\n",
            "how many servers what are there configuration ? \t SCORE: {'neg': 0.0, 'neu': 0.76, 'pos': 0.24, 'compound': 0.7222}\n",
            "==============================================================================\n",
            "46\t Comment: Damn you.  This is amazing. \t SCORE: {'neg': 0.284, 'neu': 0.316, 'pos': 0.4, 'compound': 0.2732}\n",
            "==============================================================================\n",
            "47\t Comment: Really fun! I was super excited to see that it also supports controllers but for some reason there is at least a one second delay between button presses on my xbox controller and the game :( \t SCORE: {'neg': 0.157, 'neu': 0.645, 'pos': 0.199, 'compound': -0.1934}\n",
            "==============================================================================\n",
            "48\t Comment: this is very well done! \t SCORE: {'neg': 0.0, 'neu': 0.598, 'pos': 0.402, 'compound': 0.3989}\n",
            "==============================================================================\n",
            "49\t Comment: #funz0<p>@fivesigma thank you!!!<p>#2k17 \t SCORE: {'neg': 0.0, 'neu': 0.372, 'pos': 0.628, 'compound': 0.5229}\n",
            "==============================================================================\n",
            "50\t Comment: dammit this is addictive, even to me!\n",
            "please add a &quot;auto lock&quot; feature, that you can find in military aircrafts since the 80s, like a &quot;god mode&quot;. \t SCORE: {'neg': 0.0, 'neu': 0.819, 'pos': 0.181, 'compound': 0.6239}\n",
            "==============================================================================\n",
            "51\t Comment: +1 for flat earther physics with teleportation from north-pole to south-pole :) Just kidding, well done. \t SCORE: {'neg': 0.0, 'neu': 0.667, 'pos': 0.333, 'compound': 0.6705}\n",
            "==============================================================================\n",
            "52\t Comment: This thing is addicting as crap. Hahah just spent the last few hours. 3.15 KD! \t SCORE: {'neg': 0.171, 'neu': 0.829, 'pos': 0.0, 'compound': -0.4389}\n",
            "==============================================================================\n",
            "53\t Comment: This game reminds me of XPilot released back in 1992: <a href=\"https:&#x2F;&#x2F;en.wikipedia.org&#x2F;wiki&#x2F;XPilot\" rel=\"nofollow\">https:&#x2F;&#x2F;en.wikipedia.org&#x2F;wiki&#x2F;XPilot</a><p>Some gameplay footage: <a href=\"https:&#x2F;&#x2F;www.youtube.com&#x2F;watch?v=LiO6XYt8M14&amp;list=PL192CF249EA2E99AA&amp;index=1\" rel=\"nofollow\">https:&#x2F;&#x2F;www.youtube.com&#x2F;watch?v=LiO6XYt8M14&amp;list=PL192CF249E...</a> \t SCORE: {'neg': 0.0, 'neu': 1.0, 'pos': 0.0, 'compound': 0.0}\n",
            "==============================================================================\n",
            "54\t Comment: Very good on mobile, got in first place a couple of times. Should stop disclaiming about the mobile experience \t SCORE: {'neg': 0.103, 'neu': 0.748, 'pos': 0.149, 'compound': 0.2484}\n",
            "==============================================================================\n",
            "55\t Comment: Very cool! What server company are you using? \t SCORE: {'neg': 0.0, 'neu': 0.708, 'pos': 0.292, 'compound': 0.4376}\n",
            "==============================================================================\n",
            "56\t Comment: Well great... i&#x27;m addicted. There goes my project deadline. \t SCORE: {'neg': 0.0, 'neu': 0.792, 'pos': 0.208, 'compound': 0.2732}\n",
            "==============================================================================\n",
            "57\t Comment: I can&#x27;t seem to get my aircraft to move forward using a keyboard. Flying backwards is fine, but using the ^ key is a nogo. Controller works fin theough!<p>OS: Windows 10 (Build 16251)\n",
            "Browser: Firefox Developer Edition (58.0b10 64-bit) \t SCORE: {'neg': 0.0, 'neu': 0.953, 'pos': 0.047, 'compound': 0.1759}\n",
            "==============================================================================\n",
            "58\t Comment: I opened this game in an incognito tab. And started dev tools. \n",
            "The entire game is only 2.8 MB. It loads fast. Such graphics, much small. A lesson for modern web developers about website obesity and performance. \t SCORE: {'neg': 0.0, 'neu': 1.0, 'pos': 0.0, 'compound': 0.0}\n",
            "==============================================================================\n",
            "59\t Comment: you just wasted my entire day :D<p>btw it performs better on Firefox 57 than chrome, I had some lags on chrome then switched to Firefox and it worked without a single lag \t SCORE: {'neg': 0.156, 'neu': 0.71, 'pos': 0.135, 'compound': -0.1935}\n",
            "==============================================================================\n",
            "60\t Comment: Works great in Firefox 57. But Chrome 63 on Linux 17.10. With GPU accel. The bitmap sprites are just rendering as weird grey bounding rects :( \t SCORE: {'neg': 0.186, 'neu': 0.693, 'pos': 0.121, 'compound': -0.4678}\n",
            "==============================================================================\n",
            "61\t Comment: How long has this been released? Seems very polished. How long did it take you to build? \t SCORE: {'neg': 0.0, 'neu': 1.0, 'pos': 0.0, 'compound': 0.0}\n",
            "==============================================================================\n",
            "62\t Comment: Really enjoyed this even after playing a few minutes. Good graphics and nice controls. \t SCORE: {'neg': 0.0, 'neu': 0.448, 'pos': 0.552, 'compound': 0.8777}\n",
            "==============================================================================\n",
            "63\t Comment: This is super addictive, well done. Runs incredibly fast too.  \n",
            "As a strategy tip, you can fly in reverse, it&#x27;s great for dodging missles and maneuvering in general. \t SCORE: {'neg': 0.041, 'neu': 0.667, 'pos': 0.293, 'compound': 0.8658}\n",
            "==============================================================================\n",
            "64\t Comment: what is the backend tech being used? \t SCORE: {'neg': 0.0, 'neu': 1.0, 'pos': 0.0, 'compound': 0.0}\n",
            "==============================================================================\n",
            "65\t Comment: This was definitely thought out. Can&#x27;t even put Zalgo text as a username and have it fill the screen to cheat :^). \t SCORE: {'neg': 0.121, 'neu': 0.769, 'pos': 0.109, 'compound': -0.0772}\n",
            "==============================================================================\n",
            "66\t Comment: Great game, would be nice to be able to switch off controllers though - when I bumped into my G29 it immediately registered and I had to start steering :) \t SCORE: {'neg': 0.0, 'neu': 0.708, 'pos': 0.292, 'compound': 0.872}\n",
            "==============================================================================\n",
            "67\t Comment: Damn, this game is so addictive, and so well done. Congratulations!<p>I wish there were more stuff to upgrade&#x2F;unlock, I&#x27;ve reached level 6 and even&#x27;t unlocked anything in the past 3 levels.<p>Hi from &quot;Moz:&#x2F;&#x2F;a&quot; in the game! \t SCORE: {'neg': 0.067, 'neu': 0.748, 'pos': 0.185, 'compound': 0.5755}\n",
            "==============================================================================\n",
            "68\t Comment: How does one turn into a helicopter or a large drone? \t SCORE: {'neg': 0.0, 'neu': 1.0, 'pos': 0.0, 'compound': 0.0}\n",
            "==============================================================================\n",
            "69\t Comment: Really slow in the seattle area. Not sure if this is because of servers being overloaded right now. \t SCORE: {'neg': 0.103, 'neu': 0.897, 'pos': 0.0, 'compound': -0.2411}\n",
            "==============================================================================\n",
            "70\t Comment: The game space is a little crowded i felt. Otherwise pretty cool game ! \n",
            "Do you plan to open source or do you know of a HTML5 game of similar complexity that is ? Would love to read the code. \t SCORE: {'neg': 0.0, 'neu': 0.762, 'pos': 0.238, 'compound': 0.8748}\n",
            "==============================================================================\n",
            "71\t Comment: Amazing game! fun fact - works a lot smoother on mobile nexus 6P than MB Pro 2015 :) \t SCORE: {'neg': 0.0, 'neu': 0.556, 'pos': 0.444, 'compound': 0.8858}\n",
            "==============================================================================\n",
            "72\t Comment: Awesome game. My only request would be make the planes less maneuverable and move more like real planes. This would make it less chaotic and allow more dog-fight and strategic play. \t SCORE: {'neg': 0.073, 'neu': 0.653, 'pos': 0.274, 'compound': 0.7919}\n",
            "==============================================================================\n",
            "73\t Comment: It&#x27;s well coded, very fast, small size, runs even in mobile, and the most important it&#x27;s funny to play! \t SCORE: {'neg': 0.0, 'neu': 0.599, 'pos': 0.401, 'compound': 0.8422}\n",
            "==============================================================================\n",
            "74\t Comment: And I quit... This is too addicting... \t SCORE: {'neg': 0.0, 'neu': 1.0, 'pos': 0.0, 'compound': 0.0}\n",
            "==============================================================================\n",
            "75\t Comment: ADDICTIVE! Very nice game, well done! \t SCORE: {'neg': 0.0, 'neu': 0.398, 'pos': 0.602, 'compound': 0.7219}\n",
            "==============================================================================\n",
            "76\t Comment: Arrrgh, clicked too! So much fun and beware - addictive! \t SCORE: {'neg': 0.0, 'neu': 0.658, 'pos': 0.342, 'compound': 0.6325}\n",
            "==============================================================================\n",
            "77\t Comment: Completely playable on a 2009 MacBook. Thanks for keeping it tiny and clean! \t SCORE: {'neg': 0.0, 'neu': 0.629, 'pos': 0.371, 'compound': 0.7088}\n",
            "==============================================================================\n",
            "78\t Comment: What a fun little game! Well done \t SCORE: {'neg': 0.0, 'neu': 0.425, 'pos': 0.575, 'compound': 0.6612}\n",
            "==============================================================================\n",
            "79\t Comment: Would love a write up on how you achieved such smooth responsive game play! \t SCORE: {'neg': 0.0, 'neu': 0.516, 'pos': 0.484, 'compound': 0.8553}\n",
            "==============================================================================\n",
            "80\t Comment: Well there went an hour and a half of my time.  Very nicely done. \t SCORE: {'neg': 0.0, 'neu': 0.675, 'pos': 0.325, 'compound': 0.6478}\n",
            "==============================================================================\n",
            "81\t Comment: I have now accidentally closed the game twice ctrl + w and bookmarked once ctrl + d but the game itself is so much fun :) +1 from me \t SCORE: {'neg': 0.053, 'neu': 0.657, 'pos': 0.29, 'compound': 0.8612}\n",
            "==============================================================================\n",
            "82\t Comment: This is actually really impressive well done \t SCORE: {'neg': 0.0, 'neu': 0.456, 'pos': 0.544, 'compound': 0.7159}\n",
            "==============================================================================\n",
            "83\t Comment: Holy crap that game is fun \t SCORE: {'neg': 0.263, 'neu': 0.404, 'pos': 0.333, 'compound': 0.1779}\n",
            "==============================================================================\n",
            "84\t Comment: This game is so awesome! Can you make a tutorial on how you designed it? \t SCORE: {'neg': 0.0, 'neu': 0.701, 'pos': 0.299, 'compound': 0.7603}\n",
            "==============================================================================\n",
            "85\t Comment: Please add regular sign-up form as well! I do not want to use one of my social network profiles to save my progress. \t SCORE: {'neg': 0.042, 'neu': 0.588, 'pos': 0.37, 'compound': 0.858}\n",
            "==============================================================================\n",
            "86\t Comment: Man, that game is addicting.<p>I have so much work to do but can&#x27;t keep off it! \t SCORE: {'neg': 0.0, 'neu': 1.0, 'pos': 0.0, 'compound': 0.0}\n",
            "==============================================================================\n",
            "87\t Comment: I don&#x27;t know if this is HN effect or what but I just dont&#x27;t get to the game.\n",
            "All I see after log in is some terrain and, a few moments later &quot;Destroyed by &quot; someone. No units movement, nothing. \t SCORE: {'neg': 0.074, 'neu': 0.926, 'pos': 0.0, 'compound': -0.4215}\n",
            "==============================================================================\n",
            "88\t Comment: Kudos!  I appreciate anything that works out of the box with uMatrix blocking enabled.<p>Gameplay wise:  looks like you may want to slow down the reverse speed... or not it&#x27;s pretty fun as is \t SCORE: {'neg': 0.176, 'neu': 0.532, 'pos': 0.292, 'compound': 0.6442}\n",
            "==============================================================================\n",
            "89\t Comment: Works buttery smooth on Chrome 53 on Android over a cell  connection (90ms latency). Can&#x27;t wait to review on desktop to view the WebSocket traffic! \t SCORE: {'neg': 0.0, 'neu': 1.0, 'pos': 0.0, 'compound': 0.0}\n",
            "==============================================================================\n",
            "90\t Comment: This is great, it&#x27;s going to be the next big hit, calling it now. Awesome work :). \t SCORE: {'neg': 0.0, 'neu': 0.647, 'pos': 0.353, 'compound': 0.8481}\n",
            "==============================================================================\n",
            "91\t Comment: Bravo! Cute game. So many things done well. \t SCORE: {'neg': 0.0, 'neu': 0.527, 'pos': 0.473, 'compound': 0.6588}\n",
            "==============================================================================\n",
            "92\t Comment: blue tooth physical keyboard on ipad: caps lock kills controls.<p>please update to ignore case in controls.<p>also bug, BT KB kills any touch control on an ipad... plus it hangs on a certain direction and contrl dies very fast...<p>way too buggy to even play on an ipad with a BT KB \t SCORE: {'neg': 0.167, 'neu': 0.754, 'pos': 0.079, 'compound': -0.7184}\n",
            "==============================================================================\n",
            "93\t Comment: I played it for two minutes and immmedialy had great memories of Subspace multiplayer.<p>And it even still exists!\n",
            "store.steampowered.com&#x2F;app&#x2F;352700&#x2F;Subspace_Continuum&#x2F; \t SCORE: {'neg': 0.0, 'neu': 0.702, 'pos': 0.298, 'compound': 0.7777}\n",
            "==============================================================================\n",
            "94\t Comment: What a very well executed fun game. And it performs extremely well on my lap top. Great job! \t SCORE: {'neg': 0.0, 'neu': 0.452, 'pos': 0.548, 'compound': 0.9266}\n",
            "==============================================================================\n",
            "95\t Comment: works great, impressive! \t SCORE: {'neg': 0.0, 'neu': 0.115, 'pos': 0.885, 'compound': 0.8268}\n",
            "==============================================================================\n",
            "96\t Comment: Staying #1 is incredibly exhilarating. My strategy was upgrading defense and staying out of big clusters while still shooting towards them. \t SCORE: {'neg': 0.0, 'neu': 0.809, 'pos': 0.191, 'compound': 0.5413}\n",
            "==============================================================================\n",
            "97\t Comment: Such a simple and good looking game. Fantastic! Gives you a sense of just how big our oceans are. \t SCORE: {'neg': 0.0, 'neu': 0.688, 'pos': 0.312, 'compound': 0.7777}\n",
            "==============================================================================\n",
            "98\t Comment: the best game i had in a long time \t SCORE: {'neg': 0.0, 'neu': 0.588, 'pos': 0.412, 'compound': 0.6369}\n",
            "==============================================================================\n",
            "99\t Comment: Really fun and I played for a long time with no connection issues or bugs. \t SCORE: {'neg': 0.119, 'neu': 0.542, 'pos': 0.339, 'compound': 0.6195}\n",
            "==============================================================================\n",
            "100\t Comment: Hey pretty fun. \t SCORE: {'neg': 0.0, 'neu': 0.133, 'pos': 0.867, 'compound': 0.7579}\n",
            "==============================================================================\n",
            "101\t Comment: Great job! Would love to read a write up on how you made it. \t SCORE: {'neg': 0.0, 'neu': 0.561, 'pos': 0.439, 'compound': 0.8622}\n",
            "==============================================================================\n",
            "102\t Comment: Does not load in Palemoon :-( \t SCORE: {'neg': 0.333, 'neu': 0.667, 'pos': 0.0, 'compound': -0.3612}\n",
            "==============================================================================\n",
            "103\t Comment: Addictive! Great job! \t SCORE: {'neg': 0.0, 'neu': 0.299, 'pos': 0.701, 'compound': 0.6892}\n",
            "==============================================================================\n",
            "104\t Comment: WOW -- where did my last hour go! \t SCORE: {'neg': 0.0, 'neu': 0.592, 'pos': 0.408, 'compound': 0.7027}\n",
            "==============================================================================\n",
            "105\t Comment: Awesome game, played for almost ah hour already! \t SCORE: {'neg': 0.0, 'neu': 0.469, 'pos': 0.531, 'compound': 0.7777}\n",
            "==============================================================================\n",
            "106\t Comment: Very fun! I think the Mohawk helicopter has the most potential due to its strafe ability. \t SCORE: {'neg': 0.0, 'neu': 0.678, 'pos': 0.322, 'compound': 0.7339}\n",
            "==============================================================================\n",
            "107\t Comment: You&#x27;re traffic is about to go up, I just put it on ProductHunt also :) \t SCORE: {'neg': 0.0, 'neu': 0.812, 'pos': 0.188, 'compound': 0.4588}\n",
            "==============================================================================\n",
            "108\t Comment: A W E S O M E! So simple, so much fun! \t SCORE: {'neg': 0.0, 'neu': 0.546, 'pos': 0.454, 'compound': 0.6325}\n",
            "==============================================================================\n",
            "109\t Comment: This really is an addictive game and the attention to detail is amazing. As a web developer myself, I&#x27;m quite familiar with building a typical web application but nothing close to this. If you ever decide to write a piece explaining how you built this at the high level, peeps like myself will find it extremely valuable. \t SCORE: {'neg': 0.0, 'neu': 0.833, 'pos': 0.167, 'compound': 0.8817}\n",
            "==============================================================================\n",
            "110\t Comment: What did u use too make the game? \t SCORE: {'neg': 0.0, 'neu': 1.0, 'pos': 0.0, 'compound': 0.0}\n",
            "==============================================================================\n",
            "111\t Comment: Now somebody say web apps are not the future. \t SCORE: {'neg': 0.0, 'neu': 1.0, 'pos': 0.0, 'compound': 0.0}\n",
            "==============================================================================\n",
            "112\t Comment: Fun fun fun. Good stuff. \t SCORE: {'neg': 0.0, 'neu': 0.072, 'pos': 0.928, 'compound': 0.9153}\n",
            "==============================================================================\n",
            "113\t Comment: Gameplay feedback:<p><pre><code>  Mohawk (helicopter) and Prowler (stealthy) don&#x27;t seem worth it.\n",
            "</code></pre>\n",
            "The helicopter dies from a single stray rocket, random spam and attacks from behind. Alt+arrow for strafe worked in DooM because field of view always pointed away from the player. Here, strafing is hard to get used to.\n",
            "Since there are already 2 keys for ability, why not make one of them &quot;strafe left&quot; and the other &quot;strafe right&quot; ?\n",
            "Also, because helicopter lacks a clear point, it&#x27;s harder to aim.<p>Stealthy Prowler is very slow and not especially fun to play. To the point that only effective way to play is to cloak after every rocket fired. You crawl towards a victim, then shoot at close range, then recloak. Visual notification is quite subtle, there&#x27;s no sound and you end up mashing the ability key never quite sure if it already worked. So it kinda works against newbies... but sneak attacks are also effective with Goliath (the fat one) and Tornado (multifire). So I don&#x27;t see the point. And here&#x27;s the kicker: advanced players see it because they play (and aim!) by radar. This is an issue when fighting away from the crowd.<p>Thoughts on upgrades:\n",
            "- I would appreciate a kind of &quot;laser sight&quot; upgrade. Each level would render a laser line in front of your plane, and the line would get longer with levels. \t SCORE: {'neg': 0.101, 'neu': 0.792, 'pos': 0.107, 'compound': 0.553}\n",
            "==============================================================================\n",
            "114\t Comment: Reminds me of `Raptor: Call of the Shadows`: <a href=\"https:&#x2F;&#x2F;www.youtube.com&#x2F;watch?v=j19rc8YB3sY\" rel=\"nofollow\">https:&#x2F;&#x2F;www.youtube.com&#x2F;watch?v=j19rc8YB3sY</a><p>Plenty of nostalgia there as that was the first computer game I ever played and a classic from the 90s. \t SCORE: {'neg': 0.0, 'neu': 0.907, 'pos': 0.093, 'compound': 0.4137}\n",
            "==============================================================================\n",
            "115\t Comment: Is it just me or is this becoming a more popular Internet game format. The reason I ask is because Slither.io uses this same idea. \t SCORE: {'neg': 0.0, 'neu': 0.877, 'pos': 0.123, 'compound': 0.4754}\n",
            "==============================================================================\n",
            "116\t Comment: I just played the game for 30 mins on my iPad Pro and its really fun and addictive, great work! \t SCORE: {'neg': 0.0, 'neu': 0.606, 'pos': 0.394, 'compound': 0.8856}\n",
            "==============================================================================\n",
            "Story Show HN: Airmash – Multiplayer Missile Warfare HTML5 Game with id 15892066 scored 81\n"
          ],
          "name": "stdout"
        }
      ]
    }
  ]
}