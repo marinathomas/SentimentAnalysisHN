{
  "nbformat": 4,
  "nbformat_minor": 0,
  "metadata": {
    "colab": {
      "name": "HN_SentimentAnalysis_v2.ipynb",
      "provenance": [],
      "include_colab_link": true
    },
    "kernelspec": {
      "name": "python3",
      "display_name": "Python 3"
    }
  },
  "cells": [
    {
      "cell_type": "markdown",
      "metadata": {
        "id": "view-in-github",
        "colab_type": "text"
      },
      "source": [
        "<a href=\"https://colab.research.google.com/github/marinathomas/SentimentAnalysisHN/blob/master/HN_SentimentAnalysis_v2.ipynb\" target=\"_parent\"><img src=\"https://colab.research.google.com/assets/colab-badge.svg\" alt=\"Open In Colab\"/></a>"
      ]
    },
    {
      "cell_type": "markdown",
      "metadata": {
        "id": "G3KSAt8AZ99W",
        "colab_type": "text"
      },
      "source": [
        "1. Load credentials to access BigQuery\n",
        "2. Read the story ids for 2017 from the 'full' table.\n",
        "3. For each story, get the associated 'main' comments. We are not considering response to the comments for now.\n",
        "4. Analyze the comments and give the story a score based off the sentiment of the comments."
      ]
    },
    {
      "cell_type": "markdown",
      "metadata": {
        "id": "NoeDjIX-akYF",
        "colab_type": "text"
      },
      "source": [
        "Step 1 - Load credentials"
      ]
    },
    {
      "cell_type": "code",
      "metadata": {
        "id": "fQp6b_UOhDXd",
        "colab_type": "code",
        "outputId": "7138c10a-9526-4b5b-e42d-18105906e1be",
        "colab": {
          "base_uri": "https://localhost:8080/",
          "height": 34
        }
      },
      "source": [
        "from google.cloud import bigquery\n",
        "import pandas as pd\n",
        "import os\n",
        "\n",
        "from google.colab import drive\n",
        "drive.mount('/content/gdrive')"
      ],
      "execution_count": 47,
      "outputs": [
        {
          "output_type": "stream",
          "text": [
            "Drive already mounted at /content/gdrive; to attempt to forcibly remount, call drive.mount(\"/content/gdrive\", force_remount=True).\n"
          ],
          "name": "stdout"
        }
      ]
    },
    {
      "cell_type": "code",
      "metadata": {
        "id": "MGloHhbS8Neq",
        "colab_type": "code",
        "colab": {}
      },
      "source": [
        "root_path = \"/content/gdrive/Shared drives/HackerNews:SentimentAnalysis/\"\n",
        "credential_path = root_path+\"hackernews-bigquery-261019-0f8cc2295b63.json\"\n",
        "os.environ['GOOGLE_APPLICATION_CREDENTIALS'] = credential_path"
      ],
      "execution_count": 0,
      "outputs": []
    },
    {
      "cell_type": "markdown",
      "metadata": {
        "id": "iMk5ahU8emp9",
        "colab_type": "text"
      },
      "source": [
        "Step 2 - Install the sentiment analysis library\n",
        "https://github.com/cjhutto/vaderSentiment"
      ]
    },
    {
      "cell_type": "code",
      "metadata": {
        "id": "r0FMASZlGpLX",
        "colab_type": "code",
        "outputId": "e38cef21-715b-44ec-f603-4c129364bf79",
        "colab": {
          "base_uri": "https://localhost:8080/",
          "height": 34
        }
      },
      "source": [
        "!pip install vaderSentiment"
      ],
      "execution_count": 49,
      "outputs": [
        {
          "output_type": "stream",
          "text": [
            "Requirement already satisfied: vaderSentiment in /usr/local/lib/python3.6/dist-packages (3.2.1)\n"
          ],
          "name": "stdout"
        }
      ]
    },
    {
      "cell_type": "code",
      "metadata": {
        "id": "2PIfMSlUq0Aw",
        "colab_type": "code",
        "colab": {}
      },
      "source": [
        "from vaderSentiment.vaderSentiment import SentimentIntensityAnalyzer\n",
        "analyser = SentimentIntensityAnalyzer()"
      ],
      "execution_count": 0,
      "outputs": []
    },
    {
      "cell_type": "markdown",
      "metadata": {
        "id": "Y3GPA8d_gG70",
        "colab_type": "text"
      },
      "source": [
        "Step 3 - Load BigQuery client and HackerNews dataset\n",
        "1. Load the BigQuery client\n",
        "2. Get a reference to HackerNews dataset\n",
        "3. Load the data set"
      ]
    },
    {
      "cell_type": "code",
      "metadata": {
        "id": "1i3BPczYgKOL",
        "colab_type": "code",
        "colab": {}
      },
      "source": [
        "client = bigquery.Client()\n",
        "hn_dataset_ref = client.dataset('hacker_news', project='bigquery-public-data')\n",
        "hn_dset = client.get_dataset(hn_dataset_ref)"
      ],
      "execution_count": 0,
      "outputs": []
    },
    {
      "cell_type": "markdown",
      "metadata": {
        "id": "cgFk8Np_hv0b",
        "colab_type": "text"
      },
      "source": [
        "Step 4 - Look for 3 most popular stories of 2017"
      ]
    },
    {
      "cell_type": "code",
      "metadata": {
        "id": "0pz4ABH68SCr",
        "colab_type": "code",
        "colab": {}
      },
      "source": [
        "def get_stories():\n",
        "    query = \"\"\"\n",
        "    SELECT table_full.id, table_full.title, table_full.url\n",
        "    FROM `bigquery-public-data.hacker_news.full` as table_full\n",
        "    WHERE  table_full.type = 'story' and REGEXP_CONTAINS(title, r\"(S|s)how HN\") and (deleted IS NULL or deleted IS FALSE) and  EXTRACT(YEAR FROM timestamp)=2017\n",
        "    ORDER BY SCORE desc\n",
        "    --LIMIT 3\n",
        "    \"\"\"\n",
        "\n",
        "    query_job = client.query(query)\n",
        "    iterator = query_job.result(timeout=30)\n",
        "    rows = list(iterator)\n",
        "\n",
        "    # Transform the rows into a nice pandas dataframe\n",
        "    stories = pd.DataFrame(data=[list(x.values()) for x in rows], columns=list(rows[0].keys()))\n",
        "    stories.head(10)\n",
        "\n",
        "    return stories"
      ],
      "execution_count": 0,
      "outputs": []
    },
    {
      "cell_type": "markdown",
      "metadata": {
        "id": "i7BD3HNff6dc",
        "colab_type": "text"
      },
      "source": [
        "Lets check the data"
      ]
    },
    {
      "cell_type": "code",
      "metadata": {
        "id": "KvQed0Shpypt",
        "colab_type": "code",
        "colab": {}
      },
      "source": [
        "import csv\n",
        "\n",
        "stories = get_stories()\n",
        "#csv_file = root_path + \"stories_2017.csv\"\n",
        "#with open(csv_file, mode='w') as stories_file:\n",
        "  #stories_writer = csv.writer(stories_file, delimiter=',', quotechar='\"', quoting=csv.QUOTE_MINIMAL)\n",
        "  #for index,row in stories.iterrows():\n",
        "      #title, parent_id, url = row['title'], row['id'], row['url']\n",
        "      #stories_writer.writerow([index, title, parent_id, url])\n",
        "      #print(\"----------------------------------------\")\n",
        "      #print('{} Title: {} \\t  Descendants: {} \\t  ID: {} \\t url: {}'.format(index, title, parent_id, url))\n",
        "\n"
      ],
      "execution_count": 0,
      "outputs": []
    },
    {
      "cell_type": "markdown",
      "metadata": {
        "id": "sZTiPg2diEXk",
        "colab_type": "text"
      },
      "source": [
        "Let's bring up the comments for the above stories"
      ]
    },
    {
      "cell_type": "markdown",
      "metadata": {
        "id": "4JKtiaSaa-zg",
        "colab_type": "text"
      },
      "source": [
        "Step 5 - For each story, bring up the associated comment"
      ]
    },
    {
      "cell_type": "code",
      "metadata": {
        "id": "2tQ7FmpX8S6n",
        "colab_type": "code",
        "colab": {}
      },
      "source": [
        "def get_comments(parent_id):\n",
        "    query = \"\"\"\n",
        "    select  table_full.id, table_full.text\n",
        "    from `bigquery-public-data.hacker_news.full`  as table_full\n",
        "    where type = 'comment'  and (deleted IS NULL or deleted IS FALSE) and parent = @parent\n",
        "    order by parent ;\n",
        "    \"\"\"\n",
        "\n",
        "    query_params = [\n",
        "        bigquery.ScalarQueryParameter(\"parent\", \"INT64\", parent_id)\n",
        "    ] \n",
        "\n",
        "    job_config = bigquery.QueryJobConfig()\n",
        "    job_config.query_parameters = query_params\n",
        "    query_job = client.query(query,location=\"US\",job_config=job_config,)  \n",
        "\n",
        "    iterator = query_job.result(timeout=30)\n",
        "    rows = list(iterator)\n",
        "\n",
        "    # Transform the rows into a nice pandas dataframe\n",
        "    comments = pd.DataFrame(data=[list(x.values()) for x in rows], columns=list(rows[0].keys()))\n",
        "    #comments.head(20)\n",
        "\n",
        "    return comments"
      ],
      "execution_count": 0,
      "outputs": []
    },
    {
      "cell_type": "markdown",
      "metadata": {
        "id": "XWnSGti1fb5l",
        "colab_type": "text"
      },
      "source": [
        "Step 6 - Analyse comments"
      ]
    },
    {
      "cell_type": "code",
      "metadata": {
        "id": "0B99QrxLgUsP",
        "colab_type": "code",
        "colab": {}
      },
      "source": [
        "for index, row in stories.iterrows():\n",
        "  parent_id = row['id']\n",
        "  comments = get_comments(parent_id)\n",
        "  break;"
      ],
      "execution_count": 0,
      "outputs": []
    },
    {
      "cell_type": "code",
      "metadata": {
        "id": "GCb90L1uL0H5",
        "colab_type": "code",
        "colab": {}
      },
      "source": [
        "def analyse_comments(comments):\n",
        "    scores = []\n",
        "    for index,row in comments.iterrows():\n",
        "        sentence = row['text']\n",
        "        score = analyser.polarity_scores(str(sentence))\n",
        "        #print(\"{}\\t Comment: {} \\t SCORE: {}\".format(index, sentence, str(score)))\n",
        "        #print(\"==============================================================================\")\n",
        "        scores.append(score)\n",
        "    return scores\n"
      ],
      "execution_count": 0,
      "outputs": []
    },
    {
      "cell_type": "code",
      "metadata": {
        "id": "W_lwzFHEg67N",
        "colab_type": "code",
        "outputId": "ee5c7c8a-26d7-4794-e483-36d028b61d86",
        "colab": {
          "base_uri": "https://localhost:8080/",
          "height": 1000
        }
      },
      "source": [
        "analyse_comments(comments)"
      ],
      "execution_count": 0,
      "outputs": [
        {
          "output_type": "execute_result",
          "data": {
            "text/plain": [
              "[{'compound': 0.4376, 'neg': 0.0, 'neu': 0.776, 'pos': 0.224},\n",
              " {'compound': 0.3164, 'neg': 0.358, 'neu': 0.124, 'pos': 0.518},\n",
              " {'compound': 0.8624, 'neg': 0.0, 'neu': 0.803, 'pos': 0.197},\n",
              " {'compound': 0.3703, 'neg': 0.034, 'neu': 0.912, 'pos': 0.054},\n",
              " {'compound': 0.34, 'neg': 0.0, 'neu': 0.87, 'pos': 0.13},\n",
              " {'compound': 0.5093, 'neg': 0.0, 'neu': 0.891, 'pos': 0.109},\n",
              " {'compound': 0.0, 'neg': 0.0, 'neu': 1.0, 'pos': 0.0},\n",
              " {'compound': 0.636, 'neg': 0.106, 'neu': 0.597, 'pos': 0.298},\n",
              " {'compound': 0.34, 'neg': 0.0, 'neu': 0.906, 'pos': 0.094},\n",
              " {'compound': 0.5562, 'neg': 0.0, 'neu': 0.754, 'pos': 0.246},\n",
              " {'compound': 0.7501, 'neg': 0.0, 'neu': 0.319, 'pos': 0.681},\n",
              " {'compound': 0.858, 'neg': 0.062, 'neu': 0.661, 'pos': 0.277},\n",
              " {'compound': 0.7263, 'neg': 0.0, 'neu': 0.596, 'pos': 0.404},\n",
              " {'compound': 0.8196, 'neg': 0.0, 'neu': 0.716, 'pos': 0.284},\n",
              " {'compound': 0.8268, 'neg': 0.0, 'neu': 0.365, 'pos': 0.635},\n",
              " {'compound': 0.9511, 'neg': 0.0, 'neu': 0.744, 'pos': 0.256},\n",
              " {'compound': -0.7398, 'neg': 0.355, 'neu': 0.645, 'pos': 0.0},\n",
              " {'compound': 0.6588, 'neg': 0.0, 'neu': 0.313, 'pos': 0.687},\n",
              " {'compound': 0.8735, 'neg': 0.05, 'neu': 0.772, 'pos': 0.178},\n",
              " {'compound': 0.7089, 'neg': 0.0, 'neu': 0.651, 'pos': 0.349},\n",
              " {'compound': 0.7717, 'neg': 0.084, 'neu': 0.575, 'pos': 0.341},\n",
              " {'compound': 0.4588, 'neg': 0.0, 'neu': 0.893, 'pos': 0.107},\n",
              " {'compound': 0.823, 'neg': 0.0, 'neu': 0.542, 'pos': 0.458},\n",
              " {'compound': 0.5682, 'neg': 0.142, 'neu': 0.614, 'pos': 0.244},\n",
              " {'compound': 0.624, 'neg': 0.0, 'neu': 0.196, 'pos': 0.804},\n",
              " {'compound': 0.7157, 'neg': 0.0, 'neu': 0.376, 'pos': 0.624},\n",
              " {'compound': 0.5849, 'neg': 0.069, 'neu': 0.749, 'pos': 0.182},\n",
              " {'compound': 0.7845, 'neg': 0.0, 'neu': 0.225, 'pos': 0.775},\n",
              " {'compound': 0.0, 'neg': 0.0, 'neu': 1.0, 'pos': 0.0},\n",
              " {'compound': 0.8724, 'neg': 0.0, 'neu': 0.402, 'pos': 0.598},\n",
              " {'compound': 0.5562, 'neg': 0.0, 'neu': 0.582, 'pos': 0.418},\n",
              " {'compound': 0.8519, 'neg': 0.0, 'neu': 0.491, 'pos': 0.509},\n",
              " {'compound': 0.5994, 'neg': 0.0, 'neu': 0.204, 'pos': 0.796},\n",
              " {'compound': 0.6696, 'neg': 0.0, 'neu': 0.667, 'pos': 0.333},\n",
              " {'compound': 0.2023, 'neg': 0.122, 'neu': 0.714, 'pos': 0.163},\n",
              " {'compound': 0.7644, 'neg': 0.0, 'neu': 0.556, 'pos': 0.444},\n",
              " {'compound': 0.8676, 'neg': 0.0, 'neu': 0.418, 'pos': 0.582},\n",
              " {'compound': -0.296, 'neg': 0.688, 'neu': 0.312, 'pos': 0.0},\n",
              " {'compound': -0.3612, 'neg': 0.103, 'neu': 0.841, 'pos': 0.055},\n",
              " {'compound': 0.7698, 'neg': 0.0, 'neu': 0.375, 'pos': 0.625},\n",
              " {'compound': 0.4753, 'neg': 0.0, 'neu': 0.393, 'pos': 0.607},\n",
              " {'compound': 0.5974, 'neg': 0.0, 'neu': 0.205, 'pos': 0.795},\n",
              " {'compound': 0.5106, 'neg': 0.0, 'neu': 0.233, 'pos': 0.767},\n",
              " {'compound': 0.9378, 'neg': 0.043, 'neu': 0.651, 'pos': 0.305},\n",
              " {'compound': 0.6822, 'neg': 0.0, 'neu': 0.471, 'pos': 0.529},\n",
              " {'compound': 0.7222, 'neg': 0.0, 'neu': 0.76, 'pos': 0.24},\n",
              " {'compound': 0.2732, 'neg': 0.284, 'neu': 0.316, 'pos': 0.4},\n",
              " {'compound': -0.1934, 'neg': 0.157, 'neu': 0.645, 'pos': 0.199},\n",
              " {'compound': 0.3989, 'neg': 0.0, 'neu': 0.598, 'pos': 0.402},\n",
              " {'compound': 0.5229, 'neg': 0.0, 'neu': 0.372, 'pos': 0.628},\n",
              " {'compound': 0.6239, 'neg': 0.0, 'neu': 0.819, 'pos': 0.181},\n",
              " {'compound': 0.6705, 'neg': 0.0, 'neu': 0.667, 'pos': 0.333},\n",
              " {'compound': -0.4389, 'neg': 0.171, 'neu': 0.829, 'pos': 0.0},\n",
              " {'compound': 0.0, 'neg': 0.0, 'neu': 1.0, 'pos': 0.0},\n",
              " {'compound': 0.2484, 'neg': 0.103, 'neu': 0.748, 'pos': 0.149},\n",
              " {'compound': 0.4376, 'neg': 0.0, 'neu': 0.708, 'pos': 0.292},\n",
              " {'compound': 0.2732, 'neg': 0.0, 'neu': 0.792, 'pos': 0.208},\n",
              " {'compound': 0.1759, 'neg': 0.0, 'neu': 0.953, 'pos': 0.047},\n",
              " {'compound': 0.0, 'neg': 0.0, 'neu': 1.0, 'pos': 0.0},\n",
              " {'compound': -0.1935, 'neg': 0.156, 'neu': 0.71, 'pos': 0.135},\n",
              " {'compound': -0.4678, 'neg': 0.186, 'neu': 0.693, 'pos': 0.121},\n",
              " {'compound': 0.0, 'neg': 0.0, 'neu': 1.0, 'pos': 0.0},\n",
              " {'compound': 0.8777, 'neg': 0.0, 'neu': 0.448, 'pos': 0.552},\n",
              " {'compound': 0.8658, 'neg': 0.041, 'neu': 0.667, 'pos': 0.293},\n",
              " {'compound': 0.0, 'neg': 0.0, 'neu': 1.0, 'pos': 0.0},\n",
              " {'compound': -0.0772, 'neg': 0.121, 'neu': 0.769, 'pos': 0.109},\n",
              " {'compound': 0.872, 'neg': 0.0, 'neu': 0.708, 'pos': 0.292},\n",
              " {'compound': 0.5755, 'neg': 0.067, 'neu': 0.748, 'pos': 0.185},\n",
              " {'compound': 0.0, 'neg': 0.0, 'neu': 1.0, 'pos': 0.0},\n",
              " {'compound': -0.2411, 'neg': 0.103, 'neu': 0.897, 'pos': 0.0},\n",
              " {'compound': 0.8748, 'neg': 0.0, 'neu': 0.762, 'pos': 0.238},\n",
              " {'compound': 0.8858, 'neg': 0.0, 'neu': 0.556, 'pos': 0.444},\n",
              " {'compound': 0.7919, 'neg': 0.073, 'neu': 0.653, 'pos': 0.274},\n",
              " {'compound': 0.8422, 'neg': 0.0, 'neu': 0.599, 'pos': 0.401},\n",
              " {'compound': 0.0, 'neg': 0.0, 'neu': 1.0, 'pos': 0.0},\n",
              " {'compound': 0.7219, 'neg': 0.0, 'neu': 0.398, 'pos': 0.602},\n",
              " {'compound': 0.6325, 'neg': 0.0, 'neu': 0.658, 'pos': 0.342},\n",
              " {'compound': 0.7088, 'neg': 0.0, 'neu': 0.629, 'pos': 0.371},\n",
              " {'compound': 0.6612, 'neg': 0.0, 'neu': 0.425, 'pos': 0.575},\n",
              " {'compound': 0.8553, 'neg': 0.0, 'neu': 0.516, 'pos': 0.484},\n",
              " {'compound': 0.6478, 'neg': 0.0, 'neu': 0.675, 'pos': 0.325},\n",
              " {'compound': 0.8612, 'neg': 0.053, 'neu': 0.657, 'pos': 0.29},\n",
              " {'compound': 0.7159, 'neg': 0.0, 'neu': 0.456, 'pos': 0.544},\n",
              " {'compound': 0.1779, 'neg': 0.263, 'neu': 0.404, 'pos': 0.333},\n",
              " {'compound': 0.7603, 'neg': 0.0, 'neu': 0.701, 'pos': 0.299},\n",
              " {'compound': 0.858, 'neg': 0.042, 'neu': 0.588, 'pos': 0.37},\n",
              " {'compound': 0.0, 'neg': 0.0, 'neu': 1.0, 'pos': 0.0},\n",
              " {'compound': -0.4215, 'neg': 0.074, 'neu': 0.926, 'pos': 0.0},\n",
              " {'compound': 0.6442, 'neg': 0.176, 'neu': 0.532, 'pos': 0.292},\n",
              " {'compound': 0.0, 'neg': 0.0, 'neu': 1.0, 'pos': 0.0},\n",
              " {'compound': 0.8481, 'neg': 0.0, 'neu': 0.647, 'pos': 0.353},\n",
              " {'compound': 0.6588, 'neg': 0.0, 'neu': 0.527, 'pos': 0.473},\n",
              " {'compound': -0.7184, 'neg': 0.167, 'neu': 0.754, 'pos': 0.079},\n",
              " {'compound': 0.7777, 'neg': 0.0, 'neu': 0.702, 'pos': 0.298},\n",
              " {'compound': 0.9266, 'neg': 0.0, 'neu': 0.452, 'pos': 0.548},\n",
              " {'compound': 0.8268, 'neg': 0.0, 'neu': 0.115, 'pos': 0.885},\n",
              " {'compound': 0.5413, 'neg': 0.0, 'neu': 0.809, 'pos': 0.191},\n",
              " {'compound': 0.7777, 'neg': 0.0, 'neu': 0.688, 'pos': 0.312},\n",
              " {'compound': 0.6369, 'neg': 0.0, 'neu': 0.588, 'pos': 0.412},\n",
              " {'compound': 0.6195, 'neg': 0.119, 'neu': 0.542, 'pos': 0.339},\n",
              " {'compound': 0.7579, 'neg': 0.0, 'neu': 0.133, 'pos': 0.867},\n",
              " {'compound': 0.8622, 'neg': 0.0, 'neu': 0.561, 'pos': 0.439},\n",
              " {'compound': -0.3612, 'neg': 0.333, 'neu': 0.667, 'pos': 0.0},\n",
              " {'compound': 0.6892, 'neg': 0.0, 'neu': 0.299, 'pos': 0.701},\n",
              " {'compound': 0.7027, 'neg': 0.0, 'neu': 0.592, 'pos': 0.408},\n",
              " {'compound': 0.7777, 'neg': 0.0, 'neu': 0.469, 'pos': 0.531},\n",
              " {'compound': 0.7339, 'neg': 0.0, 'neu': 0.678, 'pos': 0.322},\n",
              " {'compound': 0.4588, 'neg': 0.0, 'neu': 0.812, 'pos': 0.188},\n",
              " {'compound': 0.6325, 'neg': 0.0, 'neu': 0.546, 'pos': 0.454},\n",
              " {'compound': 0.8817, 'neg': 0.0, 'neu': 0.833, 'pos': 0.167},\n",
              " {'compound': 0.0, 'neg': 0.0, 'neu': 1.0, 'pos': 0.0},\n",
              " {'compound': 0.0, 'neg': 0.0, 'neu': 1.0, 'pos': 0.0},\n",
              " {'compound': 0.9153, 'neg': 0.0, 'neu': 0.072, 'pos': 0.928},\n",
              " {'compound': 0.553, 'neg': 0.101, 'neu': 0.792, 'pos': 0.107},\n",
              " {'compound': 0.4137, 'neg': 0.0, 'neu': 0.907, 'pos': 0.093},\n",
              " {'compound': 0.4754, 'neg': 0.0, 'neu': 0.877, 'pos': 0.123},\n",
              " {'compound': 0.8856, 'neg': 0.0, 'neu': 0.606, 'pos': 0.394}]"
            ]
          },
          "metadata": {
            "tags": []
          },
          "execution_count": 14
        }
      ]
    },
    {
      "cell_type": "markdown",
      "metadata": {
        "id": "3nxvy0358Z3y",
        "colab_type": "text"
      },
      "source": [
        "TODO: Analyze comments of comments ==> Will take up later"
      ]
    },
    {
      "cell_type": "code",
      "metadata": {
        "id": "Er6ATerIzh9W",
        "colab_type": "code",
        "colab": {}
      },
      "source": [
        "def score_story(scores):\n",
        "  story_score = 0\n",
        "  for row in scores:\n",
        "    compound_score = row['compound']\n",
        "    if compound_score >= 0.05:\n",
        "      story_score += 1\n",
        "    elif compound_score <= -0.05:\n",
        "      story_score -= 1\n",
        "  return story_score\n"
      ],
      "execution_count": 0,
      "outputs": []
    },
    {
      "cell_type": "code",
      "metadata": {
        "id": "i5DLqcGd8giv",
        "colab_type": "code",
        "colab": {}
      },
      "source": [
        "from time import sleep\n",
        "csv_file = root_path + \"scores_2017.csv\"\n",
        "\n",
        "def analyse_hacker_news():\n",
        "  stories = get_stories()\n",
        "  scored_stories = []\n",
        "  with open(csv_file, mode='w') as scores_file:\n",
        "    scores_writer = csv.writer(scores_file, delimiter=',', quotechar='\"', quoting=csv.QUOTE_MINIMAL)\n",
        "    for index, row in stories.iterrows():\n",
        "      parent_id = row['id']\n",
        "      comments = get_comments(parent_id)\n",
        "      scores = analyse_comments(comments)\n",
        "      story_point = score_story(scores)\n",
        "      scores_writer.writerow([index, row['title'], parent_id, row['url'], story_point])\n",
        "      #sleep(1)\n",
        "      print(\"{} Story {} with id {} and url {} scored {}\".format(index, row['title'], parent_id, row['url'], story_point))\n",
        "      #print(\"==================================================================================================\")\n",
        "      #break;\n"
      ],
      "execution_count": 0,
      "outputs": []
    },
    {
      "cell_type": "code",
      "metadata": {
        "id": "i3L55tVC3cCL",
        "colab_type": "code",
        "outputId": "49e039b6-091d-4a31-d1cd-6833dd1eae13",
        "colab": {
          "base_uri": "https://localhost:8080/",
          "height": 1000
        }
      },
      "source": [
        "analyse_hacker_news()"
      ],
      "execution_count": 60,
      "outputs": [
        {
          "output_type": "stream",
          "text": [
            "0 Story Show HN: Airmash – Multiplayer Missile Warfare HTML5 Game with id 15892066 and url https://airma.sh/ scored 81\n",
            "1 Story Show HN: Sorting Two Metric Tons of Lego with id 14226889 and url https://jacquesmattheij.com/sorting-two-metric-tons-of-lego scored 19\n",
            "2 Story Show HN: Privacy-focused, ad-free, non-tracking torrent search engine with id 13423629 and url https://www.skytorrents.in scored 51\n",
            "3 Story Show HN: Alacritty, a GPU-accelerated terminal emulator written in Rust with id 13338592 and url http://blog.jwilm.io/announcing-alacritty/ scored 32\n",
            "4 Story Show HN: Get Paid to Build Your Next Side Project with id 14552615 and url https://www.demandrush.com scored 32\n",
            "5 Story Show HN: Monica, an open-source CRM to manage friends and family with id 14497295 and url https://monicahq.com scored 86\n",
            "6 Story Show HN: A stop-motion video of an engine with id 15017126 and url https://www.howacarworks.com/engine scored 43\n",
            "7 Story Show HN: Is the stock market going to crash? with id 14947361 and url https://isthestockmarketgoingtocrash.com/ scored 2\n",
            "8 Story Show HN: A guide to all HTML5 elements and attributes with id 13642662 and url http://htmlreference.io/ scored 15\n",
            "9 Story Show HN: Arxiv Vanity – Read academic papers from Arxiv as responsive web pages with id 15534580 and url https://www.arxiv-vanity.com/ scored 29\n",
            "10 Story Show HN: Metaballs with id 15492248 and url http://varun.ca/metaballs scored 18\n",
            "11 Story Show HN: A virtual machine made with Google Sheets formulas (no script) with id 14703098 and url None scored 6\n",
            "12 Story Show HN: Extension-blocking domains removed by threat from other blacklists with id 14997799 and url https://github.com/paulgb/BarbBlock scored 9\n",
            "13 Story Show HN: Culture Queries – The best questions to ask during your job interview with id 15908812 and url https://www.keyvalues.com/culture-queries scored 24\n",
            "14 Story Show HN: Fruits and vegetables in season in your zip code with id 15739744 and url https://harvestsignal.com scored 29\n",
            "15 Story Show HN: TensorFire with id 14894653 and url https://tenso.rs/demos/fast-neural-style/ scored 18\n",
            "16 Story Show HN: Kite, copilot for programmers, available for Python with id 13977982 and url https://kite.com/# scored 24\n",
            "17 Story Show HN: Explore ideas whose patent protection expires today with id 13309025 and url http://patentsexpiringtoday.com scored 16\n",
            "18 Story Show HN: The JavaScript Way, a book for learning modern JavaScript from scratch with id 14865043 and url https://github.com/bpesquet/thejsway/# scored 15\n",
            "19 Story Show HN: GreenPiThumb – A Raspberry Pi Gardening Bot with id 14644539 and url https://mtlynch.io/greenpithumb/ scored 29\n",
            "20 Story Show HN: A Set of Dice That Follows the Gambler's Fallacy with id 14805265 and url https://github.com/xori/gamblers-dice scored 22\n",
            "21 Story Show HN: A coloring book of data structures and algorithms with id 15201152 and url None scored 23\n",
            "22 Story Show HN: $200 Solar Self-Sufficiency  Without Your Landlord Noticing with id 14821478 and url https://medium.com/@nikodunk/200-for-a-green-diy-self-sufficient-bedroom-that-your-landlord-wont-hate-b3b4cdcfb4f4 scored 27\n",
            "23 Story Show HN: Frappe Charts – GitHub inspired JavaScript charting with zero dependencies with id 15594004 and url https://frappe.github.io/charts/ scored 19\n",
            "24 Story Show HN: Airborn – Private Google Docs Alternative with id 15596304 and url https://www.airbornos.com/ scored 8\n",
            "25 Story Show HN: A simple, fast and user-friendly alternative to find, written in Rust with id 15429390 and url https://github.com/sharkdp/fd scored 2\n",
            "26 Story Show HN: LogoFox – fast logo maker with id 15757844 and url https://logofox.co/form/name?utm_source=hackernews scored 16\n",
            "27 Story Show HN: I'll mail Equifax your arbitration opt-out for free with id 15207151 and url https://unarbitrate.org/ scored 17\n",
            "28 Story Show HN: Crafting Interpreters – A handbook for making programming languages with id 13406081 and url http://www.craftinginterpreters.com/ scored 17\n",
            "29 Story Show HN: Whoishiring.io – all tech jobs mapped out with id 13500701 and url https://whoishiring.io/ scored 14\n",
            "30 Story Show HN: My first native iOS app – Cone, a real time color picker with id 14254357 and url https://coneapp.io scored 34\n",
            "31 Story Show HN: An educational blockchain implementation in Python with id 15945490 and url https://github.com/julienr/ipynb_playground/blob/master/bitcoin/dumbcoin/dumbcoin.ipynb scored 10\n",
            "32 Story Show HN: Rumuki, a prenup for sex tapes with id 13628522 and url https://rumuki.com/ scored 27\n",
            "33 Story Show HN: Magnetissimo – Self-hosted torrent search engine written in Elixir with id 13505226 and url https://github.com/sergiotapia/magnetissimo?utm=hn scored 7\n",
            "34 Story Show HN: Colormind – Color schemes via Generative Adversarial Networks with id 13960214 and url http://colormind.io scored 15\n",
            "35 Story Show HN: The best time to visit any city with id 15074526 and url None scored 39\n",
            "36 Story Show HN: Generate a quiz from a Wikipedia page with id 13677748 and url https://github.com/alexgreene/WikiQuiz scored 14\n",
            "37 Story Show HN: Chromeless – Headless Chrome Automation on AWS Lambda with id 14859084 and url https://github.com/graphcool/chromeless scored 16\n",
            "38 Story Show HN: A travel tool to discover destinations based on your budget with id 13458561 and url https://destigogo.com scored 53\n",
            "39 Story Show HN: Build A Personal Power Plant for $200 with id 15216650 and url http://gridlesskits.com/2017/09/06/burning-man-update.html scored 16\n",
            "40 Story Show HN: Snips is a AI Voice Assistant platform 100% on-device and private with id 14558582 and url https://snips.ai scored 11\n",
            "41 Story Show HN: ORY Editor – A rich editor for the browser, built with React and Redux with id 14417340 and url https://github.com/ory/editor?branch=master scored 11\n",
            "42 Story Show HN: Quilt – manage data like code with id 14771406 and url https://quiltdata.com/ scored 19\n",
            "43 Story Show HN: Evilpass – A slightly evil password strength checker with id 13674890 and url https://github.com/SirCmpwn/evilpass? scored 7\n",
            "44 Story Show HN: Cinc – GitHub for recipes with id 14799111 and url https://www.cinc.kitchen scored 38\n",
            "45 Story Show HN: Decaffeinate converts CoffeeScript projects to modern JS with id 14583882 and url https://github.com/decaffeinate/decaffeinate scored 11\n",
            "46 Story Show HN: Mathcha – Online Mathematics Editor with id 15000947 and url https://www.mathcha.io/ scored 9\n",
            "47 Story Show HN: Seashells – Pipe output from CLI apps to the web in real time with id 14737118 and url https://seashells.io/ scored 27\n",
            "48 Story Show HN: Insect – a high-precision scientific calculator with physical units with id 14625795 and url https://insect.sh/ scored 37\n",
            "49 Story Show HN: Password-protect a static HTML page with id 14553401 and url https://robinmoisson.github.io/staticrypt scored 22\n",
            "50 Story Show HN: How to write a recursive descent parser with id 13914218 and url http://www.craftinginterpreters.com/parsing-expressions.html scored 13\n",
            "51 Story Show HN: Nebula – Alarm clock where you grow stars while you sleep with id 15765762 and url https://alextumanov.com/ scored 17\n",
            "52 Story Show HN: React-data sheet, Excel-like spreadsheet component with id 14032201 and url https://nadbm.github.io/react-datasheet/ scored 10\n",
            "53 Story Show HN: The Million Dollar Homepage as an Ethereum Smart Contract and DApp with id 15393446 and url https://thousandetherhomepage.com/ scored 11\n",
            "54 Story Show HN: FSQL – Search through your file system with SQL-esque queries with id 14343967 and url https://github.com/kshvmdn/fsql scored 18\n",
            "55 Story Show HN: Musikcube, a terminal-based music player, library, and streaming server with id 14853212 and url https://musikcube.com scored 26\n",
            "56 Story Show HN: Zuck.js, a JavaScript library that lets you add Stories everywhere with id 14135045 and url https://github.com/ramon82/zuck.js scored 3\n",
            "57 Story Show HN: Kryptonite – a new home for your SSH private key with id 14240626 and url https://krypt.co scored 24\n",
            "58 Story Show HN: Hackerhunt – categorised curation of Show HN submissions with id 14652217 and url https://hackerhunt.co scored 21\n",
            "59 Story Show HN: Invite friends to SSH into your laptop using their GitHub handle with id 13485501 and url http://gravitational.com/blog/instant-ssh-github/ scored 17\n",
            "60 Story Show HN: Founderkit – Startup tool recommendations from 1,000 YC founders with id 13376901 and url https://founderkit.com scored 8\n",
            "61 Story Show HN: Gophercises – Coding Exercises for Budding Gophers with id 15761537 and url https://gophercises.com/ scored 13\n",
            "62 Story Show HN: Logo Crunch – Multi-resolution logo maker with id 15330409 and url http://brandmark.io/logo-crunch/ scored 5\n",
            "63 Story Show HN: Sourcetrail – Get productive on unfamiliar source code with id 14612440 and url https://www.sourcetrail.com/ scored 23\n",
            "64 Story Show HN: Enlight – Learn to code by building projects with id 15892554 and url https://tryenlight.github.io scored 11\n",
            "65 Story Show HN: Algorithm Cookbook in Rust with id 14587669 and url https://github.com/EbTech/rust-algorithms scored 4\n",
            "66 Story Show HN: Sleeping Beauty, a 7-day roguelike game with id 13838659 and url https://ondras.github.io/sleeping-beauty/ scored 9\n",
            "67 Story Show HN: A new hobby OS from “scratch” in C# with id 13794879 and url https://github.com/amaneureka/AtomOS scored 5\n",
            "68 Story Show HN: Vexlio – Create precise, beautiful diagrams with id 14553551 and url https://vexlio.com/ scored 16\n",
            "69 Story Show HN: An attempt to rethink a music sequencer design with id 14212054 and url https://github.com/peterrudenko/helio-workstation scored 29\n",
            "70 Story Show HN: Gutenberg – Modern CSS framework to print the web correctly with id 13763469 and url https://github.com/BafS/Gutenberg scored 3\n",
            "71 Story Show HN: I built a database of tech conferences to know what to attend to next with id 14841859 and url https://conferencelist.co scored 17\n",
            "72 Story Show HN: Server.js – A modern Express alternative with id 15624206 and url https://serverjs.io/ scored 10\n",
            "73 Story Show HN: Is It Snappy? – Measure latency with your iPhone's 240 Hz camera with id 14023196 and url http://isitsnappy.com scored 18\n",
            "74 Story Show HN: Copyfish – Extract text from images, videos or PDF with id 14593906 and url https://addons.mozilla.org/en-us/firefox/addon/copyfish-ocr-software/ scored 5\n",
            "75 Story Show HN: Math Attack – My side project of 3 years with id 13470425 and url https://play.google.com/store/apps/details?id=com.DawnSprite.MathAttack scored 13\n",
            "76 Story Show HN: 100M Books – Open a new tab, discover a new book with id 14286133 and url http://www.100millionbooks.org/ scored 18\n",
            "77 Story Show HN: NBox – Sign up anywhere without giving your email address with id 14597485 and url https://nbox.notif.me scored 18\n",
            "78 Story Show HN: Audioshop – Audio image editing with id 14135781 and url https://github.com/robertfoss/audio_shop/ scored 13\n",
            "79 Story Show HN: Open Paperless – Scan, index, and archive paper documents with id 15983492 and url https://github.com/zhoubear/open-paperless scored 8\n",
            "80 Story Show HN: PDFLayoutTextStripper – Converts PDF to text while keeping the layout with id 13729301 and url https://github.com/JonathanLink/PDFLayoutTextStripper scored 9\n",
            "81 Story Show HN: Golang DNS server, including DNSSEC and DNS-over-TLS with id 15796943 and url https://github.com/tenta-browser/tenta-dns scored 4\n",
            "82 Story Show HN: Early-stage Yahoo Pipes spiritual successor with id 14440993 and url https://www.pipes.digital/ scored 18\n",
            "83 Story Ask HN: HNers who got their “Show HNs” on homepage, how is your site doing now? with id 14839459 and url None scored 50\n",
            "84 Story Show HN: Discover, Listen and Discuss Classical Music with id 15860312 and url https://classicalmusiconly.com scored 12\n",
            "85 Story Show HN: Javalin 1.0 – A Kotlin/Java web framework with id 15644430 and url https://javalin.io/news/javalin-1.0.0-stable.html scored 17\n",
            "86 Story Show HN: Datasette – Create and publish an API for SQLite databases with id 15691409 and url https://simonwillison.net/2017/Nov/13/datasette/ scored 7\n",
            "87 Story Show HN: Moon – fast 7k Vue alternative with id 15105726 and url https://github.com/kbrsh/moon scored 18\n",
            "88 Story Show HN: 'Hack' the user cursor with id 14124285 and url http://javier.xyz/control-user-cursor/ scored 9\n",
            "89 Story Show HN: Paint yourself in the style of classic art, in your browser with id 15383336 and url https://github.com/reiinakano/fast-style-transfer-deeplearnjs/ scored 6\n",
            "90 Story Show HN: Under the hood ReactJS with id 14691407 and url https://bogdan-lyashenko.github.io/Under-the-hood-ReactJS/ scored 8\n",
            "91 Story Show HN: Product Graveyard – Commemorating the most memorable dead products with id 15041620 and url http://productgraveyard.com/?ref=hn scored 6\n",
            "92 Story Show HN: Boot Windows 10 Directly into Linux Desktop of Choice with id 13762077 and url https://github.com/NathanCastle/BootShellCredentialProvider scored 9\n",
            "93 Story Show HN: Timestrap – Self-hosted online time tracking with id 14180673 and url https://github.com/overshard/timestrap scored 15\n",
            "94 Story Show HN: Doogie – A Chromium-Based Browser with Tree-Style Pages with id 15277351 and url https://cretz.github.io/doogie/ scored 9\n",
            "95 Story Show HN: My RIP Goodbye to my Co-Founder Carlos Icaza with id 14147585 and url None scored 6\n",
            "96 Story Show HN: 3D Packing for 3D Printing with id 14614304 and url https://www.michaelfogleman.com/pack3d/ scored 4\n",
            "97 Story Show HN: Lumix Engine – Open source C++ 3D game engine with id 13762032 and url https://github.com/nem0/lumixengine scored 5\n",
            "98 Story Show HN: Hasura – A Postgres BaaS and Kubernetes PaaS on Your Own Infrastructure with id 13724118 and url https://hasura.io scored 8\n",
            "99 Story Show HN: Globe visualizations in Golang with id 14718051 and url https://github.com/mmcloughlin/globe scored 9\n",
            "100 Story Show HN: Real-time notes app built with Vue.js, inspired by Notational Velocity with id 14409760 and url https://notational.co/ scored 21\n",
            "101 Story Show HN: An interactive guide to compression basics with id 14957201 and url http://unwttng.com/compression-decompressed scored 16\n",
            "102 Story Show HN: Bt – BitTorrent library in Java 8 with id 14911372 and url https://github.com/atomashpolskiy/bt/blob/master/README.md#----bt scored 15\n",
            "103 Story Show HN: No Coin – A browser extension to block coin miners with id 15270799 and url https://github.com/keraf/NoCoin scored 6\n",
            "104 Story Show HN: A WebAssembly game demo with id 14411328 and url https://www.funkykarts.rocks/demo.html scored 16\n",
            "105 Story Ask HN: What are some alternatives to Show HN? Other platforms to showcase with id 13828180 and url None scored 9\n",
            "106 Story Show HN: Go from Docker-Compose to Kubernetes with a simple tool with id 13783546 and url http://kompose.io/index scored 8\n",
            "107 Story Show HN: Read Hacker News Like Pinterest – Built with Vuejs with id 13324971 and url https://hnews.xyz/new scored 34\n",
            "108 Story Show HN: Beehive – An open source IFTTT powered by Go's templating engine with id 13623852 and url https://github.com/muesli/beehive scored 5\n",
            "109 Story Show HN: Arrived – Stack Overflow for US Immigration with id 13543072 and url https://play.google.com/store/apps/details?id=us.arrived.arrived scored 9\n",
            "110 Story Show HN: 1 KB JavaScript library for building front end apps with id 15207117 and url https://github.com/jbucaran/hyperapp scored 2\n",
            "111 Story Show HN: Gutenberg – A static site engine as a single executable with id 15507538 and url https://www.getgutenberg.io scored 20\n",
            "112 Story Show HN: Legion, an as-simple-as-possible blockchain server written in Haskell with id 14439789 and url https://github.com/aviaviavi/legion scored 5\n",
            "113 Story Show HN: A platform for sharing DIY solar projects with id 15425324 and url http://sunboxlabs.com scored 8\n",
            "114 Story Show HN: Visual Studio Code for ARM, submitted to core with id 14137563 and url https://github.com/Microsoft/vscode/pull/24943 scored 7\n",
            "115 Story Show HN: Posters of Your GitHub Contributions with id 13552376 and url https://commitprint.com/ scored 14\n",
            "116 Story Show HN: Pdf-Bot, an API/CLI for Generating PDFs Using Headless Chrome with id 15070686 and url https://github.com/esbenp/pdf-bot scored 12\n",
            "117 Story Show HN: Ship 2.0 – A macOS Native Interface to GitHub Issues with id 13493810 and url https://www.realartists.com/blog/ship-20.html scored 13\n",
            "118 Story Show HN: Commento: Lightweight, open source, tracking-free alternative to Disqus with id 14202456 and url https://github.com/adtac/commento scored 3\n",
            "119 Story Show HN: Data Prism – Weekly newsletter about data science, ML, AI and analytics with id 16009233 and url http://dataprism.co/ scored 6\n",
            "120 Story Show HN: Redox Rust OS – v0.3.3 release with id 15290607 and url https://github.com/redox-os/redox/releases/tag/0.3.3 scored 7\n",
            "121 Story Show HN: Moocha.io – A search engine for MOOCs with id 15346381 and url http://www.moocha.io scored 14\n",
            "122 Story Show HN: Nulis – Open Source Tree Editor for Writers with id 15256215 and url https://github.com/raymestalez/nulis scored 17\n",
            "123 Story Show HN: NoFile.io – A simple file storage site with lots of perks with id 13809462 and url https://nofile.io scored 15\n",
            "124 Story Show HN: Gitly.io – high performance Git service with a 10s installation time with id 13819447 and url https://gitly.io scored 24\n",
            "125 Story Show HN: Nim in Action with id 14961862 and url https://book.picheta.me/ scored 8\n",
            "126 Story Show HN: VPS Comparison – Automated tests to compare VPS by yourself with id 14245538 and url https://github.com/joedicastro/vps-comparison scored 21\n",
            "127 Story Show HN: Nomouse with id 13847301 and url https://github.com/brhs/nomouse scored 11\n",
            "128 Story Show HN: 15-question programming quiz with answers with id 14402738 and url https://quiz.triplebyte.com/ scored 13\n",
            "129 Story Show HN: Resumegen – A single-page LaTeX resume generator with id 14058815 and url http://writecodeeveryday.github.io/projects/resumegen scored 12\n",
            "130 Story Show HN: Hacking an ultrasound probe with a Raspberry Pi and low-cost hardware with id 14869138 and url https://kelu124.gitbooks.io/echomods/content/RPI.html scored 3\n",
            "131 Story Show HN: Orange Forum – Web 1.0 style forum written in Go with id 15645276 and url http://www.goodoldweb.com/ scored 15\n",
            "132 Story Show HN: 100K sentences mined from Wikipedia to help non-native English learners with id 14447885 and url https://buildmyvocab.in/ scored 16\n",
            "133 Story Show HN: How to write a tiny compiler with id 13608810 and url http://blog.klipse.tech/javascript/2017/02/08/tiny-compiler-intro.html?tiny scored 8\n",
            "134 Story Show HN: Key Values – Find engineering teams that share your values with id 15178283 and url https://www.keyvalues.io/ scored 27\n",
            "135 Story Show HN: Qt binding for Go with support for all major operating systems with id 14068525 and url https://therecipe.github.io/qt scored 6\n",
            "136 Story Show HN: VisiData – vi for data with id 14662860 and url http://github.com/saulpw/visidata scored 9\n",
            "137 Story Show HN: Short-term rental estimate for sites like Airbnb with id 14950699 and url https://www.eliotandme.com/estimator scored 11\n",
            "138 Story Show HN: Version Control for Microsoft Word with id 14552140 and url https://www.simuldocs.com/blog/ben-morris/version-control-for-microsoft-word scored 24\n",
            "139 Story Show HN: /usr/bin/htop with id 15601027 and url http://0xfee1dead.top/ scored 6\n",
            "140 Story Show HN: Insomnia REST Client now open-source with id 14309143 and url https://insomnia.rest/blog/open-source-announcement/ scored 8\n",
            "141 Story Show HN: Reddit Grid – A better way to browse subreddits that are very visual with id 15337342 and url https://redditgrid.com scored 23\n",
            "142 Story Show HN: Pocket Stream Archive – A personal Way-Back Machine with id 14272133 and url https://github.com/pirate/pocket-archive-stream scored 10\n",
            "143 Story Show HN: 1 KB JavaScript framework for building front-end applications with id 15264053 and url https://github.com//hyperapp/hyperapp scored 6\n",
            "144 Story Show HN: PDFlower – Reflow PDF papers for small-screen reading with id 13318289 and url https://pdflower.com scored 10\n",
            "145 Story Show HN: Solo – App for sharing loneliness and aloneness with id 16001795 and url http://www.sharesolo.com scored 3\n",
            "146 Story Show HN: A directory of the best free resources for remote workers and nomads with id 14097011 and url http://remotestash.co scored 10\n",
            "147 Story Show HN: AI Grant – Non-profit, distributed AI research lab with id 14851806 and url None scored 8\n",
            "148 Story Show HN: Coinhive – Embeddable JavaScript Crypto Miner with id 15246145 and url https://coin-hive.com/ scored 12\n",
            "149 Story Show HN: Teachcraft – Learn Python through Minecraft with id 14854915 and url https://teachcraft.net/ scored 16\n",
            "150 Story Show HN: An audio only social network with id 13367486 and url http://currentlyapp.io/ scored 22\n",
            "151 Story Show HN: Work at a Startup – Find a Job at a YC Company with id 15916350 and url https://www.workatastartup.com/?1 scored 11\n",
            "152 Story Show HN: LibreRead 1.0 – Self-Hosted Free Ebook Reader with id 15897259 and url https://libreread.org scored 17\n",
            "153 Story Show HN: Ipyvolume: 3D plotting library for the Jupyter/IPython notebook with id 13667015 and url https://github.com/maartenbreddels/ipyvolume scored 5\n",
            "154 Story Show HN: An API for filling out PDF forms with id 15427891 and url https://formapi.io scored 18\n",
            "155 Story Show HN: Resume Worded – Write impactful resumes with id 15417975 and url https://resumeworded.com scored 6\n",
            "156 Story Show HN: An API for scraping recipe web pages with id 14794949 and url http://choppingboard.recipes/ scored 2\n",
            "157 Story Show HN: Pygit – Just enough git to push itself to GitHub with id 14210877 and url http://benhoyt.com/writings/pygit/ scored 9\n",
            "158 Story Show HN: Use Ansible to Run a “friends and Family” OpenVPN Server on Digital Ocean with id 13351973 and url https://github.com/robbintt/popup-openvpn scored 5\n",
            "159 Story Show HN: Command Line Challenge with id 13492975 and url https://cmdchallenge.com scored 10\n",
            "160 Story Show HN: An HTML/CSS/JS toggle switch with happy and sad emojis with id 13874844 and url http://codepen.io/chrisgannon/pen/WpjXVr scored 15\n",
            "161 Story Show HN: GoldenLayout – build multi-screen webapps with id 14586679 and url http://golden-layout.com/#start scored 6\n",
            "162 Story Show HN: Link.fish – API to extract data from websites as JSON with id 15611605 and url https://link.fish/api scored 18\n",
            "163 Story Show HN: Joy – a Go to JavaScript compiler with id 15906671 and url https://mat.tm/joy/ scored 5\n",
            "164 Story Show HN: Boltzmann Machines in TensorFlow with Examples: RBM, DBM, AIS with id 15736090 and url https://github.com/monsta-hd/boltzmann-machines scored 4\n",
            "165 Story Show HN: Search engine for lectures with id 14484549 and url https://www.findlectures.com/ scored 8\n",
            "166 Story Show HN: Howmanypeoplearearound – Use wifi to calculate number of people around with id 14332479 and url https://github.com/schollz/howmanypeoplearearound scored 5\n",
            "167 Story Show HN: Mesh IDE – a code editor that feels like a spreadsheet with id 14821186 and url https://github.com/chrispsn/mesh scored 8\n",
            "168 Story Show HN: Kozmos – A Personal Library with id 14980075 and url https://getkozmos.com/ scored 8\n",
            "169 Story Show HN: Promptui – Rich UI elements for cli prompts in Go with id 15810244 and url https://github.com/manifoldco/promptui scored 6\n",
            "170 Story Show HN: Play rock-paper-scissors against your computer via webcam, neural nets with id 14982359 and url https://tenso.rs/demos/rock-paper-scissors/ scored 15\n",
            "171 Story Show HN: Play multiplayer and singleplayer NES games online with id 14183597 and url https://nescat.gcubed.co/# scored 12\n",
            "172 Story Show HN: Termipal – native micro-GUIs for shell scripts and command line apps with id 15972402 and url https://termipal.sh scored 14\n",
            "173 Story Show HN: Screen.rip – API for capturing web screenshots with id 15507181 and url http://screen.rip scored 16\n",
            "174 Story Show HN: An improved version of HyperLogLog with id 14636699 and url https://github.com/axiomhq/hyperloglog.git scored 9\n",
            "175 Story Show HN: Kubernetes as a back-end for OpenFaaS with id 15115318 and url https://github.com/alexellis/faas-netes scored 7\n",
            "176 Story Show HN: Crown – A flexible game engine written from scratch in C++ with id 14610882 and url https://github.com/dbartolini/crown scored 4\n",
            "177 Story Show HN: Make Medium Readable Again with id 15123638 and url https://github.com/thebaer/MMRA scored 5\n",
            "178 Story Show HN: Kitty – A modern, hackable, featureful, OpenGL based terminal emulator with id 13342341 and url https://github.com/kovidgoyal/kitty scored 3\n",
            "179 Story Show HN: Aragon – Everything you need to run your company on Ethereum with id 13616751 and url https://aragon.one scored 5\n",
            "180 Story Show HN: Strukt – a visual shell for tabular data with id 14471153 and url https://www.freerobotcollective.com scored 14\n",
            "181 Story Show HN: PumpkinDB, an event sourcing database engine with id 13738051 and url http://pumpkindb.org scored 8\n",
            "182 Story Show HN: SpeechBoard – Edit Podcasts from the Transcript with id 15670827 and url http://speechboard.co/ scored 16\n",
            "183 Story Show HN: Keygen – A dead-simple software licensing API built for developers with id 14538351 and url https://keygen.sh scored 4\n",
            "184 Story Show HN: Retool: Excel-like, with higher order primitives with id 14515494 and url https://retool.in scored 11\n",
            "185 Story Show HN: Sandglass – Distributed, scalable, persistent time-sorted message queue with id 15895863 and url https://github.com/celrenheit/sandglass scored 6\n",
            "186 Story Show HN: Aeneas – a Python audio/text aligner with id 13907010 and url https://github.com/readbeyond/aeneas scored 5\n",
            "187 Story Show HN: 1kb JavaScript library for building front end applications with id 14629414 and url https://github.com/hyperapp/hyperapp scored 5\n",
            "188 Story Show HN: Trade your abandoned side projects on Borderline.biz with id 15200100 and url http://borderline.biz scored 14\n",
            "189 Story Show HN: Illustrated Quicksort algorithm with id 13642967 and url https://illustrated-algorithms.now.sh/quicksort scored 15\n",
            "190 Story Show HN: DeepUI Programming Studio – A different approach to programming with id 13628530 and url https://deepui.io scored 11\n",
            "191 Story Show HN: A Browser-based Blockchain with id 14495623 and url https://nimiq.com/betanet scored 9\n",
            "192 Story Show HN: 5+ Billion Passwords in Order of Most Popular with id 14530250 and url https://github.com/berzerk0/Probable-Wordlists scored 4\n",
            "193 Story Show HN: TorrentPeek – Distributed search engines using BitTorrent and SQLite with id 14130280 and url https://github.com/lmatteis/torrent-peek/blob/master/README.md scored 10\n",
            "194 Story Show HN: Make your web page dance with Rythm.js with id 15183014 and url https://okazari.github.io/Rythm.js/ scored 8\n",
            "195 Story Show HN: UrlRoulette – Pass a URL to the next visitor with id 14122418 and url https://urlroulette.net/ scored 8\n",
            "196 Story Show HN: A notebook-style Common Lisp environment with id 14725878 and url https://github.com/tamamu/darkmatter scored 5\n",
            "197 Story Show HN: Kobble – Notes app that saves directly to GitHub with id 14204759 and url https://kobble.io scored 14\n",
            "198 Story Show HN: Byte Arena – Code Your Fighter Bot with id 15986244 and url https://doc.bytearena.com scored 10\n",
            "199 Story Show HN: fman – file manager for programmers with id 13764060 and url https://fman.io scored 15\n",
            "200 Story Show HN: Rejection Conditioner for YC Applications with id 15433879 and url http://rejectionconditioner.com scored 6\n",
            "201 Story Show HN: s3-lambda – Lambda functions over S3 objects: each, map, reduce, filter with id 13628952 and url https://github.com/littlstar/s3-lambda scored 7\n",
            "202 Story Show HN: Compile-time HTML parsing in C++14 with id 14896455 and url https://github.com/rep-movsd/see-phit scored -2\n",
            "203 Story Show HN: A Vim distribution inspired by Spacemacs with id 13958300 and url http://vim.liuchengxu.org/ scored 9\n",
            "204 Story Show HN: Tesoro – Personal internet archive with id 14644441 and url https://tesoro.io scored 24\n",
            "205 Story Show HN: Redux Offline – Build Offline-First Apps for Web and React Native with id 13995891 and url https://github.com/jevakallio/redux-offline scored 4\n",
            "206 Story Show HN: Ctxt.io – share context of whatever you see with others in seconds with id 13940594 and url https://ctxt.io scored 13\n",
            "207 Story Show HN: Bitesnap – Deep Learning Meets Food Logging with id 13483865 and url https://getbitesnap.com scored 37\n",
            "208 Story Show HN: US Stock Screener with id 15551245 and url https://stockrow.com/screener scored 28\n",
            "209 Story Show HN: Baby Buddy with id 15558057 and url https://github.com/cdubz/babybuddy scored 18\n",
            "210 Story Show HN: A password manager using Keybase for encryption and storage with id 14517671 and url https://github.com/woodruffw/kbsecret scored 8\n",
            "211 Story Show HN: Mastodon, a federated microblogging network with id 13303346 and url https://mastodon.social scored 7\n",
            "212 Story Show HN: Simple image resizing/optimization service with id 13579656 and url https://scaley.io/ scored 16\n",
            "213 Story Show HN: HTTPLab – An interactive web server with id 13757730 and url https://github.com/gchaincl/httplab scored 8\n",
            "214 Story Show HN: Very basic blockchain-free cryptocurrency PoC in Python with id 14730354 and url https://github.com/DutchGraa/crackcoin scored 1\n",
            "215 Story Show HN: Bitcoin investing using Dollar Cost Averaging strategy with id 15117037 and url https://github.com/0x13a/bitcoin-trading-dca scored 9\n",
            "216 Story Show HN: SeKey: An SSH Agent for OS X, Using Secure Enclave and TouchID, in Rust with id 15853345 and url https://github.com/ntrippar/sekey scored 6\n",
            "217 Story Show HN: Fast C-based HTML 5 parsing for Python with id 14588333 and url https://github.com/kovidgoyal/html5-parser scored 5\n",
            "218 Story Show HN: Stretch – Free limousine rides with id 14436381 and url https://stretchcorp.com scored 8\n",
            "219 Story Show HN: Upstart.me – Find newsletters to promote your startup or side projects with id 14597544 and url http://upstart.me/?ver1 scored 11\n",
            "220 Story Show HN: OhMyCo.in – Real-time charts for cryptocurrency markets with id 15759014 and url http://ohmyco.in/charts/ scored 18\n",
            "221 Story Show HN: Hiding code from Git diff with id 15916961 and url https://www.twistlock.com/2017/12/13/hiding-content-git-escape-sequence-twistlock-labs-experiment/ scored 1\n",
            "222 Story Show HN: A New, Clean Geolocation API with id 15879115 and url https://ipdata.co scored 17\n",
            "223 Story Show HN: Transformation Invariant Reverse Image Search with id 14973741 and url https://pippy360.github.io/transformationInvariantImageSearch/ scored 11\n",
            "224 Story Show HN: WrapAPI v2 – Build APIs, scrapers, bots on any website with id 14167466 and url https://wrapapi.com/v2 scored 11\n",
            "225 Story Show HN: Nice-looking Python bindings to V8 with id 14589336 and url https://github.com/tbodt/v8py scored 1\n",
            "226 Story Show HN: Generate avatars from user initials with id 15422995 and url https://ui-avatars.com scored 13\n",
            "227 Story Show HN: An online interactive Kubernetes playground with id 14714386 and url http://play-with-k8s.com scored 0\n",
            "228 Story Show HN: Open Source alternative to services like Intercom.io and Smooch with id 15589742 and url https://github.com/minimalchat/client scored 11\n",
            "229 Story Show HN: SQueaLy – Fast track analytics for business with id 14314875 and url https://github.com/hashedin/squealy scored 11\n",
            "230 Story Show HN: GraphQL Voyager – Represent Any GraphQL API as an Interactive Graph with id 13695614 and url https://github.com/APIs-guru/graphql-voyager scored 7\n",
            "231 Story Show HN: MStream – A personal music streaming server with id 14246334 and url https://github.com/IrosTheBeggar/mStream scored 10\n",
            "232 Story Show HN: React patterns, techniques, tips and tricks with id 15622269 and url https://github.com/vasanthk/react-bits scored 5\n",
            "233 Story Show HN: Store.js v2.0 – Cross-browser storage for all use cases with id 13751498 and url https://github.com/marcuswestin/store.js scored 7\n",
            "234 Story Show HN: 3DC.io – A dead simple cross-platform 3D design tool with id 14360921 and url https://3dc.io/app/ scored 15\n",
            "235 Story Show HN: Chord Progressions with id 15720448 and url https://peterburk.github.io/chordProgressions/index.html scored 4\n",
            "236 Story Show HN: Nginx Sysguard – throttle requests by load, average request time, etc. with id 14338708 and url https://github.com/vozlt/nginx-module-sysguard/blob/master/README.md scored 2\n",
            "237 Story Show HN: Plot directly in your terminal with matplotlib with id 13700512 and url https://github.com/daleroberts/itermplot scored 4\n",
            "238 Story Show HN: Shazam-like acoustic fingerprinting of continuous audio streams with id 15809291 and url https://github.com/dest4/stream-audio-fingerprint scored 7\n",
            "239 Story Show HN: Welder – set up your Linux server with plain shell scripts with id 14522520 and url https://github.com/pch/welder scored 11\n",
            "240 Story Show HN: A Go Library for Better Access Control with id 13901005 and url https://github.com/ory/ladon?branch=master scored 6\n",
            "241 Story Show HN: Dharma – Programmable Peer-To-Peer Loans Using Ethereum Smart Contracts with id 14850259 and url None scored 6\n",
            "242 Story Show HN: CoinMall Alpha: A Crypto Marketplace for Digital Goods with id 15466817 and url https://medium.com/@coinmallio/announcing-coinmall-alpha-db6e7f4659a6 scored 1\n",
            "243 Story Show HN: Sultan – Pythonic interface to your shell with id 14533354 and url https://sultan.readthedocs.io/en/latest/ scored 6\n",
            "244 Story Show HN: Interface Lovers – Interviews with designers with id 14264201 and url https://interfacelovers.com scored 3\n",
            "245 Story Show HN: 300k lines of Java UI code running as JavaScript in browser with id 15357394 and url http://reportmill.com/cj/RMStudio/ scored 6\n",
            "246 Story Show HN: Vecta.io - Team diagramming with an advanced SVG editor with id 14688031 and url https://vecta.io scored 13\n",
            "247 Story Show HN: Vehicle Detection – using machine learning and computer vision with id 15582714 and url https://github.com/tatsuyah/vehicle-detection scored 3\n",
            "248 Story Show HN: ThingsOnReddit – Products linked to on Reddit with id 15321555 and url https://thingsonreddit.com/ scored 18\n",
            "249 Story Show HN: Ondevice SSH – Terminal emulator for devices without public IP address with id 15785333 and url https://ondevice.io scored 15\n",
            "250 Story Show HN: A neural net that critiques your logo with id 15131408 and url http://brandmark.io/logo-rank/ scored 7\n",
            "251 Story Show HN: Code Cards – Anki for code with id 13521066 and url https://codecards.me/ scored 9\n",
            "252 Story Show HN: Confessions of an Unintentional CTO – Lessons in growing a web app with id 14497422 and url https://www.jackkinsella.ie/books/confessions_of_an_unintentional_cto scored 4\n",
            "253 Story Show HN: Send a fax to 50 countries, no signup, account or subscription required with id 15484390 and url https://www.faxrocket.com/ scored 9\n",
            "254 Story Show HN: Misocoin – A barebones Bitcoin-like protocol implemented in Python 3.6 with id 15851927 and url https://github.com/kendricktan/misocoin scored 5\n",
            "255 Story Show HN: End-to-end deep learning experimentation platform for Tensorflow with id 14819115 and url https://github.com/polyaxon/polyaxon/ scored 1\n",
            "256 Story Show HN: ARKit Playground – Make ARKit Experiences in JS from Your Browser with id 15367645 and url https://snack.expo.io/SJMTQ5jiZ scored 5\n",
            "257 Story Show HN: Servers.lol – Should Your EC2 Be a Lambda? with id 15925736 and url https://servers.lol scored 13\n",
            "258 Story Show HN: 100 Python books, categorized and ranked with id 14769317 and url http://pythonbooks.org/ scored 9\n",
            "259 Story Show HN: Fake SMTP server as a service with id 14022059 and url https://develmail.com scored 13\n",
            "260 Story Show HN: AsciiDots – a 2D esoteric language inspired by circuits with id 14947449 and url https://github.com/aaronduino/asciidots/ scored 6\n",
            "261 Story Show HN: Gitorials – Tutorials as Git Repos with id 14330635 and url https://gitorials.com/ scored 9\n",
            "262 Story Show HN: Jupyter4kids – Notebooks to help teach kids principles of programming with id 15206982 and url https://github.com/mikkokotila/jupyter4kids scored 4\n",
            "263 Story Show HN: Every Day Is Pi Day with id 13866507 and url http://euler.party/ scored 5\n",
            "264 Story Show HN: IPFessay – Publish uncensorable essays to IPFS with id 14611121 and url https://gitlab.com/stavros/IPFessay scored 3\n",
            "265 Story Show HN: Python bindings to the Servo HTML5 parser, html5ever with id 14591017 and url https://github.com/tbodt/htmlpyever scored 2\n",
            "266 Story Show HN: Open Source Search Engine to Learn Anything with id 14798336 and url https://learn-anything.xyz/ scored 3\n",
            "267 Story Show HN: Q8, an In-Browser VM for Learning and Visualizing Bytecode Programming with id 13355856 and url https://anchovieshat.github.io/Q8/index.html scored 7\n",
            "268 Story Show HN: Clozemaster – Learn language in context with id 13676105 and url https://www.clozemaster.com scored 16\n",
            "269 Story Show HN: Kooba, an interactive graph for finding new books with id 14538226 and url http://koob.jake.run scored 9\n",
            "270 Story Show HN: SpreadsheetDB – A database that you can query with spreadsheets with id 13978271 and url https://www.spreadsheetdb.io/ scored 8\n",
            "271 Story Show HN: Tired of the non-portability of my playlists, I wrote my own format with id 13764173 and url http://universalplaylist.stavros.io/ scored 8\n",
            "272 Story Show HN: Sedy, a GitHub Bot Bringing Linux Sed to Code Reviews with id 13753649 and url https://marmelab.com/blog/2017/02/28/sedy-the-serverless-github-bot-which-fix-typos-for-you.html scored 8\n",
            "273 Story Show HN: Poxi – A Hackable Pixel Art Editor with id 13744349 and url https://github.com/maierfelix/poxi scored 12\n",
            "274 Story Show HN: Interactive map for architecting big data pipelines with id 14639879 and url http://xyz.insightdataengineering.com/blog/pipeline_map/ scored 1\n",
            "275 Story Show HN: Webhook – A lightweight configurable tool written in Go with id 14151839 and url https://github.com/adnanh/webhook scored 7\n",
            "276 Story Show HN: RNN that generates Game of Thrones text with id 15076727 and url https://www.github.com/zackthoutt/got-book-6 scored 9\n",
            "277 Story Show HN: CertStream – See SSL certs as they're issued in real time with id 15622140 and url https://certstream.calidog.io scored 7\n",
            "278 Story Show HN: Artpip – 4k fine art for your desktop with id 14690517 and url https://www.artpip.com scored 18\n",
            "279 Story Show HN: Getting started with Puppeteer and Chrome Headless for Web Scraping with id 15121836 and url https://github.com/emadehsan/thal scored 10\n",
            "280 Story Show HN: GitHub trending alternative that ranks repos by contribution rate with id 13450554 and url http://www.krihelinator.xyz/ scored 10\n",
            "281 Story Show HN: Does it use Cloudflare? with id 13721140 and url http://www.doesitusecloudflare.com/ scored 6\n",
            "282 Story Show HN: “Statements and State”, the next chapter of my book on interpreters with id 14461799 and url http://www.craftinginterpreters.com/statements-and-state.html scored 10\n",
            "283 Story Show HN: Hacker News desktop application in Kotlin/Swing with id 15425545 and url https://github.com/westoncb/HNDesktop scored 10\n",
            "284 Story Show HN: 15-question language identification quiz with id 14763591 and url https://quiz.triplebyte.com/language-identification/ scored 7\n",
            "285 Story Show HN: Effects of House and Senate Bill on California Residents with id 15865195 and url http://flu.io/2018-tax-bills/ scored 13\n"
          ],
          "name": "stdout"
        },
        {
          "output_type": "error",
          "ename": "IndexError",
          "evalue": "ignored",
          "traceback": [
            "\u001b[0;31m---------------------------------------------------------------------------\u001b[0m",
            "\u001b[0;31mIndexError\u001b[0m                                Traceback (most recent call last)",
            "\u001b[0;32m<ipython-input-60-6158c527848a>\u001b[0m in \u001b[0;36m<module>\u001b[0;34m()\u001b[0m\n\u001b[0;32m----> 1\u001b[0;31m \u001b[0manalyse_hacker_news\u001b[0m\u001b[0;34m(\u001b[0m\u001b[0;34m)\u001b[0m\u001b[0;34m\u001b[0m\u001b[0;34m\u001b[0m\u001b[0m\n\u001b[0m",
            "\u001b[0;32m<ipython-input-59-92968973b0c3>\u001b[0m in \u001b[0;36manalyse_hacker_news\u001b[0;34m()\u001b[0m\n\u001b[1;32m      9\u001b[0m     \u001b[0;32mfor\u001b[0m \u001b[0mindex\u001b[0m\u001b[0;34m,\u001b[0m \u001b[0mrow\u001b[0m \u001b[0;32min\u001b[0m \u001b[0mstories\u001b[0m\u001b[0;34m.\u001b[0m\u001b[0miterrows\u001b[0m\u001b[0;34m(\u001b[0m\u001b[0;34m)\u001b[0m\u001b[0;34m:\u001b[0m\u001b[0;34m\u001b[0m\u001b[0;34m\u001b[0m\u001b[0m\n\u001b[1;32m     10\u001b[0m       \u001b[0mparent_id\u001b[0m \u001b[0;34m=\u001b[0m \u001b[0mrow\u001b[0m\u001b[0;34m[\u001b[0m\u001b[0;34m'id'\u001b[0m\u001b[0;34m]\u001b[0m\u001b[0;34m\u001b[0m\u001b[0;34m\u001b[0m\u001b[0m\n\u001b[0;32m---> 11\u001b[0;31m       \u001b[0mcomments\u001b[0m \u001b[0;34m=\u001b[0m \u001b[0mget_comments\u001b[0m\u001b[0;34m(\u001b[0m\u001b[0mparent_id\u001b[0m\u001b[0;34m)\u001b[0m\u001b[0;34m\u001b[0m\u001b[0;34m\u001b[0m\u001b[0m\n\u001b[0m\u001b[1;32m     12\u001b[0m       \u001b[0mscores\u001b[0m \u001b[0;34m=\u001b[0m \u001b[0manalyse_comments\u001b[0m\u001b[0;34m(\u001b[0m\u001b[0mcomments\u001b[0m\u001b[0;34m)\u001b[0m\u001b[0;34m\u001b[0m\u001b[0;34m\u001b[0m\u001b[0m\n\u001b[1;32m     13\u001b[0m       \u001b[0mstory_point\u001b[0m \u001b[0;34m=\u001b[0m \u001b[0mscore_story\u001b[0m\u001b[0;34m(\u001b[0m\u001b[0mscores\u001b[0m\u001b[0;34m)\u001b[0m\u001b[0;34m\u001b[0m\u001b[0;34m\u001b[0m\u001b[0m\n",
            "\u001b[0;32m<ipython-input-56-8a55f1607465>\u001b[0m in \u001b[0;36mget_comments\u001b[0;34m(parent_id)\u001b[0m\n\u001b[1;32m     19\u001b[0m \u001b[0;34m\u001b[0m\u001b[0m\n\u001b[1;32m     20\u001b[0m     \u001b[0;31m# Transform the rows into a nice pandas dataframe\u001b[0m\u001b[0;34m\u001b[0m\u001b[0;34m\u001b[0m\u001b[0;34m\u001b[0m\u001b[0m\n\u001b[0;32m---> 21\u001b[0;31m     \u001b[0mcomments\u001b[0m \u001b[0;34m=\u001b[0m \u001b[0mpd\u001b[0m\u001b[0;34m.\u001b[0m\u001b[0mDataFrame\u001b[0m\u001b[0;34m(\u001b[0m\u001b[0mdata\u001b[0m\u001b[0;34m=\u001b[0m\u001b[0;34m[\u001b[0m\u001b[0mlist\u001b[0m\u001b[0;34m(\u001b[0m\u001b[0mx\u001b[0m\u001b[0;34m.\u001b[0m\u001b[0mvalues\u001b[0m\u001b[0;34m(\u001b[0m\u001b[0;34m)\u001b[0m\u001b[0;34m)\u001b[0m \u001b[0;32mfor\u001b[0m \u001b[0mx\u001b[0m \u001b[0;32min\u001b[0m \u001b[0mrows\u001b[0m\u001b[0;34m]\u001b[0m\u001b[0;34m,\u001b[0m \u001b[0mcolumns\u001b[0m\u001b[0;34m=\u001b[0m\u001b[0mlist\u001b[0m\u001b[0;34m(\u001b[0m\u001b[0mrows\u001b[0m\u001b[0;34m[\u001b[0m\u001b[0;36m0\u001b[0m\u001b[0;34m]\u001b[0m\u001b[0;34m.\u001b[0m\u001b[0mkeys\u001b[0m\u001b[0;34m(\u001b[0m\u001b[0;34m)\u001b[0m\u001b[0;34m)\u001b[0m\u001b[0;34m)\u001b[0m\u001b[0;34m\u001b[0m\u001b[0;34m\u001b[0m\u001b[0m\n\u001b[0m\u001b[1;32m     22\u001b[0m     \u001b[0;31m#comments.head(20)\u001b[0m\u001b[0;34m\u001b[0m\u001b[0;34m\u001b[0m\u001b[0;34m\u001b[0m\u001b[0m\n\u001b[1;32m     23\u001b[0m \u001b[0;34m\u001b[0m\u001b[0m\n",
            "\u001b[0;31mIndexError\u001b[0m: list index out of range"
          ]
        }
      ]
    }
  ]
}