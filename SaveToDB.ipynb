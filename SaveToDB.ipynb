{
  "nbformat": 4,
  "nbformat_minor": 0,
  "metadata": {
    "colab": {
      "name": "SaveToDB.ipynb",
      "provenance": [],
      "include_colab_link": true
    },
    "kernelspec": {
      "name": "python3",
      "display_name": "Python 3"
    }
  },
  "cells": [
    {
      "cell_type": "markdown",
      "metadata": {
        "id": "view-in-github",
        "colab_type": "text"
      },
      "source": [
        "<a href=\"https://colab.research.google.com/github/marinathomas/SentimentAnalysisHN/blob/master/SaveToDB.ipynb\" target=\"_parent\"><img src=\"https://colab.research.google.com/assets/colab-badge.svg\" alt=\"Open In Colab\"/></a>"
      ]
    },
    {
      "cell_type": "code",
      "metadata": {
        "id": "XNboyqNIvwNy",
        "colab_type": "code",
        "colab": {
          "base_uri": "https://localhost:8080/",
          "height": 121
        },
        "outputId": "68969217-2c58-4939-ae52-6936536a2530"
      },
      "source": [
        "import csv\n",
        "from google.colab import drive\n",
        "\n",
        "drive.mount(\"/content/gdrive\")"
      ],
      "execution_count": 1,
      "outputs": [
        {
          "output_type": "stream",
          "text": [
            "Go to this URL in a browser: https://accounts.google.com/o/oauth2/auth?client_id=947318989803-6bn6qk8qdgf4n4g3pfee6491hc0brc4i.apps.googleusercontent.com&redirect_uri=urn%3aietf%3awg%3aoauth%3a2.0%3aoob&response_type=code&scope=email%20https%3a%2f%2fwww.googleapis.com%2fauth%2fdocs.test%20https%3a%2f%2fwww.googleapis.com%2fauth%2fdrive%20https%3a%2f%2fwww.googleapis.com%2fauth%2fdrive.photos.readonly%20https%3a%2f%2fwww.googleapis.com%2fauth%2fpeopleapi.readonly\n",
            "\n",
            "Enter your authorization code:\n",
            "··········\n",
            "Mounted at /content/gdrive\n"
          ],
          "name": "stdout"
        }
      ]
    },
    {
      "cell_type": "code",
      "metadata": {
        "id": "szmf-aSd1BAT",
        "colab_type": "code",
        "colab": {}
      },
      "source": [
        "root_path = \"/content/gdrive/Shared drives/HackerNews:SentimentAnalysis/\"\n",
        "credential_path = root_path+\"BigData-HackerNews-77d9fa1b02c1.json\"\n",
        "os.environ['GOOGLE_APPLICATION_CREDENTIALS'] = credential_path"
      ],
      "execution_count": 0,
      "outputs": []
    },
    {
      "cell_type": "code",
      "metadata": {
        "id": "_g50utMt1WLC",
        "colab_type": "code",
        "colab": {}
      },
      "source": [
        "def get_stories():\n",
        "    query = \"\"\"\n",
        "    SELECT table_full.*\n",
        "    FROM `bigquery-public-data.hacker_news.full` as table_full\n",
        "    WHERE  table_full.type = 'story' and REGEXP_CONTAINS(title, r\"(S|s)how HN\") and (deleted IS NULL or deleted IS FALSE) --and  EXTRACT(YEAR FROM timestamp)=2017\n",
        "    --and table_full.descendants > 5\n",
        "    --and (table_full.descendants = 0 or table_full.descendants <5)\n",
        "    ORDER BY id asc\n",
        "    --limit 50\n",
        "    \"\"\"\n",
        "\n",
        "    query_job = client.query(query)\n",
        "    iterator = query_job.result(timeout=30)\n",
        "    rows = list(iterator)\n",
        "\n",
        "    # Transform the rows into a nice pandas dataframe\n",
        "    stories = pd.DataFrame(data=[list(x.values()) for x in rows], columns=list(rows[0].keys()))\n",
        "    #stories.head(10)\n",
        "\n",
        "    return stories"
      ],
      "execution_count": 0,
      "outputs": []
    },
    {
      "cell_type": "code",
      "metadata": {
        "id": "OE0RefJ51jUx",
        "colab_type": "code",
        "colab": {}
      },
      "source": [
        ""
      ],
      "execution_count": 0,
      "outputs": []
    }
  ]
}