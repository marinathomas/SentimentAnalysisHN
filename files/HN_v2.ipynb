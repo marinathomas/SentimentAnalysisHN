{
  "nbformat": 4,
  "nbformat_minor": 0,
  "metadata": {
    "colab": {
      "name": "HN_v2.ipynb",
      "provenance": [],
      "include_colab_link": true
    },
    "kernelspec": {
      "name": "python3",
      "display_name": "Python 3"
    }
  },
  "cells": [
    {
      "cell_type": "markdown",
      "metadata": {
        "id": "view-in-github",
        "colab_type": "text"
      },
      "source": [
        "<a href=\"https://colab.research.google.com/github/marinathomas/SentimentAnalysisHN/blob/master/files/HN_v2.ipynb\" target=\"_parent\"><img src=\"https://colab.research.google.com/assets/colab-badge.svg\" alt=\"Open In Colab\"/></a>"
      ]
    },
    {
      "cell_type": "code",
      "metadata": {
        "id": "SLaOkUZpf41e",
        "colab_type": "code",
        "outputId": "140025de-9c56-464f-b411-8cb7d47337f0",
        "colab": {
          "base_uri": "https://localhost:8080/",
          "height": 124
        }
      },
      "source": [
        "from google.cloud import bigquery\n",
        "import pandas as pd\n",
        "import os\n",
        "\n",
        "from google.colab import drive\n",
        "drive.mount('/content/gdrive')"
      ],
      "execution_count": 1,
      "outputs": [
        {
          "output_type": "stream",
          "text": [
            "Go to this URL in a browser: https://accounts.google.com/o/oauth2/auth?client_id=947318989803-6bn6qk8qdgf4n4g3pfee6491hc0brc4i.apps.googleusercontent.com&redirect_uri=urn%3aietf%3awg%3aoauth%3a2.0%3aoob&response_type=code&scope=email%20https%3a%2f%2fwww.googleapis.com%2fauth%2fdocs.test%20https%3a%2f%2fwww.googleapis.com%2fauth%2fdrive%20https%3a%2f%2fwww.googleapis.com%2fauth%2fdrive.photos.readonly%20https%3a%2f%2fwww.googleapis.com%2fauth%2fpeopleapi.readonly\n",
            "\n",
            "Enter your authorization code:\n",
            "··········\n",
            "Mounted at /content/gdrive\n"
          ],
          "name": "stdout"
        }
      ]
    },
    {
      "cell_type": "code",
      "metadata": {
        "id": "dVSgWjLLgF0E",
        "colab_type": "code",
        "colab": {}
      },
      "source": [
        "credential_path = \"/content/gdrive/Shared drives/HackerNews:SentimentAnalysis/hackernews-v2-14382f16e9b5.json\"\n",
        "os.environ['GOOGLE_APPLICATION_CREDENTIALS'] = credential_path"
      ],
      "execution_count": 0,
      "outputs": []
    },
    {
      "cell_type": "markdown",
      "metadata": {
        "id": "Y3GPA8d_gG70",
        "colab_type": "text"
      },
      "source": [
        "1. Load the BigQuery client\n",
        "2. Get a reference to HackerNews dataset\n",
        "3. Load the data set"
      ]
    },
    {
      "cell_type": "code",
      "metadata": {
        "id": "1i3BPczYgKOL",
        "colab_type": "code",
        "colab": {}
      },
      "source": [
        "client = bigquery.Client()\n",
        "hn_dataset_ref = client.dataset('hacker_news', project='bigquery-public-data')\n",
        "hn_dset = client.get_dataset(hn_dataset_ref)"
      ],
      "execution_count": 0,
      "outputs": []
    },
    {
      "cell_type": "markdown",
      "metadata": {
        "id": "LP41UdD8BFGe",
        "colab_type": "text"
      },
      "source": [
        "List all the tables"
      ]
    },
    {
      "cell_type": "code",
      "metadata": {
        "id": "IOqCZ3gvAzsY",
        "colab_type": "code",
        "colab": {
          "base_uri": "https://localhost:8080/",
          "height": 35
        },
        "outputId": "394d75fb-2faa-4f0c-a0a5-ce036fbe8cfa"
      },
      "source": [
        "[x.table_id for x in client.list_tables(hn_dset)]"
      ],
      "execution_count": 4,
      "outputs": [
        {
          "output_type": "execute_result",
          "data": {
            "text/plain": [
              "['comments', 'full', 'full_201510', 'stories']"
            ]
          },
          "metadata": {
            "tags": []
          },
          "execution_count": 4
        }
      ]
    },
    {
      "cell_type": "markdown",
      "metadata": {
        "id": "pjBqVUnSBOak",
        "colab_type": "text"
      },
      "source": [
        "Take a closer look at table full"
      ]
    },
    {
      "cell_type": "code",
      "metadata": {
        "id": "jWODlXYmBH84",
        "colab_type": "code",
        "colab": {
          "base_uri": "https://localhost:8080/",
          "height": 260
        },
        "outputId": "714c064a-ed09-4af5-960f-a8859130877c"
      },
      "source": [
        "hn_full = client.get_table(hn_dset.table('full'))\n",
        "hn_full.schema"
      ],
      "execution_count": 6,
      "outputs": [
        {
          "output_type": "execute_result",
          "data": {
            "text/plain": [
              "[SchemaField('title', 'STRING', 'NULLABLE', 'Story title', ()),\n",
              " SchemaField('url', 'STRING', 'NULLABLE', 'Story url', ()),\n",
              " SchemaField('text', 'STRING', 'NULLABLE', 'Story or comment text', ()),\n",
              " SchemaField('dead', 'BOOLEAN', 'NULLABLE', 'Is dead?', ()),\n",
              " SchemaField('by', 'STRING', 'NULLABLE', \"The username of the item's author.\", ()),\n",
              " SchemaField('score', 'INTEGER', 'NULLABLE', 'Story score', ()),\n",
              " SchemaField('time', 'INTEGER', 'NULLABLE', 'Unix time', ()),\n",
              " SchemaField('timestamp', 'TIMESTAMP', 'NULLABLE', 'Timestamp for the unix time', ()),\n",
              " SchemaField('type', 'STRING', 'NULLABLE', 'Type of details (comment, comment_ranking, poll, story, job, pollopt)', ()),\n",
              " SchemaField('id', 'INTEGER', 'NULLABLE', \"The item's unique id.\", ()),\n",
              " SchemaField('parent', 'INTEGER', 'NULLABLE', 'Parent comment ID', ()),\n",
              " SchemaField('descendants', 'INTEGER', 'NULLABLE', 'Number of story or poll descendants', ()),\n",
              " SchemaField('ranking', 'INTEGER', 'NULLABLE', 'Comment ranking', ()),\n",
              " SchemaField('deleted', 'BOOLEAN', 'NULLABLE', 'Is deleted?', ())]"
            ]
          },
          "metadata": {
            "tags": []
          },
          "execution_count": 6
        }
      ]
    },
    {
      "cell_type": "markdown",
      "metadata": {
        "id": "KQIMslA7BWZz",
        "colab_type": "text"
      },
      "source": [
        "I am interested to know what is in the 'type' column"
      ]
    },
    {
      "cell_type": "code",
      "metadata": {
        "id": "aCsrzJByBWBW",
        "colab_type": "code",
        "colab": {
          "base_uri": "https://localhost:8080/",
          "height": 104
        },
        "outputId": "089360f5-0066-48db-981b-161c15c342a6"
      },
      "source": [
        "query = \"\"\"\n",
        "SELECT distinct(type) FROM `bigquery-public-data.hacker_news.full`\n",
        "\"\"\"\n",
        "\n",
        "query_job = client.query(query)\n",
        "rows = query_job.result(timeout=30)\n",
        "for row in rows:\n",
        "  print(row.type)"
      ],
      "execution_count": 7,
      "outputs": [
        {
          "output_type": "stream",
          "text": [
            "comment\n",
            "story\n",
            "job\n",
            "pollopt\n",
            "poll\n"
          ],
          "name": "stdout"
        }
      ]
    },
    {
      "cell_type": "markdown",
      "metadata": {
        "id": "QRsD4bXKBd9T",
        "colab_type": "text"
      },
      "source": [
        "Lets take a look at 'comments' table"
      ]
    },
    {
      "cell_type": "code",
      "metadata": {
        "id": "P9_s8rBNBdpb",
        "colab_type": "code",
        "colab": {
          "base_uri": "https://localhost:8080/",
          "height": 191
        },
        "outputId": "0465df7f-6736-4ba8-bd6d-f374be6470a5"
      },
      "source": [
        "hn_comments = client.get_table(hn_dset.table('comments'))\n",
        "hn_comments.schema"
      ],
      "execution_count": 8,
      "outputs": [
        {
          "output_type": "execute_result",
          "data": {
            "text/plain": [
              "[SchemaField('id', 'INTEGER', 'NULLABLE', 'Unique comment ID', ()),\n",
              " SchemaField('by', 'STRING', 'NULLABLE', 'Username of commenter', ()),\n",
              " SchemaField('author', 'STRING', 'NULLABLE', 'Username of author', ()),\n",
              " SchemaField('time', 'INTEGER', 'NULLABLE', 'Unix time', ()),\n",
              " SchemaField('time_ts', 'TIMESTAMP', 'NULLABLE', 'Human readable time in UTC (format: YYYY-MM-DD hh:mm:ss)', ()),\n",
              " SchemaField('text', 'STRING', 'NULLABLE', 'Comment text', ()),\n",
              " SchemaField('parent', 'INTEGER', 'NULLABLE', 'Parent comment ID', ()),\n",
              " SchemaField('deleted', 'BOOLEAN', 'NULLABLE', 'Is deleted?', ()),\n",
              " SchemaField('dead', 'BOOLEAN', 'NULLABLE', 'Is dead?', ()),\n",
              " SchemaField('ranking', 'INTEGER', 'NULLABLE', 'Comment ranking', ())]"
            ]
          },
          "metadata": {
            "tags": []
          },
          "execution_count": 8
        }
      ]
    },
    {
      "cell_type": "markdown",
      "metadata": {
        "id": "DCp2TnOGBmzD",
        "colab_type": "text"
      },
      "source": [
        "Check the data"
      ]
    },
    {
      "cell_type": "code",
      "metadata": {
        "id": "D5nCnmimBtLi",
        "colab_type": "code",
        "colab": {
          "base_uri": "https://localhost:8080/",
          "height": 289
        },
        "outputId": "862cdac0-8abf-4231-cc18-c23dd115ad55"
      },
      "source": [
        "query = \"\"\"\n",
        "SELECT *\n",
        "FROM `bigquery-public-data.hacker_news.comments`  order by time desc\n",
        "LIMIT 20\n",
        "\"\"\"\n",
        "\n",
        "query_job = client.query(query)\n",
        "iterator = query_job.result(timeout=30)\n",
        "rows = list(iterator)\n",
        "\n",
        "comments = pd.DataFrame(data=[list(x.values()) for x in rows], columns=list(rows[0].keys()))\n",
        "comments.fillna(0, inplace=True)\n",
        "comments.head(5)"
      ],
      "execution_count": 10,
      "outputs": [
        {
          "output_type": "execute_result",
          "data": {
            "text/html": [
              "<div>\n",
              "<style scoped>\n",
              "    .dataframe tbody tr th:only-of-type {\n",
              "        vertical-align: middle;\n",
              "    }\n",
              "\n",
              "    .dataframe tbody tr th {\n",
              "        vertical-align: top;\n",
              "    }\n",
              "\n",
              "    .dataframe thead th {\n",
              "        text-align: right;\n",
              "    }\n",
              "</style>\n",
              "<table border=\"1\" class=\"dataframe\">\n",
              "  <thead>\n",
              "    <tr style=\"text-align: right;\">\n",
              "      <th></th>\n",
              "      <th>id</th>\n",
              "      <th>by</th>\n",
              "      <th>author</th>\n",
              "      <th>time</th>\n",
              "      <th>time_ts</th>\n",
              "      <th>text</th>\n",
              "      <th>parent</th>\n",
              "      <th>deleted</th>\n",
              "      <th>dead</th>\n",
              "      <th>ranking</th>\n",
              "    </tr>\n",
              "  </thead>\n",
              "  <tbody>\n",
              "    <tr>\n",
              "      <th>0</th>\n",
              "      <td>10379195</td>\n",
              "      <td>rhaps0dy</td>\n",
              "      <td>rhaps0dy</td>\n",
              "      <td>1444725842</td>\n",
              "      <td>2015-10-13 08:44:02+00:00</td>\n",
              "      <td>I&amp;#x27;m not sure how much of it has been prov...</td>\n",
              "      <td>10379167</td>\n",
              "      <td>0</td>\n",
              "      <td>0</td>\n",
              "      <td>0</td>\n",
              "    </tr>\n",
              "    <tr>\n",
              "      <th>1</th>\n",
              "      <td>10379193</td>\n",
              "      <td>pixelHD</td>\n",
              "      <td>pixelHD</td>\n",
              "      <td>1444725804</td>\n",
              "      <td>2015-10-13 08:43:24+00:00</td>\n",
              "      <td>Minecraft eh? I did the same with GTA San Andr...</td>\n",
              "      <td>10377203</td>\n",
              "      <td>0</td>\n",
              "      <td>0</td>\n",
              "      <td>0</td>\n",
              "    </tr>\n",
              "    <tr>\n",
              "      <th>2</th>\n",
              "      <td>10379192</td>\n",
              "      <td>test1235</td>\n",
              "      <td>test1235</td>\n",
              "      <td>1444725705</td>\n",
              "      <td>2015-10-13 08:41:45+00:00</td>\n",
              "      <td>I think the closest universal interest for me ...</td>\n",
              "      <td>10372063</td>\n",
              "      <td>0</td>\n",
              "      <td>0</td>\n",
              "      <td>0</td>\n",
              "    </tr>\n",
              "    <tr>\n",
              "      <th>3</th>\n",
              "      <td>10379190</td>\n",
              "      <td>copsarebastards</td>\n",
              "      <td>copsarebastards</td>\n",
              "      <td>1444725645</td>\n",
              "      <td>2015-10-13 08:40:45+00:00</td>\n",
              "      <td>&amp;gt; Why do you care about the success of the ...</td>\n",
              "      <td>10376640</td>\n",
              "      <td>0</td>\n",
              "      <td>0</td>\n",
              "      <td>0</td>\n",
              "    </tr>\n",
              "    <tr>\n",
              "      <th>4</th>\n",
              "      <td>10379189</td>\n",
              "      <td>spike021</td>\n",
              "      <td>spike021</td>\n",
              "      <td>1444725623</td>\n",
              "      <td>2015-10-13 08:40:23+00:00</td>\n",
              "      <td>What kinds of ramifications would there be if ...</td>\n",
              "      <td>10378759</td>\n",
              "      <td>0</td>\n",
              "      <td>0</td>\n",
              "      <td>1</td>\n",
              "    </tr>\n",
              "  </tbody>\n",
              "</table>\n",
              "</div>"
            ],
            "text/plain": [
              "         id               by           author  ...  deleted dead ranking\n",
              "0  10379195         rhaps0dy         rhaps0dy  ...        0    0       0\n",
              "1  10379193          pixelHD          pixelHD  ...        0    0       0\n",
              "2  10379192         test1235         test1235  ...        0    0       0\n",
              "3  10379190  copsarebastards  copsarebastards  ...        0    0       0\n",
              "4  10379189         spike021         spike021  ...        0    0       1\n",
              "\n",
              "[5 rows x 10 columns]"
            ]
          },
          "metadata": {
            "tags": []
          },
          "execution_count": 10
        }
      ]
    },
    {
      "cell_type": "markdown",
      "metadata": {
        "id": "5xBVTnEDB248",
        "colab_type": "text"
      },
      "source": [
        "This table does not have entries after 2015"
      ]
    },
    {
      "cell_type": "markdown",
      "metadata": {
        "id": "Ihrj-8SnB4EY",
        "colab_type": "text"
      },
      "source": [
        "Lets take a look at stories table"
      ]
    },
    {
      "cell_type": "code",
      "metadata": {
        "id": "JhMzfi4HB7qM",
        "colab_type": "code",
        "colab": {
          "base_uri": "https://localhost:8080/",
          "height": 225
        },
        "outputId": "24d30707-9109-4f68-cc47-ce6444f91e15"
      },
      "source": [
        "hn_stories = client.get_table(hn_dset.table('stories'))\n",
        "hn_stories.schema"
      ],
      "execution_count": 11,
      "outputs": [
        {
          "output_type": "execute_result",
          "data": {
            "text/plain": [
              "[SchemaField('id', 'INTEGER', 'NULLABLE', 'Unique story ID', ()),\n",
              " SchemaField('by', 'STRING', 'NULLABLE', 'Username of submitter', ()),\n",
              " SchemaField('score', 'INTEGER', 'NULLABLE', 'Story score', ()),\n",
              " SchemaField('time', 'INTEGER', 'NULLABLE', 'Unix time', ()),\n",
              " SchemaField('time_ts', 'TIMESTAMP', 'NULLABLE', 'Human readable time in UTC (format: YYYY-MM-DD hh:mm:ss)', ()),\n",
              " SchemaField('title', 'STRING', 'NULLABLE', 'Story title', ()),\n",
              " SchemaField('url', 'STRING', 'NULLABLE', 'Story url', ()),\n",
              " SchemaField('text', 'STRING', 'NULLABLE', 'Story text', ()),\n",
              " SchemaField('deleted', 'BOOLEAN', 'NULLABLE', 'Is deleted?', ()),\n",
              " SchemaField('dead', 'BOOLEAN', 'NULLABLE', 'Is dead?', ()),\n",
              " SchemaField('descendants', 'INTEGER', 'NULLABLE', 'Number of story descendants', ()),\n",
              " SchemaField('author', 'STRING', 'NULLABLE', 'Username of author', ())]"
            ]
          },
          "metadata": {
            "tags": []
          },
          "execution_count": 11
        }
      ]
    },
    {
      "cell_type": "code",
      "metadata": {
        "id": "o1SCHHMOCBOy",
        "colab_type": "code",
        "colab": {}
      },
      "source": [
        "Lets check count of stories"
      ],
      "execution_count": 0,
      "outputs": []
    },
    {
      "cell_type": "code",
      "metadata": {
        "id": "xSNe96tECYcb",
        "colab_type": "code",
        "colab": {
          "base_uri": "https://localhost:8080/",
          "height": 601
        },
        "outputId": "8337661e-da4d-41b9-ce74-fbcbb785c126"
      },
      "source": [
        "query = \"\"\"\n",
        "select * except (time)\n",
        "from `bigquery-public-data.hacker_news.stories` \n",
        "where REGEXP_CONTAINS(title, r\"(S|s)how HN\") \n",
        "order by time desc limit 5;\n",
        "\n",
        "\"\"\"\n",
        "\n",
        "query_job = client.query(query)\n",
        "\n",
        "iterator = query_job.result(timeout=30)\n",
        "rows = list(iterator)\n",
        "\n",
        "stories = pd.DataFrame(data=[list(x.values()) for x in rows], columns=list(rows[0].keys()))\n",
        "\n",
        "stories.head()"
      ],
      "execution_count": 13,
      "outputs": [
        {
          "output_type": "execute_result",
          "data": {
            "text/html": [
              "<div>\n",
              "<style scoped>\n",
              "    .dataframe tbody tr th:only-of-type {\n",
              "        vertical-align: middle;\n",
              "    }\n",
              "\n",
              "    .dataframe tbody tr th {\n",
              "        vertical-align: top;\n",
              "    }\n",
              "\n",
              "    .dataframe thead th {\n",
              "        text-align: right;\n",
              "    }\n",
              "</style>\n",
              "<table border=\"1\" class=\"dataframe\">\n",
              "  <thead>\n",
              "    <tr style=\"text-align: right;\">\n",
              "      <th></th>\n",
              "      <th>id</th>\n",
              "      <th>by</th>\n",
              "      <th>score</th>\n",
              "      <th>time_ts</th>\n",
              "      <th>title</th>\n",
              "      <th>url</th>\n",
              "      <th>text</th>\n",
              "      <th>deleted</th>\n",
              "      <th>dead</th>\n",
              "      <th>descendants</th>\n",
              "      <th>author</th>\n",
              "    </tr>\n",
              "  </thead>\n",
              "  <tbody>\n",
              "    <tr>\n",
              "      <th>0</th>\n",
              "      <td>10378910</td>\n",
              "      <td>achillean</td>\n",
              "      <td>3</td>\n",
              "      <td>2015-10-13 06:53:28+00:00</td>\n",
              "      <td>Show HN: Interactive Maps for IoT Search Engin...</td>\n",
              "      <td>https://maps.shodan.io/#36.421282443649496/-99...</td>\n",
              "      <td>None</td>\n",
              "      <td>None</td>\n",
              "      <td>None</td>\n",
              "      <td>0</td>\n",
              "      <td>achillean</td>\n",
              "    </tr>\n",
              "    <tr>\n",
              "      <th>1</th>\n",
              "      <td>10378770</td>\n",
              "      <td>LightMachine</td>\n",
              "      <td>11</td>\n",
              "      <td>2015-10-13 06:05:14+00:00</td>\n",
              "      <td>Show HN: LJSON: JSON extended with pure functions</td>\n",
              "      <td>https://github.com/MaiaVictor/LJSON</td>\n",
              "      <td>None</td>\n",
              "      <td>None</td>\n",
              "      <td>None</td>\n",
              "      <td>2</td>\n",
              "      <td>LightMachine</td>\n",
              "    </tr>\n",
              "    <tr>\n",
              "      <th>2</th>\n",
              "      <td>10378710</td>\n",
              "      <td>abhi1304</td>\n",
              "      <td>2</td>\n",
              "      <td>2015-10-13 05:36:31+00:00</td>\n",
              "      <td>Show HN: AI/NLP based Grammar App for students...</td>\n",
              "      <td>http://nounshoun.com</td>\n",
              "      <td>None</td>\n",
              "      <td>None</td>\n",
              "      <td>None</td>\n",
              "      <td>0</td>\n",
              "      <td>abhi1304</td>\n",
              "    </tr>\n",
              "    <tr>\n",
              "      <th>3</th>\n",
              "      <td>10378502</td>\n",
              "      <td>mbeg</td>\n",
              "      <td>2</td>\n",
              "      <td>2015-10-13 04:07:36+00:00</td>\n",
              "      <td>Show HN: VirtuBroker – Sell your home with a v...</td>\n",
              "      <td>http://www.virtubroker.com/</td>\n",
              "      <td>None</td>\n",
              "      <td>None</td>\n",
              "      <td>None</td>\n",
              "      <td>1</td>\n",
              "      <td>mbeg</td>\n",
              "    </tr>\n",
              "    <tr>\n",
              "      <th>4</th>\n",
              "      <td>10378240</td>\n",
              "      <td>kiboapp</td>\n",
              "      <td>2</td>\n",
              "      <td>2015-10-13 02:34:22+00:00</td>\n",
              "      <td>Show HN: iOS App Lets You Hide Messages in You...</td>\n",
              "      <td>http://techcrunch.com/2015/10/10/kibo-ios-app-...</td>\n",
              "      <td>None</td>\n",
              "      <td>None</td>\n",
              "      <td>None</td>\n",
              "      <td>0</td>\n",
              "      <td>kiboapp</td>\n",
              "    </tr>\n",
              "  </tbody>\n",
              "</table>\n",
              "</div>"
            ],
            "text/plain": [
              "         id            by  score  ...  dead descendants        author\n",
              "0  10378910     achillean      3  ...  None           0     achillean\n",
              "1  10378770  LightMachine     11  ...  None           2  LightMachine\n",
              "2  10378710      abhi1304      2  ...  None           0      abhi1304\n",
              "3  10378502          mbeg      2  ...  None           1          mbeg\n",
              "4  10378240       kiboapp      2  ...  None           0       kiboapp\n",
              "\n",
              "[5 rows x 11 columns]"
            ]
          },
          "metadata": {
            "tags": []
          },
          "execution_count": 13
        }
      ]
    },
    {
      "cell_type": "markdown",
      "metadata": {
        "id": "UgeWL91CCjX8",
        "colab_type": "text"
      },
      "source": [
        "The stories table also has data only until 2015"
      ]
    },
    {
      "cell_type": "code",
      "metadata": {
        "id": "7JBGxveYCB_G",
        "colab_type": "code",
        "colab": {
          "base_uri": "https://localhost:8080/",
          "height": 193
        },
        "outputId": "25fb2d68-b01f-4fe7-9d03-76567599fd14"
      },
      "source": [
        "query = \"\"\"\n",
        "select * except (time)\n",
        "from `bigquery-public-data.hacker_news.full` \n",
        "where type = 'comment'\n",
        "order by time desc limit 3\n",
        "\"\"\"\n",
        "\n",
        "query_job = client.query(query)\n",
        "\n",
        "iterator = query_job.result(timeout=30)\n",
        "rows = list(iterator)\n",
        "\n",
        "headlines = pd.DataFrame(data=[list(x.values()) for x in rows], columns=list(rows[0].keys()))\n",
        "\n",
        "headlines.head(3)"
      ],
      "execution_count": 16,
      "outputs": [
        {
          "output_type": "execute_result",
          "data": {
            "text/html": [
              "<div>\n",
              "<style scoped>\n",
              "    .dataframe tbody tr th:only-of-type {\n",
              "        vertical-align: middle;\n",
              "    }\n",
              "\n",
              "    .dataframe tbody tr th {\n",
              "        vertical-align: top;\n",
              "    }\n",
              "\n",
              "    .dataframe thead th {\n",
              "        text-align: right;\n",
              "    }\n",
              "</style>\n",
              "<table border=\"1\" class=\"dataframe\">\n",
              "  <thead>\n",
              "    <tr style=\"text-align: right;\">\n",
              "      <th></th>\n",
              "      <th>title</th>\n",
              "      <th>url</th>\n",
              "      <th>text</th>\n",
              "      <th>dead</th>\n",
              "      <th>by</th>\n",
              "      <th>score</th>\n",
              "      <th>timestamp</th>\n",
              "      <th>type</th>\n",
              "      <th>id</th>\n",
              "      <th>parent</th>\n",
              "      <th>descendants</th>\n",
              "      <th>ranking</th>\n",
              "      <th>deleted</th>\n",
              "    </tr>\n",
              "  </thead>\n",
              "  <tbody>\n",
              "    <tr>\n",
              "      <th>0</th>\n",
              "      <td>None</td>\n",
              "      <td>None</td>\n",
              "      <td>That&amp;#x27;s correct. Moreover, it&amp;#x27;s only ...</td>\n",
              "      <td>None</td>\n",
              "      <td>littlestymaar</td>\n",
              "      <td>None</td>\n",
              "      <td>2019-12-08 09:58:24+00:00</td>\n",
              "      <td>comment</td>\n",
              "      <td>21735153</td>\n",
              "      <td>21735081</td>\n",
              "      <td>None</td>\n",
              "      <td>None</td>\n",
              "      <td>None</td>\n",
              "    </tr>\n",
              "    <tr>\n",
              "      <th>1</th>\n",
              "      <td>None</td>\n",
              "      <td>None</td>\n",
              "      <td>I created Pion WebRTC so I am biased, but thes...</td>\n",
              "      <td>None</td>\n",
              "      <td>Sean-Der</td>\n",
              "      <td>None</td>\n",
              "      <td>2019-12-08 09:58:14+00:00</td>\n",
              "      <td>comment</td>\n",
              "      <td>21735152</td>\n",
              "      <td>21731518</td>\n",
              "      <td>None</td>\n",
              "      <td>None</td>\n",
              "      <td>None</td>\n",
              "    </tr>\n",
              "    <tr>\n",
              "      <th>2</th>\n",
              "      <td>None</td>\n",
              "      <td>None</td>\n",
              "      <td>Reshared: &lt;a href=\"https:&amp;#x2F;&amp;#x2F;news.ycom...</td>\n",
              "      <td>None</td>\n",
              "      <td>gitrebase</td>\n",
              "      <td>None</td>\n",
              "      <td>2019-12-08 09:57:23+00:00</td>\n",
              "      <td>comment</td>\n",
              "      <td>21735151</td>\n",
              "      <td>21734690</td>\n",
              "      <td>None</td>\n",
              "      <td>None</td>\n",
              "      <td>None</td>\n",
              "    </tr>\n",
              "  </tbody>\n",
              "</table>\n",
              "</div>"
            ],
            "text/plain": [
              "  title   url  ... ranking deleted\n",
              "0  None  None  ...    None    None\n",
              "1  None  None  ...    None    None\n",
              "2  None  None  ...    None    None\n",
              "\n",
              "[3 rows x 13 columns]"
            ]
          },
          "metadata": {
            "tags": []
          },
          "execution_count": 16
        }
      ]
    },
    {
      "cell_type": "code",
      "metadata": {
        "id": "_oQWIaFDDQLH",
        "colab_type": "code",
        "colab": {
          "base_uri": "https://localhost:8080/",
          "height": 386
        },
        "outputId": "9f5ec0d4-48af-48a4-a95c-e76cfa02f383"
      },
      "source": [
        "query = \"\"\"\n",
        "select * except (time)\n",
        "from `bigquery-public-data.hacker_news.full` \n",
        "where REGEXP_CONTAINS(title, r\"(S|s)how HN\")\n",
        "order by time desc --limit 3\n",
        "\"\"\"\n",
        "\n",
        "query_job = client.query(query)\n",
        "\n",
        "iterator = query_job.result(timeout=30)\n",
        "rows = list(iterator)\n",
        "\n",
        "headlines = pd.DataFrame(data=[list(x.values()) for x in rows], columns=list(rows[0].keys()))\n",
        "\n",
        "headlines.head(3)"
      ],
      "execution_count": 44,
      "outputs": [
        {
          "output_type": "execute_result",
          "data": {
            "text/html": [
              "<div>\n",
              "<style scoped>\n",
              "    .dataframe tbody tr th:only-of-type {\n",
              "        vertical-align: middle;\n",
              "    }\n",
              "\n",
              "    .dataframe tbody tr th {\n",
              "        vertical-align: top;\n",
              "    }\n",
              "\n",
              "    .dataframe thead th {\n",
              "        text-align: right;\n",
              "    }\n",
              "</style>\n",
              "<table border=\"1\" class=\"dataframe\">\n",
              "  <thead>\n",
              "    <tr style=\"text-align: right;\">\n",
              "      <th></th>\n",
              "      <th>title</th>\n",
              "      <th>url</th>\n",
              "      <th>text</th>\n",
              "      <th>dead</th>\n",
              "      <th>by</th>\n",
              "      <th>score</th>\n",
              "      <th>timestamp</th>\n",
              "      <th>type</th>\n",
              "      <th>id</th>\n",
              "      <th>parent</th>\n",
              "      <th>descendants</th>\n",
              "      <th>ranking</th>\n",
              "      <th>deleted</th>\n",
              "    </tr>\n",
              "  </thead>\n",
              "  <tbody>\n",
              "    <tr>\n",
              "      <th>0</th>\n",
              "      <td>Show HN: Concurrently Download and Arrange the...</td>\n",
              "      <td>https://github.com/rootVIII/go101doc</td>\n",
              "      <td>None</td>\n",
              "      <td>None</td>\n",
              "      <td>rootVIII</td>\n",
              "      <td>2</td>\n",
              "      <td>2019-12-08 07:25:47+00:00</td>\n",
              "      <td>story</td>\n",
              "      <td>21734753</td>\n",
              "      <td>None</td>\n",
              "      <td>0.0</td>\n",
              "      <td>None</td>\n",
              "      <td>None</td>\n",
              "    </tr>\n",
              "    <tr>\n",
              "      <th>1</th>\n",
              "      <td>Show HN: Unofficial .NET SDK for the Anki Vect...</td>\n",
              "      <td>https://github.com/codaris/Anki.Vector.SDK</td>\n",
              "      <td>None</td>\n",
              "      <td>None</td>\n",
              "      <td>wvenable</td>\n",
              "      <td>4</td>\n",
              "      <td>2019-12-08 05:11:23+00:00</td>\n",
              "      <td>story</td>\n",
              "      <td>21734437</td>\n",
              "      <td>None</td>\n",
              "      <td>2.0</td>\n",
              "      <td>None</td>\n",
              "      <td>None</td>\n",
              "    </tr>\n",
              "    <tr>\n",
              "      <th>2</th>\n",
              "      <td>Show HN: Work-in-Process, HR-AV Open-Source An...</td>\n",
              "      <td>https://github.com/zelon88/HR-AV</td>\n",
              "      <td>None</td>\n",
              "      <td>None</td>\n",
              "      <td>zelon88</td>\n",
              "      <td>2</td>\n",
              "      <td>2019-12-08 04:33:03+00:00</td>\n",
              "      <td>story</td>\n",
              "      <td>21734350</td>\n",
              "      <td>None</td>\n",
              "      <td>0.0</td>\n",
              "      <td>None</td>\n",
              "      <td>None</td>\n",
              "    </tr>\n",
              "  </tbody>\n",
              "</table>\n",
              "</div>"
            ],
            "text/plain": [
              "                                               title  ... deleted\n",
              "0  Show HN: Concurrently Download and Arrange the...  ...    None\n",
              "1  Show HN: Unofficial .NET SDK for the Anki Vect...  ...    None\n",
              "2  Show HN: Work-in-Process, HR-AV Open-Source An...  ...    None\n",
              "\n",
              "[3 rows x 13 columns]"
            ]
          },
          "metadata": {
            "tags": []
          },
          "execution_count": 44
        }
      ]
    },
    {
      "cell_type": "markdown",
      "metadata": {
        "id": "8Zdt1SyHCqTT",
        "colab_type": "text"
      },
      "source": [
        "The full table seems to have the most recent stories and comments"
      ]
    },
    {
      "cell_type": "markdown",
      "metadata": {
        "id": "MblT7ShxghsE",
        "colab_type": "text"
      },
      "source": [
        "Its determined to use the table 'full' to get comments and the story details\n",
        "\n",
        "\n",
        "Get total number of comments from the table "
      ]
    },
    {
      "cell_type": "code",
      "metadata": {
        "id": "ea_tRC6sga4M",
        "colab_type": "code",
        "outputId": "a49b0d56-3bbf-4e3a-d921-b19201ca3d08",
        "colab": {
          "base_uri": "https://localhost:8080/",
          "height": 52
        }
      },
      "source": [
        "query = \"\"\"\n",
        "select count(id) as total_comments\n",
        "from `bigquery-public-data.hacker_news.full` \n",
        "where type = 'comment' and  \n",
        "parent in (select id from `bigquery-public-data.hacker_news.full` where REGEXP_CONTAINS(title, r\"(S|s)how HN\"));\n",
        "\"\"\"\n",
        "query_job = client.query(query)\n",
        "iterator = query_job.result(timeout=30)\n",
        "rows = list(iterator)\n",
        "count = pd.DataFrame(data=[list(x.values()) for x in rows], columns=list(rows[0].keys()))\n",
        "\n",
        "print(count)\n",
        "#print(\"Total number of comments {}\".format(count.total_comments.values[0]))\n"
      ],
      "execution_count": 0,
      "outputs": [
        {
          "output_type": "stream",
          "text": [
            "   total_comments\n",
            "0          175711\n"
          ],
          "name": "stdout"
        }
      ]
    },
    {
      "cell_type": "markdown",
      "metadata": {
        "id": "HkjLhIve2yrm",
        "colab_type": "text"
      },
      "source": [
        "There are 175711 comments that we need to analyze"
      ]
    },
    {
      "cell_type": "code",
      "metadata": {
        "id": "2tQ7FmpX8S6n",
        "colab_type": "code",
        "colab": {}
      },
      "source": [
        "query = \"\"\"\n",
        "select  *\n",
        "from `bigquery-public-data.hacker_news.full` \n",
        "where type = 'comment' and  \n",
        "parent in (select id from `bigquery-public-data.hacker_news.full` where REGEXP_CONTAINS(title, r\"(S|s)how HN\"))\n",
        "order by parent;\n",
        "\"\"\"\n",
        "query_job = client.query(query)\n",
        "iterator = query_job.result(timeout=30)\n",
        "rows = list(iterator)\n",
        "\n",
        "# Transform the rows into a nice pandas dataframe\n",
        "comments = pd.DataFrame(data=[list(x.values()) for x in rows], columns=list(rows[0].keys()))\n",
        "#comments.head()"
      ],
      "execution_count": 0,
      "outputs": []
    },
    {
      "cell_type": "code",
      "metadata": {
        "id": "36gte8gYDs8c",
        "colab_type": "code",
        "colab": {
          "base_uri": "https://localhost:8080/",
          "height": 35
        },
        "outputId": "919f55ab-0156-4392-ddcb-e8bfc4e34cb8"
      },
      "source": [
        "comments.shape"
      ],
      "execution_count": 20,
      "outputs": [
        {
          "output_type": "execute_result",
          "data": {
            "text/plain": [
              "(181391, 14)"
            ]
          },
          "metadata": {
            "tags": []
          },
          "execution_count": 20
        }
      ]
    },
    {
      "cell_type": "code",
      "metadata": {
        "id": "_7UHYmocEQbL",
        "colab_type": "code",
        "colab": {
          "base_uri": "https://localhost:8080/",
          "height": 306
        },
        "outputId": "7426ce13-4069-4e64-a663-2460e8caccfa"
      },
      "source": [
        "comments.head()"
      ],
      "execution_count": 22,
      "outputs": [
        {
          "output_type": "execute_result",
          "data": {
            "text/html": [
              "<div>\n",
              "<style scoped>\n",
              "    .dataframe tbody tr th:only-of-type {\n",
              "        vertical-align: middle;\n",
              "    }\n",
              "\n",
              "    .dataframe tbody tr th {\n",
              "        vertical-align: top;\n",
              "    }\n",
              "\n",
              "    .dataframe thead th {\n",
              "        text-align: right;\n",
              "    }\n",
              "</style>\n",
              "<table border=\"1\" class=\"dataframe\">\n",
              "  <thead>\n",
              "    <tr style=\"text-align: right;\">\n",
              "      <th></th>\n",
              "      <th>title</th>\n",
              "      <th>url</th>\n",
              "      <th>text</th>\n",
              "      <th>dead</th>\n",
              "      <th>by</th>\n",
              "      <th>score</th>\n",
              "      <th>time</th>\n",
              "      <th>timestamp</th>\n",
              "      <th>type</th>\n",
              "      <th>id</th>\n",
              "      <th>parent</th>\n",
              "      <th>descendants</th>\n",
              "      <th>ranking</th>\n",
              "      <th>deleted</th>\n",
              "    </tr>\n",
              "  </thead>\n",
              "  <tbody>\n",
              "    <tr>\n",
              "      <th>0</th>\n",
              "      <td>None</td>\n",
              "      <td>None</td>\n",
              "      <td>I have a few comments for you guys about our d...</td>\n",
              "      <td>None</td>\n",
              "      <td>lbrandy</td>\n",
              "      <td>None</td>\n",
              "      <td>1236709075</td>\n",
              "      <td>2009-03-10 18:17:55+00:00</td>\n",
              "      <td>comment</td>\n",
              "      <td>510321</td>\n",
              "      <td>510264</td>\n",
              "      <td>None</td>\n",
              "      <td>None</td>\n",
              "      <td>None</td>\n",
              "    </tr>\n",
              "    <tr>\n",
              "      <th>1</th>\n",
              "      <td>None</td>\n",
              "      <td>None</td>\n",
              "      <td>This is amazing... although it needs some addi...</td>\n",
              "      <td>None</td>\n",
              "      <td>thepanister</td>\n",
              "      <td>None</td>\n",
              "      <td>1236729900</td>\n",
              "      <td>2009-03-11 00:05:00+00:00</td>\n",
              "      <td>comment</td>\n",
              "      <td>510977</td>\n",
              "      <td>510264</td>\n",
              "      <td>None</td>\n",
              "      <td>None</td>\n",
              "      <td>None</td>\n",
              "    </tr>\n",
              "    <tr>\n",
              "      <th>2</th>\n",
              "      <td>None</td>\n",
              "      <td>None</td>\n",
              "      <td>My first R&amp;#38;D project at my company when I ...</td>\n",
              "      <td>None</td>\n",
              "      <td>spydez</td>\n",
              "      <td>None</td>\n",
              "      <td>1236707807</td>\n",
              "      <td>2009-03-10 17:56:47+00:00</td>\n",
              "      <td>comment</td>\n",
              "      <td>510296</td>\n",
              "      <td>510264</td>\n",
              "      <td>None</td>\n",
              "      <td>None</td>\n",
              "      <td>None</td>\n",
              "    </tr>\n",
              "    <tr>\n",
              "      <th>3</th>\n",
              "      <td>None</td>\n",
              "      <td>None</td>\n",
              "      <td>&lt;i&gt;Sorry, we are experiencing a large volume o...</td>\n",
              "      <td>None</td>\n",
              "      <td>dkokelley</td>\n",
              "      <td>None</td>\n",
              "      <td>1236709329</td>\n",
              "      <td>2009-03-10 18:22:09+00:00</td>\n",
              "      <td>comment</td>\n",
              "      <td>510328</td>\n",
              "      <td>510264</td>\n",
              "      <td>None</td>\n",
              "      <td>None</td>\n",
              "      <td>None</td>\n",
              "    </tr>\n",
              "    <tr>\n",
              "      <th>4</th>\n",
              "      <td>None</td>\n",
              "      <td>None</td>\n",
              "      <td>Seems to work, good job.</td>\n",
              "      <td>None</td>\n",
              "      <td>vaksel</td>\n",
              "      <td>None</td>\n",
              "      <td>1236711305</td>\n",
              "      <td>2009-03-10 18:55:05+00:00</td>\n",
              "      <td>comment</td>\n",
              "      <td>510385</td>\n",
              "      <td>510264</td>\n",
              "      <td>None</td>\n",
              "      <td>None</td>\n",
              "      <td>None</td>\n",
              "    </tr>\n",
              "  </tbody>\n",
              "</table>\n",
              "</div>"
            ],
            "text/plain": [
              "  title   url  ... ranking deleted\n",
              "0  None  None  ...    None    None\n",
              "1  None  None  ...    None    None\n",
              "2  None  None  ...    None    None\n",
              "3  None  None  ...    None    None\n",
              "4  None  None  ...    None    None\n",
              "\n",
              "[5 rows x 14 columns]"
            ]
          },
          "metadata": {
            "tags": []
          },
          "execution_count": 22
        }
      ]
    },
    {
      "cell_type": "code",
      "metadata": {
        "id": "pD_hKRKBEVUE",
        "colab_type": "code",
        "colab": {}
      },
      "source": [
        "There are 181391 top level comments to analyse. May be we should restrict this analysis to one specific year"
      ],
      "execution_count": 0,
      "outputs": []
    },
    {
      "cell_type": "code",
      "metadata": {
        "id": "kHqeo1yVG5BG",
        "colab_type": "code",
        "colab": {
          "base_uri": "https://localhost:8080/",
          "height": 87
        },
        "outputId": "3318cef3-0b12-4431-dbe9-e8dfd8d3fbba"
      },
      "source": [
        "print(pd.DatetimeIndex(comments['timestamp']).year)"
      ],
      "execution_count": 36,
      "outputs": [
        {
          "output_type": "stream",
          "text": [
            "Int64Index([2009, 2009, 2009, 2009, 2009, 2009, 2009, 2009, 2009, 2009,\n",
            "            ...\n",
            "            2019, 2019, 2019, 2019, 2019, 2019, 2019, 2019, 2019, 2019],\n",
            "           dtype='int64', name='timestamp', length=181391)\n"
          ],
          "name": "stdout"
        }
      ]
    },
    {
      "cell_type": "code",
      "metadata": {
        "id": "XdFqvA-GEhzT",
        "colab_type": "code",
        "colab": {}
      },
      "source": [
        "comments['Year'] = pd.DatetimeIndex(comments['timestamp']).year"
      ],
      "execution_count": 0,
      "outputs": []
    },
    {
      "cell_type": "code",
      "metadata": {
        "id": "VdRelsBDHCe6",
        "colab_type": "code",
        "colab": {
          "base_uri": "https://localhost:8080/",
          "height": 245
        },
        "outputId": "fac32a81-8e86-4cf5-bc05-8486f83b292c"
      },
      "source": [
        "comments.head(3)"
      ],
      "execution_count": 39,
      "outputs": [
        {
          "output_type": "execute_result",
          "data": {
            "text/html": [
              "<div>\n",
              "<style scoped>\n",
              "    .dataframe tbody tr th:only-of-type {\n",
              "        vertical-align: middle;\n",
              "    }\n",
              "\n",
              "    .dataframe tbody tr th {\n",
              "        vertical-align: top;\n",
              "    }\n",
              "\n",
              "    .dataframe thead th {\n",
              "        text-align: right;\n",
              "    }\n",
              "</style>\n",
              "<table border=\"1\" class=\"dataframe\">\n",
              "  <thead>\n",
              "    <tr style=\"text-align: right;\">\n",
              "      <th></th>\n",
              "      <th>title</th>\n",
              "      <th>url</th>\n",
              "      <th>text</th>\n",
              "      <th>dead</th>\n",
              "      <th>by</th>\n",
              "      <th>score</th>\n",
              "      <th>time</th>\n",
              "      <th>timestamp</th>\n",
              "      <th>type</th>\n",
              "      <th>id</th>\n",
              "      <th>parent</th>\n",
              "      <th>descendants</th>\n",
              "      <th>ranking</th>\n",
              "      <th>deleted</th>\n",
              "      <th>Year</th>\n",
              "    </tr>\n",
              "  </thead>\n",
              "  <tbody>\n",
              "    <tr>\n",
              "      <th>0</th>\n",
              "      <td>None</td>\n",
              "      <td>None</td>\n",
              "      <td>I have a few comments for you guys about our d...</td>\n",
              "      <td>None</td>\n",
              "      <td>lbrandy</td>\n",
              "      <td>None</td>\n",
              "      <td>1236709075</td>\n",
              "      <td>2009-03-10 18:17:55+00:00</td>\n",
              "      <td>comment</td>\n",
              "      <td>510321</td>\n",
              "      <td>510264</td>\n",
              "      <td>None</td>\n",
              "      <td>None</td>\n",
              "      <td>None</td>\n",
              "      <td>2009</td>\n",
              "    </tr>\n",
              "    <tr>\n",
              "      <th>1</th>\n",
              "      <td>None</td>\n",
              "      <td>None</td>\n",
              "      <td>This is amazing... although it needs some addi...</td>\n",
              "      <td>None</td>\n",
              "      <td>thepanister</td>\n",
              "      <td>None</td>\n",
              "      <td>1236729900</td>\n",
              "      <td>2009-03-11 00:05:00+00:00</td>\n",
              "      <td>comment</td>\n",
              "      <td>510977</td>\n",
              "      <td>510264</td>\n",
              "      <td>None</td>\n",
              "      <td>None</td>\n",
              "      <td>None</td>\n",
              "      <td>2009</td>\n",
              "    </tr>\n",
              "    <tr>\n",
              "      <th>2</th>\n",
              "      <td>None</td>\n",
              "      <td>None</td>\n",
              "      <td>My first R&amp;#38;D project at my company when I ...</td>\n",
              "      <td>None</td>\n",
              "      <td>spydez</td>\n",
              "      <td>None</td>\n",
              "      <td>1236707807</td>\n",
              "      <td>2009-03-10 17:56:47+00:00</td>\n",
              "      <td>comment</td>\n",
              "      <td>510296</td>\n",
              "      <td>510264</td>\n",
              "      <td>None</td>\n",
              "      <td>None</td>\n",
              "      <td>None</td>\n",
              "      <td>2009</td>\n",
              "    </tr>\n",
              "  </tbody>\n",
              "</table>\n",
              "</div>"
            ],
            "text/plain": [
              "  title   url  ... deleted  Year\n",
              "0  None  None  ...    None  2009\n",
              "1  None  None  ...    None  2009\n",
              "2  None  None  ...    None  2009\n",
              "\n",
              "[3 rows x 15 columns]"
            ]
          },
          "metadata": {
            "tags": []
          },
          "execution_count": 39
        }
      ]
    },
    {
      "cell_type": "code",
      "metadata": {
        "id": "Sz3282IqHFry",
        "colab_type": "code",
        "colab": {
          "base_uri": "https://localhost:8080/",
          "height": 417
        },
        "outputId": "5f75b2d0-5f79-46b5-ddd3-72ab48586bd3"
      },
      "source": [
        "comments.groupby('Year').count()"
      ],
      "execution_count": 42,
      "outputs": [
        {
          "output_type": "execute_result",
          "data": {
            "text/html": [
              "<div>\n",
              "<style scoped>\n",
              "    .dataframe tbody tr th:only-of-type {\n",
              "        vertical-align: middle;\n",
              "    }\n",
              "\n",
              "    .dataframe tbody tr th {\n",
              "        vertical-align: top;\n",
              "    }\n",
              "\n",
              "    .dataframe thead th {\n",
              "        text-align: right;\n",
              "    }\n",
              "</style>\n",
              "<table border=\"1\" class=\"dataframe\">\n",
              "  <thead>\n",
              "    <tr style=\"text-align: right;\">\n",
              "      <th></th>\n",
              "      <th>title</th>\n",
              "      <th>url</th>\n",
              "      <th>text</th>\n",
              "      <th>dead</th>\n",
              "      <th>by</th>\n",
              "      <th>score</th>\n",
              "      <th>time</th>\n",
              "      <th>timestamp</th>\n",
              "      <th>type</th>\n",
              "      <th>id</th>\n",
              "      <th>parent</th>\n",
              "      <th>descendants</th>\n",
              "      <th>ranking</th>\n",
              "      <th>deleted</th>\n",
              "    </tr>\n",
              "    <tr>\n",
              "      <th>Year</th>\n",
              "      <th></th>\n",
              "      <th></th>\n",
              "      <th></th>\n",
              "      <th></th>\n",
              "      <th></th>\n",
              "      <th></th>\n",
              "      <th></th>\n",
              "      <th></th>\n",
              "      <th></th>\n",
              "      <th></th>\n",
              "      <th></th>\n",
              "      <th></th>\n",
              "      <th></th>\n",
              "      <th></th>\n",
              "    </tr>\n",
              "  </thead>\n",
              "  <tbody>\n",
              "    <tr>\n",
              "      <th>2009</th>\n",
              "      <td>0</td>\n",
              "      <td>0</td>\n",
              "      <td>26</td>\n",
              "      <td>1</td>\n",
              "      <td>26</td>\n",
              "      <td>0</td>\n",
              "      <td>26</td>\n",
              "      <td>26</td>\n",
              "      <td>26</td>\n",
              "      <td>26</td>\n",
              "      <td>26</td>\n",
              "      <td>0</td>\n",
              "      <td>0</td>\n",
              "      <td>0</td>\n",
              "    </tr>\n",
              "    <tr>\n",
              "      <th>2010</th>\n",
              "      <td>0</td>\n",
              "      <td>0</td>\n",
              "      <td>1632</td>\n",
              "      <td>17</td>\n",
              "      <td>1632</td>\n",
              "      <td>0</td>\n",
              "      <td>1666</td>\n",
              "      <td>1666</td>\n",
              "      <td>1666</td>\n",
              "      <td>1666</td>\n",
              "      <td>1666</td>\n",
              "      <td>0</td>\n",
              "      <td>0</td>\n",
              "      <td>34</td>\n",
              "    </tr>\n",
              "    <tr>\n",
              "      <th>2011</th>\n",
              "      <td>0</td>\n",
              "      <td>0</td>\n",
              "      <td>11169</td>\n",
              "      <td>236</td>\n",
              "      <td>11169</td>\n",
              "      <td>0</td>\n",
              "      <td>11461</td>\n",
              "      <td>11461</td>\n",
              "      <td>11461</td>\n",
              "      <td>11461</td>\n",
              "      <td>11461</td>\n",
              "      <td>0</td>\n",
              "      <td>0</td>\n",
              "      <td>292</td>\n",
              "    </tr>\n",
              "    <tr>\n",
              "      <th>2012</th>\n",
              "      <td>0</td>\n",
              "      <td>0</td>\n",
              "      <td>19185</td>\n",
              "      <td>444</td>\n",
              "      <td>19185</td>\n",
              "      <td>0</td>\n",
              "      <td>19650</td>\n",
              "      <td>19650</td>\n",
              "      <td>19650</td>\n",
              "      <td>19650</td>\n",
              "      <td>19650</td>\n",
              "      <td>0</td>\n",
              "      <td>0</td>\n",
              "      <td>465</td>\n",
              "    </tr>\n",
              "    <tr>\n",
              "      <th>2013</th>\n",
              "      <td>0</td>\n",
              "      <td>0</td>\n",
              "      <td>20894</td>\n",
              "      <td>486</td>\n",
              "      <td>20895</td>\n",
              "      <td>0</td>\n",
              "      <td>21419</td>\n",
              "      <td>21419</td>\n",
              "      <td>21419</td>\n",
              "      <td>21419</td>\n",
              "      <td>21419</td>\n",
              "      <td>0</td>\n",
              "      <td>0</td>\n",
              "      <td>524</td>\n",
              "    </tr>\n",
              "    <tr>\n",
              "      <th>2014</th>\n",
              "      <td>0</td>\n",
              "      <td>0</td>\n",
              "      <td>23175</td>\n",
              "      <td>397</td>\n",
              "      <td>23177</td>\n",
              "      <td>0</td>\n",
              "      <td>23783</td>\n",
              "      <td>23783</td>\n",
              "      <td>23783</td>\n",
              "      <td>23783</td>\n",
              "      <td>23783</td>\n",
              "      <td>0</td>\n",
              "      <td>0</td>\n",
              "      <td>606</td>\n",
              "    </tr>\n",
              "    <tr>\n",
              "      <th>2015</th>\n",
              "      <td>0</td>\n",
              "      <td>0</td>\n",
              "      <td>20569</td>\n",
              "      <td>443</td>\n",
              "      <td>20571</td>\n",
              "      <td>0</td>\n",
              "      <td>21077</td>\n",
              "      <td>21077</td>\n",
              "      <td>21077</td>\n",
              "      <td>21077</td>\n",
              "      <td>21077</td>\n",
              "      <td>0</td>\n",
              "      <td>0</td>\n",
              "      <td>506</td>\n",
              "    </tr>\n",
              "    <tr>\n",
              "      <th>2016</th>\n",
              "      <td>0</td>\n",
              "      <td>0</td>\n",
              "      <td>19422</td>\n",
              "      <td>498</td>\n",
              "      <td>19423</td>\n",
              "      <td>0</td>\n",
              "      <td>20016</td>\n",
              "      <td>20016</td>\n",
              "      <td>20016</td>\n",
              "      <td>20016</td>\n",
              "      <td>20016</td>\n",
              "      <td>0</td>\n",
              "      <td>0</td>\n",
              "      <td>593</td>\n",
              "    </tr>\n",
              "    <tr>\n",
              "      <th>2017</th>\n",
              "      <td>0</td>\n",
              "      <td>0</td>\n",
              "      <td>20572</td>\n",
              "      <td>466</td>\n",
              "      <td>20574</td>\n",
              "      <td>0</td>\n",
              "      <td>21142</td>\n",
              "      <td>21142</td>\n",
              "      <td>21142</td>\n",
              "      <td>21142</td>\n",
              "      <td>21142</td>\n",
              "      <td>0</td>\n",
              "      <td>0</td>\n",
              "      <td>568</td>\n",
              "    </tr>\n",
              "    <tr>\n",
              "      <th>2018</th>\n",
              "      <td>0</td>\n",
              "      <td>0</td>\n",
              "      <td>20214</td>\n",
              "      <td>553</td>\n",
              "      <td>20215</td>\n",
              "      <td>0</td>\n",
              "      <td>20691</td>\n",
              "      <td>20691</td>\n",
              "      <td>20691</td>\n",
              "      <td>20691</td>\n",
              "      <td>20691</td>\n",
              "      <td>0</td>\n",
              "      <td>0</td>\n",
              "      <td>476</td>\n",
              "    </tr>\n",
              "    <tr>\n",
              "      <th>2019</th>\n",
              "      <td>0</td>\n",
              "      <td>0</td>\n",
              "      <td>19916</td>\n",
              "      <td>583</td>\n",
              "      <td>19916</td>\n",
              "      <td>0</td>\n",
              "      <td>20460</td>\n",
              "      <td>20460</td>\n",
              "      <td>20460</td>\n",
              "      <td>20460</td>\n",
              "      <td>20460</td>\n",
              "      <td>0</td>\n",
              "      <td>0</td>\n",
              "      <td>544</td>\n",
              "    </tr>\n",
              "  </tbody>\n",
              "</table>\n",
              "</div>"
            ],
            "text/plain": [
              "      title  url   text  dead  ...  parent  descendants  ranking  deleted\n",
              "Year                           ...                                       \n",
              "2009      0    0     26     1  ...      26            0        0        0\n",
              "2010      0    0   1632    17  ...    1666            0        0       34\n",
              "2011      0    0  11169   236  ...   11461            0        0      292\n",
              "2012      0    0  19185   444  ...   19650            0        0      465\n",
              "2013      0    0  20894   486  ...   21419            0        0      524\n",
              "2014      0    0  23175   397  ...   23783            0        0      606\n",
              "2015      0    0  20569   443  ...   21077            0        0      506\n",
              "2016      0    0  19422   498  ...   20016            0        0      593\n",
              "2017      0    0  20572   466  ...   21142            0        0      568\n",
              "2018      0    0  20214   553  ...   20691            0        0      476\n",
              "2019      0    0  19916   583  ...   20460            0        0      544\n",
              "\n",
              "[11 rows x 14 columns]"
            ]
          },
          "metadata": {
            "tags": []
          },
          "execution_count": 42
        }
      ]
    },
    {
      "cell_type": "code",
      "metadata": {
        "id": "VtdQ4V55H1BE",
        "colab_type": "code",
        "colab": {
          "base_uri": "https://localhost:8080/",
          "height": 35
        },
        "outputId": "c94f2608-664e-462e-db5f-0425f0cbc721"
      },
      "source": [
        "headlines.shape"
      ],
      "execution_count": 45,
      "outputs": [
        {
          "output_type": "execute_result",
          "data": {
            "text/plain": [
              "(82665, 13)"
            ]
          },
          "metadata": {
            "tags": []
          },
          "execution_count": 45
        }
      ]
    },
    {
      "cell_type": "code",
      "metadata": {
        "id": "SebZI8XlHhCB",
        "colab_type": "code",
        "colab": {}
      },
      "source": [
        "headlines['Year'] = pd.DatetimeIndex(headlines['timestamp']).year"
      ],
      "execution_count": 0,
      "outputs": []
    },
    {
      "cell_type": "code",
      "metadata": {
        "id": "HKs7NQfbH9Ky",
        "colab_type": "code",
        "colab": {
          "base_uri": "https://localhost:8080/",
          "height": 417
        },
        "outputId": "61552863-0f0c-4bd7-ca0d-a71a660a94bf"
      },
      "source": [
        "headlines.groupby('Year').count()"
      ],
      "execution_count": 47,
      "outputs": [
        {
          "output_type": "execute_result",
          "data": {
            "text/html": [
              "<div>\n",
              "<style scoped>\n",
              "    .dataframe tbody tr th:only-of-type {\n",
              "        vertical-align: middle;\n",
              "    }\n",
              "\n",
              "    .dataframe tbody tr th {\n",
              "        vertical-align: top;\n",
              "    }\n",
              "\n",
              "    .dataframe thead th {\n",
              "        text-align: right;\n",
              "    }\n",
              "</style>\n",
              "<table border=\"1\" class=\"dataframe\">\n",
              "  <thead>\n",
              "    <tr style=\"text-align: right;\">\n",
              "      <th></th>\n",
              "      <th>title</th>\n",
              "      <th>url</th>\n",
              "      <th>text</th>\n",
              "      <th>dead</th>\n",
              "      <th>by</th>\n",
              "      <th>score</th>\n",
              "      <th>timestamp</th>\n",
              "      <th>type</th>\n",
              "      <th>id</th>\n",
              "      <th>parent</th>\n",
              "      <th>descendants</th>\n",
              "      <th>ranking</th>\n",
              "      <th>deleted</th>\n",
              "    </tr>\n",
              "    <tr>\n",
              "      <th>Year</th>\n",
              "      <th></th>\n",
              "      <th></th>\n",
              "      <th></th>\n",
              "      <th></th>\n",
              "      <th></th>\n",
              "      <th></th>\n",
              "      <th></th>\n",
              "      <th></th>\n",
              "      <th></th>\n",
              "      <th></th>\n",
              "      <th></th>\n",
              "      <th></th>\n",
              "      <th></th>\n",
              "    </tr>\n",
              "  </thead>\n",
              "  <tbody>\n",
              "    <tr>\n",
              "      <th>2009</th>\n",
              "      <td>8</td>\n",
              "      <td>7</td>\n",
              "      <td>2</td>\n",
              "      <td>0</td>\n",
              "      <td>8</td>\n",
              "      <td>8</td>\n",
              "      <td>8</td>\n",
              "      <td>8</td>\n",
              "      <td>8</td>\n",
              "      <td>0</td>\n",
              "      <td>8</td>\n",
              "      <td>0</td>\n",
              "      <td>0</td>\n",
              "    </tr>\n",
              "    <tr>\n",
              "      <th>2010</th>\n",
              "      <td>400</td>\n",
              "      <td>262</td>\n",
              "      <td>169</td>\n",
              "      <td>26</td>\n",
              "      <td>400</td>\n",
              "      <td>400</td>\n",
              "      <td>400</td>\n",
              "      <td>400</td>\n",
              "      <td>400</td>\n",
              "      <td>0</td>\n",
              "      <td>400</td>\n",
              "      <td>0</td>\n",
              "      <td>0</td>\n",
              "    </tr>\n",
              "    <tr>\n",
              "      <th>2011</th>\n",
              "      <td>3252</td>\n",
              "      <td>2445</td>\n",
              "      <td>1053</td>\n",
              "      <td>247</td>\n",
              "      <td>3252</td>\n",
              "      <td>3252</td>\n",
              "      <td>3252</td>\n",
              "      <td>3252</td>\n",
              "      <td>3252</td>\n",
              "      <td>0</td>\n",
              "      <td>3252</td>\n",
              "      <td>0</td>\n",
              "      <td>0</td>\n",
              "    </tr>\n",
              "    <tr>\n",
              "      <th>2012</th>\n",
              "      <td>5937</td>\n",
              "      <td>5267</td>\n",
              "      <td>1031</td>\n",
              "      <td>333</td>\n",
              "      <td>5937</td>\n",
              "      <td>5937</td>\n",
              "      <td>5937</td>\n",
              "      <td>5937</td>\n",
              "      <td>5937</td>\n",
              "      <td>0</td>\n",
              "      <td>5934</td>\n",
              "      <td>0</td>\n",
              "      <td>0</td>\n",
              "    </tr>\n",
              "    <tr>\n",
              "      <th>2013</th>\n",
              "      <td>7549</td>\n",
              "      <td>6953</td>\n",
              "      <td>1047</td>\n",
              "      <td>305</td>\n",
              "      <td>7549</td>\n",
              "      <td>7549</td>\n",
              "      <td>7549</td>\n",
              "      <td>7549</td>\n",
              "      <td>7549</td>\n",
              "      <td>0</td>\n",
              "      <td>7467</td>\n",
              "      <td>0</td>\n",
              "      <td>0</td>\n",
              "    </tr>\n",
              "    <tr>\n",
              "      <th>2014</th>\n",
              "      <td>9666</td>\n",
              "      <td>9149</td>\n",
              "      <td>767</td>\n",
              "      <td>562</td>\n",
              "      <td>9666</td>\n",
              "      <td>9666</td>\n",
              "      <td>9666</td>\n",
              "      <td>9666</td>\n",
              "      <td>9666</td>\n",
              "      <td>0</td>\n",
              "      <td>9104</td>\n",
              "      <td>0</td>\n",
              "      <td>0</td>\n",
              "    </tr>\n",
              "    <tr>\n",
              "      <th>2015</th>\n",
              "      <td>11171</td>\n",
              "      <td>10728</td>\n",
              "      <td>498</td>\n",
              "      <td>831</td>\n",
              "      <td>11171</td>\n",
              "      <td>11171</td>\n",
              "      <td>11171</td>\n",
              "      <td>11171</td>\n",
              "      <td>11171</td>\n",
              "      <td>0</td>\n",
              "      <td>10339</td>\n",
              "      <td>0</td>\n",
              "      <td>0</td>\n",
              "    </tr>\n",
              "    <tr>\n",
              "      <th>2016</th>\n",
              "      <td>10750</td>\n",
              "      <td>10324</td>\n",
              "      <td>407</td>\n",
              "      <td>726</td>\n",
              "      <td>10750</td>\n",
              "      <td>10750</td>\n",
              "      <td>10750</td>\n",
              "      <td>10750</td>\n",
              "      <td>10750</td>\n",
              "      <td>0</td>\n",
              "      <td>10024</td>\n",
              "      <td>0</td>\n",
              "      <td>0</td>\n",
              "    </tr>\n",
              "    <tr>\n",
              "      <th>2017</th>\n",
              "      <td>11665</td>\n",
              "      <td>11114</td>\n",
              "      <td>528</td>\n",
              "      <td>844</td>\n",
              "      <td>11665</td>\n",
              "      <td>11665</td>\n",
              "      <td>11665</td>\n",
              "      <td>11665</td>\n",
              "      <td>11665</td>\n",
              "      <td>0</td>\n",
              "      <td>10821</td>\n",
              "      <td>0</td>\n",
              "      <td>0</td>\n",
              "    </tr>\n",
              "    <tr>\n",
              "      <th>2018</th>\n",
              "      <td>11195</td>\n",
              "      <td>10498</td>\n",
              "      <td>683</td>\n",
              "      <td>965</td>\n",
              "      <td>11195</td>\n",
              "      <td>11195</td>\n",
              "      <td>11195</td>\n",
              "      <td>11195</td>\n",
              "      <td>11195</td>\n",
              "      <td>0</td>\n",
              "      <td>10231</td>\n",
              "      <td>0</td>\n",
              "      <td>0</td>\n",
              "    </tr>\n",
              "    <tr>\n",
              "      <th>2019</th>\n",
              "      <td>11072</td>\n",
              "      <td>10335</td>\n",
              "      <td>719</td>\n",
              "      <td>934</td>\n",
              "      <td>11072</td>\n",
              "      <td>11072</td>\n",
              "      <td>11072</td>\n",
              "      <td>11072</td>\n",
              "      <td>11072</td>\n",
              "      <td>0</td>\n",
              "      <td>10139</td>\n",
              "      <td>0</td>\n",
              "      <td>0</td>\n",
              "    </tr>\n",
              "  </tbody>\n",
              "</table>\n",
              "</div>"
            ],
            "text/plain": [
              "      title    url  text  dead  ...  parent  descendants  ranking  deleted\n",
              "Year                            ...                                       \n",
              "2009      8      7     2     0  ...       0            8        0        0\n",
              "2010    400    262   169    26  ...       0          400        0        0\n",
              "2011   3252   2445  1053   247  ...       0         3252        0        0\n",
              "2012   5937   5267  1031   333  ...       0         5934        0        0\n",
              "2013   7549   6953  1047   305  ...       0         7467        0        0\n",
              "2014   9666   9149   767   562  ...       0         9104        0        0\n",
              "2015  11171  10728   498   831  ...       0        10339        0        0\n",
              "2016  10750  10324   407   726  ...       0        10024        0        0\n",
              "2017  11665  11114   528   844  ...       0        10821        0        0\n",
              "2018  11195  10498   683   965  ...       0        10231        0        0\n",
              "2019  11072  10335   719   934  ...       0        10139        0        0\n",
              "\n",
              "[11 rows x 13 columns]"
            ]
          },
          "metadata": {
            "tags": []
          },
          "execution_count": 47
        }
      ]
    },
    {
      "cell_type": "markdown",
      "metadata": {
        "id": "0cPsr5i9IRME",
        "colab_type": "text"
      },
      "source": [
        "Lets check stories from 2017"
      ]
    },
    {
      "cell_type": "code",
      "metadata": {
        "colab_type": "code",
        "outputId": "108e8b5b-25b9-436e-edad-1b43d1b439d1",
        "id": "O_DVhyomIWpa",
        "colab": {
          "base_uri": "https://localhost:8080/",
          "height": 35
        }
      },
      "source": [
        "query = \"\"\"\n",
        "SELECT *\n",
        "FROM `bigquery-public-data.hacker_news.full`\n",
        "where REGEXP_CONTAINS(title, r\"(S|s)how HN\") and EXTRACT(YEAR FROM timestamp)=2017\n",
        "\"\"\"\n",
        "\n",
        "query_job = client.query(query)\n",
        "iterator = query_job.result(timeout=30)\n",
        "rows = list(iterator)\n",
        "\n",
        "# Transform the rows into a nice pandas dataframe\n",
        "stories_2017 = pd.DataFrame(data=[list(x.values()) for x in rows], columns=list(rows[0].keys()))\n",
        "stories_2017.fillna(0, inplace=True)\n",
        "# Look at the first 10 stories\n",
        "stories_2017.shape"
      ],
      "execution_count": 50,
      "outputs": [
        {
          "output_type": "execute_result",
          "data": {
            "text/plain": [
              "(11665, 14)"
            ]
          },
          "metadata": {
            "tags": []
          },
          "execution_count": 50
        }
      ]
    },
    {
      "cell_type": "code",
      "metadata": {
        "id": "x7CjqPYNNbs7",
        "colab_type": "code",
        "colab": {}
      },
      "source": [
        "stories_2017.head"
      ],
      "execution_count": 0,
      "outputs": []
    },
    {
      "cell_type": "markdown",
      "metadata": {
        "id": "jvNY3Smg_9-m",
        "colab_type": "text"
      },
      "source": [
        "Lets find the stories with maximum comments "
      ]
    },
    {
      "cell_type": "code",
      "metadata": {
        "id": "X1uJpuWkNfZV",
        "colab_type": "code",
        "colab": {
          "base_uri": "https://localhost:8080/",
          "height": 35
        },
        "outputId": "d8a89e52-f9a0-4324-e93c-1207423da9ff"
      },
      "source": [
        "stories_2017.descendants.max()"
      ],
      "execution_count": 51,
      "outputs": [
        {
          "output_type": "execute_result",
          "data": {
            "text/plain": [
              "567.0"
            ]
          },
          "metadata": {
            "tags": []
          },
          "execution_count": 51
        }
      ]
    },
    {
      "cell_type": "code",
      "metadata": {
        "id": "iLnK8hA1NlVC",
        "colab_type": "code",
        "colab": {
          "base_uri": "https://localhost:8080/",
          "height": 35
        },
        "outputId": "d82859a0-3caf-42a7-b45c-efeb4740e7f1"
      },
      "source": [
        "stories_2017.descendants.mean()"
      ],
      "execution_count": 52,
      "outputs": [
        {
          "output_type": "execute_result",
          "data": {
            "text/plain": [
              "5.134333476210887"
            ]
          },
          "metadata": {
            "tags": []
          },
          "execution_count": 52
        }
      ]
    },
    {
      "cell_type": "code",
      "metadata": {
        "id": "TxTVJoBkNqY_",
        "colab_type": "code",
        "colab": {
          "base_uri": "https://localhost:8080/",
          "height": 35
        },
        "outputId": "ad1687f6-c6bc-47b2-f2e8-23b0145d691f"
      },
      "source": [
        "stories_2017.descendants.min()"
      ],
      "execution_count": 53,
      "outputs": [
        {
          "output_type": "execute_result",
          "data": {
            "text/plain": [
              "0.0"
            ]
          },
          "metadata": {
            "tags": []
          },
          "execution_count": 53
        }
      ]
    },
    {
      "cell_type": "code",
      "metadata": {
        "id": "nSGFBHKvODhh",
        "colab_type": "code",
        "colab": {
          "base_uri": "https://localhost:8080/",
          "height": 173
        },
        "outputId": "6c87a980-a47c-4471-a903-ff27b3f65608"
      },
      "source": [
        "stories_2017.descendants.describe()"
      ],
      "execution_count": 55,
      "outputs": [
        {
          "output_type": "execute_result",
          "data": {
            "text/plain": [
              "count    11665.000000\n",
              "mean         5.134333\n",
              "std         19.895450\n",
              "min          0.000000\n",
              "25%          0.000000\n",
              "50%          0.000000\n",
              "75%          2.000000\n",
              "max        567.000000\n",
              "Name: descendants, dtype: float64"
            ]
          },
          "metadata": {
            "tags": []
          },
          "execution_count": 55
        }
      ]
    },
    {
      "cell_type": "code",
      "metadata": {
        "id": "jIxZOjH4OY8U",
        "colab_type": "code",
        "colab": {
          "base_uri": "https://localhost:8080/",
          "height": 173
        },
        "outputId": "49fc6ce2-028d-4649-c875-92537f47c3e1"
      },
      "source": [
        "stories_2017.score.describe()"
      ],
      "execution_count": 56,
      "outputs": [
        {
          "output_type": "execute_result",
          "data": {
            "text/plain": [
              "count    11665.000000\n",
              "mean        14.956622\n",
              "std         53.713074\n",
              "min          0.000000\n",
              "25%          1.000000\n",
              "50%          3.000000\n",
              "75%          6.000000\n",
              "max       1535.000000\n",
              "Name: score, dtype: float64"
            ]
          },
          "metadata": {
            "tags": []
          },
          "execution_count": 56
        }
      ]
    },
    {
      "cell_type": "code",
      "metadata": {
        "id": "LTamXdxxOc-6",
        "colab_type": "code",
        "colab": {}
      },
      "source": [
        "stories_2017_top = stories_2017.loc[stories_2017['score']>=750]"
      ],
      "execution_count": 0,
      "outputs": []
    },
    {
      "cell_type": "code",
      "metadata": {
        "id": "ZGjsbypKOnii",
        "colab_type": "code",
        "colab": {
          "base_uri": "https://localhost:8080/",
          "height": 35
        },
        "outputId": "aaa98262-74aa-4843-b98d-952f38239d5f"
      },
      "source": [
        "stories_2017_top.shape"
      ],
      "execution_count": 62,
      "outputs": [
        {
          "output_type": "execute_result",
          "data": {
            "text/plain": [
              "(8, 14)"
            ]
          },
          "metadata": {
            "tags": []
          },
          "execution_count": 62
        }
      ]
    },
    {
      "cell_type": "code",
      "metadata": {
        "id": "zrFHj3zmOqkq",
        "colab_type": "code",
        "colab": {
          "base_uri": "https://localhost:8080/",
          "height": 903
        },
        "outputId": "793211aa-dbd5-4c3f-cb88-320c9826588b"
      },
      "source": [
        "stories_2017_top.head(8)"
      ],
      "execution_count": 63,
      "outputs": [
        {
          "output_type": "execute_result",
          "data": {
            "text/html": [
              "<div>\n",
              "<style scoped>\n",
              "    .dataframe tbody tr th:only-of-type {\n",
              "        vertical-align: middle;\n",
              "    }\n",
              "\n",
              "    .dataframe tbody tr th {\n",
              "        vertical-align: top;\n",
              "    }\n",
              "\n",
              "    .dataframe thead th {\n",
              "        text-align: right;\n",
              "    }\n",
              "</style>\n",
              "<table border=\"1\" class=\"dataframe\">\n",
              "  <thead>\n",
              "    <tr style=\"text-align: right;\">\n",
              "      <th></th>\n",
              "      <th>title</th>\n",
              "      <th>url</th>\n",
              "      <th>text</th>\n",
              "      <th>dead</th>\n",
              "      <th>by</th>\n",
              "      <th>score</th>\n",
              "      <th>time</th>\n",
              "      <th>timestamp</th>\n",
              "      <th>type</th>\n",
              "      <th>id</th>\n",
              "      <th>parent</th>\n",
              "      <th>descendants</th>\n",
              "      <th>ranking</th>\n",
              "      <th>deleted</th>\n",
              "    </tr>\n",
              "  </thead>\n",
              "  <tbody>\n",
              "    <tr>\n",
              "      <th>76</th>\n",
              "      <td>Show HN: Airmash – Multiplayer Missile Warfare...</td>\n",
              "      <td>https://airma.sh/</td>\n",
              "      <td>0</td>\n",
              "      <td>0</td>\n",
              "      <td>fivesigma</td>\n",
              "      <td>1535</td>\n",
              "      <td>1512922996</td>\n",
              "      <td>2017-12-10 16:23:16+00:00</td>\n",
              "      <td>story</td>\n",
              "      <td>15892066</td>\n",
              "      <td>0</td>\n",
              "      <td>304.0</td>\n",
              "      <td>0</td>\n",
              "      <td>0</td>\n",
              "    </tr>\n",
              "    <tr>\n",
              "      <th>77</th>\n",
              "      <td>Show HN: Is the stock market going to crash?</td>\n",
              "      <td>https://isthestockmarketgoingtocrash.com/</td>\n",
              "      <td>0</td>\n",
              "      <td>0</td>\n",
              "      <td>truffle_pig</td>\n",
              "      <td>813</td>\n",
              "      <td>1502113503</td>\n",
              "      <td>2017-08-07 13:45:03+00:00</td>\n",
              "      <td>story</td>\n",
              "      <td>14947361</td>\n",
              "      <td>0</td>\n",
              "      <td>325.0</td>\n",
              "      <td>0</td>\n",
              "      <td>0</td>\n",
              "    </tr>\n",
              "    <tr>\n",
              "      <th>275</th>\n",
              "      <td>Show HN: Monica, an open-source CRM to manage ...</td>\n",
              "      <td>https://monicahq.com</td>\n",
              "      <td>0</td>\n",
              "      <td>0</td>\n",
              "      <td>robinhood</td>\n",
              "      <td>1097</td>\n",
              "      <td>1496758065</td>\n",
              "      <td>2017-06-06 14:07:45+00:00</td>\n",
              "      <td>story</td>\n",
              "      <td>14497295</td>\n",
              "      <td>0</td>\n",
              "      <td>567.0</td>\n",
              "      <td>0</td>\n",
              "      <td>0</td>\n",
              "    </tr>\n",
              "    <tr>\n",
              "      <th>296</th>\n",
              "      <td>Show HN: Get Paid to Build Your Next Side Project</td>\n",
              "      <td>https://www.demandrush.com</td>\n",
              "      <td>0</td>\n",
              "      <td>0</td>\n",
              "      <td>hackerews</td>\n",
              "      <td>1100</td>\n",
              "      <td>1497447820</td>\n",
              "      <td>2017-06-14 13:43:40+00:00</td>\n",
              "      <td>story</td>\n",
              "      <td>14552615</td>\n",
              "      <td>0</td>\n",
              "      <td>451.0</td>\n",
              "      <td>0</td>\n",
              "      <td>0</td>\n",
              "    </tr>\n",
              "    <tr>\n",
              "      <th>327</th>\n",
              "      <td>Show HN: Sorting Two Metric Tons of Lego</td>\n",
              "      <td>https://jacquesmattheij.com/sorting-two-metric...</td>\n",
              "      <td>0</td>\n",
              "      <td>0</td>\n",
              "      <td>jacquesm</td>\n",
              "      <td>1264</td>\n",
              "      <td>1493478784</td>\n",
              "      <td>2017-04-29 15:13:04+00:00</td>\n",
              "      <td>story</td>\n",
              "      <td>14226889</td>\n",
              "      <td>0</td>\n",
              "      <td>211.0</td>\n",
              "      <td>0</td>\n",
              "      <td>0</td>\n",
              "    </tr>\n",
              "    <tr>\n",
              "      <th>673</th>\n",
              "      <td>Show HN: Privacy-focused, ad-free, non-trackin...</td>\n",
              "      <td>https://www.skytorrents.in</td>\n",
              "      <td>0</td>\n",
              "      <td>0</td>\n",
              "      <td>kasumis_</td>\n",
              "      <td>1183</td>\n",
              "      <td>1484708480</td>\n",
              "      <td>2017-01-18 03:01:20+00:00</td>\n",
              "      <td>story</td>\n",
              "      <td>13423629</td>\n",
              "      <td>0</td>\n",
              "      <td>346.0</td>\n",
              "      <td>0</td>\n",
              "      <td>0</td>\n",
              "    </tr>\n",
              "    <tr>\n",
              "      <th>676</th>\n",
              "      <td>Show HN: A stop-motion video of an engine</td>\n",
              "      <td>https://www.howacarworks.com/engine</td>\n",
              "      <td>0</td>\n",
              "      <td>0</td>\n",
              "      <td>AlexMuir</td>\n",
              "      <td>845</td>\n",
              "      <td>1502795741</td>\n",
              "      <td>2017-08-15 11:15:41+00:00</td>\n",
              "      <td>story</td>\n",
              "      <td>15017126</td>\n",
              "      <td>0</td>\n",
              "      <td>188.0</td>\n",
              "      <td>0</td>\n",
              "      <td>0</td>\n",
              "    </tr>\n",
              "    <tr>\n",
              "      <th>1061</th>\n",
              "      <td>Show HN: Alacritty, a GPU-accelerated terminal...</td>\n",
              "      <td>http://blog.jwilm.io/announcing-alacritty/</td>\n",
              "      <td>0</td>\n",
              "      <td>0</td>\n",
              "      <td>jwilm</td>\n",
              "      <td>1170</td>\n",
              "      <td>1483726099</td>\n",
              "      <td>2017-01-06 18:08:19+00:00</td>\n",
              "      <td>story</td>\n",
              "      <td>13338592</td>\n",
              "      <td>0</td>\n",
              "      <td>476.0</td>\n",
              "      <td>0</td>\n",
              "      <td>0</td>\n",
              "    </tr>\n",
              "  </tbody>\n",
              "</table>\n",
              "</div>"
            ],
            "text/plain": [
              "                                                  title  ... deleted\n",
              "76    Show HN: Airmash – Multiplayer Missile Warfare...  ...       0\n",
              "77         Show HN: Is the stock market going to crash?  ...       0\n",
              "275   Show HN: Monica, an open-source CRM to manage ...  ...       0\n",
              "296   Show HN: Get Paid to Build Your Next Side Project  ...       0\n",
              "327            Show HN: Sorting Two Metric Tons of Lego  ...       0\n",
              "673   Show HN: Privacy-focused, ad-free, non-trackin...  ...       0\n",
              "676           Show HN: A stop-motion video of an engine  ...       0\n",
              "1061  Show HN: Alacritty, a GPU-accelerated terminal...  ...       0\n",
              "\n",
              "[8 rows x 14 columns]"
            ]
          },
          "metadata": {
            "tags": []
          },
          "execution_count": 63
        }
      ]
    },
    {
      "cell_type": "markdown",
      "metadata": {
        "id": "KnDl6444O40P",
        "colab_type": "text"
      },
      "source": [
        "The link https://airma.sh/ for the story with maximum score is dead\n",
        "The one by HackerNews https://www.demandrush.com is also dead"
      ]
    },
    {
      "cell_type": "code",
      "metadata": {
        "id": "kFAUflqZmBav",
        "colab_type": "code",
        "outputId": "b71bf906-2b9b-4289-a418-8bc63293fc82",
        "colab": {
          "base_uri": "https://localhost:8080/",
          "height": 487
        }
      },
      "source": [
        "stories_2017.sort_values(\"score\")[::-1][:20].plot(x=\"by\",y=[\"score\", \"descendants\"], \n",
        "                                                   kind=\"bar\",figsize=(14,6),\n",
        "                                                   title='Top users stats').set_ylabel(\"Score\")"
      ],
      "execution_count": 70,
      "outputs": [
        {
          "output_type": "execute_result",
          "data": {
            "text/plain": [
              "Text(0, 0.5, 'Score')"
            ]
          },
          "metadata": {
            "tags": []
          },
          "execution_count": 70
        },
        {
          "output_type": "display_data",
          "data": {
            "image/png": "[encoded data removed]",
            "text/plain": [
              "<Figure size 1008x432 with 1 Axes>"
            ]
          },
          "metadata": {
            "tags": []
          }
        }
      ]
    },
    {
      "cell_type": "code",
      "metadata": {
        "id": "WDJyMHOR48of",
        "colab_type": "code",
        "colab": {
          "base_uri": "https://localhost:8080/",
          "height": 487
        },
        "outputId": "6db28765-00ef-4131-f63f-bae5ce033e2d"
      },
      "source": [
        "stories_2017.sort_values(\"descendants\")[::-1][:20].plot(x=\"by\",y=[\"score\", \"descendants\"], \n",
        "                                                   kind=\"bar\",figsize=(14,6),\n",
        "                                                   title='Top users stats').set_ylabel(\"Score\")"
      ],
      "execution_count": 69,
      "outputs": [
        {
          "output_type": "execute_result",
          "data": {
            "text/plain": [
              "Text(0, 0.5, 'Score')"
            ]
          },
          "metadata": {
            "tags": []
          },
          "execution_count": 69
        },
        {
          "output_type": "display_data",
          "data": {
            "image/png": "[encoded data removed]",
            "text/plain": [
              "<Figure size 1008x432 with 1 Axes>"
            ]
          },
          "metadata": {
            "tags": []
          }
        }
      ]
    }
  ]
}