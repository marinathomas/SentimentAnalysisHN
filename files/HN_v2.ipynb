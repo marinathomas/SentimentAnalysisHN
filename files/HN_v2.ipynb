{
  "nbformat": 4,
  "nbformat_minor": 0,
  "metadata": {
    "colab": {
      "name": "HN_v2.ipynb",
      "provenance": [],
      "include_colab_link": true
    },
    "kernelspec": {
      "name": "python3",
      "display_name": "Python 3"
    }
  },
  "cells": [
    {
      "cell_type": "markdown",
      "metadata": {
        "id": "view-in-github",
        "colab_type": "text"
      },
      "source": [
        "<a href=\"https://colab.research.google.com/github/marinathomas/SentimentAnalysisHN/blob/master/files/HN_v2.ipynb\" target=\"_parent\"><img src=\"https://colab.research.google.com/assets/colab-badge.svg\" alt=\"Open In Colab\"/></a>"
      ]
    },
    {
      "cell_type": "code",
      "metadata": {
        "id": "SLaOkUZpf41e",
        "colab_type": "code",
        "outputId": "1a29da14-7a61-4a7c-a5cb-fa63aa78c485",
        "colab": {
          "base_uri": "https://localhost:8080/",
          "height": 124
        }
      },
      "source": [
        "from google.cloud import bigquery\n",
        "import pandas as pd\n",
        "import os\n",
        "\n",
        "from google.colab import drive\n",
        "drive.mount('/content/gdrive')"
      ],
      "execution_count": 1,
      "outputs": [
        {
          "output_type": "stream",
          "text": [
            "Go to this URL in a browser: https://accounts.google.com/o/oauth2/auth?client_id=947318989803-6bn6qk8qdgf4n4g3pfee6491hc0brc4i.apps.googleusercontent.com&redirect_uri=urn%3aietf%3awg%3aoauth%3a2.0%3aoob&response_type=code&scope=email%20https%3a%2f%2fwww.googleapis.com%2fauth%2fdocs.test%20https%3a%2f%2fwww.googleapis.com%2fauth%2fdrive%20https%3a%2f%2fwww.googleapis.com%2fauth%2fdrive.photos.readonly%20https%3a%2f%2fwww.googleapis.com%2fauth%2fpeopleapi.readonly\n",
            "\n",
            "Enter your authorization code:\n",
            "··········\n",
            "Mounted at /content/gdrive\n"
          ],
          "name": "stdout"
        }
      ]
    },
    {
      "cell_type": "code",
      "metadata": {
        "id": "FRuQdxr8pmaG",
        "colab_type": "code",
        "colab": {
          "base_uri": "https://localhost:8080/",
          "height": 35
        },
        "outputId": "181b7a0d-7749-4b8e-c5bc-02fe5dd4af1e"
      },
      "source": [
        "!pwd"
      ],
      "execution_count": 2,
      "outputs": [
        {
          "output_type": "stream",
          "text": [
            "/content\n"
          ],
          "name": "stdout"
        }
      ]
    },
    {
      "cell_type": "code",
      "metadata": {
        "id": "qMAzBou9pqz6",
        "colab_type": "code",
        "colab": {
          "base_uri": "https://localhost:8080/",
          "height": 35
        },
        "outputId": "8e2c8fff-864c-43aa-cec4-277d43d79c40"
      },
      "source": [
        "!ls"
      ],
      "execution_count": 3,
      "outputs": [
        {
          "output_type": "stream",
          "text": [
            "gdrive\tsample_data\n"
          ],
          "name": "stdout"
        }
      ]
    },
    {
      "cell_type": "code",
      "metadata": {
        "id": "BO-GQ9E8pvMT",
        "colab_type": "code",
        "colab": {
          "base_uri": "https://localhost:8080/",
          "height": 35
        },
        "outputId": "c6e6dbe1-9464-4095-9a17-d53b4d627404"
      },
      "source": [
        "!ls '/content/gdrive'"
      ],
      "execution_count": 4,
      "outputs": [
        {
          "output_type": "stream",
          "text": [
            "'My Drive'  'Shared drives'\n"
          ],
          "name": "stdout"
        }
      ]
    },
    {
      "cell_type": "code",
      "metadata": {
        "id": "CEs9jAPXp2GX",
        "colab_type": "code",
        "colab": {
          "base_uri": "https://localhost:8080/",
          "height": 35
        },
        "outputId": "71db405c-6460-4476-8113-56e4239577b5"
      },
      "source": [
        "!ls '/content/gdrive/Shared drives/HackerNews:SentimentAnalysis'"
      ],
      "execution_count": 6,
      "outputs": [
        {
          "output_type": "stream",
          "text": [
            "BigData-HackerNews-77d9fa1b02c1.json  HN_v2.ipynb\n"
          ],
          "name": "stdout"
        }
      ]
    },
    {
      "cell_type": "code",
      "metadata": {
        "id": "dVSgWjLLgF0E",
        "colab_type": "code",
        "colab": {}
      },
      "source": [
        "credential_path = \"/content/gdrive/Shared drives/HackerNews:SentimentAnalysis/BigData-HackerNews-77d9fa1b02c1.json\"\n",
        "os.environ['GOOGLE_APPLICATION_CREDENTIALS'] = credential_path"
      ],
      "execution_count": 0,
      "outputs": []
    },
    {
      "cell_type": "markdown",
      "metadata": {
        "id": "Y3GPA8d_gG70",
        "colab_type": "text"
      },
      "source": [
        "1. Load the BigQuery client\n",
        "2. Get a reference to HackerNews dataset\n",
        "3. Load the data set"
      ]
    },
    {
      "cell_type": "code",
      "metadata": {
        "id": "1i3BPczYgKOL",
        "colab_type": "code",
        "colab": {}
      },
      "source": [
        "client = bigquery.Client()\n",
        "hn_dataset_ref = client.dataset('hacker_news', project='bigquery-public-data')\n",
        "hn_dset = client.get_dataset(hn_dataset_ref)"
      ],
      "execution_count": 0,
      "outputs": []
    },
    {
      "cell_type": "markdown",
      "metadata": {
        "id": "MblT7ShxghsE",
        "colab_type": "text"
      },
      "source": [
        "From the previous notebook, it was identified to use the table 'full' to get comments and the story details\n",
        "\n",
        "\n",
        "Get total number of comments from the table "
      ]
    },
    {
      "cell_type": "code",
      "metadata": {
        "id": "ea_tRC6sga4M",
        "colab_type": "code",
        "outputId": "a49b0d56-3bbf-4e3a-d921-b19201ca3d08",
        "colab": {
          "base_uri": "https://localhost:8080/",
          "height": 52
        }
      },
      "source": [
        "query = \"\"\"\n",
        "select count(id) as total_comments\n",
        "from `bigquery-public-data.hacker_news.full` \n",
        "where type = 'comment' and  \n",
        "parent in (select id from `bigquery-public-data.hacker_news.full` where REGEXP_CONTAINS(title, r\"(S|s)how HN\"));\n",
        "\"\"\"\n",
        "query_job = client.query(query)\n",
        "iterator = query_job.result(timeout=30)\n",
        "rows = list(iterator)\n",
        "count = pd.DataFrame(data=[list(x.values()) for x in rows], columns=list(rows[0].keys()))\n",
        "\n",
        "print(count)\n",
        "#print(\"Total number of comments {}\".format(count.total_comments.values[0]))\n"
      ],
      "execution_count": 9,
      "outputs": [
        {
          "output_type": "stream",
          "text": [
            "   total_comments\n",
            "0          175711\n"
          ],
          "name": "stdout"
        }
      ]
    },
    {
      "cell_type": "markdown",
      "metadata": {
        "id": "HkjLhIve2yrm",
        "colab_type": "text"
      },
      "source": [
        "There are 175711 comments that we need to analyze"
      ]
    },
    {
      "cell_type": "code",
      "metadata": {
        "id": "2tQ7FmpX8S6n",
        "colab_type": "code",
        "outputId": "e8491980-fa5c-4a00-f6d8-cbc60593989b",
        "colab": {
          "base_uri": "https://localhost:8080/",
          "height": 323
        }
      },
      "source": [
        "query = \"\"\"\n",
        "select  *\n",
        "from `bigquery-public-data.hacker_news.full` \n",
        "where type = 'comment' and  \n",
        "parent in (select id from `bigquery-public-data.hacker_news.full` where REGEXP_CONTAINS(title, r\"(S|s)how HN\"))\n",
        "order by parent;\n",
        "\"\"\"\n",
        "query_job = client.query(query)\n",
        "iterator = query_job.result(timeout=30)\n",
        "rows = list(iterator)\n",
        "\n",
        "# Transform the rows into a nice pandas dataframe\n",
        "comments = pd.DataFrame(data=[list(x.values()) for x in rows], columns=list(rows[0].keys()))\n",
        "comments.head()"
      ],
      "execution_count": 10,
      "outputs": [
        {
          "output_type": "execute_result",
          "data": {
            "text/html": [
              "<div>\n",
              "<style scoped>\n",
              "    .dataframe tbody tr th:only-of-type {\n",
              "        vertical-align: middle;\n",
              "    }\n",
              "\n",
              "    .dataframe tbody tr th {\n",
              "        vertical-align: top;\n",
              "    }\n",
              "\n",
              "    .dataframe thead th {\n",
              "        text-align: right;\n",
              "    }\n",
              "</style>\n",
              "<table border=\"1\" class=\"dataframe\">\n",
              "  <thead>\n",
              "    <tr style=\"text-align: right;\">\n",
              "      <th></th>\n",
              "      <th>title</th>\n",
              "      <th>url</th>\n",
              "      <th>text</th>\n",
              "      <th>dead</th>\n",
              "      <th>by</th>\n",
              "      <th>score</th>\n",
              "      <th>time</th>\n",
              "      <th>timestamp</th>\n",
              "      <th>type</th>\n",
              "      <th>id</th>\n",
              "      <th>parent</th>\n",
              "      <th>descendants</th>\n",
              "      <th>ranking</th>\n",
              "      <th>deleted</th>\n",
              "    </tr>\n",
              "  </thead>\n",
              "  <tbody>\n",
              "    <tr>\n",
              "      <th>0</th>\n",
              "      <td>None</td>\n",
              "      <td>None</td>\n",
              "      <td>Michael Jackson vs. Jackson 5&lt;p&gt;&lt;a href=\"http:...</td>\n",
              "      <td>None</td>\n",
              "      <td>10ren</td>\n",
              "      <td>None</td>\n",
              "      <td>1236713869</td>\n",
              "      <td>2009-03-10 19:37:49+00:00</td>\n",
              "      <td>comment</td>\n",
              "      <td>510477</td>\n",
              "      <td>510264</td>\n",
              "      <td>None</td>\n",
              "      <td>None</td>\n",
              "      <td>None</td>\n",
              "    </tr>\n",
              "    <tr>\n",
              "      <th>1</th>\n",
              "      <td>None</td>\n",
              "      <td>None</td>\n",
              "      <td>&lt;i&gt;Sorry, we are experiencing a large volume o...</td>\n",
              "      <td>None</td>\n",
              "      <td>dkokelley</td>\n",
              "      <td>None</td>\n",
              "      <td>1236709329</td>\n",
              "      <td>2009-03-10 18:22:09+00:00</td>\n",
              "      <td>comment</td>\n",
              "      <td>510328</td>\n",
              "      <td>510264</td>\n",
              "      <td>None</td>\n",
              "      <td>None</td>\n",
              "      <td>None</td>\n",
              "    </tr>\n",
              "    <tr>\n",
              "      <th>2</th>\n",
              "      <td>None</td>\n",
              "      <td>None</td>\n",
              "      <td>My first R&amp;#38;D project at my company when I ...</td>\n",
              "      <td>None</td>\n",
              "      <td>spydez</td>\n",
              "      <td>None</td>\n",
              "      <td>1236707807</td>\n",
              "      <td>2009-03-10 17:56:47+00:00</td>\n",
              "      <td>comment</td>\n",
              "      <td>510296</td>\n",
              "      <td>510264</td>\n",
              "      <td>None</td>\n",
              "      <td>None</td>\n",
              "      <td>None</td>\n",
              "    </tr>\n",
              "    <tr>\n",
              "      <th>3</th>\n",
              "      <td>None</td>\n",
              "      <td>None</td>\n",
              "      <td>I have a few comments for you guys about our d...</td>\n",
              "      <td>None</td>\n",
              "      <td>lbrandy</td>\n",
              "      <td>None</td>\n",
              "      <td>1236709075</td>\n",
              "      <td>2009-03-10 18:17:55+00:00</td>\n",
              "      <td>comment</td>\n",
              "      <td>510321</td>\n",
              "      <td>510264</td>\n",
              "      <td>None</td>\n",
              "      <td>None</td>\n",
              "      <td>None</td>\n",
              "    </tr>\n",
              "    <tr>\n",
              "      <th>4</th>\n",
              "      <td>None</td>\n",
              "      <td>None</td>\n",
              "      <td>who else thought of this?&lt;p&gt;&lt;a href=\"http://ww...</td>\n",
              "      <td>None</td>\n",
              "      <td>allenbrunson</td>\n",
              "      <td>None</td>\n",
              "      <td>1236740952</td>\n",
              "      <td>2009-03-11 03:09:12+00:00</td>\n",
              "      <td>comment</td>\n",
              "      <td>511207</td>\n",
              "      <td>510264</td>\n",
              "      <td>None</td>\n",
              "      <td>None</td>\n",
              "      <td>None</td>\n",
              "    </tr>\n",
              "  </tbody>\n",
              "</table>\n",
              "</div>"
            ],
            "text/plain": [
              "  title   url  ... ranking deleted\n",
              "0  None  None  ...    None    None\n",
              "1  None  None  ...    None    None\n",
              "2  None  None  ...    None    None\n",
              "3  None  None  ...    None    None\n",
              "4  None  None  ...    None    None\n",
              "\n",
              "[5 rows x 14 columns]"
            ]
          },
          "metadata": {
            "tags": []
          },
          "execution_count": 10
        }
      ]
    },
    {
      "cell_type": "markdown",
      "metadata": {
        "id": "jvNY3Smg_9-m",
        "colab_type": "text"
      },
      "source": [
        "Lets find the stories with maximum comments etc"
      ]
    },
    {
      "cell_type": "code",
      "metadata": {
        "id": "jNV2dXWL_88M",
        "colab_type": "code",
        "outputId": "929b5602-7ec0-43a8-b0af-769c65206d65",
        "colab": {
          "base_uri": "https://localhost:8080/",
          "height": 79
        }
      },
      "source": [
        "query = \"\"\"\n",
        "SELECT MIN(descendants) as min_descendants, MAX(descendants) as max_descendants, AVG(descendants) as avg_descendants\n",
        "FROM `bigquery-public-data.hacker_news.full`\n",
        "where REGEXP_CONTAINS(title, r\"(S|s)how HN\")\n",
        "\"\"\"\n",
        "\n",
        "query_job = client.query(query)\n",
        "iterator = query_job.result(timeout=30)\n",
        "rows = list(iterator)\n",
        "\n",
        "# Transform the rows into a nice pandas dataframe\n",
        "unique_scores = pd.DataFrame(data=[list(x.values()) for x in rows], columns=list(rows[0].keys()))\n",
        "unique_scores.fillna(0, inplace=True)\n",
        "# Look at the first 10 top scores\n",
        "unique_scores.head()"
      ],
      "execution_count": 11,
      "outputs": [
        {
          "output_type": "execute_result",
          "data": {
            "text/html": [
              "<div>\n",
              "<style scoped>\n",
              "    .dataframe tbody tr th:only-of-type {\n",
              "        vertical-align: middle;\n",
              "    }\n",
              "\n",
              "    .dataframe tbody tr th {\n",
              "        vertical-align: top;\n",
              "    }\n",
              "\n",
              "    .dataframe thead th {\n",
              "        text-align: right;\n",
              "    }\n",
              "</style>\n",
              "<table border=\"1\" class=\"dataframe\">\n",
              "  <thead>\n",
              "    <tr style=\"text-align: right;\">\n",
              "      <th></th>\n",
              "      <th>min_descendants</th>\n",
              "      <th>max_descendants</th>\n",
              "      <th>avg_descendants</th>\n",
              "    </tr>\n",
              "  </thead>\n",
              "  <tbody>\n",
              "    <tr>\n",
              "      <th>0</th>\n",
              "      <td>-1</td>\n",
              "      <td>567</td>\n",
              "      <td>5.842551</td>\n",
              "    </tr>\n",
              "  </tbody>\n",
              "</table>\n",
              "</div>"
            ],
            "text/plain": [
              "   min_descendants  max_descendants  avg_descendants\n",
              "0               -1              567         5.842551"
            ]
          },
          "metadata": {
            "tags": []
          },
          "execution_count": 11
        }
      ]
    },
    {
      "cell_type": "code",
      "metadata": {
        "id": "zEZD8dpXbTG_",
        "colab_type": "code",
        "outputId": "b5ff1abe-a006-4b8e-b441-311f2ef41c5f",
        "colab": {
          "base_uri": "https://localhost:8080/",
          "height": 999
        }
      },
      "source": [
        "query = \"\"\"\n",
        "SELECT *\n",
        "FROM `bigquery-public-data.hacker_news.full`\n",
        "where REGEXP_CONTAINS(title, r\"(S|s)how HN\") \n",
        "order by score DESC\n",
        "LIMIT 20\n",
        "\"\"\"\n",
        "\n",
        "query_job = client.query(query)\n",
        "iterator = query_job.result(timeout=30)\n",
        "rows = list(iterator)\n",
        "\n",
        "# Transform the rows into a nice pandas dataframe\n",
        "max_descendants = pd.DataFrame(data=[list(x.values()) for x in rows], columns=list(rows[0].keys()))\n",
        "max_descendants.head(10)"
      ],
      "execution_count": 12,
      "outputs": [
        {
          "output_type": "execute_result",
          "data": {
            "text/html": [
              "<div>\n",
              "<style scoped>\n",
              "    .dataframe tbody tr th:only-of-type {\n",
              "        vertical-align: middle;\n",
              "    }\n",
              "\n",
              "    .dataframe tbody tr th {\n",
              "        vertical-align: top;\n",
              "    }\n",
              "\n",
              "    .dataframe thead th {\n",
              "        text-align: right;\n",
              "    }\n",
              "</style>\n",
              "<table border=\"1\" class=\"dataframe\">\n",
              "  <thead>\n",
              "    <tr style=\"text-align: right;\">\n",
              "      <th></th>\n",
              "      <th>title</th>\n",
              "      <th>url</th>\n",
              "      <th>text</th>\n",
              "      <th>dead</th>\n",
              "      <th>by</th>\n",
              "      <th>score</th>\n",
              "      <th>time</th>\n",
              "      <th>timestamp</th>\n",
              "      <th>type</th>\n",
              "      <th>id</th>\n",
              "      <th>parent</th>\n",
              "      <th>descendants</th>\n",
              "      <th>ranking</th>\n",
              "      <th>deleted</th>\n",
              "    </tr>\n",
              "  </thead>\n",
              "  <tbody>\n",
              "    <tr>\n",
              "      <th>0</th>\n",
              "      <td>Show HN: This up votes itself</td>\n",
              "      <td>http://news.ycombinator.com/vote?for=3742902&amp;d...</td>\n",
              "      <td>None</td>\n",
              "      <td>None</td>\n",
              "      <td>olalonde</td>\n",
              "      <td>3531</td>\n",
              "      <td>1332463239</td>\n",
              "      <td>2012-03-23 00:40:39+00:00</td>\n",
              "      <td>story</td>\n",
              "      <td>3742902</td>\n",
              "      <td>None</td>\n",
              "      <td>82</td>\n",
              "      <td>None</td>\n",
              "      <td>None</td>\n",
              "    </tr>\n",
              "    <tr>\n",
              "      <th>1</th>\n",
              "      <td>Show HN: A retro video game console I've been ...</td>\n",
              "      <td>https://internalregister.github.io/2019/03/14/...</td>\n",
              "      <td>None</td>\n",
              "      <td>None</td>\n",
              "      <td>pkiller</td>\n",
              "      <td>2690</td>\n",
              "      <td>1552595103</td>\n",
              "      <td>2019-03-14 20:25:03+00:00</td>\n",
              "      <td>story</td>\n",
              "      <td>19393279</td>\n",
              "      <td>None</td>\n",
              "      <td>210</td>\n",
              "      <td>None</td>\n",
              "      <td>None</td>\n",
              "    </tr>\n",
              "    <tr>\n",
              "      <th>2</th>\n",
              "      <td>Show HN: Web Design in 4 minutes</td>\n",
              "      <td>http://jgthms.com/web-design-in-4-minutes/</td>\n",
              "      <td>None</td>\n",
              "      <td>None</td>\n",
              "      <td>bbx</td>\n",
              "      <td>1624</td>\n",
              "      <td>1469549862</td>\n",
              "      <td>2016-07-26 16:17:42+00:00</td>\n",
              "      <td>story</td>\n",
              "      <td>12166687</td>\n",
              "      <td>None</td>\n",
              "      <td>152</td>\n",
              "      <td>None</td>\n",
              "      <td>None</td>\n",
              "    </tr>\n",
              "    <tr>\n",
              "      <th>3</th>\n",
              "      <td>Show HN: Airmash – Multiplayer Missile Warfare...</td>\n",
              "      <td>https://airma.sh/</td>\n",
              "      <td>None</td>\n",
              "      <td>None</td>\n",
              "      <td>fivesigma</td>\n",
              "      <td>1535</td>\n",
              "      <td>1512922996</td>\n",
              "      <td>2017-12-10 16:23:16+00:00</td>\n",
              "      <td>story</td>\n",
              "      <td>15892066</td>\n",
              "      <td>None</td>\n",
              "      <td>304</td>\n",
              "      <td>None</td>\n",
              "      <td>None</td>\n",
              "    </tr>\n",
              "    <tr>\n",
              "      <th>4</th>\n",
              "      <td>Show HN: Meteor, a realtime JavaScript framework</td>\n",
              "      <td>http://www.meteor.com</td>\n",
              "      <td>None</td>\n",
              "      <td>None</td>\n",
              "      <td>geoffschmidt</td>\n",
              "      <td>1386</td>\n",
              "      <td>1334098540</td>\n",
              "      <td>2012-04-10 22:55:40+00:00</td>\n",
              "      <td>story</td>\n",
              "      <td>3824908</td>\n",
              "      <td>None</td>\n",
              "      <td>322</td>\n",
              "      <td>None</td>\n",
              "      <td>None</td>\n",
              "    </tr>\n",
              "    <tr>\n",
              "      <th>5</th>\n",
              "      <td>Show HN: Show HN</td>\n",
              "      <td>https://news.ycombinator.com/show</td>\n",
              "      <td>None</td>\n",
              "      <td>None</td>\n",
              "      <td>dang</td>\n",
              "      <td>1302</td>\n",
              "      <td>1404412551</td>\n",
              "      <td>2014-07-03 18:35:51+00:00</td>\n",
              "      <td>story</td>\n",
              "      <td>7984826</td>\n",
              "      <td>None</td>\n",
              "      <td>166</td>\n",
              "      <td>None</td>\n",
              "      <td>None</td>\n",
              "    </tr>\n",
              "    <tr>\n",
              "      <th>6</th>\n",
              "      <td>Show HN: Sorting Two Metric Tons of Lego</td>\n",
              "      <td>https://jacquesmattheij.com/sorting-two-metric...</td>\n",
              "      <td>None</td>\n",
              "      <td>None</td>\n",
              "      <td>jacquesm</td>\n",
              "      <td>1264</td>\n",
              "      <td>1493478784</td>\n",
              "      <td>2017-04-29 15:13:04+00:00</td>\n",
              "      <td>story</td>\n",
              "      <td>14226889</td>\n",
              "      <td>None</td>\n",
              "      <td>211</td>\n",
              "      <td>None</td>\n",
              "      <td>None</td>\n",
              "    </tr>\n",
              "    <tr>\n",
              "      <th>7</th>\n",
              "      <td>Show HN: Wave function collapse algorithm</td>\n",
              "      <td>https://github.com/mxgmn/WaveFunctionCollapse</td>\n",
              "      <td>None</td>\n",
              "      <td>None</td>\n",
              "      <td>ExUtumno</td>\n",
              "      <td>1226</td>\n",
              "      <td>1475241643</td>\n",
              "      <td>2016-09-30 13:20:43+00:00</td>\n",
              "      <td>story</td>\n",
              "      <td>12612246</td>\n",
              "      <td>None</td>\n",
              "      <td>122</td>\n",
              "      <td>None</td>\n",
              "      <td>None</td>\n",
              "    </tr>\n",
              "    <tr>\n",
              "      <th>8</th>\n",
              "      <td>Show HN: Spot the Drowning Child</td>\n",
              "      <td>http://spotthedrowningchild.com</td>\n",
              "      <td>None</td>\n",
              "      <td>None</td>\n",
              "      <td>omegaworks</td>\n",
              "      <td>1215</td>\n",
              "      <td>1438097020</td>\n",
              "      <td>2015-07-28 15:23:40+00:00</td>\n",
              "      <td>story</td>\n",
              "      <td>9962185</td>\n",
              "      <td>None</td>\n",
              "      <td>378</td>\n",
              "      <td>None</td>\n",
              "      <td>None</td>\n",
              "    </tr>\n",
              "    <tr>\n",
              "      <th>9</th>\n",
              "      <td>Show HN: Make your site’s pages instant in one...</td>\n",
              "      <td>https://instant.page/</td>\n",
              "      <td>None</td>\n",
              "      <td>None</td>\n",
              "      <td>dieulot</td>\n",
              "      <td>1214</td>\n",
              "      <td>1549726200</td>\n",
              "      <td>2019-02-09 15:30:00+00:00</td>\n",
              "      <td>story</td>\n",
              "      <td>19122727</td>\n",
              "      <td>None</td>\n",
              "      <td>337</td>\n",
              "      <td>None</td>\n",
              "      <td>None</td>\n",
              "    </tr>\n",
              "  </tbody>\n",
              "</table>\n",
              "</div>"
            ],
            "text/plain": [
              "                                               title  ... deleted\n",
              "0                      Show HN: This up votes itself  ...    None\n",
              "1  Show HN: A retro video game console I've been ...  ...    None\n",
              "2                   Show HN: Web Design in 4 minutes  ...    None\n",
              "3  Show HN: Airmash – Multiplayer Missile Warfare...  ...    None\n",
              "4   Show HN: Meteor, a realtime JavaScript framework  ...    None\n",
              "5                                   Show HN: Show HN  ...    None\n",
              "6           Show HN: Sorting Two Metric Tons of Lego  ...    None\n",
              "7          Show HN: Wave function collapse algorithm  ...    None\n",
              "8                   Show HN: Spot the Drowning Child  ...    None\n",
              "9  Show HN: Make your site’s pages instant in one...  ...    None\n",
              "\n",
              "[10 rows x 14 columns]"
            ]
          },
          "metadata": {
            "tags": []
          },
          "execution_count": 12
        }
      ]
    },
    {
      "cell_type": "code",
      "metadata": {
        "id": "65CK8may_3s3",
        "colab_type": "code",
        "outputId": "fdc169d2-8744-49cb-fabe-d735556b99c6",
        "colab": {
          "base_uri": "https://localhost:8080/",
          "height": 930
        }
      },
      "source": [
        "query = \"\"\"\n",
        "SELECT *\n",
        "FROM `bigquery-public-data.hacker_news.full`\n",
        "where REGEXP_CONTAINS(title, r\"(S|s)how HN\") \n",
        "order by descendants DESC\n",
        "LIMIT 10\n",
        "\"\"\"\n",
        "\n",
        "query_job = client.query(query)\n",
        "iterator = query_job.result(timeout=30)\n",
        "rows = list(iterator)\n",
        "\n",
        "# Transform the rows into a nice pandas dataframe\n",
        "max_descendants = pd.DataFrame(data=[list(x.values()) for x in rows], columns=list(rows[0].keys()))\n",
        "max_descendants.head(10)"
      ],
      "execution_count": 13,
      "outputs": [
        {
          "output_type": "execute_result",
          "data": {
            "text/html": [
              "<div>\n",
              "<style scoped>\n",
              "    .dataframe tbody tr th:only-of-type {\n",
              "        vertical-align: middle;\n",
              "    }\n",
              "\n",
              "    .dataframe tbody tr th {\n",
              "        vertical-align: top;\n",
              "    }\n",
              "\n",
              "    .dataframe thead th {\n",
              "        text-align: right;\n",
              "    }\n",
              "</style>\n",
              "<table border=\"1\" class=\"dataframe\">\n",
              "  <thead>\n",
              "    <tr style=\"text-align: right;\">\n",
              "      <th></th>\n",
              "      <th>title</th>\n",
              "      <th>url</th>\n",
              "      <th>text</th>\n",
              "      <th>dead</th>\n",
              "      <th>by</th>\n",
              "      <th>score</th>\n",
              "      <th>time</th>\n",
              "      <th>timestamp</th>\n",
              "      <th>type</th>\n",
              "      <th>id</th>\n",
              "      <th>parent</th>\n",
              "      <th>descendants</th>\n",
              "      <th>ranking</th>\n",
              "      <th>deleted</th>\n",
              "    </tr>\n",
              "  </thead>\n",
              "  <tbody>\n",
              "    <tr>\n",
              "      <th>0</th>\n",
              "      <td>Show HN: Monica, an open-source CRM to manage ...</td>\n",
              "      <td>https://monicahq.com</td>\n",
              "      <td>None</td>\n",
              "      <td>None</td>\n",
              "      <td>robinhood</td>\n",
              "      <td>1097</td>\n",
              "      <td>1496758065</td>\n",
              "      <td>2017-06-06 14:07:45+00:00</td>\n",
              "      <td>story</td>\n",
              "      <td>14497295</td>\n",
              "      <td>None</td>\n",
              "      <td>567</td>\n",
              "      <td>None</td>\n",
              "      <td>None</td>\n",
              "    </tr>\n",
              "    <tr>\n",
              "      <th>1</th>\n",
              "      <td>Show HN: movies.io — torrent search like it sh...</td>\n",
              "      <td>http://movies.io/</td>\n",
              "      <td>None</td>\n",
              "      <td>None</td>\n",
              "      <td>nddrylliog</td>\n",
              "      <td>550</td>\n",
              "      <td>1338571846</td>\n",
              "      <td>2012-06-01 17:30:46+00:00</td>\n",
              "      <td>story</td>\n",
              "      <td>4054568</td>\n",
              "      <td>None</td>\n",
              "      <td>487</td>\n",
              "      <td>None</td>\n",
              "      <td>None</td>\n",
              "    </tr>\n",
              "    <tr>\n",
              "      <th>2</th>\n",
              "      <td>Show HN: Alacritty, a GPU-accelerated terminal...</td>\n",
              "      <td>http://blog.jwilm.io/announcing-alacritty/</td>\n",
              "      <td>None</td>\n",
              "      <td>None</td>\n",
              "      <td>jwilm</td>\n",
              "      <td>1170</td>\n",
              "      <td>1483726099</td>\n",
              "      <td>2017-01-06 18:08:19+00:00</td>\n",
              "      <td>story</td>\n",
              "      <td>13338592</td>\n",
              "      <td>None</td>\n",
              "      <td>476</td>\n",
              "      <td>None</td>\n",
              "      <td>None</td>\n",
              "    </tr>\n",
              "    <tr>\n",
              "      <th>3</th>\n",
              "      <td>Show HN: Get Paid to Build Your Next Side Project</td>\n",
              "      <td>https://www.demandrush.com</td>\n",
              "      <td>None</td>\n",
              "      <td>None</td>\n",
              "      <td>hackerews</td>\n",
              "      <td>1100</td>\n",
              "      <td>1497447820</td>\n",
              "      <td>2017-06-14 13:43:40+00:00</td>\n",
              "      <td>story</td>\n",
              "      <td>14552615</td>\n",
              "      <td>None</td>\n",
              "      <td>451</td>\n",
              "      <td>None</td>\n",
              "      <td>None</td>\n",
              "    </tr>\n",
              "    <tr>\n",
              "      <th>4</th>\n",
              "      <td>Show HN: My embarrassing personal website from...</td>\n",
              "      <td>http://boglin.iwarp.com/</td>\n",
              "      <td>None</td>\n",
              "      <td>None</td>\n",
              "      <td>rpeden</td>\n",
              "      <td>867</td>\n",
              "      <td>1520021490</td>\n",
              "      <td>2018-03-02 20:11:30+00:00</td>\n",
              "      <td>story</td>\n",
              "      <td>16505244</td>\n",
              "      <td>None</td>\n",
              "      <td>417</td>\n",
              "      <td>None</td>\n",
              "      <td>None</td>\n",
              "    </tr>\n",
              "    <tr>\n",
              "      <th>5</th>\n",
              "      <td>Show HN: Spot the Drowning Child</td>\n",
              "      <td>http://spotthedrowningchild.com</td>\n",
              "      <td>None</td>\n",
              "      <td>None</td>\n",
              "      <td>omegaworks</td>\n",
              "      <td>1215</td>\n",
              "      <td>1438097020</td>\n",
              "      <td>2015-07-28 15:23:40+00:00</td>\n",
              "      <td>story</td>\n",
              "      <td>9962185</td>\n",
              "      <td>None</td>\n",
              "      <td>378</td>\n",
              "      <td>None</td>\n",
              "      <td>None</td>\n",
              "    </tr>\n",
              "    <tr>\n",
              "      <th>6</th>\n",
              "      <td>Show HN: Buy Me A Coffee – A free, fast and fr...</td>\n",
              "      <td>https://www.buymeacoffee.com/</td>\n",
              "      <td>None</td>\n",
              "      <td>None</td>\n",
              "      <td>josephsunny</td>\n",
              "      <td>331</td>\n",
              "      <td>1519835154</td>\n",
              "      <td>2018-02-28 16:25:54+00:00</td>\n",
              "      <td>story</td>\n",
              "      <td>16484040</td>\n",
              "      <td>None</td>\n",
              "      <td>369</td>\n",
              "      <td>None</td>\n",
              "      <td>None</td>\n",
              "    </tr>\n",
              "    <tr>\n",
              "      <th>7</th>\n",
              "      <td>Show HN: Sublime Merge – A Git client from the...</td>\n",
              "      <td>https://www.sublimemerge.com</td>\n",
              "      <td>None</td>\n",
              "      <td>None</td>\n",
              "      <td>jskinner</td>\n",
              "      <td>935</td>\n",
              "      <td>1537429017</td>\n",
              "      <td>2018-09-20 07:36:57+00:00</td>\n",
              "      <td>story</td>\n",
              "      <td>18030446</td>\n",
              "      <td>None</td>\n",
              "      <td>351</td>\n",
              "      <td>None</td>\n",
              "      <td>None</td>\n",
              "    </tr>\n",
              "    <tr>\n",
              "      <th>8</th>\n",
              "      <td>Show HN: Whiteboardfree – Developer Jobs at Co...</td>\n",
              "      <td>https://whiteboardfree.com/</td>\n",
              "      <td>None</td>\n",
              "      <td>None</td>\n",
              "      <td>vbordo</td>\n",
              "      <td>396</td>\n",
              "      <td>1526648221</td>\n",
              "      <td>2018-05-18 12:57:01+00:00</td>\n",
              "      <td>story</td>\n",
              "      <td>17101046</td>\n",
              "      <td>None</td>\n",
              "      <td>349</td>\n",
              "      <td>None</td>\n",
              "      <td>None</td>\n",
              "    </tr>\n",
              "    <tr>\n",
              "      <th>9</th>\n",
              "      <td>Show HN: Privacy-focused, ad-free, non-trackin...</td>\n",
              "      <td>https://www.skytorrents.in</td>\n",
              "      <td>None</td>\n",
              "      <td>None</td>\n",
              "      <td>kasumis_</td>\n",
              "      <td>1183</td>\n",
              "      <td>1484708480</td>\n",
              "      <td>2017-01-18 03:01:20+00:00</td>\n",
              "      <td>story</td>\n",
              "      <td>13423629</td>\n",
              "      <td>None</td>\n",
              "      <td>346</td>\n",
              "      <td>None</td>\n",
              "      <td>None</td>\n",
              "    </tr>\n",
              "  </tbody>\n",
              "</table>\n",
              "</div>"
            ],
            "text/plain": [
              "                                               title  ... deleted\n",
              "0  Show HN: Monica, an open-source CRM to manage ...  ...    None\n",
              "1  Show HN: movies.io — torrent search like it sh...  ...    None\n",
              "2  Show HN: Alacritty, a GPU-accelerated terminal...  ...    None\n",
              "3  Show HN: Get Paid to Build Your Next Side Project  ...    None\n",
              "4  Show HN: My embarrassing personal website from...  ...    None\n",
              "5                   Show HN: Spot the Drowning Child  ...    None\n",
              "6  Show HN: Buy Me A Coffee – A free, fast and fr...  ...    None\n",
              "7  Show HN: Sublime Merge – A Git client from the...  ...    None\n",
              "8  Show HN: Whiteboardfree – Developer Jobs at Co...  ...    None\n",
              "9  Show HN: Privacy-focused, ad-free, non-trackin...  ...    None\n",
              "\n",
              "[10 rows x 14 columns]"
            ]
          },
          "metadata": {
            "tags": []
          },
          "execution_count": 13
        }
      ]
    },
    {
      "cell_type": "markdown",
      "metadata": {
        "id": "exa9tdrK26ax",
        "colab_type": "text"
      },
      "source": [
        "Lets find the minimum, maximum an average scores for the stories"
      ]
    },
    {
      "cell_type": "code",
      "metadata": {
        "id": "3Y0BmwltjgQ5",
        "colab_type": "code",
        "colab": {}
      },
      "source": [
        "query = \"\"\"\n",
        "SELECT MIN(score) as min_score, MAX(score) as max_score, AVG(score) as avg_score\n",
        "FROM `bigquery-public-data.hacker_news.full`\n",
        "where REGEXP_CONTAINS(title, r\"(S|s)how HN\")\n",
        "\"\"\"\n",
        "\n",
        "query_job = client.query(query)\n",
        "iterator = query_job.result(timeout=30)\n",
        "rows = list(iterator)\n"
      ],
      "execution_count": 0,
      "outputs": []
    },
    {
      "cell_type": "code",
      "metadata": {
        "id": "ucqsoqt6kBiq",
        "colab_type": "code",
        "outputId": "36402fc1-ccec-4148-db1f-8078d9c9afdb",
        "colab": {
          "base_uri": "https://localhost:8080/",
          "height": 79
        }
      },
      "source": [
        "# Transform the rows into a nice pandas dataframe\n",
        "unique_scores = pd.DataFrame(data=[list(x.values()) for x in rows], columns=list(rows[0].keys()))\n",
        "unique_scores.fillna(0, inplace=True)\n",
        "# Look at the first 10 top scores\n",
        "unique_scores.head()"
      ],
      "execution_count": 0,
      "outputs": [
        {
          "output_type": "execute_result",
          "data": {
            "text/html": [
              "<div>\n",
              "<style scoped>\n",
              "    .dataframe tbody tr th:only-of-type {\n",
              "        vertical-align: middle;\n",
              "    }\n",
              "\n",
              "    .dataframe tbody tr th {\n",
              "        vertical-align: top;\n",
              "    }\n",
              "\n",
              "    .dataframe thead th {\n",
              "        text-align: right;\n",
              "    }\n",
              "</style>\n",
              "<table border=\"1\" class=\"dataframe\">\n",
              "  <thead>\n",
              "    <tr style=\"text-align: right;\">\n",
              "      <th></th>\n",
              "      <th>min_score</th>\n",
              "      <th>max_score</th>\n",
              "      <th>avg_score</th>\n",
              "    </tr>\n",
              "  </thead>\n",
              "  <tbody>\n",
              "    <tr>\n",
              "      <th>0</th>\n",
              "      <td>0</td>\n",
              "      <td>3531</td>\n",
              "      <td>14.767018</td>\n",
              "    </tr>\n",
              "  </tbody>\n",
              "</table>\n",
              "</div>"
            ],
            "text/plain": [
              "   min_score  max_score  avg_score\n",
              "0          0       3531  14.767018"
            ]
          },
          "metadata": {
            "tags": []
          },
          "execution_count": 6
        }
      ]
    },
    {
      "cell_type": "markdown",
      "metadata": {
        "id": "qBWjGcxr3NW7",
        "colab_type": "text"
      },
      "source": [
        "Lets find the authors with highest scores"
      ]
    },
    {
      "cell_type": "code",
      "metadata": {
        "id": "lzM38UAflS_j",
        "colab_type": "code",
        "colab": {}
      },
      "source": [
        "query = \"\"\"\n",
        "SELECT \n",
        "SUM(h_full.score) as total_score, h_full.by as author,\n",
        "SUM(h_full.descendants) as total_decendants,\n",
        "count(h_full.id) as total_stories\n",
        "FROM `bigquery-public-data.hacker_news.full` h_full\n",
        "where REGEXP_CONTAINS(h_full.title, r\"(S|s)how HN\")\n",
        "GROUP BY author\n",
        "ORDER BY total_score DESC\n",
        "LIMIT 30\n",
        "\"\"\""
      ],
      "execution_count": 0,
      "outputs": []
    },
    {
      "cell_type": "code",
      "metadata": {
        "id": "g3uDiM0ul-mw",
        "colab_type": "code",
        "colab": {}
      },
      "source": [
        "query_job = client.query(query)\n",
        "iterator = query_job.result(timeout=30)\n",
        "rows = list(iterator)"
      ],
      "execution_count": 0,
      "outputs": []
    },
    {
      "cell_type": "code",
      "metadata": {
        "id": "kFAUflqZmBav",
        "colab_type": "code",
        "outputId": "a804611b-cef3-44f5-b0d0-fd4cc16591f4",
        "colab": {
          "base_uri": "https://localhost:8080/",
          "height": 459
        }
      },
      "source": [
        "# Transform the rows into a nice pandas dataframe\n",
        "top_users = pd.DataFrame(data=[list(x.values()) for x in rows], columns=list(rows[0].keys()))\n",
        "top_users.fillna(0, inplace=True)\n",
        "# Look at the first 10 top scores\n",
        "top_users.sort_values(\"total_score\")[::-1][:10].plot(x=\"author\",y=[\"total_score\", \"total_decendants\", \"total_stories\"], \n",
        "                                                   kind=\"bar\",figsize=(14,6),\n",
        "                                                   title='Top users stats').set_ylabel(\"Score\")"
      ],
      "execution_count": 0,
      "outputs": [
        {
          "output_type": "execute_result",
          "data": {
            "text/plain": [
              "Text(0, 0.5, 'Score')"
            ]
          },
          "metadata": {
            "tags": []
          },
          "execution_count": 11
        },
        {
          "output_type": "display_data",
          "data": {
            "image/png": "[encoded data removed]",
            "text/plain": [
              "<Figure size 1008x432 with 1 Axes>"
            ]
          },
          "metadata": {
            "tags": []
          }
        }
      ]
    },
    {
      "cell_type": "markdown",
      "metadata": {
        "id": "n2xHZM8c3poO",
        "colab_type": "text"
      },
      "source": [
        "Total number of stories"
      ]
    },
    {
      "cell_type": "code",
      "metadata": {
        "id": "zdklmvfW1cIb",
        "colab_type": "code",
        "outputId": "75cfa6a1-b84b-4782-8831-62a2c0812dc2",
        "colab": {
          "base_uri": "https://localhost:8080/",
          "height": 35
        }
      },
      "source": [
        "query = \"\"\"\n",
        "SELECT \n",
        "COUNT(h_full.id) as total_stories\n",
        "FROM `bigquery-public-data.hacker_news.full` h_full\n",
        "where REGEXP_CONTAINS(h_full.title, r\"(S|s)how HN\")\n",
        "\"\"\"\n",
        "\n",
        "query_job = client.query(query)\n",
        "\n",
        "iterator = query_job.result(timeout=30)\n",
        "rows = list(iterator)\n",
        "count = pd.DataFrame(data=[list(x.values()) for x in rows], columns=list(rows[0].keys()))\n",
        "\n",
        "print(\"Total number of stories {}\".format(count.total_stories.values[0]))"
      ],
      "execution_count": 0,
      "outputs": [
        {
          "output_type": "stream",
          "text": [
            "Total number of stories 79856\n"
          ],
          "name": "stdout"
        }
      ]
    },
    {
      "cell_type": "markdown",
      "metadata": {
        "id": "Qh_7ayIP30T9",
        "colab_type": "text"
      },
      "source": [
        "I am curious why the author with maximum score has few descendents"
      ]
    },
    {
      "cell_type": "code",
      "metadata": {
        "id": "HIPB-tu411GS",
        "colab_type": "code",
        "outputId": "ffb0dc1e-6f43-45b3-82b3-cc6d1441cdfb",
        "colab": {
          "base_uri": "https://localhost:8080/",
          "height": 202
        }
      },
      "source": [
        "query = \"\"\"\n",
        "SELECT \n",
        "SUM(h_full.score) as total_score, h_full.by as author,\n",
        "SUM(h_full.descendants) as total_decendants,\n",
        "count(h_full.id) as total_stories\n",
        "FROM `bigquery-public-data.hacker_news.full` h_full\n",
        "where REGEXP_CONTAINS(h_full.title, r\"(S|s)how HN\")\n",
        "GROUP BY author\n",
        "ORDER BY total_score DESC\n",
        "LIMIT 30\n",
        "\"\"\"\n",
        "\n",
        "query_job = client.query(query)\n",
        "iterator = query_job.result(timeout=30)\n",
        "rows = list(iterator)\n",
        "\n",
        "# Transform the rows into a nice pandas dataframe\n",
        "high_scores = pd.DataFrame(data=[list(x.values()) for x in rows], columns=list(rows[0].keys()))\n",
        "high_scores.fillna(0, inplace=True)\n",
        "# Look at the first top scores\n",
        "high_scores.head()"
      ],
      "execution_count": 0,
      "outputs": [
        {
          "output_type": "execute_result",
          "data": {
            "text/html": [
              "<div>\n",
              "<style scoped>\n",
              "    .dataframe tbody tr th:only-of-type {\n",
              "        vertical-align: middle;\n",
              "    }\n",
              "\n",
              "    .dataframe tbody tr th {\n",
              "        vertical-align: top;\n",
              "    }\n",
              "\n",
              "    .dataframe thead th {\n",
              "        text-align: right;\n",
              "    }\n",
              "</style>\n",
              "<table border=\"1\" class=\"dataframe\">\n",
              "  <thead>\n",
              "    <tr style=\"text-align: right;\">\n",
              "      <th></th>\n",
              "      <th>total_score</th>\n",
              "      <th>author</th>\n",
              "      <th>total_decendants</th>\n",
              "      <th>total_stories</th>\n",
              "    </tr>\n",
              "  </thead>\n",
              "  <tbody>\n",
              "    <tr>\n",
              "      <th>0</th>\n",
              "      <td>3593</td>\n",
              "      <td>olalonde</td>\n",
              "      <td>103</td>\n",
              "      <td>8</td>\n",
              "    </tr>\n",
              "    <tr>\n",
              "      <th>1</th>\n",
              "      <td>3544</td>\n",
              "      <td>bbx</td>\n",
              "      <td>386</td>\n",
              "      <td>14</td>\n",
              "    </tr>\n",
              "    <tr>\n",
              "      <th>2</th>\n",
              "      <td>3243</td>\n",
              "      <td>fogleman</td>\n",
              "      <td>662</td>\n",
              "      <td>20</td>\n",
              "    </tr>\n",
              "    <tr>\n",
              "      <th>3</th>\n",
              "      <td>2690</td>\n",
              "      <td>pkiller</td>\n",
              "      <td>210</td>\n",
              "      <td>1</td>\n",
              "    </tr>\n",
              "    <tr>\n",
              "      <th>4</th>\n",
              "      <td>1863</td>\n",
              "      <td>irsina</td>\n",
              "      <td>126</td>\n",
              "      <td>66</td>\n",
              "    </tr>\n",
              "  </tbody>\n",
              "</table>\n",
              "</div>"
            ],
            "text/plain": [
              "   total_score    author  total_decendants  total_stories\n",
              "0         3593  olalonde               103              8\n",
              "1         3544       bbx               386             14\n",
              "2         3243  fogleman               662             20\n",
              "3         2690   pkiller               210              1\n",
              "4         1863    irsina               126             66"
            ]
          },
          "metadata": {
            "tags": []
          },
          "execution_count": 15
        }
      ]
    },
    {
      "cell_type": "code",
      "metadata": {
        "id": "rFsVsijH4Tqb",
        "colab_type": "code",
        "outputId": "2d9ed03f-dad8-467d-97eb-e24f43c73cdc",
        "colab": {
          "base_uri": "https://localhost:8080/",
          "height": 517
        }
      },
      "source": [
        "query = \"\"\"\n",
        "SELECT h_full.*\n",
        "FROM `bigquery-public-data.hacker_news.full` h_full\n",
        "where REGEXP_CONTAINS(h_full.title, r\"(S|s)how HN\") and h_full.by = 'olalonde'\n",
        "\"\"\"\n",
        "\n",
        "query_job = client.query(query)\n",
        "iterator = query_job.result(timeout=30)\n",
        "rows = list(iterator)\n",
        "\n",
        "# Transform the rows into a nice pandas dataframe\n",
        "high_scores = pd.DataFrame(data=[list(x.values()) for x in rows], columns=list(rows[0].keys()))\n",
        "high_scores.fillna(0, inplace=True)\n",
        "# Look at the first top scores\n",
        "high_scores.head()"
      ],
      "execution_count": 0,
      "outputs": [
        {
          "output_type": "execute_result",
          "data": {
            "text/html": [
              "<div>\n",
              "<style scoped>\n",
              "    .dataframe tbody tr th:only-of-type {\n",
              "        vertical-align: middle;\n",
              "    }\n",
              "\n",
              "    .dataframe tbody tr th {\n",
              "        vertical-align: top;\n",
              "    }\n",
              "\n",
              "    .dataframe thead th {\n",
              "        text-align: right;\n",
              "    }\n",
              "</style>\n",
              "<table border=\"1\" class=\"dataframe\">\n",
              "  <thead>\n",
              "    <tr style=\"text-align: right;\">\n",
              "      <th></th>\n",
              "      <th>title</th>\n",
              "      <th>url</th>\n",
              "      <th>text</th>\n",
              "      <th>dead</th>\n",
              "      <th>by</th>\n",
              "      <th>score</th>\n",
              "      <th>time</th>\n",
              "      <th>timestamp</th>\n",
              "      <th>type</th>\n",
              "      <th>id</th>\n",
              "      <th>parent</th>\n",
              "      <th>descendants</th>\n",
              "      <th>ranking</th>\n",
              "      <th>deleted</th>\n",
              "    </tr>\n",
              "  </thead>\n",
              "  <tbody>\n",
              "    <tr>\n",
              "      <th>0</th>\n",
              "      <td>Show HN: I implemented gmaxwell's \"solvency pr...</td>\n",
              "      <td>https://github.com/olalonde/blind-solvency-proof</td>\n",
              "      <td>0</td>\n",
              "      <td>0</td>\n",
              "      <td>olalonde</td>\n",
              "      <td>29</td>\n",
              "      <td>1393431208</td>\n",
              "      <td>2014-02-26 16:13:28+00:00</td>\n",
              "      <td>story</td>\n",
              "      <td>7305752</td>\n",
              "      <td>0</td>\n",
              "      <td>9</td>\n",
              "      <td>0</td>\n",
              "      <td>0</td>\n",
              "    </tr>\n",
              "    <tr>\n",
              "      <th>1</th>\n",
              "      <td>Show HN: This up votes itself</td>\n",
              "      <td>http://news.ycombinator.com/vote?for=3742902&amp;d...</td>\n",
              "      <td>0</td>\n",
              "      <td>0</td>\n",
              "      <td>olalonde</td>\n",
              "      <td>3531</td>\n",
              "      <td>1332463239</td>\n",
              "      <td>2012-03-23 00:40:39+00:00</td>\n",
              "      <td>story</td>\n",
              "      <td>3742902</td>\n",
              "      <td>0</td>\n",
              "      <td>82</td>\n",
              "      <td>0</td>\n",
              "      <td>0</td>\n",
              "    </tr>\n",
              "    <tr>\n",
              "      <th>2</th>\n",
              "      <td>Show HN: Show HN Chat</td>\n",
              "      <td>https://discord.gg/0piovD3zkjwdotzl</td>\n",
              "      <td>0</td>\n",
              "      <td>0</td>\n",
              "      <td>olalonde</td>\n",
              "      <td>9</td>\n",
              "      <td>1455678881</td>\n",
              "      <td>2016-02-17 03:14:41+00:00</td>\n",
              "      <td>story</td>\n",
              "      <td>11114986</td>\n",
              "      <td>0</td>\n",
              "      <td>3</td>\n",
              "      <td>0</td>\n",
              "      <td>0</td>\n",
              "    </tr>\n",
              "    <tr>\n",
              "      <th>3</th>\n",
              "      <td>Show HN: IRC style community for remote hacker...</td>\n",
              "      <td>http://lonehackers.com/</td>\n",
              "      <td>0</td>\n",
              "      <td>0</td>\n",
              "      <td>olalonde</td>\n",
              "      <td>10</td>\n",
              "      <td>1421151341</td>\n",
              "      <td>2015-01-13 12:15:41+00:00</td>\n",
              "      <td>story</td>\n",
              "      <td>8879278</td>\n",
              "      <td>0</td>\n",
              "      <td>7</td>\n",
              "      <td>0</td>\n",
              "      <td>0</td>\n",
              "    </tr>\n",
              "    <tr>\n",
              "      <th>4</th>\n",
              "      <td>Show HN: One package to require coffeescript, ...</td>\n",
              "      <td>https://github.com/olalonde/better-require</td>\n",
              "      <td>0</td>\n",
              "      <td>0</td>\n",
              "      <td>olalonde</td>\n",
              "      <td>1</td>\n",
              "      <td>1351778726</td>\n",
              "      <td>2012-11-01 14:05:26+00:00</td>\n",
              "      <td>story</td>\n",
              "      <td>4727549</td>\n",
              "      <td>0</td>\n",
              "      <td>0</td>\n",
              "      <td>0</td>\n",
              "      <td>0</td>\n",
              "    </tr>\n",
              "  </tbody>\n",
              "</table>\n",
              "</div>"
            ],
            "text/plain": [
              "                                               title  ... deleted\n",
              "0  Show HN: I implemented gmaxwell's \"solvency pr...  ...       0\n",
              "1                      Show HN: This up votes itself  ...       0\n",
              "2                              Show HN: Show HN Chat  ...       0\n",
              "3  Show HN: IRC style community for remote hacker...  ...       0\n",
              "4  Show HN: One package to require coffeescript, ...  ...       0\n",
              "\n",
              "[5 rows x 14 columns]"
            ]
          },
          "metadata": {
            "tags": []
          },
          "execution_count": 17
        }
      ]
    },
    {
      "cell_type": "code",
      "metadata": {
        "id": "WDJyMHOR48of",
        "colab_type": "code",
        "colab": {}
      },
      "source": [
        ""
      ],
      "execution_count": 0,
      "outputs": []
    }
  ]
}