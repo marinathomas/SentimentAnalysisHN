{
  "nbformat": 4,
  "nbformat_minor": 0,
  "metadata": {
    "colab": {
      "name": "2017.ipynb",
      "provenance": [],
      "include_colab_link": true
    },
    "kernelspec": {
      "name": "python3",
      "display_name": "Python 3"
    },
    "accelerator": "GPU"
  },
  "cells": [
    {
      "cell_type": "markdown",
      "metadata": {
        "id": "view-in-github",
        "colab_type": "text"
      },
      "source": [
        "<a href=\"https://colab.research.google.com/github/marinathomas/SentimentAnalysisHN/blob/master/2017.ipynb\" target=\"_parent\"><img src=\"https://colab.research.google.com/assets/colab-badge.svg\" alt=\"Open In Colab\"/></a>"
      ]
    },
    {
      "cell_type": "code",
      "metadata": {
        "id": "fQp6b_UOhDXd",
        "colab_type": "code",
        "outputId": "970e2c00-cbc1-42d6-915a-bb7209913223",
        "colab": {
          "base_uri": "https://localhost:8080/",
          "height": 35
        }
      },
      "source": [
        "from google.cloud import bigquery\n",
        "import pandas as pd\n",
        "import os\n",
        "import numpy as np\n",
        "\n",
        "from google.colab import drive\n",
        "drive.mount('/content/gdrive')"
      ],
      "execution_count": 84,
      "outputs": [
        {
          "output_type": "stream",
          "text": [
            "Drive already mounted at /content/gdrive; to attempt to forcibly remount, call drive.mount(\"/content/gdrive\", force_remount=True).\n"
          ],
          "name": "stdout"
        }
      ]
    },
    {
      "cell_type": "code",
      "metadata": {
        "id": "MGloHhbS8Neq",
        "colab_type": "code",
        "colab": {}
      },
      "source": [
        "root_path = \"/content/gdrive/Shared drives/HackerNews:SentimentAnalysis/\"\n",
        "credential_path = root_path+\"hackernews-v2-14382f16e9b5.json\"\n",
        "os.environ['GOOGLE_APPLICATION_CREDENTIALS'] = credential_path"
      ],
      "execution_count": 0,
      "outputs": []
    },
    {
      "cell_type": "code",
      "metadata": {
        "id": "cCF6XNbatik-",
        "colab_type": "code",
        "colab": {}
      },
      "source": [
        "client = bigquery.Client()\n",
        "hn_dataset_ref = client.dataset('hacker_news', project='bigquery-public-data')\n",
        "hn_dset = client.get_dataset(hn_dataset_ref)"
      ],
      "execution_count": 0,
      "outputs": []
    },
    {
      "cell_type": "code",
      "metadata": {
        "id": "9ctl6M-Kto4t",
        "colab_type": "code",
        "colab": {}
      },
      "source": [
        "csv_file = root_path +  \"hackernews_full/2017.csv\"\n",
        "stories = pd.read_csv(csv_file, index_col=0) "
      ],
      "execution_count": 0,
      "outputs": []
    },
    {
      "cell_type": "code",
      "metadata": {
        "id": "rJ-F6VXttxtu",
        "colab_type": "code",
        "colab": {
          "base_uri": "https://localhost:8080/",
          "height": 89
        },
        "outputId": "da24c605-dfa7-4e33-cb1f-e981c5877d4d"
      },
      "source": [
        "csv_file = root_path +  \"hackernews_full/coments_2017.csv\"\n",
        "comments_temp_2017 = pd.read_csv(csv_file, index_col=0, header=0)\n",
        "comments_temp_2017.shape "
      ],
      "execution_count": 10,
      "outputs": [
        {
          "output_type": "stream",
          "text": [
            "/usr/local/lib/python3.6/dist-packages/numpy/lib/arraysetops.py:568: FutureWarning: elementwise comparison failed; returning scalar instead, but in the future will perform elementwise comparison\n",
            "  mask |= (ar1 == a)\n"
          ],
          "name": "stderr"
        },
        {
          "output_type": "execute_result",
          "data": {
            "text/plain": [
              "(2295314, 14)"
            ]
          },
          "metadata": {
            "tags": []
          },
          "execution_count": 10
        }
      ]
    },
    {
      "cell_type": "code",
      "metadata": {
        "id": "VQTI3Wezt3wm",
        "colab_type": "code",
        "colab": {
          "base_uri": "https://localhost:8080/",
          "height": 89
        },
        "outputId": "f390f87f-b001-4788-910f-67a775007a0a"
      },
      "source": [
        "csv_file = root_path +  \"hackernews_full/coments_2018.csv\"\n",
        "comments_temp_2018 = pd.read_csv(csv_file, index_col=0, header=0)\n",
        "comments_temp_2018.shape"
      ],
      "execution_count": 11,
      "outputs": [
        {
          "output_type": "stream",
          "text": [
            "/usr/local/lib/python3.6/dist-packages/numpy/lib/arraysetops.py:568: FutureWarning: elementwise comparison failed; returning scalar instead, but in the future will perform elementwise comparison\n",
            "  mask |= (ar1 == a)\n"
          ],
          "name": "stderr"
        },
        {
          "output_type": "execute_result",
          "data": {
            "text/plain": [
              "(2323562, 14)"
            ]
          },
          "metadata": {
            "tags": []
          },
          "execution_count": 11
        }
      ]
    },
    {
      "cell_type": "code",
      "metadata": {
        "id": "U609QKQ7t-gv",
        "colab_type": "code",
        "colab": {}
      },
      "source": [
        "all_comments = pd.concat([comments_temp_2017, comments_temp_2018], ignore_index=True)"
      ],
      "execution_count": 0,
      "outputs": []
    },
    {
      "cell_type": "code",
      "metadata": {
        "id": "LAJFPlvPuHFm",
        "colab_type": "code",
        "colab": {}
      },
      "source": [
        "stories = stories.loc[stories['descendants']>0]"
      ],
      "execution_count": 0,
      "outputs": []
    },
    {
      "cell_type": "code",
      "metadata": {
        "id": "iTXb7DifuIeH",
        "colab_type": "code",
        "colab": {
          "base_uri": "https://localhost:8080/",
          "height": 35
        },
        "outputId": "68b63317-f072-4284-f5cd-828f6410711a"
      },
      "source": [
        "stories.shape"
      ],
      "execution_count": 14,
      "outputs": [
        {
          "output_type": "execute_result",
          "data": {
            "text/plain": [
              "(4933, 14)"
            ]
          },
          "metadata": {
            "tags": []
          },
          "execution_count": 14
        }
      ]
    },
    {
      "cell_type": "code",
      "metadata": {
        "id": "ahLr2osiuKcn",
        "colab_type": "code",
        "colab": {
          "base_uri": "https://localhost:8080/",
          "height": 35
        },
        "outputId": "41d1367a-8c50-4427-d91e-138dbc279c9c"
      },
      "source": [
        "all_comments.shape"
      ],
      "execution_count": 15,
      "outputs": [
        {
          "output_type": "execute_result",
          "data": {
            "text/plain": [
              "(4618876, 14)"
            ]
          },
          "metadata": {
            "tags": []
          },
          "execution_count": 15
        }
      ]
    },
    {
      "cell_type": "code",
      "metadata": {
        "colab_type": "code",
        "id": "cYDd-5Ee7Wxy",
        "colab": {}
      },
      "source": [
        "comments_2017 = pd.DataFrame()"
      ],
      "execution_count": 0,
      "outputs": []
    },
    {
      "cell_type": "code",
      "metadata": {
        "id": "sCvFtGeb63RS",
        "colab_type": "code",
        "colab": {
          "base_uri": "https://localhost:8080/",
          "height": 1000
        },
        "outputId": "aabfb9cc-c34b-4cdd-ade7-4ae447c2cc22"
      },
      "source": [
        "for index, story in stories.iterrows():\n",
        "  story_comments=pd.DataFrame()\n",
        "  comment_ids = []\n",
        "  id = story['id'] #13292636 #\n",
        "  print(id)\n",
        "  count = 0;\n",
        "  story_comments = all_comments.loc[all_comments['parent']== id]\n",
        "  comment_ids = story_comments['id'].to_numpy()\n",
        "  #print(comment_ids)\n",
        "  #print(len(story_comments))\n",
        "  #print(story['descendants'])\n",
        "  while len(story_comments) < story['descendants']:\n",
        "    id = comment_ids[count]\n",
        "    temp = all_comments.loc[all_comments['parent']== id]\n",
        "    story_comments = pd.concat([story_comments, temp])\n",
        "    comment_ids = np.concatenate((comment_ids, temp['id'].to_numpy()))\n",
        "    count += 1\n",
        "    #print(len(temp))\n",
        "    #print(len(comment_ids))\n",
        "  #break;\n",
        "  #print(comment_ids)\n",
        "  \n",
        "comments_2017 = pd.concat([comments_2017,story_comments])"
      ],
      "execution_count": 101,
      "outputs": [
        {
          "output_type": "stream",
          "text": [
            "13293894\n",
            "13294375\n",
            "13295049\n",
            "13295057\n",
            "13295998\n",
            "13296297\n",
            "13296863\n",
            "13297192\n",
            "13298843\n",
            "13301479\n",
            "13302725\n",
            "13303346\n",
            "13304193\n",
            "13304291\n",
            "13304390\n",
            "13305005\n",
            "13308093\n",
            "13308150\n",
            "13308263\n",
            "13308523\n",
            "13308662\n",
            "13308820\n",
            "13308857\n",
            "13308875\n",
            "13308977\n",
            "13309025\n",
            "13309390\n",
            "13309724\n",
            "13309838\n",
            "13310834\n",
            "13310974\n",
            "13311064\n",
            "13313156\n",
            "13314087\n",
            "13314370\n",
            "13314409\n",
            "13315576\n",
            "13315991\n",
            "13316467\n",
            "13317067\n",
            "13317148\n",
            "13317718\n",
            "13317907\n",
            "13317978\n",
            "13318093\n",
            "13318289\n",
            "13318528\n",
            "13318624\n",
            "13319122\n",
            "13319371\n",
            "13319814\n",
            "13320359\n",
            "13320370\n",
            "13320638\n",
            "13320994\n",
            "13321024\n",
            "13321586\n",
            "13322062\n",
            "13323115\n",
            "13323240\n",
            "13324460\n",
            "13324490\n",
            "13324493\n",
            "13324971\n",
            "13325632\n",
            "13325670\n",
            "13325797\n",
            "13326109\n",
            "13326189\n",
            "13327461\n",
            "13328843\n",
            "13328865\n",
            "13329708\n",
            "13329836\n",
            "13331968\n",
            "13332015\n",
            "13333185\n",
            "13335042\n",
            "13335442\n",
            "13335554\n",
            "13336257\n",
            "13336686\n",
            "13336954\n",
            "13337861\n",
            "13338592\n",
            "13339093\n",
            "13339877\n",
            "13340462\n",
            "13340618\n",
            "13341156\n",
            "13341621\n",
            "13341665\n",
            "13341677\n",
            "13342341\n",
            "13343075\n",
            "13343184\n",
            "13343276\n",
            "13344291\n",
            "13344747\n",
            "13344808\n",
            "13345429\n",
            "13346903\n",
            "13347326\n",
            "13348124\n",
            "13349076\n",
            "13349625\n",
            "13350508\n",
            "13351064\n",
            "13351326\n",
            "13351434\n",
            "13351973\n",
            "13352447\n",
            "13352604\n",
            "13352949\n",
            "13355856\n",
            "13355878\n",
            "13356152\n",
            "13356480\n",
            "13356846\n",
            "13356948\n",
            "13357473\n",
            "13357506\n",
            "13357934\n",
            "13357979\n",
            "13358067\n",
            "13358422\n",
            "13358753\n",
            "13358790\n",
            "13359237\n",
            "13359246\n",
            "13359315\n",
            "13359485\n",
            "13359724\n",
            "13360942\n",
            "13361078\n",
            "13364045\n",
            "13364281\n",
            "13364722\n",
            "13366658\n",
            "13367208\n",
            "13367343\n",
            "13367486\n",
            "13367927\n",
            "13368013\n",
            "13368150\n",
            "13368315\n",
            "13369434\n",
            "13370486\n",
            "13371511\n",
            "13371644\n",
            "13372359\n",
            "13373108\n",
            "13373558\n",
            "13374511\n",
            "13374644\n",
            "13374668\n",
            "13374682\n",
            "13375161\n",
            "13376083\n",
            "13376375\n",
            "13376850\n",
            "13376901\n",
            "13378757\n",
            "13378852\n",
            "13379782\n",
            "13380638\n",
            "13380750\n",
            "13380981\n",
            "13380999\n",
            "13382566\n",
            "13382834\n",
            "13383238\n",
            "13383304\n",
            "13383517\n",
            "13383878\n",
            "13384012\n",
            "13384189\n",
            "13384789\n",
            "13386110\n",
            "13387221\n",
            "13387667\n",
            "13388420\n",
            "13388629\n",
            "13389631\n",
            "13390135\n",
            "13390409\n",
            "13390682\n",
            "13390713\n",
            "13391330\n",
            "13391761\n",
            "13392295\n",
            "13394467\n",
            "13395172\n",
            "13397060\n",
            "13397752\n",
            "13398364\n",
            "13398814\n",
            "13400360\n",
            "13400738\n",
            "13402295\n",
            "13402610\n",
            "13404019\n",
            "13404309\n",
            "13404417\n",
            "13405161\n",
            "13405617\n",
            "13406081\n",
            "13407546\n",
            "13407923\n",
            "13409720\n",
            "13410101\n",
            "13410462\n",
            "13410525\n",
            "13411015\n",
            "13411186\n",
            "13411354\n",
            "13411385\n",
            "13412443\n",
            "13412737\n",
            "13413143\n",
            "13413834\n",
            "13414082\n",
            "13415243\n",
            "13415439\n",
            "13415894\n",
            "13415917\n",
            "13415932\n",
            "13416400\n",
            "13417067\n",
            "13417568\n",
            "13417831\n",
            "13418783\n",
            "13418838\n",
            "13419031\n",
            "13419576\n",
            "13419794\n",
            "13419877\n",
            "13419900\n",
            "13419959\n",
            "13420542\n",
            "13421703\n",
            "13422090\n",
            "13422101\n",
            "13423157\n",
            "13423629\n",
            "13423635\n",
            "13425027\n",
            "13425089\n"
          ],
          "name": "stdout"
        },
        {
          "output_type": "error",
          "ename": "IndexError",
          "evalue": "ignored",
          "traceback": [
            "\u001b[0;31m---------------------------------------------------------------------------\u001b[0m",
            "\u001b[0;31mIndexError\u001b[0m                                Traceback (most recent call last)",
            "\u001b[0;32m<ipython-input-101-cbce88a0dc1b>\u001b[0m in \u001b[0;36m<module>\u001b[0;34m()\u001b[0m\n\u001b[1;32m     11\u001b[0m   \u001b[0;31m#print(story['descendants'])\u001b[0m\u001b[0;34m\u001b[0m\u001b[0;34m\u001b[0m\u001b[0;34m\u001b[0m\u001b[0m\n\u001b[1;32m     12\u001b[0m   \u001b[0;32mwhile\u001b[0m \u001b[0mlen\u001b[0m\u001b[0;34m(\u001b[0m\u001b[0mstory_comments\u001b[0m\u001b[0;34m)\u001b[0m \u001b[0;34m<\u001b[0m \u001b[0mstory\u001b[0m\u001b[0;34m[\u001b[0m\u001b[0;34m'descendants'\u001b[0m\u001b[0;34m]\u001b[0m\u001b[0;34m:\u001b[0m\u001b[0;34m\u001b[0m\u001b[0;34m\u001b[0m\u001b[0m\n\u001b[0;32m---> 13\u001b[0;31m     \u001b[0mid\u001b[0m \u001b[0;34m=\u001b[0m \u001b[0mcomment_ids\u001b[0m\u001b[0;34m[\u001b[0m\u001b[0mcount\u001b[0m\u001b[0;34m]\u001b[0m\u001b[0;34m\u001b[0m\u001b[0;34m\u001b[0m\u001b[0m\n\u001b[0m\u001b[1;32m     14\u001b[0m     \u001b[0mtemp\u001b[0m \u001b[0;34m=\u001b[0m \u001b[0mall_comments\u001b[0m\u001b[0;34m.\u001b[0m\u001b[0mloc\u001b[0m\u001b[0;34m[\u001b[0m\u001b[0mall_comments\u001b[0m\u001b[0;34m[\u001b[0m\u001b[0;34m'parent'\u001b[0m\u001b[0;34m]\u001b[0m\u001b[0;34m==\u001b[0m \u001b[0mid\u001b[0m\u001b[0;34m]\u001b[0m\u001b[0;34m\u001b[0m\u001b[0;34m\u001b[0m\u001b[0m\n\u001b[1;32m     15\u001b[0m     \u001b[0mstory_comments\u001b[0m \u001b[0;34m=\u001b[0m \u001b[0mpd\u001b[0m\u001b[0;34m.\u001b[0m\u001b[0mconcat\u001b[0m\u001b[0;34m(\u001b[0m\u001b[0;34m[\u001b[0m\u001b[0mstory_comments\u001b[0m\u001b[0;34m,\u001b[0m \u001b[0mtemp\u001b[0m\u001b[0;34m]\u001b[0m\u001b[0;34m)\u001b[0m\u001b[0;34m\u001b[0m\u001b[0;34m\u001b[0m\u001b[0m\n",
            "\u001b[0;31mIndexError\u001b[0m: index 24 is out of bounds for axis 0 with size 24"
          ]
        }
      ]
    },
    {
      "cell_type": "code",
      "metadata": {
        "id": "kJ__Y1McF7_P",
        "colab_type": "code",
        "colab": {}
      },
      "source": [
        "print(comments_2017.shape)"
      ],
      "execution_count": 0,
      "outputs": []
    }
  ]
}