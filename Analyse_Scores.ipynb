{
  "nbformat": 4,
  "nbformat_minor": 0,
  "metadata": {
    "colab": {
      "name": "Analyse_Scores.ipynb",
      "provenance": [],
      "include_colab_link": true
    },
    "kernelspec": {
      "name": "python3",
      "display_name": "Python 3"
    }
  },
  "cells": [
    {
      "cell_type": "markdown",
      "metadata": {
        "id": "view-in-github",
        "colab_type": "text"
      },
      "source": [
        "<a href=\"https://colab.research.google.com/github/marinathomas/SentimentAnalysisHN/blob/master/Analyse_Scores.ipynb\" target=\"_parent\"><img src=\"https://colab.research.google.com/assets/colab-badge.svg\" alt=\"Open In Colab\"/></a>"
      ]
    },
    {
      "cell_type": "code",
      "metadata": {
        "id": "AIXwIdhC5D5H",
        "colab_type": "code",
        "outputId": "9a614ef2-a22c-4db4-caf8-3f629658f9c2",
        "colab": {
          "base_uri": "https://localhost:8080/",
          "height": 35
        }
      },
      "source": [
        "import pandas as pd\n",
        "from google.colab import drive\n",
        "import numpy as np\n",
        "\n",
        "\n",
        "drive.mount(\"/content/gdrive\", force_remount=True)"
      ],
      "execution_count": 2,
      "outputs": [
        {
          "output_type": "stream",
          "text": [
            "Mounted at /content/gdrive\n"
          ],
          "name": "stdout"
        }
      ]
    },
    {
      "cell_type": "code",
      "metadata": {
        "id": "PuHlc4vq5c6K",
        "colab_type": "code",
        "colab": {}
      },
      "source": [
        "root_path = \"/content/gdrive/Shared drives/HackerNews:SentimentAnalysis/\""
      ],
      "execution_count": 0,
      "outputs": []
    },
    {
      "cell_type": "code",
      "metadata": {
        "id": "bRjECHCw5J-u",
        "colab_type": "code",
        "outputId": "207f5baf-ce59-499f-bb0a-5af23e656a54",
        "colab": {
          "base_uri": "https://localhost:8080/",
          "height": 479
        }
      },
      "source": [
        "csv_file = root_path +  \"sentiment_analysis_results/scores_and_status_2017.csv\"\n",
        "scores_data = pd.read_csv(csv_file, index_col=None) \n",
        "scores_data.head()"
      ],
      "execution_count": 10,
      "outputs": [
        {
          "output_type": "execute_result",
          "data": {
            "text/html": [
              "<div>\n",
              "<style scoped>\n",
              "    .dataframe tbody tr th:only-of-type {\n",
              "        vertical-align: middle;\n",
              "    }\n",
              "\n",
              "    .dataframe tbody tr th {\n",
              "        vertical-align: top;\n",
              "    }\n",
              "\n",
              "    .dataframe thead th {\n",
              "        text-align: right;\n",
              "    }\n",
              "</style>\n",
              "<table border=\"1\" class=\"dataframe\">\n",
              "  <thead>\n",
              "    <tr style=\"text-align: right;\">\n",
              "      <th></th>\n",
              "      <th>Unnamed: 0</th>\n",
              "      <th>0</th>\n",
              "      <th>title</th>\n",
              "      <th>id</th>\n",
              "      <th>url</th>\n",
              "      <th>hn_score</th>\n",
              "      <th>total_comments</th>\n",
              "      <th>score</th>\n",
              "      <th>active</th>\n",
              "      <th>comments_analysed</th>\n",
              "      <th>ratio</th>\n",
              "    </tr>\n",
              "  </thead>\n",
              "  <tbody>\n",
              "    <tr>\n",
              "      <th>0</th>\n",
              "      <td>0</td>\n",
              "      <td>0</td>\n",
              "      <td>Show HN: Blink my keyboard lights when you vis...</td>\n",
              "      <td>13293894</td>\n",
              "      <td>http://lelandbatey.com/posts/2016/12/Making-li...</td>\n",
              "      <td>87</td>\n",
              "      <td>22</td>\n",
              "      <td>11</td>\n",
              "      <td>True</td>\n",
              "      <td>12</td>\n",
              "      <td>0.916667</td>\n",
              "    </tr>\n",
              "    <tr>\n",
              "      <th>1</th>\n",
              "      <td>1</td>\n",
              "      <td>1</td>\n",
              "      <td>Show HN: Shadowsocks-rust – A fast SOCKSv5 pro...</td>\n",
              "      <td>13294375</td>\n",
              "      <td>https://github.com/loggerhead/shadowsocks-rust</td>\n",
              "      <td>68</td>\n",
              "      <td>6</td>\n",
              "      <td>4</td>\n",
              "      <td>True</td>\n",
              "      <td>5</td>\n",
              "      <td>0.800000</td>\n",
              "    </tr>\n",
              "    <tr>\n",
              "      <th>2</th>\n",
              "      <td>2</td>\n",
              "      <td>2</td>\n",
              "      <td>Show HN: Math Worksheets for Kids</td>\n",
              "      <td>13295049</td>\n",
              "      <td>http://worksheets.guru/</td>\n",
              "      <td>18</td>\n",
              "      <td>8</td>\n",
              "      <td>2</td>\n",
              "      <td>False</td>\n",
              "      <td>2</td>\n",
              "      <td>1.000000</td>\n",
              "    </tr>\n",
              "    <tr>\n",
              "      <th>3</th>\n",
              "      <td>3</td>\n",
              "      <td>3</td>\n",
              "      <td>Show HN: Automated blind control via an Amazon...</td>\n",
              "      <td>13297192</td>\n",
              "      <td>https://jwahawis.github.io/automated-blinds</td>\n",
              "      <td>101</td>\n",
              "      <td>30</td>\n",
              "      <td>7</td>\n",
              "      <td>False</td>\n",
              "      <td>10</td>\n",
              "      <td>0.700000</td>\n",
              "    </tr>\n",
              "    <tr>\n",
              "      <th>4</th>\n",
              "      <td>4</td>\n",
              "      <td>4</td>\n",
              "      <td>Show HN: Mastodon, a federated microblogging n...</td>\n",
              "      <td>13303346</td>\n",
              "      <td>https://mastodon.social</td>\n",
              "      <td>172</td>\n",
              "      <td>61</td>\n",
              "      <td>7</td>\n",
              "      <td>True</td>\n",
              "      <td>19</td>\n",
              "      <td>0.368421</td>\n",
              "    </tr>\n",
              "  </tbody>\n",
              "</table>\n",
              "</div>"
            ],
            "text/plain": [
              "   Unnamed: 0  0  ... comments_analysed     ratio\n",
              "0           0  0  ...                12  0.916667\n",
              "1           1  1  ...                 5  0.800000\n",
              "2           2  2  ...                 2  1.000000\n",
              "3           3  3  ...                10  0.700000\n",
              "4           4  4  ...                19  0.368421\n",
              "\n",
              "[5 rows x 11 columns]"
            ]
          },
          "metadata": {
            "tags": []
          },
          "execution_count": 10
        }
      ]
    },
    {
      "cell_type": "code",
      "metadata": {
        "id": "9S4DDFRU5uod",
        "colab_type": "code",
        "outputId": "8c43bfea-69cc-4706-fbc4-69cde237c481",
        "colab": {
          "base_uri": "https://localhost:8080/",
          "height": 35
        }
      },
      "source": [
        "scores_data['hn_score'].max()"
      ],
      "execution_count": 11,
      "outputs": [
        {
          "output_type": "execute_result",
          "data": {
            "text/plain": [
              "1535"
            ]
          },
          "metadata": {
            "tags": []
          },
          "execution_count": 11
        }
      ]
    },
    {
      "cell_type": "code",
      "metadata": {
        "id": "0sXeFL-D5zFe",
        "colab_type": "code",
        "outputId": "27a24a45-2231-4e75-e392-ad355cc2ce62",
        "colab": {
          "base_uri": "https://localhost:8080/",
          "height": 35
        }
      },
      "source": [
        "scores_data['hn_score'].min()"
      ],
      "execution_count": 12,
      "outputs": [
        {
          "output_type": "execute_result",
          "data": {
            "text/plain": [
              "1"
            ]
          },
          "metadata": {
            "tags": []
          },
          "execution_count": 12
        }
      ]
    },
    {
      "cell_type": "code",
      "metadata": {
        "id": "ERbeV2Bb536D",
        "colab_type": "code",
        "outputId": "50584d96-d711-4a66-cfea-212697547f73",
        "colab": {
          "base_uri": "https://localhost:8080/",
          "height": 35
        }
      },
      "source": [
        "scores_data['hn_score'].mean()"
      ],
      "execution_count": 13,
      "outputs": [
        {
          "output_type": "execute_result",
          "data": {
            "text/plain": [
              "93.87611837577425"
            ]
          },
          "metadata": {
            "tags": []
          },
          "execution_count": 13
        }
      ]
    },
    {
      "cell_type": "markdown",
      "metadata": {
        "id": "2G4wXr166E_u",
        "colab_type": "text"
      },
      "source": [
        "Plot the scores"
      ]
    },
    {
      "cell_type": "code",
      "metadata": {
        "id": "HHFY_YSS58ir",
        "colab_type": "code",
        "colab": {}
      },
      "source": [
        "import matplotlib.pyplot as plt\n"
      ],
      "execution_count": 0,
      "outputs": []
    },
    {
      "cell_type": "code",
      "metadata": {
        "id": "syw_2rNh9l-z",
        "colab_type": "code",
        "outputId": "48899432-8045-416c-952b-03211fe99e56",
        "colab": {
          "base_uri": "https://localhost:8080/",
          "height": 629
        }
      },
      "source": [
        "x = scores_data['0']\n",
        "y = scores_data['hn_score']\n",
        "plt.figure(figsize=(20,10))\n",
        "plt.plot(x, y, 'bo')\n",
        "plt.xticks(np.arange(min(x), max(x)+1, 100))\n",
        "plt.yticks(np.arange(0, max(y)+100, 100))\n",
        "plt.show"
      ],
      "execution_count": 15,
      "outputs": [
        {
          "output_type": "execute_result",
          "data": {
            "text/plain": [
              "<function matplotlib.pyplot.show>"
            ]
          },
          "metadata": {
            "tags": []
          },
          "execution_count": 15
        },
        {
          "output_type": "display_data",
          "data": {
            "image/png": "[encoded data removed]",
            "text/plain": [
              "<Figure size 1440x720 with 1 Axes>"
            ]
          },
          "metadata": {
            "tags": []
          }
        }
      ]
    },
    {
      "cell_type": "code",
      "metadata": {
        "id": "seXvTVpD91CW",
        "colab_type": "code",
        "colab": {}
      },
      "source": [
        "not_active_projects = scores_data.loc[scores_data['active']==False]"
      ],
      "execution_count": 0,
      "outputs": []
    },
    {
      "cell_type": "code",
      "metadata": {
        "id": "IWJr7vPMBlbC",
        "colab_type": "code",
        "outputId": "72df7067-e985-408e-d513-90909486b349",
        "colab": {
          "base_uri": "https://localhost:8080/",
          "height": 339
        }
      },
      "source": [
        "x = not_active_projects['0']\n",
        "y = not_active_projects['hn_score']\n",
        "plt.figure(figsize=(10,5))\n",
        "plt.plot(x, y, 'bo')\n",
        "plt.xticks(np.arange(min(x), max(x)+1, 100))\n",
        "plt.yticks(np.arange(0, max(y)+100, 100))\n",
        "plt.show"
      ],
      "execution_count": 18,
      "outputs": [
        {
          "output_type": "execute_result",
          "data": {
            "text/plain": [
              "<function matplotlib.pyplot.show>"
            ]
          },
          "metadata": {
            "tags": []
          },
          "execution_count": 18
        },
        {
          "output_type": "display_data",
          "data": {
            "image/png": "[encoded data removed]",
            "text/plain": [
              "<Figure size 720x360 with 1 Axes>"
            ]
          },
          "metadata": {
            "tags": []
          }
        }
      ]
    },
    {
      "cell_type": "code",
      "metadata": {
        "id": "KNagAZWxCUaM",
        "colab_type": "code",
        "outputId": "cd558bdc-7482-4e04-8408-61570a8ab0ac",
        "colab": {
          "base_uri": "https://localhost:8080/",
          "height": 337
        }
      },
      "source": [
        "x = not_active_projects['0']\n",
        "y = not_active_projects['ratio']\n",
        "plt.figure(figsize=(10,5))\n",
        "plt.plot(x, y, 'bo')\n",
        "plt.xticks(np.arange(0, max(x)+1, 100))\n",
        "plt.yticks(np.arange(-1, max(y)+.1, 0.1))\n",
        "plt.show"
      ],
      "execution_count": 20,
      "outputs": [
        {
          "output_type": "execute_result",
          "data": {
            "text/plain": [
              "<function matplotlib.pyplot.show>"
            ]
          },
          "metadata": {
            "tags": []
          },
          "execution_count": 20
        },
        {
          "output_type": "display_data",
          "data": {
            "image/png": "[encoded data removed]",
            "text/plain": [
              "<Figure size 720x360 with 1 Axes>"
            ]
          },
          "metadata": {
            "tags": []
          }
        }
      ]
    },
    {
      "cell_type": "code",
      "metadata": {
        "id": "fFSz8fc6j9xW",
        "colab_type": "code",
        "colab": {}
      },
      "source": [
        "active_projects = scores_data.loc[scores_data['active']==True]"
      ],
      "execution_count": 0,
      "outputs": []
    },
    {
      "cell_type": "code",
      "metadata": {
        "id": "fFYMQNdRkD_3",
        "colab_type": "code",
        "colab": {
          "base_uri": "https://localhost:8080/",
          "height": 337
        },
        "outputId": "70f4fcc9-2111-4a7a-847e-723a387f998c"
      },
      "source": [
        "x = active_projects['0']\n",
        "y = active_projects['ratio']\n",
        "plt.figure(figsize=(10,5))\n",
        "plt.plot(x, y, 'bo')\n",
        "plt.xticks(np.arange(0, max(x)+1, 100))\n",
        "plt.yticks(np.arange(-1, max(y)+.1, 0.1))\n",
        "plt.show"
      ],
      "execution_count": 23,
      "outputs": [
        {
          "output_type": "execute_result",
          "data": {
            "text/plain": [
              "<function matplotlib.pyplot.show>"
            ]
          },
          "metadata": {
            "tags": []
          },
          "execution_count": 23
        },
        {
          "output_type": "display_data",
          "data": {
            "image/png": "[encoded data removed]",
            "text/plain": [
              "<Figure size 720x360 with 1 Axes>"
            ]
          },
          "metadata": {
            "tags": []
          }
        }
      ]
    },
    {
      "cell_type": "markdown",
      "metadata": {
        "id": "uJ9sr8RXkpNL",
        "colab_type": "text"
      },
      "source": [
        "Need to check the stories with negative score and active URL"
      ]
    },
    {
      "cell_type": "code",
      "metadata": {
        "id": "Pv_xtxoMknu5",
        "colab_type": "code",
        "colab": {}
      },
      "source": [
        "active_projects_negative_scores = active_projects.loc[active_projects['score']<0]"
      ],
      "execution_count": 0,
      "outputs": []
    },
    {
      "cell_type": "code",
      "metadata": {
        "id": "egxGVYQQmmYY",
        "colab_type": "code",
        "colab": {
          "base_uri": "https://localhost:8080/",
          "height": 410
        },
        "outputId": "b15953d4-9dff-4bba-d838-c15a67212893"
      },
      "source": [
        "active_projects_negative_scores.head()"
      ],
      "execution_count": 25,
      "outputs": [
        {
          "output_type": "execute_result",
          "data": {
            "text/html": [
              "<div>\n",
              "<style scoped>\n",
              "    .dataframe tbody tr th:only-of-type {\n",
              "        vertical-align: middle;\n",
              "    }\n",
              "\n",
              "    .dataframe tbody tr th {\n",
              "        vertical-align: top;\n",
              "    }\n",
              "\n",
              "    .dataframe thead th {\n",
              "        text-align: right;\n",
              "    }\n",
              "</style>\n",
              "<table border=\"1\" class=\"dataframe\">\n",
              "  <thead>\n",
              "    <tr style=\"text-align: right;\">\n",
              "      <th></th>\n",
              "      <th>Unnamed: 0</th>\n",
              "      <th>0</th>\n",
              "      <th>title</th>\n",
              "      <th>id</th>\n",
              "      <th>url</th>\n",
              "      <th>hn_score</th>\n",
              "      <th>total_comments</th>\n",
              "      <th>score</th>\n",
              "      <th>active</th>\n",
              "      <th>comments_analysed</th>\n",
              "      <th>ratio</th>\n",
              "    </tr>\n",
              "  </thead>\n",
              "  <tbody>\n",
              "    <tr>\n",
              "      <th>25</th>\n",
              "      <td>25</td>\n",
              "      <td>25</td>\n",
              "      <td>Show HN: Simple Multiplayer 3D render with thr...</td>\n",
              "      <td>13349625</td>\n",
              "      <td>http://juanpabloaj.com/t38t/</td>\n",
              "      <td>20</td>\n",
              "      <td>10</td>\n",
              "      <td>-1</td>\n",
              "      <td>True</td>\n",
              "      <td>1</td>\n",
              "      <td>-1.000000</td>\n",
              "    </tr>\n",
              "    <tr>\n",
              "      <th>44</th>\n",
              "      <td>44</td>\n",
              "      <td>44</td>\n",
              "      <td>Show HN: Chrome UI built with web stack</td>\n",
              "      <td>13380999</td>\n",
              "      <td>https://github.com/pd4d10/chrome-ui/</td>\n",
              "      <td>11</td>\n",
              "      <td>13</td>\n",
              "      <td>-2</td>\n",
              "      <td>True</td>\n",
              "      <td>4</td>\n",
              "      <td>-0.500000</td>\n",
              "    </tr>\n",
              "    <tr>\n",
              "      <th>67</th>\n",
              "      <td>67</td>\n",
              "      <td>67</td>\n",
              "      <td>Show HN: A platform to run early job interview...</td>\n",
              "      <td>13427728</td>\n",
              "      <td>https://impress.ai/client/signup/</td>\n",
              "      <td>1</td>\n",
              "      <td>9</td>\n",
              "      <td>-1</td>\n",
              "      <td>True</td>\n",
              "      <td>1</td>\n",
              "      <td>-1.000000</td>\n",
              "    </tr>\n",
              "    <tr>\n",
              "      <th>78</th>\n",
              "      <td>78</td>\n",
              "      <td>78</td>\n",
              "      <td>Show HN: Boilerplate for Node.js and TypeScrip...</td>\n",
              "      <td>13455247</td>\n",
              "      <td>https://github.com/jsynowiec/node-typescript-b...</td>\n",
              "      <td>33</td>\n",
              "      <td>29</td>\n",
              "      <td>-1</td>\n",
              "      <td>True</td>\n",
              "      <td>5</td>\n",
              "      <td>-0.200000</td>\n",
              "    </tr>\n",
              "    <tr>\n",
              "      <th>205</th>\n",
              "      <td>205</td>\n",
              "      <td>205</td>\n",
              "      <td>Show HN: AVR-VM – VM with JIT-compiler for ATM...</td>\n",
              "      <td>13695006</td>\n",
              "      <td>https://github.com/MackieLoeffel/avr-vm</td>\n",
              "      <td>78</td>\n",
              "      <td>11</td>\n",
              "      <td>-1</td>\n",
              "      <td>True</td>\n",
              "      <td>3</td>\n",
              "      <td>-0.333333</td>\n",
              "    </tr>\n",
              "  </tbody>\n",
              "</table>\n",
              "</div>"
            ],
            "text/plain": [
              "     Unnamed: 0    0  ... comments_analysed     ratio\n",
              "25           25   25  ...                 1 -1.000000\n",
              "44           44   44  ...                 4 -0.500000\n",
              "67           67   67  ...                 1 -1.000000\n",
              "78           78   78  ...                 5 -0.200000\n",
              "205         205  205  ...                 3 -0.333333\n",
              "\n",
              "[5 rows x 11 columns]"
            ]
          },
          "metadata": {
            "tags": []
          },
          "execution_count": 25
        }
      ]
    },
    {
      "cell_type": "markdown",
      "metadata": {
        "id": "M3BYCmiqniPL",
        "colab_type": "text"
      },
      "source": [
        "impress.ai - Index 67 in above table\n",
        "\n",
        "Checkout https://news.ycombinator.com/item?id=13427728\n",
        "\n",
        "https://e27.co/singaporean-chatbot-platform-for-recruiters-impress-ai-closes-us1-2m-seed-round-20181001/"
      ]
    }
  ]
}