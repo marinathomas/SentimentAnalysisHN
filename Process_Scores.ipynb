{
  "nbformat": 4,
  "nbformat_minor": 0,
  "metadata": {
    "colab": {
      "name": "Process_Scores.ipynb",
      "provenance": [],
      "include_colab_link": true
    },
    "kernelspec": {
      "name": "python3",
      "display_name": "Python 3"
    }
  },
  "cells": [
    {
      "cell_type": "markdown",
      "metadata": {
        "id": "view-in-github",
        "colab_type": "text"
      },
      "source": [
        "<a href=\"https://colab.research.google.com/github/marinathomas/SentimentAnalysisHN/blob/master/Process_Scores.ipynb\" target=\"_parent\"><img src=\"https://colab.research.google.com/assets/colab-badge.svg\" alt=\"Open In Colab\"/></a>"
      ]
    },
    {
      "cell_type": "code",
      "metadata": {
        "id": "Fyt-5TS98zQY",
        "colab_type": "code",
        "outputId": "1ab043d1-cbdd-4f96-a527-7643384e860a",
        "colab": {
          "base_uri": "https://localhost:8080/",
          "height": 34
        }
      },
      "source": [
        "import csv\n",
        "from google.colab import drive\n",
        "import pandas as pd\n",
        "\n",
        "\n",
        "drive.mount(\"/content/gdrive\")"
      ],
      "execution_count": 0,
      "outputs": [
        {
          "output_type": "stream",
          "text": [
            "Drive already mounted at /content/gdrive; to attempt to forcibly remount, call drive.mount(\"/content/gdrive\", force_remount=True).\n"
          ],
          "name": "stdout"
        }
      ]
    },
    {
      "cell_type": "code",
      "metadata": {
        "id": "PlGzX1bX9S8F",
        "colab_type": "code",
        "colab": {}
      },
      "source": [
        "root_path = \"/content/gdrive/Shared drives/HackerNews:SentimentAnalysis/\""
      ],
      "execution_count": 0,
      "outputs": []
    },
    {
      "cell_type": "code",
      "metadata": {
        "id": "mwsQGrzk9YS5",
        "colab_type": "code",
        "outputId": "41bc6746-71b5-4705-bb68-3fa9b8874856",
        "colab": {
          "base_uri": "https://localhost:8080/",
          "height": 225
        }
      },
      "source": [
        "csv_file = root_path +  \"sentiment_analysis_results/scores_stories_with_comments_2017.csv\"\n",
        "scores_data = pd.read_csv(csv_file, header=None, index_col=0) \n",
        "scores_data.head()\n"
      ],
      "execution_count": 0,
      "outputs": [
        {
          "output_type": "execute_result",
          "data": {
            "text/html": [
              "<div>\n",
              "<style scoped>\n",
              "    .dataframe tbody tr th:only-of-type {\n",
              "        vertical-align: middle;\n",
              "    }\n",
              "\n",
              "    .dataframe tbody tr th {\n",
              "        vertical-align: top;\n",
              "    }\n",
              "\n",
              "    .dataframe thead th {\n",
              "        text-align: right;\n",
              "    }\n",
              "</style>\n",
              "<table border=\"1\" class=\"dataframe\">\n",
              "  <thead>\n",
              "    <tr style=\"text-align: right;\">\n",
              "      <th></th>\n",
              "      <th>1</th>\n",
              "      <th>2</th>\n",
              "      <th>3</th>\n",
              "      <th>4</th>\n",
              "      <th>5</th>\n",
              "      <th>6</th>\n",
              "    </tr>\n",
              "    <tr>\n",
              "      <th>0</th>\n",
              "      <th></th>\n",
              "      <th></th>\n",
              "      <th></th>\n",
              "      <th></th>\n",
              "      <th></th>\n",
              "      <th></th>\n",
              "    </tr>\n",
              "  </thead>\n",
              "  <tbody>\n",
              "    <tr>\n",
              "      <th>0</th>\n",
              "      <td>Show HN: Blink my keyboard lights when you vis...</td>\n",
              "      <td>13293894</td>\n",
              "      <td>http://lelandbatey.com/posts/2016/12/Making-li...</td>\n",
              "      <td>87</td>\n",
              "      <td>22</td>\n",
              "      <td>11</td>\n",
              "    </tr>\n",
              "    <tr>\n",
              "      <th>1</th>\n",
              "      <td>Show HN: Shadowsocks-rust – A fast SOCKSv5 pro...</td>\n",
              "      <td>13294375</td>\n",
              "      <td>https://github.com/loggerhead/shadowsocks-rust</td>\n",
              "      <td>68</td>\n",
              "      <td>6</td>\n",
              "      <td>4</td>\n",
              "    </tr>\n",
              "    <tr>\n",
              "      <th>2</th>\n",
              "      <td>Show HN: Math Worksheets for Kids</td>\n",
              "      <td>13295049</td>\n",
              "      <td>http://worksheets.guru/</td>\n",
              "      <td>18</td>\n",
              "      <td>8</td>\n",
              "      <td>2</td>\n",
              "    </tr>\n",
              "    <tr>\n",
              "      <th>3</th>\n",
              "      <td>Show HN: Automated blind control via an Amazon...</td>\n",
              "      <td>13297192</td>\n",
              "      <td>https://jwahawis.github.io/automated-blinds</td>\n",
              "      <td>101</td>\n",
              "      <td>30</td>\n",
              "      <td>7</td>\n",
              "    </tr>\n",
              "    <tr>\n",
              "      <th>4</th>\n",
              "      <td>Show HN: Mastodon, a federated microblogging n...</td>\n",
              "      <td>13303346</td>\n",
              "      <td>https://mastodon.social</td>\n",
              "      <td>172</td>\n",
              "      <td>61</td>\n",
              "      <td>7</td>\n",
              "    </tr>\n",
              "  </tbody>\n",
              "</table>\n",
              "</div>"
            ],
            "text/plain": [
              "                                                   1         2  ...   5   6\n",
              "0                                                               ...        \n",
              "0  Show HN: Blink my keyboard lights when you vis...  13293894  ...  22  11\n",
              "1  Show HN: Shadowsocks-rust – A fast SOCKSv5 pro...  13294375  ...   6   4\n",
              "2                  Show HN: Math Worksheets for Kids  13295049  ...   8   2\n",
              "3  Show HN: Automated blind control via an Amazon...  13297192  ...  30   7\n",
              "4  Show HN: Mastodon, a federated microblogging n...  13303346  ...  61   7\n",
              "\n",
              "[5 rows x 6 columns]"
            ]
          },
          "metadata": {
            "tags": []
          },
          "execution_count": 7
        }
      ]
    },
    {
      "cell_type": "code",
      "metadata": {
        "id": "Vp0jMefC_Naj",
        "colab_type": "code",
        "colab": {}
      },
      "source": [
        "from dateutil.parser import parse\n",
        "from datetime import datetime\n",
        "import numpy as np\n",
        "import requests\n",
        "from requests.exceptions import HTTPError\n",
        "\n",
        "def get_activity(row):\n",
        "    try:\n",
        "        url = row[3]\n",
        "        if url.find('github.io') != -1:\n",
        "            url_path = url.split('/')\n",
        "            url = 'https://api.github.com/repos/' + url_path[3] + '/' + url_path[4] + '/stats/code_frequency'\n",
        "            response = requests.get(url, headers={'Authorization': 'token '},)\n",
        "            res_json = response.json()\n",
        "            story_post_ts = datetime.timestamp(parse(row['timestamp']))\n",
        "            if type(res_json) == list:\n",
        "                for week_change in res_json:\n",
        "                    interval = week_change[0] - story_post_ts\n",
        "                    if interval >= 26 * 3600 *24 * 7 and interval <= 52 * 3600 * 24 * 7 and abs(week_change[1]) + abs(week_change[2]) != 0:\n",
        "                        return True\n",
        "                return False\n",
        "            else:\n",
        "                return False\n",
        "        else:\n",
        "            response = requests.get(url, headers={'Authorization': 'token '},)\n",
        "            if response.status_code >= 200 and response.status_code < 300:\n",
        "                return True\n",
        "            else:\n",
        "                return False\n",
        "    except Exception as e:\n",
        "        print(str(e))\n",
        "        return False"
      ],
      "execution_count": 0,
      "outputs": []
    },
    {
      "cell_type": "code",
      "metadata": {
        "id": "2vr172eEANYZ",
        "colab_type": "code",
        "outputId": "c36a0207-d27b-4289-c4b7-738bd1fc0387",
        "colab": {
          "base_uri": "https://localhost:8080/",
          "height": 1000
        }
      },
      "source": [
        "scores_data['query_url'] = scores_data.apply(get_activity, axis=1)"
      ],
      "execution_count": 0,
      "outputs": [
        {
          "output_type": "stream",
          "text": [
            "HTTPConnectionPool(host='worksheets.guru', port=80): Max retries exceeded with url: / (Caused by NewConnectionError('<urllib3.connection.HTTPConnection object at 0x7f7b58310b00>: Failed to establish a new connection: [Errno -2] Name or service not known',))\n",
            "list index out of range\n",
            "HTTPSConnectionPool(host='www.musicvideodispenser.com', port=443): Max retries exceeded with url: / (Caused by NewConnectionError('<urllib3.connection.VerifiedHTTPSConnection object at 0x7f7b580f19b0>: Failed to establish a new connection: [Errno -2] Name or service not known',))\n",
            "HTTPSConnectionPool(host='www.ballotter.com', port=443): Max retries exceeded with url: / (Caused by NewConnectionError('<urllib3.connection.VerifiedHTTPSConnection object at 0x7f7b580f1160>: Failed to establish a new connection: [Errno 110] Connection timed out',))\n",
            "HTTPConnectionPool(host='fastnews.me', port=80): Max retries exceeded with url: / (Caused by NewConnectionError('<urllib3.connection.HTTPConnection object at 0x7f7b580f1828>: Failed to establish a new connection: [Errno -2] Name or service not known',))\n",
            "'timestamp'\n",
            "HTTPSConnectionPool(host='2017.sucks', port=443): Max retries exceeded with url: / (Caused by NewConnectionError('<urllib3.connection.VerifiedHTTPSConnection object at 0x7f7b580f14e0>: Failed to establish a new connection: [Errno -2] Name or service not known',))\n",
            "'timestamp'\n",
            "HTTPSConnectionPool(host='www.larrywildman.com', port=443): Max retries exceeded with url: / (Caused by SSLError(CertificateError(\"hostname 'www.larrywildman.com' doesn't match either of 'ip6.ultra-server.jp', 'www.ip6.ultra-server.jp'\",),))\n",
            "HTTPConnectionPool(host='atyay.xyz', port=80): Max retries exceeded with url: / (Caused by NewConnectionError('<urllib3.connection.HTTPConnection object at 0x7f7b580f1438>: Failed to establish a new connection: [Errno -2] Name or service not known',))\n",
            "HTTPSConnectionPool(host='www.wiplo.com', port=443): Max retries exceeded with url: / (Caused by NewConnectionError('<urllib3.connection.VerifiedHTTPSConnection object at 0x7f7b580f1780>: Failed to establish a new connection: [Errno -2] Name or service not known',))\n",
            "HTTPSConnectionPool(host='pixel.shodan.me', port=443): Max retries exceeded with url: /streaming (Caused by NewConnectionError('<urllib3.connection.VerifiedHTTPSConnection object at 0x7f7b580f1438>: Failed to establish a new connection: [Errno 111] Connection refused',))\n",
            "'timestamp'\n",
            "HTTPConnectionPool(host='rxjs-diagrams.com', port=80): Max retries exceeded with url: / (Caused by NewConnectionError('<urllib3.connection.HTTPConnection object at 0x7f7b5824c080>: Failed to establish a new connection: [Errno -2] Name or service not known',))\n",
            "HTTPConnectionPool(host='tenpree.com', port=80): Max retries exceeded with url: / (Caused by NewConnectionError('<urllib3.connection.HTTPConnection object at 0x7f7b5824cbe0>: Failed to establish a new connection: [Errno -2] Name or service not known',))\n",
            "HTTPSConnectionPool(host='jsonbrowse.com', port=443): Max retries exceeded with url: / (Caused by SSLError(SSLError(1, '[SSL: CERTIFICATE_VERIFY_FAILED] certificate verify failed (_ssl.c:852)'),))\n",
            "HTTPSConnectionPool(host='wiki.shamdasani.org', port=443): Max retries exceeded with url: / (Caused by SSLError(CertificateError(\"hostname 'wiki.shamdasani.org' doesn't match either of '*.github.com', 'github.com', '*.github.io', 'github.io'\",),))\n",
            "HTTPSConnectionPool(host='www.skytorrents.in', port=443): Max retries exceeded with url: / (Caused by SSLError(CertificateError(\"hostname 'www.skytorrents.in' doesn't match either of '*.parkingcrew.net', 'parkingcrew.net'\",),))\n",
            "HTTPSConnectionPool(host='settle.network', port=443): Max retries exceeded with url: /posts/intro/?attempt=6 (Caused by NewConnectionError('<urllib3.connection.VerifiedHTTPSConnection object at 0x7f7b580f1940>: Failed to establish a new connection: [Errno -5] No address associated with hostname',))\n",
            "HTTPSConnectionPool(host='usefinch.co', port=443): Max retries exceeded with url: / (Caused by NewConnectionError('<urllib3.connection.VerifiedHTTPSConnection object at 0x7f7b580f1978>: Failed to establish a new connection: [Errno 111] Connection refused',))\n",
            "HTTPConnectionPool(host='language-monster.com', port=80): Max retries exceeded with url: / (Caused by NewConnectionError('<urllib3.connection.HTTPConnection object at 0x7f7b5824cc88>: Failed to establish a new connection: [Errno -2] Name or service not known',))\n",
            "'float' object has no attribute 'find'\n",
            "HTTPConnectionPool(host='www.datapie.in', port=80): Max retries exceeded with url: / (Caused by NewConnectionError('<urllib3.connection.HTTPConnection object at 0x7f7b580f27b8>: Failed to establish a new connection: [Errno -2] Name or service not known',))\n",
            "HTTPConnectionPool(host='hn10.org', port=80): Max retries exceeded with url: /index.html (Caused by NewConnectionError('<urllib3.connection.HTTPConnection object at 0x7f7b580f2828>: Failed to establish a new connection: [Errno -2] Name or service not known',))\n",
            "HTTPSConnectionPool(host='quibbler.press', port=443): Max retries exceeded with url: / (Caused by NewConnectionError('<urllib3.connection.VerifiedHTTPSConnection object at 0x7f7b580f2160>: Failed to establish a new connection: [Errno -2] Name or service not known',))\n",
            "HTTPSConnectionPool(host='strandedbytrump.com', port=443): Max retries exceeded with url: / (Caused by NewConnectionError('<urllib3.connection.VerifiedHTTPSConnection object at 0x7f7b580f2ef0>: Failed to establish a new connection: [Errno -2] Name or service not known',))\n",
            "HTTPSConnectionPool(host='www.robotsroundrobin.com', port=443): Max retries exceeded with url: / (Caused by SSLError(SSLError(1, '[SSL: TLSV1_ALERT_INTERNAL_ERROR] tlsv1 alert internal error (_ssl.c:852)'),))\n",
            "HTTPSConnectionPool(host='parale.la', port=443): Max retries exceeded with url: / (Caused by NewConnectionError('<urllib3.connection.VerifiedHTTPSConnection object at 0x7f7b580f2240>: Failed to establish a new connection: [Errno 111] Connection refused',))\n",
            "HTTPSConnectionPool(host='nochio.com', port=443): Max retries exceeded with url: / (Caused by NewConnectionError('<urllib3.connection.VerifiedHTTPSConnection object at 0x7f7b5824c7f0>: Failed to establish a new connection: [Errno 110] Connection timed out',))\n",
            "'float' object has no attribute 'find'\n",
            "'float' object has no attribute 'find'\n",
            "'timestamp'\n",
            "list index out of range\n",
            "HTTPSConnectionPool(host='scaley.io', port=443): Max retries exceeded with url: / (Caused by NewConnectionError('<urllib3.connection.VerifiedHTTPSConnection object at 0x7f7b581374e0>: Failed to establish a new connection: [Errno -2] Name or service not known',))\n",
            "HTTPSConnectionPool(host='robotandpuppy.com', port=443): Max retries exceeded with url: / (Caused by NewConnectionError('<urllib3.connection.VerifiedHTTPSConnection object at 0x7f7b581379e8>: Failed to establish a new connection: [Errno 111] Connection refused',))\n",
            "HTTPSConnectionPool(host='we-freelance.com', port=443): Max retries exceeded with url: / (Caused by NewConnectionError('<urllib3.connection.VerifiedHTTPSConnection object at 0x7f7b58310780>: Failed to establish a new connection: [Errno -2] Name or service not known',))\n",
            "HTTPSConnectionPool(host='mrnode.tk', port=443): Max retries exceeded with url: / (Caused by NewConnectionError('<urllib3.connection.VerifiedHTTPSConnection object at 0x7f7b5824c7f0>: Failed to establish a new connection: [Errno 110] Connection timed out',))\n",
            "HTTPSConnectionPool(host='rumuki.com', port=443): Max retries exceeded with url: / (Caused by SSLError(SSLError(1, '[SSL: CERTIFICATE_VERIFY_FAILED] certificate verify failed (_ssl.c:852)'),))\n",
            "HTTPSConnectionPool(host='deepui.io', port=443): Max retries exceeded with url: / (Caused by NewConnectionError('<urllib3.connection.VerifiedHTTPSConnection object at 0x7f7b580f1470>: Failed to establish a new connection: [Errno -2] Name or service not known',))\n",
            "'float' object has no attribute 'find'\n",
            "'timestamp'\n",
            "HTTPSConnectionPool(host='coinvend.io', port=443): Max retries exceeded with url: /Kamakara (Caused by NewConnectionError('<urllib3.connection.VerifiedHTTPSConnection object at 0x7f7b580f10b8>: Failed to establish a new connection: [Errno -2] Name or service not known',))\n",
            "HTTPConnectionPool(host='dollarleanclub.com', port=80): Max retries exceeded with url: / (Caused by NewConnectionError('<urllib3.connection.HTTPConnection object at 0x7f7b58137320>: Failed to establish a new connection: [Errno -2] Name or service not known',))\n",
            "'timestamp'\n",
            "'float' object has no attribute 'find'\n",
            "HTTPSConnectionPool(host='tripartisan.io', port=443): Max retries exceeded with url: / (Caused by NewConnectionError('<urllib3.connection.VerifiedHTTPSConnection object at 0x7f7b580f1860>: Failed to establish a new connection: [Errno -2] Name or service not known',))\n",
            "'timestamp'\n",
            "HTTPSConnectionPool(host='www.omichronouswatches.com', port=443): Max retries exceeded with url: /products/bamboo-watch-w-green-backgroundmen (Caused by NewConnectionError('<urllib3.connection.VerifiedHTTPSConnection object at 0x7f7b58137208>: Failed to establish a new connection: [Errno -2] Name or service not known',))\n",
            "HTTPSConnectionPool(host='www.easele.com', port=443): Max retries exceeded with url: /favicon-generator (Caused by SSLError(SSLError(1, '[SSL: CERTIFICATE_VERIFY_FAILED] certificate verify failed (_ssl.c:852)'),))\n",
            "HTTPConnectionPool(host='www.irentaway.com', port=80): Max retries exceeded with url: / (Caused by NewConnectionError('<urllib3.connection.HTTPConnection object at 0x7f7b58137198>: Failed to establish a new connection: [Errno -2] Name or service not known',))\n",
            "'timestamp'\n",
            "'float' object has no attribute 'find'\n",
            "'timestamp'\n",
            "list index out of range\n",
            "HTTPSConnectionPool(host='textcal.com', port=443): Max retries exceeded with url: /?v=3 (Caused by SSLError(SSLError(1, '[SSL: CERTIFICATE_VERIFY_FAILED] certificate verify failed (_ssl.c:852)'),))\n",
            "HTTPSConnectionPool(host='frop.io', port=443): Max retries exceeded with url: / (Caused by NewConnectionError('<urllib3.connection.VerifiedHTTPSConnection object at 0x7f7b580f24a8>: Failed to establish a new connection: [Errno -2] Name or service not known',))\n",
            "HTTPConnectionPool(host='www.tenence.com', port=80): Max retries exceeded with url: / (Caused by NewConnectionError('<urllib3.connection.HTTPConnection object at 0x7f7b580f2b70>: Failed to establish a new connection: [Errno -2] Name or service not known',))\n",
            "HTTPSConnectionPool(host='freewriting.club', port=443): Max retries exceeded with url: / (Caused by SSLError(CertificateError(\"hostname 'freewriting.club' doesn't match either of 'kramkarthik.com', 'www.kramkarthik.com'\",),))\n",
            "HTTPConnectionPool(host='www.prandtl.design', port=80): Max retries exceeded with url: /sandbox (Caused by NewConnectionError('<urllib3.connection.HTTPConnection object at 0x7f7b580f2048>: Failed to establish a new connection: [Errno -2] Name or service not known',))\n",
            "'timestamp'\n",
            "HTTPConnectionPool(host='blog.glider5.com', port=80): Max retries exceeded with url: /2017/03/06/glider-quora-with-code/ (Caused by NewConnectionError('<urllib3.connection.HTTPConnection object at 0x7f7b580f2a58>: Failed to establish a new connection: [Errno -2] Name or service not known',))\n",
            "HTTPSConnectionPool(host='nofile.io', port=443): Max retries exceeded with url: / (Caused by NewConnectionError('<urllib3.connection.VerifiedHTTPSConnection object at 0x7f7b580f2898>: Failed to establish a new connection: [Errno -2] Name or service not known',))\n",
            "HTTPSConnectionPool(host='wallofstickers.com', port=443): Max retries exceeded with url: / (Caused by NewConnectionError('<urllib3.connection.VerifiedHTTPSConnection object at 0x7f7b580f2588>: Failed to establish a new connection: [Errno -2] Name or service not known',))\n",
            "HTTPSConnectionPool(host='gitly.io', port=443): Max retries exceeded with url: / (Caused by NewConnectionError('<urllib3.connection.VerifiedHTTPSConnection object at 0x7f7b580f2940>: Failed to establish a new connection: [Errno -2] Name or service not known',))\n",
            "'float' object has no attribute 'find'\n",
            "HTTPSConnectionPool(host='timeboundapp.com', port=443): Max retries exceeded with url: / (Caused by NewConnectionError('<urllib3.connection.VerifiedHTTPSConnection object at 0x7f7b580f2ef0>: Failed to establish a new connection: [Errno 110] Connection timed out',))\n",
            "'float' object has no attribute 'find'\n",
            "'timestamp'\n",
            "HTTPSConnectionPool(host='www.podcastlist.io', port=443): Max retries exceeded with url: / (Caused by NewConnectionError('<urllib3.connection.VerifiedHTTPSConnection object at 0x7f7b583105c0>: Failed to establish a new connection: [Errno 110] Connection timed out',))\n",
            "Exceeded 30 redirects.\n",
            "('Connection aborted.', OSError(0, 'Error'))\n",
            "HTTPConnectionPool(host='spreadserve.com', port=80): Max retries exceeded with url: / (Caused by NewConnectionError('<urllib3.connection.HTTPConnection object at 0x7f7b58137b00>: Failed to establish a new connection: [Errno 110] Connection timed out',))\n",
            "('Connection aborted.', ConnectionResetError(104, 'Connection reset by peer'))\n",
            "HTTPSConnectionPool(host='centi.in', port=443): Max retries exceeded with url: / (Caused by NewConnectionError('<urllib3.connection.VerifiedHTTPSConnection object at 0x7f7b57c1afd0>: Failed to establish a new connection: [Errno -5] No address associated with hostname',))\n",
            "HTTPSConnectionPool(host='monique.io', port=443): Max retries exceeded with url: / (Caused by NewConnectionError('<urllib3.connection.VerifiedHTTPSConnection object at 0x7f7b57c1a588>: Failed to establish a new connection: [Errno -5] No address associated with hostname',))\n",
            "HTTPSConnectionPool(host='bugg.ly', port=443): Max retries exceeded with url: /?ref=HN (Caused by NewConnectionError('<urllib3.connection.VerifiedHTTPSConnection object at 0x7f7b57c1ae80>: Failed to establish a new connection: [Errno -2] Name or service not known',))\n",
            "HTTPSConnectionPool(host='rime.co', port=443): Max retries exceeded with url: / (Caused by SSLError(CertificateError(\"hostname 'rime.co' doesn't match either of 'hoodopolis.com', '*.hoodopolis.com', 'offermanager.ca', '*.offermanager.ca', 'realtydisclosures.ca', '*.realtydisclosures.ca', 'app.salesboss.com', '*.salesboss.com', '*.fabsheets.com', 'fabsheets.com'\",),))\n",
            "HTTPSConnectionPool(host='www.calltheusafree.com', port=443): Max retries exceeded with url: / (Caused by NewConnectionError('<urllib3.connection.VerifiedHTTPSConnection object at 0x7f7b57c1add8>: Failed to establish a new connection: [Errno -2] Name or service not known',))\n",
            "HTTPSConnectionPool(host='www.smartyplantsapp.com', port=443): Max retries exceeded with url: / (Caused by SSLError(SSLError(1, '[SSL: CERTIFICATE_VERIFY_FAILED] certificate verify failed (_ssl.c:852)'),))\n",
            "HTTPSConnectionPool(host='prehave.com', port=443): Max retries exceeded with url: /p/prehave (Caused by NewConnectionError('<urllib3.connection.VerifiedHTTPSConnection object at 0x7f7b57c81550>: Failed to establish a new connection: [Errno -2] Name or service not known',))\n",
            "'timestamp'\n",
            "HTTPSConnectionPool(host='www.spreadsheetdb.io', port=443): Max retries exceeded with url: / (Caused by NewConnectionError('<urllib3.connection.VerifiedHTTPSConnection object at 0x7f7b58137eb8>: Failed to establish a new connection: [Errno -2] Name or service not known',))\n",
            "HTTPSConnectionPool(host='www.sawtooth.io', port=443): Max retries exceeded with url: / (Caused by NewConnectionError('<urllib3.connection.VerifiedHTTPSConnection object at 0x7f7b57c81eb8>: Failed to establish a new connection: [Errno -2] Name or service not known',))\n",
            "HTTPSConnectionPool(host='deepstreamhub.com', port=443): Max retries exceeded with url: / (Caused by SSLError(SSLError(1, '[SSL: CERTIFICATE_VERIFY_FAILED] certificate verify failed (_ssl.c:852)'),))\n",
            "'float' object has no attribute 'find'\n",
            "'timestamp'\n",
            "'float' object has no attribute 'find'\n",
            "HTTPSConnectionPool(host='tux.io', port=443): Max retries exceeded with url: / (Caused by NewConnectionError('<urllib3.connection.VerifiedHTTPSConnection object at 0x7f7b57c81f28>: Failed to establish a new connection: [Errno -5] No address associated with hostname',))\n",
            "HTTPConnectionPool(host='www.veropost.com', port=80): Max retries exceeded with url: / (Caused by NewConnectionError('<urllib3.connection.HTTPConnection object at 0x7f7b57c1aa20>: Failed to establish a new connection: [Errno -2] Name or service not known',))\n",
            "'float' object has no attribute 'find'\n",
            "('Connection aborted.', RemoteDisconnected('Remote end closed connection without response',))\n",
            "'timestamp'\n",
            "HTTPConnectionPool(host='remindmebro.com', port=80): Max retries exceeded with url: / (Caused by NewConnectionError('<urllib3.connection.HTTPConnection object at 0x7f7b57c154a8>: Failed to establish a new connection: [Errno 110] Connection timed out',))\n",
            "list index out of range\n",
            "HTTPSConnectionPool(host='vatmossapi.com', port=443): Max retries exceeded with url: / (Caused by NewConnectionError('<urllib3.connection.VerifiedHTTPSConnection object at 0x7f7b57c15748>: Failed to establish a new connection: [Errno 113] No route to host',))\n",
            "HTTPConnectionPool(host='the8hour.diet', port=80): Max retries exceeded with url: / (Caused by NewConnectionError('<urllib3.connection.HTTPConnection object at 0x7f7b57c257f0>: Failed to establish a new connection: [Errno -2] Name or service not known',))\n",
            "HTTPSConnectionPool(host='www.docgen.io', port=443): Max retries exceeded with url: / (Caused by NewConnectionError('<urllib3.connection.VerifiedHTTPSConnection object at 0x7f7b57c25518>: Failed to establish a new connection: [Errno 111] Connection refused',))\n",
            "HTTPSConnectionPool(host='pagerocket.xyz', port=443): Max retries exceeded with url: / (Caused by SSLError(CertificateError(\"hostname 'pagerocket.xyz' doesn't match either of '*.parkingcrew.net', 'parkingcrew.net'\",),))\n",
            "HTTPConnectionPool(host='pleasespamthis.email', port=80): Max retries exceeded with url: / (Caused by NewConnectionError('<urllib3.connection.HTTPConnection object at 0x7f7b58137b00>: Failed to establish a new connection: [Errno -2] Name or service not known',))\n",
            "HTTPSConnectionPool(host='www.40collar.com', port=443): Max retries exceeded with url: /hacker-news/ (Caused by NewConnectionError('<urllib3.connection.VerifiedHTTPSConnection object at 0x7f7b58137320>: Failed to establish a new connection: [Errno -2] Name or service not known',))\n",
            "'float' object has no attribute 'find'\n",
            "HTTPSConnectionPool(host='grocerylistmaker.info', port=443): Max retries exceeded with url: / (Caused by NewConnectionError('<urllib3.connection.VerifiedHTTPSConnection object at 0x7f7b58137da0>: Failed to establish a new connection: [Errno -2] Name or service not known',))\n",
            "HTTPSConnectionPool(host='www.codingmonkey.io', port=443): Max retries exceeded with url: / (Caused by NewConnectionError('<urllib3.connection.VerifiedHTTPSConnection object at 0x7f7b58137fd0>: Failed to establish a new connection: [Errno -2] Name or service not known',))\n",
            "'float' object has no attribute 'find'\n",
            "list index out of range\n",
            "HTTPConnectionPool(host='52.36.131.248', port=3000): Max retries exceeded with url: / (Caused by NewConnectionError('<urllib3.connection.HTTPConnection object at 0x7f7b57c157b8>: Failed to establish a new connection: [Errno 110] Connection timed out',))\n",
            "HTTPSConnectionPool(host='nescat.gcubed.co', port=443): Max retries exceeded with url: / (Caused by NewConnectionError('<urllib3.connection.VerifiedHTTPSConnection object at 0x7f7b57c15518>: Failed to establish a new connection: [Errno -2] Name or service not known',))\n",
            "HTTPConnectionPool(host='www.linguician.com', port=80): Max retries exceeded with url: / (Caused by NewConnectionError('<urllib3.connection.HTTPConnection object at 0x7f7b57c15eb8>: Failed to establish a new connection: [Errno 110] Connection timed out',))\n",
            "'timestamp'\n",
            "'timestamp'\n",
            "'timestamp'\n",
            "HTTPSConnectionPool(host='skysave.co', port=443): Max retries exceeded with url: / (Caused by NewConnectionError('<urllib3.connection.VerifiedHTTPSConnection object at 0x7f7b5824ccf8>: Failed to establish a new connection: [Errno 110] Connection timed out',))\n",
            "list index out of range\n",
            "'timestamp'\n",
            "HTTPSConnectionPool(host='tux.io', port=443): Max retries exceeded with url: / (Caused by NewConnectionError('<urllib3.connection.VerifiedHTTPSConnection object at 0x7f7b57c81e80>: Failed to establish a new connection: [Errno -5] No address associated with hostname',))\n",
            "HTTPConnectionPool(host='www.jolt.rocks', port=80): Max retries exceeded with url: / (Caused by NewConnectionError('<urllib3.connection.HTTPConnection object at 0x7f7b57c81cc0>: Failed to establish a new connection: [Errno -2] Name or service not known',))\n",
            "'float' object has no attribute 'find'\n",
            "HTTPSConnectionPool(host='dashboard.spotter.tech', port=443): Max retries exceeded with url: / (Caused by NewConnectionError('<urllib3.connection.VerifiedHTTPSConnection object at 0x7f7b58310a58>: Failed to establish a new connection: [Errno 111] Connection refused',))\n",
            "'float' object has no attribute 'find'\n",
            "'timestamp'\n",
            "HTTPSConnectionPool(host='gitorials.com', port=443): Max retries exceeded with url: / (Caused by NewConnectionError('<urllib3.connection.VerifiedHTTPSConnection object at 0x7f7b583109e8>: Failed to establish a new connection: [Errno -2] Name or service not known',))\n",
            "'float' object has no attribute 'find'\n",
            "'float' object has no attribute 'find'\n",
            "list index out of range\n",
            "HTTPSConnectionPool(host='www.scannersec.com', port=443): Max retries exceeded with url: / (Caused by NewConnectionError('<urllib3.connection.VerifiedHTTPSConnection object at 0x7f7b58137ac8>: Failed to establish a new connection: [Errno -2] Name or service not known',))\n",
            "HTTPConnectionPool(host='hackerwave.com', port=80): Max retries exceeded with url: / (Caused by NewConnectionError('<urllib3.connection.HTTPConnection object at 0x7f7b58137eb8>: Failed to establish a new connection: [Errno -2] Name or service not known',))\n",
            "HTTPSConnectionPool(host='makerarepepes.me', port=443): Max retries exceeded with url: / (Caused by NewConnectionError('<urllib3.connection.VerifiedHTTPSConnection object at 0x7f7b5824cfd0>: Failed to establish a new connection: [Errno -2] Name or service not known',))\n",
            "HTTPConnectionPool(host='www.howdoiquitv.im', port=80): Max retries exceeded with url: / (Caused by NewConnectionError('<urllib3.connection.HTTPConnection object at 0x7f7b57c81400>: Failed to establish a new connection: [Errno -2] Name or service not known',))\n",
            "'timestamp'\n",
            "list index out of range\n",
            "HTTPSConnectionPool(host='twitchinvests.com', port=443): Max retries exceeded with url: / (Caused by NewConnectionError('<urllib3.connection.VerifiedHTTPSConnection object at 0x7f7b5824c438>: Failed to establish a new connection: [Errno -2] Name or service not known',))\n",
            "'float' object has no attribute 'find'\n",
            "'timestamp'\n",
            "HTTPSConnectionPool(host='www.tarobites.com', port=443): Max retries exceeded with url: /taro-gourmet-story (Caused by NewConnectionError('<urllib3.connection.VerifiedHTTPSConnection object at 0x7f7b57c975f8>: Failed to establish a new connection: [Errno 110] Connection timed out',))\n",
            "HTTPSConnectionPool(host='www.stocknerd.com', port=443): Max retries exceeded with url: / (Caused by NewConnectionError('<urllib3.connection.VerifiedHTTPSConnection object at 0x7f7b57c976a0>: Failed to establish a new connection: [Errno -2] Name or service not known',))\n",
            "HTTPSConnectionPool(host='oppslist.com', port=443): Max retries exceeded with url: / (Caused by SSLError(SSLError(1, '[SSL: CERTIFICATE_VERIFY_FAILED] certificate verify failed (_ssl.c:852)'),))\n",
            "'timestamp'\n",
            "HTTPSConnectionPool(host='www.shittymvp.com', port=443): Max retries exceeded with url: / (Caused by NewConnectionError('<urllib3.connection.VerifiedHTTPSConnection object at 0x7f7b57c97668>: Failed to establish a new connection: [Errno -2] Name or service not known',))\n",
            "HTTPSConnectionPool(host='retool.in', port=443): Max retries exceeded with url: / (Caused by SSLError(SSLError(1, '[SSL: CERTIFICATE_VERIFY_FAILED] certificate verify failed (_ssl.c:852)'),))\n",
            "HTTPConnectionPool(host='regularity.co', port=80): Max retries exceeded with url: / (Caused by NewConnectionError('<urllib3.connection.HTTPConnection object at 0x7f7b57c97860>: Failed to establish a new connection: [Errno -2] Name or service not known',))\n",
            "'float' object has no attribute 'find'\n",
            "HTTPConnectionPool(host='www.hnfavorites.com', port=80): Max retries exceeded with url: / (Caused by NewConnectionError('<urllib3.connection.HTTPConnection object at 0x7f7b57c97518>: Failed to establish a new connection: [Errno -2] Name or service not known',))\n",
            "HTTPSConnectionPool(host='www.jobgen.io', port=443): Max retries exceeded with url: / (Caused by NewConnectionError('<urllib3.connection.VerifiedHTTPSConnection object at 0x7f7b57c81d30>: Failed to establish a new connection: [Errno -2] Name or service not known',))\n",
            "HTTPSConnectionPool(host='www.demandrush.com', port=443): Max retries exceeded with url: / (Caused by SSLError(CertificateError(\"hostname 'www.demandrush.com' doesn't match either of 'host.genericdomainmarket.com', 'www.host.genericdomainmarket.com'\",),))\n",
            "list index out of range\n",
            "HTTPConnectionPool(host='www.umooc.org', port=80): Max retries exceeded with url: / (Caused by NewConnectionError('<urllib3.connection.HTTPConnection object at 0x7f7b57c97390>: Failed to establish a new connection: [Errno -2] Name or service not known',))\n",
            "list index out of range\n",
            "HTTPSConnectionPool(host='neogratis.com', port=443): Max retries exceeded with url: / (Caused by NewConnectionError('<urllib3.connection.VerifiedHTTPSConnection object at 0x7f7b57c97940>: Failed to establish a new connection: [Errno 110] Connection timed out',))\n",
            "HTTPSConnectionPool(host='bash.rocks', port=443): Max retries exceeded with url: / (Caused by NewConnectionError('<urllib3.connection.VerifiedHTTPSConnection object at 0x7f7b57c97dd8>: Failed to establish a new connection: [Errno -2] Name or service not known',))\n",
            "HTTPConnectionPool(host='theprice.cloud', port=80): Max retries exceeded with url: / (Caused by NewConnectionError('<urllib3.connection.HTTPConnection object at 0x7f7b57c979e8>: Failed to establish a new connection: [Errno -2] Name or service not known',))\n",
            "'float' object has no attribute 'find'\n",
            "'float' object has no attribute 'find'\n",
            "HTTPSConnectionPool(host='pixel-druid.com', port=443): Max retries exceeded with url: /blog/announcing-simplexhc/ (Caused by SSLError(SSLError(1, '[SSL: CERTIFICATE_VERIFY_FAILED] certificate verify failed (_ssl.c:852)'),))\n",
            "'timestamp'\n",
            "'timestamp'\n",
            "HTTPConnectionPool(host='forked.yannick.io', port=80): Max retries exceeded with url: /tensorflow/models (Caused by NewConnectionError('<urllib3.connection.HTTPConnection object at 0x7f7b58137208>: Failed to establish a new connection: [Errno -2] Name or service not known',))\n",
            "HTTPSConnectionPool(host='hackerhunt.co', port=443): Max retries exceeded with url: / (Caused by NewConnectionError('<urllib3.connection.VerifiedHTTPSConnection object at 0x7f7b58137160>: Failed to establish a new connection: [Errno -5] No address associated with hostname',))\n",
            "HTTPSConnectionPool(host='www.whereisthefastestinternet.at', port=443): Max retries exceeded with url: / (Caused by NewConnectionError('<urllib3.connection.VerifiedHTTPSConnection object at 0x7f7b5824cef0>: Failed to establish a new connection: [Errno -2] Name or service not known',))\n",
            "'float' object has no attribute 'find'\n",
            "'timestamp'\n",
            "HTTPSConnectionPool(host='cclatency.com', port=443): Max retries exceeded with url: / (Caused by NewConnectionError('<urllib3.connection.VerifiedHTTPSConnection object at 0x7f7b5824cef0>: Failed to establish a new connection: [Errno -2] Name or service not known',))\n",
            "HTTPSConnectionPool(host='purpleprose.ink', port=443): Max retries exceeded with url: /submission (Caused by NewConnectionError('<urllib3.connection.VerifiedHTTPSConnection object at 0x7f7b580f2cc0>: Failed to establish a new connection: [Errno -2] Name or service not known',))\n",
            "'timestamp'\n",
            "HTTPConnectionPool(host='pricecompare.bike', port=80): Max retries exceeded with url: /?utm_source=hn (Caused by NewConnectionError('<urllib3.connection.HTTPConnection object at 0x7f7b57c81e48>: Failed to establish a new connection: [Errno -2] Name or service not known',))\n",
            "'timestamp'\n",
            "'float' object has no attribute 'find'\n",
            "HTTPSConnectionPool(host='trypol.ly', port=443): Max retries exceeded with url: / (Caused by NewConnectionError('<urllib3.connection.VerifiedHTTPSConnection object at 0x7f7b5824cd30>: Failed to establish a new connection: [Errno -2] Name or service not known',))\n",
            "HTTPSConnectionPool(host='jimmified.com', port=443): Max retries exceeded with url: /hackernews (Caused by SSLError(SSLError(1, '[SSL: CERTIFICATE_VERIFY_FAILED] certificate verify failed (_ssl.c:852)'),))\n",
            "HTTPSConnectionPool(host='www.firstusers.io', port=443): Max retries exceeded with url: / (Caused by NewConnectionError('<urllib3.connection.VerifiedHTTPSConnection object at 0x7f7b5824ceb8>: Failed to establish a new connection: [Errno -2] Name or service not known',))\n",
            "'timestamp'\n",
            "('Connection aborted.', RemoteDisconnected('Remote end closed connection without response',))\n",
            "'float' object has no attribute 'find'\n",
            "HTTPConnectionPool(host='parseaddress.io', port=80): Max retries exceeded with url: / (Caused by NewConnectionError('<urllib3.connection.HTTPConnection object at 0x7f7b57c89160>: Failed to establish a new connection: [Errno -2] Name or service not known',))\n",
            "'float' object has no attribute 'find'\n",
            "HTTPConnectionPool(host='findremote.work', port=80): Max retries exceeded with url: / (Caused by NewConnectionError('<urllib3.connection.HTTPConnection object at 0x7f7b57c89630>: Failed to establish a new connection: [Errno -2] Name or service not known',))\n",
            "HTTPConnectionPool(host='choppingboard.recipes', port=80): Max retries exceeded with url: / (Caused by NewConnectionError('<urllib3.connection.HTTPConnection object at 0x7f7b58137400>: Failed to establish a new connection: [Errno -2] Name or service not known',))\n",
            "HTTPSConnectionPool(host='settle.network', port=443): Max retries exceeded with url: /posts/intro/?b=3 (Caused by NewConnectionError('<urllib3.connection.VerifiedHTTPSConnection object at 0x7f7b581374a8>: Failed to establish a new connection: [Errno -5] No address associated with hostname',))\n",
            "HTTPSConnectionPool(host='minim.one', port=443): Max retries exceeded with url: / (Caused by NewConnectionError('<urllib3.connection.VerifiedHTTPSConnection object at 0x7f7b57c89390>: Failed to establish a new connection: [Errno -2] Name or service not known',))\n",
            "HTTPSConnectionPool(host='apibootstrap.com', port=443): Max retries exceeded with url: / (Caused by SSLError(CertificateError(\"hostname 'apibootstrap.com' doesn't match either of 'mycatering.dev.ctrlweb.ca', 'mycatering.staging.ctrlweb.ca', 'robert-alexis.com', 'robert-alexis.staging.ctrlweb.ca', 'www.robert-alexis.com'\",),))\n",
            "HTTPSConnectionPool(host='www.affiliatt.com', port=443): Max retries exceeded with url: / (Caused by NewConnectionError('<urllib3.connection.VerifiedHTTPSConnection object at 0x7f7b58137ef0>: Failed to establish a new connection: [Errno 113] No route to host',))\n",
            "'float' object has no attribute 'find'\n",
            "HTTPSConnectionPool(host='visualtip.com', port=443): Max retries exceeded with url: /?hn (Caused by SSLError(SSLError(1, '[SSL: CERTIFICATE_VERIFY_FAILED] certificate verify failed (_ssl.c:852)'),))\n",
            "HTTPSConnectionPool(host='conferencelist.co', port=443): Max retries exceeded with url: / (Caused by NewConnectionError('<urllib3.connection.VerifiedHTTPSConnection object at 0x7f7b58137d30>: Failed to establish a new connection: [Errno -2] Name or service not known',))\n",
            "HTTPSConnectionPool(host='serveo.net', port=443): Max retries exceeded with url: / (Caused by SSLError(SSLError(1, '[SSL: CERTIFICATE_VERIFY_FAILED] certificate verify failed (_ssl.c:852)'),))\n",
            "HTTPSConnectionPool(host='www.iraengine.com', port=443): Max retries exceeded with url: / (Caused by NewConnectionError('<urllib3.connection.VerifiedHTTPSConnection object at 0x7f7b58137d30>: Failed to establish a new connection: [Errno 110] Connection timed out',))\n",
            "'float' object has no attribute 'find'\n",
            "'float' object has no attribute 'find'\n",
            "'timestamp'\n",
            "HTTPSConnectionPool(host='lambdacult.com', port=443): Max retries exceeded with url: / (Caused by NewConnectionError('<urllib3.connection.VerifiedHTTPSConnection object at 0x7f7b5824cfd0>: Failed to establish a new connection: [Errno -2] Name or service not known',))\n",
            "'float' object has no attribute 'find'\n",
            "HTTPSConnectionPool(host='cornea.ai', port=443): Max retries exceeded with url: / (Caused by SSLError(CertificateError(\"hostname 'cornea.ai' doesn't match either of 'abuse.app', 'achieve.app', 'acknowledge.app', 'adjust.app', 'admit.app', 'adviser.app', 'after.app', 'agile.app', 'agree.app', 'align.app', 'allow.app', 'almost.app', 'announce.app', 'announces.app', 'anxiety.app', 'anybody.app', 'anyone.app', 'anyway.app', 'appeal.app', 'appear.app', 'applaud.app', 'applause.app', 'approval.app', 'approve.app', 'assess.app', 'assign.app', 'assume.app', 'assurance.app', 'asteroid.app', 'astronaut.app', 'astronomy.app', 'attack.app', 'avoid.app', 'background.app', 'bacon.app', 'bait.app', 'balloon.app', 'begin.app', 'being.app', 'believe.app', 'belong.app', 'bend.app', 'benefit.app', 'bind.app', 'bomb.app', 'bored.app', 'bounce.app', 'bow.app', 'bowl.app', 'breakfast.app', 'brush.app', 'bulk.app', 'bullet.app', 'burn.app', 'bush.app', 'busy.app', 'but.app', 'buyer.app', 'cane.app', 'cave.app', 'census.app', 'century.app', 'certification.app', 'charge.app', 'cite.app', 'clap.app', 'clue.app', 'collect.app', 'collision.app', 'compel.app', 'complain.app', 'concentrate.app', 'conquer.app', 'cop.app', 'corn.app', 'costume.app', 'courtesy.app', 'crisp.app', 'cry.app', 'cult.app', 'danger.app', 'decide.app', 'declare.app', 'dedicate.app', 'deed.app', 'defend.app', 'depart.app', 'desire.app', 'destroy.app', 'diner.app', 'dip.app', 'dirt.app', 'disappear.app', 'disc.app', 'disrupt.app', 'dive.app', 'don.app', 'doorway.app', 'drag.app', 'duck.app'\",),))\n",
            "HTTPSConnectionPool(host='www.englishinterstellar.com', port=443): Max retries exceeded with url: /za/evfcvnxl/eis101-pronunciation-by-topic.html (Caused by SSLError(CertificateError(\"hostname 'www.englishinterstellar.com' doesn't match 'www.ademo.su'\",),))\n",
            "HTTPConnectionPool(host='offpeak.io', port=80): Max retries exceeded with url: /city/san-francisco?month=8&year=2017&length=6&class=345 (Caused by NewConnectionError('<urllib3.connection.HTTPConnection object at 0x7f7b5824cfd0>: Failed to establish a new connection: [Errno -5] No address associated with hostname',))\n",
            "HTTPSConnectionPool(host='www.adfree.life', port=443): Max retries exceeded with url: / (Caused by NewConnectionError('<urllib3.connection.VerifiedHTTPSConnection object at 0x7f7b5824cd30>: Failed to establish a new connection: [Errno -2] Name or service not known',))\n",
            "HTTPConnectionPool(host='www.fastnews.me', port=80): Max retries exceeded with url: /worldnews (Caused by NewConnectionError('<urllib3.connection.HTTPConnection object at 0x7f7b57c21d30>: Failed to establish a new connection: [Errno -2] Name or service not known',))\n",
            "HTTPSConnectionPool(host='crowdsale.express', port=443): Max retries exceeded with url: / (Caused by NewConnectionError('<urllib3.connection.VerifiedHTTPSConnection object at 0x7f7b5824c0b8>: Failed to establish a new connection: [Errno -2] Name or service not known',))\n",
            "HTTPSConnectionPool(host='hashtags.chat', port=443): Max retries exceeded with url: / (Caused by NewConnectionError('<urllib3.connection.VerifiedHTTPSConnection object at 0x7f7b5824c438>: Failed to establish a new connection: [Errno -2] Name or service not known',))\n",
            "'float' object has no attribute 'find'\n",
            "HTTPConnectionPool(host='startuperlife.xyz', port=80): Max retries exceeded with url: /2?ref=hn (Caused by NewConnectionError('<urllib3.connection.HTTPConnection object at 0x7f7b5824cc18>: Failed to establish a new connection: [Errno -2] Name or service not known',))\n",
            "'timestamp'\n",
            "'float' object has no attribute 'find'\n",
            "HTTPSConnectionPool(host='www.webresourcesdepot.com', port=443): Max retries exceeded with url: / (Caused by NewConnectionError('<urllib3.connection.VerifiedHTTPSConnection object at 0x7f7b57c21908>: Failed to establish a new connection: [Errno -2] Name or service not known',))\n",
            "HTTPConnectionPool(host='productgraveyard.com', port=80): Max retries exceeded with url: /?ref=hn (Caused by NewConnectionError('<urllib3.connection.HTTPConnection object at 0x7f7b5824c470>: Failed to establish a new connection: [Errno -2] Name or service not known',))\n",
            "HTTPConnectionPool(host='www.geekcanteen.com', port=80): Max retries exceeded with url: / (Caused by NewConnectionError('<urllib3.connection.HTTPConnection object at 0x7f7b5824cc18>: Failed to establish a new connection: [Errno -2] Name or service not known',))\n",
            "'float' object has no attribute 'find'\n",
            "HTTPConnectionPool(host='reddittopbooks.com', port=80): Max retries exceeded with url: / (Caused by NewConnectionError('<urllib3.connection.HTTPConnection object at 0x7f7b580f15f8>: Failed to establish a new connection: [Errno -2] Name or service not known',))\n",
            "HTTPSConnectionPool(host='latency.at', port=443): Max retries exceeded with url: / (Caused by NewConnectionError('<urllib3.connection.VerifiedHTTPSConnection object at 0x7f7b5824cc50>: Failed to establish a new connection: [Errno -5] No address associated with hostname',))\n",
            "HTTPConnectionPool(host='ycremix.com', port=80): Max retries exceeded with url: / (Caused by NewConnectionError('<urllib3.connection.HTTPConnection object at 0x7f7b57c21470>: Failed to establish a new connection: [Errno -2] Name or service not known',))\n",
            "'float' object has no attribute 'find'\n",
            "'float' object has no attribute 'find'\n",
            "'float' object has no attribute 'find'\n",
            "'float' object has no attribute 'find'\n",
            "'timestamp'\n",
            "HTTPSConnectionPool(host='cornea.ai', port=443): Max retries exceeded with url: / (Caused by SSLError(CertificateError(\"hostname 'cornea.ai' doesn't match either of 'abuse.app', 'achieve.app', 'acknowledge.app', 'adjust.app', 'admit.app', 'adviser.app', 'after.app', 'agile.app', 'agree.app', 'align.app', 'allow.app', 'almost.app', 'announce.app', 'announces.app', 'anxiety.app', 'anybody.app', 'anyone.app', 'anyway.app', 'appeal.app', 'appear.app', 'applaud.app', 'applause.app', 'approval.app', 'approve.app', 'assess.app', 'assign.app', 'assume.app', 'assurance.app', 'asteroid.app', 'astronaut.app', 'astronomy.app', 'attack.app', 'avoid.app', 'background.app', 'bacon.app', 'bait.app', 'balloon.app', 'begin.app', 'being.app', 'believe.app', 'belong.app', 'bend.app', 'benefit.app', 'bind.app', 'bomb.app', 'bored.app', 'bounce.app', 'bow.app', 'bowl.app', 'breakfast.app', 'brush.app', 'bulk.app', 'bullet.app', 'burn.app', 'bush.app', 'busy.app', 'but.app', 'buyer.app', 'cane.app', 'cave.app', 'census.app', 'century.app', 'certification.app', 'charge.app', 'cite.app', 'clap.app', 'clue.app', 'collect.app', 'collision.app', 'compel.app', 'complain.app', 'concentrate.app', 'conquer.app', 'cop.app', 'corn.app', 'costume.app', 'courtesy.app', 'crisp.app', 'cry.app', 'cult.app', 'danger.app', 'decide.app', 'declare.app', 'dedicate.app', 'deed.app', 'defend.app', 'depart.app', 'desire.app', 'destroy.app', 'diner.app', 'dip.app', 'dirt.app', 'disappear.app', 'disc.app', 'disrupt.app', 'dive.app', 'don.app', 'doorway.app', 'drag.app', 'duck.app'\",),))\n",
            "HTTPConnectionPool(host='textnet.io', port=80): Max retries exceeded with url: / (Caused by NewConnectionError('<urllib3.connection.HTTPConnection object at 0x7f7b58137c50>: Failed to establish a new connection: [Errno -2] Name or service not known',))\n",
            "'float' object has no attribute 'find'\n",
            "list index out of range\n",
            "HTTPConnectionPool(host='tehcookies.com', port=80): Max retries exceeded with url: /devsalaries/vis.html (Caused by NewConnectionError('<urllib3.connection.HTTPConnection object at 0x7f7b58137b70>: Failed to establish a new connection: [Errno -2] Name or service not known',))\n",
            "'float' object has no attribute 'find'\n",
            "HTTPSConnectionPool(host='www.cssgardener.com', port=443): Max retries exceeded with url: / (Caused by NewConnectionError('<urllib3.connection.VerifiedHTTPSConnection object at 0x7f7b58310f28>: Failed to establish a new connection: [Errno -2] Name or service not known',))\n",
            "HTTPConnectionPool(host='play.ansible.online', port=80): Max retries exceeded with url: / (Caused by NewConnectionError('<urllib3.connection.HTTPConnection object at 0x7f7b57c21438>: Failed to establish a new connection: [Errno -2] Name or service not known',))\n",
            "'timestamp'\n",
            "'float' object has no attribute 'find'\n",
            "'float' object has no attribute 'find'\n",
            "'timestamp'\n",
            "'float' object has no attribute 'find'\n",
            "'timestamp'\n",
            "HTTPSConnectionPool(host='hurricanetweets.com', port=443): Max retries exceeded with url: / (Caused by NewConnectionError('<urllib3.connection.VerifiedHTTPSConnection object at 0x7f7b58137c50>: Failed to establish a new connection: [Errno 110] Connection timed out',))\n",
            "'float' object has no attribute 'find'\n",
            "HTTPSConnectionPool(host='gameofcoins.de', port=443): Max retries exceeded with url: / (Caused by NewConnectionError('<urllib3.connection.VerifiedHTTPSConnection object at 0x7f7b58137ba8>: Failed to establish a new connection: [Errno -2] Name or service not known',))\n",
            "HTTPSConnectionPool(host='www.limbo.io', port=443): Max retries exceeded with url: / (Caused by NewConnectionError('<urllib3.connection.VerifiedHTTPSConnection object at 0x7f7b58137518>: Failed to establish a new connection: [Errno -2] Name or service not known',))\n",
            "HTTPSConnectionPool(host='coin-hive.com', port=443): Max retries exceeded with url: / (Caused by SSLError(CertificateError(\"hostname 'coin-hive.com' doesn't match 'web4.silent-effect.ch'\",),))\n",
            "HTTPSConnectionPool(host='ref10.com', port=443): Max retries exceeded with url: /home (Caused by NewConnectionError('<urllib3.connection.VerifiedHTTPSConnection object at 0x7f7b58137eb8>: Failed to establish a new connection: [Errno -2] Name or service not known',))\n",
            "HTTPSConnectionPool(host='sitestacks.com', port=443): Max retries exceeded with url: /?ref=hn (Caused by SSLError(SSLError(1, '[SSL: CERTIFICATE_VERIFY_FAILED] certificate verify failed (_ssl.c:852)'),))\n",
            "'timestamp'\n",
            "'timestamp'\n",
            "'float' object has no attribute 'find'\n",
            "HTTPConnectionPool(host='graphql-demo.azurewebsites.net', port=80): Max retries exceeded with url: /?query=%7B%0A%20%20me%20%7B%0A%20%20%20%20displayName%0A%20%20%20%20officeLocation%0A%20%20%20%20skills%0A%20%20%20%20directReports%20%7B%0A%20%20%20%20%20%20id%0A%20%20%20%20%7D%0A%20%20%20%20messages(id%3A%20%22AAMkAGVmMDEzMTM4LTZmYWUtNDdkNC1hMDZiLTU1OGY5OTZhYmY4OABGAAAAAAAiQ8W967B7TKBjgx9rVEURBwAiIsqMbYjsT5e-T7KzowPTAAAAAAEMAAAiIsqMbYjsT5e-T7KzowPTAAAeUQdXAAA%3D%22)%20%7B%0A%20%20%20%20%20%20subject%0A%20%20%20%20%20%20isRead%0A%20%20%20%20%20%20bodyPreview%0A%20%20%20%20%20%20sentDateTime%0A%20%20%20%20%20%20sender%20%7B%0A%20%20%20%20%20%20%20%20emailAddress%20%7B%0A%20%20%20%20%20%20%20%20%20%20address%0A%20%20%20%20%20%20%20%20%7D%0A%20%20%20%20%20%20%7D%0A%20%20%20%20%7D%0A%20%20%7D%0A%7D%0A (Caused by NewConnectionError('<urllib3.connection.HTTPConnection object at 0x7f7b57c21f60>: Failed to establish a new connection: [Errno -2] Name or service not known',))\n",
            "HTTPSConnectionPool(host='indexapp.com', port=443): Max retries exceeded with url: / (Caused by NewConnectionError('<urllib3.connection.VerifiedHTTPSConnection object at 0x7f7b57c217f0>: Failed to establish a new connection: [Errno -2] Name or service not known',))\n",
            "'float' object has no attribute 'find'\n",
            "HTTPSConnectionPool(host='idealweek.net', port=443): Max retries exceeded with url: / (Caused by NewConnectionError('<urllib3.connection.VerifiedHTTPSConnection object at 0x7f7b57c21470>: Failed to establish a new connection: [Errno 110] Connection timed out',))\n",
            "'timestamp'\n",
            "'float' object has no attribute 'find'\n",
            "HTTPSConnectionPool(host='sitestacks.com', port=443): Max retries exceeded with url: /?ref=nyc (Caused by SSLError(SSLError(1, '[SSL: CERTIFICATE_VERIFY_FAILED] certificate verify failed (_ssl.c:852)'),))\n",
            "'float' object has no attribute 'find'\n",
            "HTTPConnectionPool(host='www.whosmentoring.com', port=80): Max retries exceeded with url: / (Caused by NewConnectionError('<urllib3.connection.HTTPConnection object at 0x7f7b57c993c8>: Failed to establish a new connection: [Errno -2] Name or service not known',))\n",
            "HTTPConnectionPool(host='www.learnsearch.xyz', port=80): Max retries exceeded with url: / (Caused by NewConnectionError('<urllib3.connection.HTTPConnection object at 0x7f7b57c99cf8>: Failed to establish a new connection: [Errno -2] Name or service not known',))\n",
            "HTTPConnectionPool(host='cockpit.27ae60.com', port=80): Max retries exceeded with url: / (Caused by NewConnectionError('<urllib3.connection.HTTPConnection object at 0x7f7b57c97ac8>: Failed to establish a new connection: [Errno -2] Name or service not known',))\n",
            "HTTPConnectionPool(host='rejectionconditioner.com', port=80): Max retries exceeded with url: / (Caused by NewConnectionError('<urllib3.connection.HTTPConnection object at 0x7f7b57c977f0>: Failed to establish a new connection: [Errno -5] No address associated with hostname',))\n",
            "HTTPSConnectionPool(host='billbuddy.io', port=443): Max retries exceeded with url: / (Caused by NewConnectionError('<urllib3.connection.VerifiedHTTPSConnection object at 0x7f7b57c971d0>: Failed to establish a new connection: [Errno -2] Name or service not known',))\n",
            "'float' object has no attribute 'find'\n",
            "HTTPSConnectionPool(host='www.dusthackershq.com', port=443): Max retries exceeded with url: / (Caused by NewConnectionError('<urllib3.connection.VerifiedHTTPSConnection object at 0x7f7b57c975f8>: Failed to establish a new connection: [Errno -2] Name or service not known',))\n",
            "HTTPConnectionPool(host='www.pyxxi.com', port=80): Max retries exceeded with url: / (Caused by NewConnectionError('<urllib3.connection.HTTPConnection object at 0x7f7b57c97518>: Failed to establish a new connection: [Errno 110] Connection timed out',))\n",
            "HTTPSConnectionPool(host='app.upbeatpr.com', port=443): Max retries exceeded with url: /find-journalists/ (Caused by NewConnectionError('<urllib3.connection.VerifiedHTTPSConnection object at 0x7f7b57c97780>: Failed to establish a new connection: [Errno -2] Name or service not known',))\n",
            "HTTPConnectionPool(host='coinerra.com', port=80): Max retries exceeded with url: / (Caused by NewConnectionError('<urllib3.connection.HTTPConnection object at 0x7f7b57c97e48>: Failed to establish a new connection: [Errno 110] Connection timed out',))\n",
            "HTTPSConnectionPool(host='learnsearch.xyz', port=443): Max retries exceeded with url: / (Caused by NewConnectionError('<urllib3.connection.VerifiedHTTPSConnection object at 0x7f7b57c97128>: Failed to establish a new connection: [Errno -2] Name or service not known',))\n",
            "'float' object has no attribute 'find'\n",
            "HTTPConnectionPool(host='hackend.xyz', port=80): Max retries exceeded with url: / (Caused by NewConnectionError('<urllib3.connection.HTTPConnection object at 0x7f7b57c993c8>: Failed to establish a new connection: [Errno -2] Name or service not known',))\n",
            "HTTPSConnectionPool(host='beta.overseerlabs.io', port=443): Max retries exceeded with url: /ui/product/index.html (Caused by NewConnectionError('<urllib3.connection.VerifiedHTTPSConnection object at 0x7f7b57c992e8>: Failed to establish a new connection: [Errno 111] Connection refused',))\n",
            "list index out of range\n",
            "HTTPSConnectionPool(host='csvshare.com', port=443): Max retries exceeded with url: / (Caused by NewConnectionError('<urllib3.connection.VerifiedHTTPSConnection object at 0x7f7b57c99e10>: Failed to establish a new connection: [Errno -2] Name or service not known',))\n",
            "'float' object has no attribute 'find'\n",
            "HTTPSConnectionPool(host='www.getgutenberg.io', port=443): Max retries exceeded with url: / (Caused by NewConnectionError('<urllib3.connection.VerifiedHTTPSConnection object at 0x7f7b5824cef0>: Failed to establish a new connection: [Errno -2] Name or service not known',))\n",
            "'float' object has no attribute 'find'\n",
            "'float' object has no attribute 'find'\n",
            "HTTPSConnectionPool(host='circle.onl', port=443): Max retries exceeded with url: / (Caused by NewConnectionError('<urllib3.connection.VerifiedHTTPSConnection object at 0x7f7b57c81da0>: Failed to establish a new connection: [Errno 110] Connection timed out',))\n",
            "('Connection aborted.', RemoteDisconnected('Remote end closed connection without response',))\n",
            "'float' object has no attribute 'find'\n",
            "'float' object has no attribute 'find'\n",
            "HTTPConnectionPool(host='localip.io', port=80): Max retries exceeded with url: / (Caused by NewConnectionError('<urllib3.connection.HTTPConnection object at 0x7f7b57c97fd0>: Failed to establish a new connection: [Errno -2] Name or service not known',))\n",
            "HTTPConnectionPool(host='www.komlog.io', port=80): Max retries exceeded with url: / (Caused by NewConnectionError('<urllib3.connection.HTTPConnection object at 0x7f7b57c97dd8>: Failed to establish a new connection: [Errno -2] Name or service not known',))\n",
            "'float' object has no attribute 'find'\n",
            "HTTPSConnectionPool(host='geekjobs.io', port=443): Max retries exceeded with url: / (Caused by NewConnectionError('<urllib3.connection.VerifiedHTTPSConnection object at 0x7f7b57ca4400>: Failed to establish a new connection: [Errno 110] Connection timed out',))\n",
            "'float' object has no attribute 'find'\n",
            "'timestamp'\n",
            "HTTPSConnectionPool(host='www.airbornos.com', port=443): Max retries exceeded with url: / (Caused by SSLError(CertificateError(\"hostname 'www.airbornos.com' doesn't match either of '*.kxcdn.com', 'kxcdn.com'\",),))\n",
            "HTTPConnectionPool(host='public.docs.xstatic.site', port=80): Max retries exceeded with url: / (Caused by NewConnectionError('<urllib3.connection.HTTPConnection object at 0x7f7b57c97128>: Failed to establish a new connection: [Errno -2] Name or service not known',))\n",
            "HTTPConnectionPool(host='0xfee1dead.top', port=80): Max retries exceeded with url: / (Caused by NewConnectionError('<urllib3.connection.HTTPConnection object at 0x7f7b57c974a8>: Failed to establish a new connection: [Errno -2] Name or service not known',))\n",
            "HTTPSConnectionPool(host='www.theblockchainnewsletter.com', port=443): Max retries exceeded with url: /glossary.html (Caused by NewConnectionError('<urllib3.connection.VerifiedHTTPSConnection object at 0x7f7b57c97128>: Failed to establish a new connection: [Errno -2] Name or service not known',))\n",
            "'timestamp'\n",
            "'float' object has no attribute 'find'\n",
            "HTTPSConnectionPool(host='pointsproject.org', port=443): Max retries exceeded with url: / (Caused by NewConnectionError('<urllib3.connection.VerifiedHTTPSConnection object at 0x7f7b57ca4780>: Failed to establish a new connection: [Errno -2] Name or service not known',))\n",
            "list index out of range\n",
            "HTTPSConnectionPool(host='www.aardvarkservers.com', port=443): Max retries exceeded with url: / (Caused by NewConnectionError('<urllib3.connection.VerifiedHTTPSConnection object at 0x7f7b57c978d0>: Failed to establish a new connection: [Errno -2] Name or service not known',))\n",
            "HTTPSConnectionPool(host='pingpoint.io', port=443): Max retries exceeded with url: / (Caused by NewConnectionError('<urllib3.connection.VerifiedHTTPSConnection object at 0x7f7b57ca4908>: Failed to establish a new connection: [Errno -2] Name or service not known',))\n",
            "HTTPSConnectionPool(host='polyfact.co', port=443): Max retries exceeded with url: /?hn3 (Caused by NewConnectionError('<urllib3.connection.VerifiedHTTPSConnection object at 0x7f7b57c974a8>: Failed to establish a new connection: [Errno -2] Name or service not known',))\n",
            "HTTPSConnectionPool(host='stayingalive.vessels.tech', port=443): Max retries exceeded with url: / (Caused by SSLError(SSLError(1, '[SSL: CERTIFICATE_VERIFY_FAILED] certificate verify failed (_ssl.c:852)'),))\n",
            "HTTPSConnectionPool(host='www.podscripter.co', port=443): Max retries exceeded with url: / (Caused by SSLError(SSLError(1, '[SSL: TLSV1_ALERT_INTERNAL_ERROR] tlsv1 alert internal error (_ssl.c:852)'),))\n",
            "'timestamp'\n",
            "HTTPSConnectionPool(host='www.civikowl.com', port=443): Max retries exceeded with url: / (Caused by NewConnectionError('<urllib3.connection.VerifiedHTTPSConnection object at 0x7f7b57c974a8>: Failed to establish a new connection: [Errno -5] No address associated with hostname',))\n",
            "'float' object has no attribute 'find'\n",
            "'timestamp'\n",
            "HTTPSConnectionPool(host='cryptob.in', port=443): Max retries exceeded with url: / (Caused by NewConnectionError('<urllib3.connection.VerifiedHTTPSConnection object at 0x7f7b57c97ef0>: Failed to establish a new connection: [Errno -2] Name or service not known',))\n",
            "HTTPConnectionPool(host='quickboost.club', port=80): Max retries exceeded with url: / (Caused by NewConnectionError('<urllib3.connection.HTTPConnection object at 0x7f7b57c9c860>: Failed to establish a new connection: [Errno -2] Name or service not known',))\n",
            "HTTPConnectionPool(host='ohmyco.in', port=80): Max retries exceeded with url: /charts/ (Caused by NewConnectionError('<urllib3.connection.HTTPConnection object at 0x7f7b57c9c898>: Failed to establish a new connection: [Errno -2] Name or service not known',))\n",
            "HTTPConnectionPool(host='www.letmeknow.email', port=80): Max retries exceeded with url: / (Caused by NewConnectionError('<urllib3.connection.HTTPConnection object at 0x7f7b57c9cf28>: Failed to establish a new connection: [Errno -2] Name or service not known',))\n",
            "HTTPSConnectionPool(host='alextumanov.com', port=443): Max retries exceeded with url: / (Caused by NewConnectionError('<urllib3.connection.VerifiedHTTPSConnection object at 0x7f7b57c97358>: Failed to establish a new connection: [Errno -2] Name or service not known',))\n",
            "HTTPSConnectionPool(host='airx.mikface.com', port=443): Max retries exceeded with url: / (Caused by NewConnectionError('<urllib3.connection.VerifiedHTTPSConnection object at 0x7f7b57c9cb00>: Failed to establish a new connection: [Errno -2] Name or service not known',))\n",
            "list index out of range\n",
            "'timestamp'\n",
            "HTTPSConnectionPool(host='unum.one', port=443): Max retries exceeded with url: / (Caused by NewConnectionError('<urllib3.connection.VerifiedHTTPSConnection object at 0x7f7b57c9c1d0>: Failed to establish a new connection: [Errno 110] Connection timed out',))\n",
            "HTTPSConnectionPool(host='modalduality.org', port=443): Max retries exceeded with url: /angelic-hierarchy/ (Caused by NewConnectionError('<urllib3.connection.VerifiedHTTPSConnection object at 0x7f7b57c9cd68>: Failed to establish a new connection: [Errno -5] No address associated with hostname',))\n",
            "HTTPConnectionPool(host='diethn.gq', port=80): Max retries exceeded with url: / (Caused by NewConnectionError('<urllib3.connection.HTTPConnection object at 0x7f7b57ca4470>: Failed to establish a new connection: [Errno -2] Name or service not known',))\n",
            "'float' object has no attribute 'find'\n",
            "'float' object has no attribute 'find'\n",
            "'timestamp'\n",
            "HTTPConnectionPool(host='handwriting.se', port=80): Max retries exceeded with url: / (Caused by NewConnectionError('<urllib3.connection.HTTPConnection object at 0x7f7b57c99f60>: Failed to establish a new connection: [Errno 110] Connection timed out',))\n",
            "HTTPSConnectionPool(host='gofreakingdoit.com', port=443): Max retries exceeded with url: / (Caused by NewConnectionError('<urllib3.connection.VerifiedHTTPSConnection object at 0x7f7b580f1080>: Failed to establish a new connection: [Errno -2] Name or service not known',))\n",
            "list index out of range\n",
            "'timestamp'\n",
            "'float' object has no attribute 'find'\n",
            "HTTPSConnectionPool(host='enviar.io', port=443): Max retries exceeded with url: / (Caused by NewConnectionError('<urllib3.connection.VerifiedHTTPSConnection object at 0x7f7b57c81dd8>: Failed to establish a new connection: [Errno -2] Name or service not known',))\n",
            "('Connection aborted.', ConnectionResetError(104, 'Connection reset by peer'))\n",
            "'timestamp'\n",
            "'timestamp'\n",
            "HTTPSConnectionPool(host='chat.concert0x.com', port=443): Max retries exceeded with url: / (Caused by NewConnectionError('<urllib3.connection.VerifiedHTTPSConnection object at 0x7f7b57c81c88>: Failed to establish a new connection: [Errno -2] Name or service not known',))\n",
            "HTTPSConnectionPool(host='airma.sh', port=443): Max retries exceeded with url: / (Caused by SSLError(SSLError(1, '[SSL: CERTIFICATE_VERIFY_FAILED] certificate verify failed (_ssl.c:852)'),))\n",
            "list index out of range\n",
            "HTTPSConnectionPool(host='libreread.org', port=443): Max retries exceeded with url: / (Caused by NewConnectionError('<urllib3.connection.VerifiedHTTPSConnection object at 0x7f7b581374e0>: Failed to establish a new connection: [Errno -2] Name or service not known',))\n",
            "HTTPSConnectionPool(host='givehongbao.com', port=443): Max retries exceeded with url: /campaigns/support-jimmy-wales-of-wikipedia-and-net-neutrality-this-holiday-season (Caused by NewConnectionError('<urllib3.connection.VerifiedHTTPSConnection object at 0x7f7b58137cc0>: Failed to establish a new connection: [Errno 110] Connection timed out',))\n",
            "HTTPSConnectionPool(host='www.revoice.me', port=443): Max retries exceeded with url: / (Caused by SSLError(SSLError(1, '[SSL: CERTIFICATE_VERIFY_FAILED] certificate verify failed (_ssl.c:852)'),))\n",
            "HTTPSConnectionPool(host='genius-quiz.com', port=443): Max retries exceeded with url: / (Caused by NewConnectionError('<urllib3.connection.VerifiedHTTPSConnection object at 0x7f7b58137ef0>: Failed to establish a new connection: [Errno -5] No address associated with hostname',))\n",
            "HTTPSConnectionPool(host='mytwocentscomments.website', port=443): Max retries exceeded with url: / (Caused by NewConnectionError('<urllib3.connection.VerifiedHTTPSConnection object at 0x7f7b57c213c8>: Failed to establish a new connection: [Errno -2] Name or service not known',))\n",
            "'float' object has no attribute 'find'\n",
            "HTTPSConnectionPool(host='beta.secureit.io', port=443): Max retries exceeded with url: /tryit (Caused by NewConnectionError('<urllib3.connection.VerifiedHTTPSConnection object at 0x7f7b58137320>: Failed to establish a new connection: [Errno 110] Connection timed out',))\n",
            "HTTPSConnectionPool(host='www.nullauth.org', port=443): Max retries exceeded with url: / (Caused by NewConnectionError('<urllib3.connection.VerifiedHTTPSConnection object at 0x7f7b57c218d0>: Failed to establish a new connection: [Errno -2] Name or service not known',))\n",
            "HTTPSConnectionPool(host='ethereumcanvas.com', port=443): Max retries exceeded with url: / (Caused by NewConnectionError('<urllib3.connection.VerifiedHTTPSConnection object at 0x7f7b58137438>: Failed to establish a new connection: [Errno -2] Name or service not known',))\n",
            "HTTPSConnectionPool(host='modalduality.org', port=443): Max retries exceeded with url: /posts/delaunay-triangulating-delaunays-eiffel-tower/ (Caused by NewConnectionError('<urllib3.connection.VerifiedHTTPSConnection object at 0x7f7b57c21b38>: Failed to establish a new connection: [Errno -5] No address associated with hostname',))\n",
            "HTTPSConnectionPool(host='pricingengine.io', port=443): Max retries exceeded with url: / (Caused by NewConnectionError('<urllib3.connection.VerifiedHTTPSConnection object at 0x7f7b57c212b0>: Failed to establish a new connection: [Errno -2] Name or service not known',))\n",
            "HTTPSConnectionPool(host='postmancollections.com', port=443): Max retries exceeded with url: / (Caused by SSLError(CertificateError(\"hostname 'postmancollections.com' doesn't match either of 'getpostman.com', '*.getpostman.com', 'postman.com', 'postman.co', 'betterpractices.dev', '*.betterpractices.dev', '*.postman.co', '*.postman.com'\",),))\n",
            "HTTPSConnectionPool(host='termipal.sh', port=443): Max retries exceeded with url: / (Caused by NewConnectionError('<urllib3.connection.VerifiedHTTPSConnection object at 0x7f7b57c21be0>: Failed to establish a new connection: [Errno -2] Name or service not known',))\n",
            "'float' object has no attribute 'find'\n",
            "list index out of range\n"
          ],
          "name": "stdout"
        }
      ]
    },
    {
      "cell_type": "code",
      "metadata": {
        "id": "3EfA6kwYTllk",
        "colab_type": "code",
        "outputId": "38678487-df44-40ab-8963-26682b4f2297",
        "colab": {
          "base_uri": "https://localhost:8080/",
          "height": 269
        }
      },
      "source": [
        "scores_data.head"
      ],
      "execution_count": 0,
      "outputs": [
        {
          "output_type": "execute_result",
          "data": {
            "text/plain": [
              "<bound method NDFrame.head of                                                       1  ...  query_url\n",
              "0                                                        ...           \n",
              "0     Show HN: Blink my keyboard lights when you vis...  ...       True\n",
              "1     Show HN: Shadowsocks-rust – A fast SOCKSv5 pro...  ...       True\n",
              "2                     Show HN: Math Worksheets for Kids  ...      False\n",
              "3     Show HN: Automated blind control via an Amazon...  ...      False\n",
              "4     Show HN: Mastodon, a federated microblogging n...  ...       True\n",
              "...                                                 ...  ...        ...\n",
              "1448  Show HN: Ad Revenue Prediction Tool for Side P...  ...       True\n",
              "1449  Show HN: Themer – a CLI for generating themes ...  ...       True\n",
              "1450  Show HN: Zam – A new JavaScript Library that's...  ...      False\n",
              "1451                   Show HN: Simple Gameboy Emulator  ...       True\n",
              "1452          Show HN: Order pizza with random toppings  ...       True\n",
              "\n",
              "[1453 rows x 7 columns]>"
            ]
          },
          "metadata": {
            "tags": []
          },
          "execution_count": 15
        }
      ]
    },
    {
      "cell_type": "code",
      "metadata": {
        "id": "n9aM-XXhTov2",
        "colab_type": "code",
        "colab": {}
      },
      "source": [
        "file_with_status = root_path +  \"sentiment_analysis_results/scores_and_status_2017.csv\"\n",
        "scores_data.to_csv(file_with_status)"
      ],
      "execution_count": 0,
      "outputs": []
    },
    {
      "cell_type": "code",
      "metadata": {
        "id": "EiK6d1pBW3h0",
        "colab_type": "code",
        "outputId": "f5aa8075-916c-40aa-826f-9323384d213f",
        "colab": {
          "base_uri": "https://localhost:8080/",
          "height": 67
        }
      },
      "source": [
        "scores_data['query_url'].value_counts()"
      ],
      "execution_count": 0,
      "outputs": [
        {
          "output_type": "execute_result",
          "data": {
            "text/plain": [
              "True     1040\n",
              "False     413\n",
              "Name: query_url, dtype: int64"
            ]
          },
          "metadata": {
            "tags": []
          },
          "execution_count": 18
        }
      ]
    },
    {
      "cell_type": "code",
      "metadata": {
        "id": "HEZ1qgHYXng_",
        "colab_type": "code",
        "colab": {}
      },
      "source": [
        "not_active = scores_data.loc[scores_data['query_url']==False]"
      ],
      "execution_count": 0,
      "outputs": []
    },
    {
      "cell_type": "code",
      "metadata": {
        "id": "fLg9wNilYhIi",
        "colab_type": "code",
        "outputId": "de40cee3-ea1f-454d-ec09-aac111df90ac",
        "colab": {
          "base_uri": "https://localhost:8080/",
          "height": 225
        }
      },
      "source": [
        "not_active.head()"
      ],
      "execution_count": 0,
      "outputs": [
        {
          "output_type": "execute_result",
          "data": {
            "text/html": [
              "<div>\n",
              "<style scoped>\n",
              "    .dataframe tbody tr th:only-of-type {\n",
              "        vertical-align: middle;\n",
              "    }\n",
              "\n",
              "    .dataframe tbody tr th {\n",
              "        vertical-align: top;\n",
              "    }\n",
              "\n",
              "    .dataframe thead th {\n",
              "        text-align: right;\n",
              "    }\n",
              "</style>\n",
              "<table border=\"1\" class=\"dataframe\">\n",
              "  <thead>\n",
              "    <tr style=\"text-align: right;\">\n",
              "      <th></th>\n",
              "      <th>1</th>\n",
              "      <th>2</th>\n",
              "      <th>3</th>\n",
              "      <th>4</th>\n",
              "      <th>5</th>\n",
              "      <th>6</th>\n",
              "      <th>query_url</th>\n",
              "    </tr>\n",
              "    <tr>\n",
              "      <th>0</th>\n",
              "      <th></th>\n",
              "      <th></th>\n",
              "      <th></th>\n",
              "      <th></th>\n",
              "      <th></th>\n",
              "      <th></th>\n",
              "      <th></th>\n",
              "    </tr>\n",
              "  </thead>\n",
              "  <tbody>\n",
              "    <tr>\n",
              "      <th>2</th>\n",
              "      <td>Show HN: Math Worksheets for Kids</td>\n",
              "      <td>13295049</td>\n",
              "      <td>http://worksheets.guru/</td>\n",
              "      <td>18</td>\n",
              "      <td>8</td>\n",
              "      <td>2</td>\n",
              "      <td>False</td>\n",
              "    </tr>\n",
              "    <tr>\n",
              "      <th>3</th>\n",
              "      <td>Show HN: Automated blind control via an Amazon...</td>\n",
              "      <td>13297192</td>\n",
              "      <td>https://jwahawis.github.io/automated-blinds</td>\n",
              "      <td>101</td>\n",
              "      <td>30</td>\n",
              "      <td>7</td>\n",
              "      <td>False</td>\n",
              "    </tr>\n",
              "    <tr>\n",
              "      <th>6</th>\n",
              "      <td>Show HN: Music Video Dispenser</td>\n",
              "      <td>13308820</td>\n",
              "      <td>https://www.musicvideodispenser.com/</td>\n",
              "      <td>86</td>\n",
              "      <td>30</td>\n",
              "      <td>16</td>\n",
              "      <td>False</td>\n",
              "    </tr>\n",
              "    <tr>\n",
              "      <th>11</th>\n",
              "      <td>Show HN: Ballotter, an Online Video Debating P...</td>\n",
              "      <td>13317978</td>\n",
              "      <td>https://www.ballotter.com/</td>\n",
              "      <td>30</td>\n",
              "      <td>27</td>\n",
              "      <td>9</td>\n",
              "      <td>False</td>\n",
              "    </tr>\n",
              "    <tr>\n",
              "      <th>12</th>\n",
              "      <td>Show HN: PDFlower – Reflow PDF papers for smal...</td>\n",
              "      <td>13318289</td>\n",
              "      <td>https://pdflower.com</td>\n",
              "      <td>216</td>\n",
              "      <td>59</td>\n",
              "      <td>10</td>\n",
              "      <td>False</td>\n",
              "    </tr>\n",
              "  </tbody>\n",
              "</table>\n",
              "</div>"
            ],
            "text/plain": [
              "                                                    1         2  ...   6  query_url\n",
              "0                                                                ...               \n",
              "2                   Show HN: Math Worksheets for Kids  13295049  ...   2      False\n",
              "3   Show HN: Automated blind control via an Amazon...  13297192  ...   7      False\n",
              "6                      Show HN: Music Video Dispenser  13308820  ...  16      False\n",
              "11  Show HN: Ballotter, an Online Video Debating P...  13317978  ...   9      False\n",
              "12  Show HN: PDFlower – Reflow PDF papers for smal...  13318289  ...  10      False\n",
              "\n",
              "[5 rows x 7 columns]"
            ]
          },
          "metadata": {
            "tags": []
          },
          "execution_count": 23
        }
      ]
    },
    {
      "cell_type": "code",
      "metadata": {
        "id": "C5skb7WGkuS4",
        "colab_type": "code",
        "colab": {}
      },
      "source": [
        "scores_data.columns = ['title', 'id', 'url','hn_score','total_comments','score', 'active']"
      ],
      "execution_count": 0,
      "outputs": []
    },
    {
      "cell_type": "code",
      "metadata": {
        "id": "m-V_PgyWlXL0",
        "colab_type": "code",
        "outputId": "86614f93-563c-4948-cc25-6548b7db0829",
        "colab": {
          "base_uri": "https://localhost:8080/",
          "height": 225
        }
      },
      "source": [
        "scores_data.head()"
      ],
      "execution_count": 0,
      "outputs": [
        {
          "output_type": "execute_result",
          "data": {
            "text/html": [
              "<div>\n",
              "<style scoped>\n",
              "    .dataframe tbody tr th:only-of-type {\n",
              "        vertical-align: middle;\n",
              "    }\n",
              "\n",
              "    .dataframe tbody tr th {\n",
              "        vertical-align: top;\n",
              "    }\n",
              "\n",
              "    .dataframe thead th {\n",
              "        text-align: right;\n",
              "    }\n",
              "</style>\n",
              "<table border=\"1\" class=\"dataframe\">\n",
              "  <thead>\n",
              "    <tr style=\"text-align: right;\">\n",
              "      <th></th>\n",
              "      <th>title</th>\n",
              "      <th>id</th>\n",
              "      <th>url</th>\n",
              "      <th>hn_score</th>\n",
              "      <th>total_comments</th>\n",
              "      <th>score</th>\n",
              "      <th>active</th>\n",
              "    </tr>\n",
              "    <tr>\n",
              "      <th>0</th>\n",
              "      <th></th>\n",
              "      <th></th>\n",
              "      <th></th>\n",
              "      <th></th>\n",
              "      <th></th>\n",
              "      <th></th>\n",
              "      <th></th>\n",
              "    </tr>\n",
              "  </thead>\n",
              "  <tbody>\n",
              "    <tr>\n",
              "      <th>0</th>\n",
              "      <td>Show HN: Blink my keyboard lights when you vis...</td>\n",
              "      <td>13293894</td>\n",
              "      <td>http://lelandbatey.com/posts/2016/12/Making-li...</td>\n",
              "      <td>87</td>\n",
              "      <td>22</td>\n",
              "      <td>11</td>\n",
              "      <td>True</td>\n",
              "    </tr>\n",
              "    <tr>\n",
              "      <th>1</th>\n",
              "      <td>Show HN: Shadowsocks-rust – A fast SOCKSv5 pro...</td>\n",
              "      <td>13294375</td>\n",
              "      <td>https://github.com/loggerhead/shadowsocks-rust</td>\n",
              "      <td>68</td>\n",
              "      <td>6</td>\n",
              "      <td>4</td>\n",
              "      <td>True</td>\n",
              "    </tr>\n",
              "    <tr>\n",
              "      <th>2</th>\n",
              "      <td>Show HN: Math Worksheets for Kids</td>\n",
              "      <td>13295049</td>\n",
              "      <td>http://worksheets.guru/</td>\n",
              "      <td>18</td>\n",
              "      <td>8</td>\n",
              "      <td>2</td>\n",
              "      <td>False</td>\n",
              "    </tr>\n",
              "    <tr>\n",
              "      <th>3</th>\n",
              "      <td>Show HN: Automated blind control via an Amazon...</td>\n",
              "      <td>13297192</td>\n",
              "      <td>https://jwahawis.github.io/automated-blinds</td>\n",
              "      <td>101</td>\n",
              "      <td>30</td>\n",
              "      <td>7</td>\n",
              "      <td>False</td>\n",
              "    </tr>\n",
              "    <tr>\n",
              "      <th>4</th>\n",
              "      <td>Show HN: Mastodon, a federated microblogging n...</td>\n",
              "      <td>13303346</td>\n",
              "      <td>https://mastodon.social</td>\n",
              "      <td>172</td>\n",
              "      <td>61</td>\n",
              "      <td>7</td>\n",
              "      <td>True</td>\n",
              "    </tr>\n",
              "  </tbody>\n",
              "</table>\n",
              "</div>"
            ],
            "text/plain": [
              "                                               title        id  ... score  active\n",
              "0                                                               ...              \n",
              "0  Show HN: Blink my keyboard lights when you vis...  13293894  ...    11    True\n",
              "1  Show HN: Shadowsocks-rust – A fast SOCKSv5 pro...  13294375  ...     4    True\n",
              "2                  Show HN: Math Worksheets for Kids  13295049  ...     2   False\n",
              "3  Show HN: Automated blind control via an Amazon...  13297192  ...     7   False\n",
              "4  Show HN: Mastodon, a federated microblogging n...  13303346  ...     7    True\n",
              "\n",
              "[5 rows x 7 columns]"
            ]
          },
          "metadata": {
            "tags": []
          },
          "execution_count": 54
        }
      ]
    },
    {
      "cell_type": "code",
      "metadata": {
        "id": "l-KtTC-o1O_e",
        "colab_type": "code",
        "colab": {}
      },
      "source": [
        "def comments_analysed(row):\n",
        "  id = row['id']\n",
        "  comments_file = root_path +  \"sentiment_analysis_results/comments_for_\"+str(id)+\".csv\"\n",
        "  comments_data = pd.read_csv(comments_file, header=None) \n",
        "  return comments_data.shape[0]\n"
      ],
      "execution_count": 0,
      "outputs": []
    },
    {
      "cell_type": "code",
      "metadata": {
        "id": "mZrH5Thn1NnG",
        "colab_type": "code",
        "colab": {}
      },
      "source": [
        "scores_data['comments_analysed'] = scores_data.apply(comments_analysed, axis=1)"
      ],
      "execution_count": 0,
      "outputs": []
    },
    {
      "cell_type": "code",
      "metadata": {
        "id": "YLEh8NiW1y7n",
        "colab_type": "code",
        "outputId": "db1a98cf-fc31-48f1-edb0-f09b74bc5291",
        "colab": {
          "base_uri": "https://localhost:8080/",
          "height": 225
        }
      },
      "source": [
        "scores_data.head()"
      ],
      "execution_count": 0,
      "outputs": [
        {
          "output_type": "execute_result",
          "data": {
            "text/html": [
              "<div>\n",
              "<style scoped>\n",
              "    .dataframe tbody tr th:only-of-type {\n",
              "        vertical-align: middle;\n",
              "    }\n",
              "\n",
              "    .dataframe tbody tr th {\n",
              "        vertical-align: top;\n",
              "    }\n",
              "\n",
              "    .dataframe thead th {\n",
              "        text-align: right;\n",
              "    }\n",
              "</style>\n",
              "<table border=\"1\" class=\"dataframe\">\n",
              "  <thead>\n",
              "    <tr style=\"text-align: right;\">\n",
              "      <th></th>\n",
              "      <th>title</th>\n",
              "      <th>id</th>\n",
              "      <th>url</th>\n",
              "      <th>hn_score</th>\n",
              "      <th>total_comments</th>\n",
              "      <th>score</th>\n",
              "      <th>active</th>\n",
              "      <th>comments_analysed</th>\n",
              "      <th>ratio</th>\n",
              "    </tr>\n",
              "    <tr>\n",
              "      <th>0</th>\n",
              "      <th></th>\n",
              "      <th></th>\n",
              "      <th></th>\n",
              "      <th></th>\n",
              "      <th></th>\n",
              "      <th></th>\n",
              "      <th></th>\n",
              "      <th></th>\n",
              "      <th></th>\n",
              "    </tr>\n",
              "  </thead>\n",
              "  <tbody>\n",
              "    <tr>\n",
              "      <th>0</th>\n",
              "      <td>Show HN: Blink my keyboard lights when you vis...</td>\n",
              "      <td>13293894</td>\n",
              "      <td>http://lelandbatey.com/posts/2016/12/Making-li...</td>\n",
              "      <td>87</td>\n",
              "      <td>22</td>\n",
              "      <td>11</td>\n",
              "      <td>True</td>\n",
              "      <td>12</td>\n",
              "      <td>0.28866</td>\n",
              "    </tr>\n",
              "    <tr>\n",
              "      <th>1</th>\n",
              "      <td>Show HN: Shadowsocks-rust – A fast SOCKSv5 pro...</td>\n",
              "      <td>13294375</td>\n",
              "      <td>https://github.com/loggerhead/shadowsocks-rust</td>\n",
              "      <td>68</td>\n",
              "      <td>6</td>\n",
              "      <td>4</td>\n",
              "      <td>True</td>\n",
              "      <td>5</td>\n",
              "      <td>0.28866</td>\n",
              "    </tr>\n",
              "    <tr>\n",
              "      <th>2</th>\n",
              "      <td>Show HN: Math Worksheets for Kids</td>\n",
              "      <td>13295049</td>\n",
              "      <td>http://worksheets.guru/</td>\n",
              "      <td>18</td>\n",
              "      <td>8</td>\n",
              "      <td>2</td>\n",
              "      <td>False</td>\n",
              "      <td>2</td>\n",
              "      <td>0.28866</td>\n",
              "    </tr>\n",
              "    <tr>\n",
              "      <th>3</th>\n",
              "      <td>Show HN: Automated blind control via an Amazon...</td>\n",
              "      <td>13297192</td>\n",
              "      <td>https://jwahawis.github.io/automated-blinds</td>\n",
              "      <td>101</td>\n",
              "      <td>30</td>\n",
              "      <td>7</td>\n",
              "      <td>False</td>\n",
              "      <td>10</td>\n",
              "      <td>0.28866</td>\n",
              "    </tr>\n",
              "    <tr>\n",
              "      <th>4</th>\n",
              "      <td>Show HN: Mastodon, a federated microblogging n...</td>\n",
              "      <td>13303346</td>\n",
              "      <td>https://mastodon.social</td>\n",
              "      <td>172</td>\n",
              "      <td>61</td>\n",
              "      <td>7</td>\n",
              "      <td>True</td>\n",
              "      <td>19</td>\n",
              "      <td>0.28866</td>\n",
              "    </tr>\n",
              "  </tbody>\n",
              "</table>\n",
              "</div>"
            ],
            "text/plain": [
              "                                               title  ...    ratio\n",
              "0                                                     ...         \n",
              "0  Show HN: Blink my keyboard lights when you vis...  ...  0.28866\n",
              "1  Show HN: Shadowsocks-rust – A fast SOCKSv5 pro...  ...  0.28866\n",
              "2                  Show HN: Math Worksheets for Kids  ...  0.28866\n",
              "3  Show HN: Automated blind control via an Amazon...  ...  0.28866\n",
              "4  Show HN: Mastodon, a federated microblogging n...  ...  0.28866\n",
              "\n",
              "[5 rows x 9 columns]"
            ]
          },
          "metadata": {
            "tags": []
          },
          "execution_count": 66
        }
      ]
    },
    {
      "cell_type": "code",
      "metadata": {
        "id": "kNkNDwHQY2cR",
        "colab_type": "code",
        "colab": {}
      },
      "source": [
        "def ratio_of_positive_comments(row):\n",
        "  return row['comments_analysed']/row['total_comments']"
      ],
      "execution_count": 0,
      "outputs": []
    },
    {
      "cell_type": "code",
      "metadata": {
        "id": "mMfgyu7Q2izq",
        "colab_type": "code",
        "colab": {}
      },
      "source": [
        "scores_data['ratio'] = scores_data.apply(ratio_of_positive_comments, axis=1)"
      ],
      "execution_count": 0,
      "outputs": []
    },
    {
      "cell_type": "code",
      "metadata": {
        "id": "DEjIV2Abew_j",
        "colab_type": "code",
        "outputId": "5d5eca14-b545-40fb-8014-1dcbf2774bb6",
        "colab": {
          "base_uri": "https://localhost:8080/",
          "height": 166
        }
      },
      "source": [
        "scores_data.head(3)"
      ],
      "execution_count": 0,
      "outputs": [
        {
          "output_type": "execute_result",
          "data": {
            "text/html": [
              "<div>\n",
              "<style scoped>\n",
              "    .dataframe tbody tr th:only-of-type {\n",
              "        vertical-align: middle;\n",
              "    }\n",
              "\n",
              "    .dataframe tbody tr th {\n",
              "        vertical-align: top;\n",
              "    }\n",
              "\n",
              "    .dataframe thead th {\n",
              "        text-align: right;\n",
              "    }\n",
              "</style>\n",
              "<table border=\"1\" class=\"dataframe\">\n",
              "  <thead>\n",
              "    <tr style=\"text-align: right;\">\n",
              "      <th></th>\n",
              "      <th>title</th>\n",
              "      <th>id</th>\n",
              "      <th>url</th>\n",
              "      <th>hn_score</th>\n",
              "      <th>total_comments</th>\n",
              "      <th>score</th>\n",
              "      <th>active</th>\n",
              "      <th>comments_analysed</th>\n",
              "      <th>ratio</th>\n",
              "    </tr>\n",
              "    <tr>\n",
              "      <th>0</th>\n",
              "      <th></th>\n",
              "      <th></th>\n",
              "      <th></th>\n",
              "      <th></th>\n",
              "      <th></th>\n",
              "      <th></th>\n",
              "      <th></th>\n",
              "      <th></th>\n",
              "      <th></th>\n",
              "    </tr>\n",
              "  </thead>\n",
              "  <tbody>\n",
              "    <tr>\n",
              "      <th>0</th>\n",
              "      <td>Show HN: Blink my keyboard lights when you vis...</td>\n",
              "      <td>13293894</td>\n",
              "      <td>http://lelandbatey.com/posts/2016/12/Making-li...</td>\n",
              "      <td>87</td>\n",
              "      <td>22</td>\n",
              "      <td>11</td>\n",
              "      <td>True</td>\n",
              "      <td>12</td>\n",
              "      <td>0.545455</td>\n",
              "    </tr>\n",
              "    <tr>\n",
              "      <th>1</th>\n",
              "      <td>Show HN: Shadowsocks-rust – A fast SOCKSv5 pro...</td>\n",
              "      <td>13294375</td>\n",
              "      <td>https://github.com/loggerhead/shadowsocks-rust</td>\n",
              "      <td>68</td>\n",
              "      <td>6</td>\n",
              "      <td>4</td>\n",
              "      <td>True</td>\n",
              "      <td>5</td>\n",
              "      <td>0.833333</td>\n",
              "    </tr>\n",
              "    <tr>\n",
              "      <th>2</th>\n",
              "      <td>Show HN: Math Worksheets for Kids</td>\n",
              "      <td>13295049</td>\n",
              "      <td>http://worksheets.guru/</td>\n",
              "      <td>18</td>\n",
              "      <td>8</td>\n",
              "      <td>2</td>\n",
              "      <td>False</td>\n",
              "      <td>2</td>\n",
              "      <td>0.250000</td>\n",
              "    </tr>\n",
              "  </tbody>\n",
              "</table>\n",
              "</div>"
            ],
            "text/plain": [
              "                                               title  ...     ratio\n",
              "0                                                     ...          \n",
              "0  Show HN: Blink my keyboard lights when you vis...  ...  0.545455\n",
              "1  Show HN: Shadowsocks-rust – A fast SOCKSv5 pro...  ...  0.833333\n",
              "2                  Show HN: Math Worksheets for Kids  ...  0.250000\n",
              "\n",
              "[3 rows x 9 columns]"
            ]
          },
          "metadata": {
            "tags": []
          },
          "execution_count": 69
        }
      ]
    },
    {
      "cell_type": "code",
      "metadata": {
        "id": "wkiuf5yTpEsT",
        "colab_type": "code",
        "colab": {}
      },
      "source": [
        "processed_file = root_path +  \"sentiment_analysis_results/scores_and_status_2017.csv\"\n",
        "scores_data.to_csv(file_with_status)"
      ],
      "execution_count": 0,
      "outputs": []
    },
    {
      "cell_type": "code",
      "metadata": {
        "id": "v0tvwK_e262f",
        "colab_type": "code",
        "colab": {}
      },
      "source": [
        "not_active_with_high_positive = scores_data.loc[scores_data['active']==False].loc[scores_data['ratio'] > 0.50]"
      ],
      "execution_count": 0,
      "outputs": []
    },
    {
      "cell_type": "code",
      "metadata": {
        "id": "y4tT042v3r5J",
        "colab_type": "code",
        "outputId": "86d03b5e-4d12-4439-be65-535a863d3942",
        "colab": {
          "base_uri": "https://localhost:8080/",
          "height": 34
        }
      },
      "source": [
        "not_active_with_high_positive.shape"
      ],
      "execution_count": 0,
      "outputs": [
        {
          "output_type": "execute_result",
          "data": {
            "text/plain": [
              "(79, 9)"
            ]
          },
          "metadata": {
            "tags": []
          },
          "execution_count": 75
        }
      ]
    },
    {
      "cell_type": "code",
      "metadata": {
        "id": "Ws2KINf53uT0",
        "colab_type": "code",
        "outputId": "f75796d2-a6c8-457d-e3de-2f8f668c1845",
        "colab": {
          "base_uri": "https://localhost:8080/",
          "height": 225
        }
      },
      "source": [
        "not_active_with_high_positive.head()"
      ],
      "execution_count": 0,
      "outputs": [
        {
          "output_type": "execute_result",
          "data": {
            "text/html": [
              "<div>\n",
              "<style scoped>\n",
              "    .dataframe tbody tr th:only-of-type {\n",
              "        vertical-align: middle;\n",
              "    }\n",
              "\n",
              "    .dataframe tbody tr th {\n",
              "        vertical-align: top;\n",
              "    }\n",
              "\n",
              "    .dataframe thead th {\n",
              "        text-align: right;\n",
              "    }\n",
              "</style>\n",
              "<table border=\"1\" class=\"dataframe\">\n",
              "  <thead>\n",
              "    <tr style=\"text-align: right;\">\n",
              "      <th></th>\n",
              "      <th>title</th>\n",
              "      <th>id</th>\n",
              "      <th>url</th>\n",
              "      <th>hn_score</th>\n",
              "      <th>total_comments</th>\n",
              "      <th>score</th>\n",
              "      <th>active</th>\n",
              "      <th>comments_analysed</th>\n",
              "      <th>ratio</th>\n",
              "    </tr>\n",
              "    <tr>\n",
              "      <th>0</th>\n",
              "      <th></th>\n",
              "      <th></th>\n",
              "      <th></th>\n",
              "      <th></th>\n",
              "      <th></th>\n",
              "      <th></th>\n",
              "      <th></th>\n",
              "      <th></th>\n",
              "      <th></th>\n",
              "    </tr>\n",
              "  </thead>\n",
              "  <tbody>\n",
              "    <tr>\n",
              "      <th>6</th>\n",
              "      <td>Show HN: Music Video Dispenser</td>\n",
              "      <td>13308820</td>\n",
              "      <td>https://www.musicvideodispenser.com/</td>\n",
              "      <td>86</td>\n",
              "      <td>30</td>\n",
              "      <td>16</td>\n",
              "      <td>False</td>\n",
              "      <td>21</td>\n",
              "      <td>0.700000</td>\n",
              "    </tr>\n",
              "    <tr>\n",
              "      <th>33</th>\n",
              "      <td>Show HN: Wiplo – A beautiful Trello replacement</td>\n",
              "      <td>13359237</td>\n",
              "      <td>https://www.wiplo.com</td>\n",
              "      <td>13</td>\n",
              "      <td>13</td>\n",
              "      <td>4</td>\n",
              "      <td>False</td>\n",
              "      <td>7</td>\n",
              "      <td>0.538462</td>\n",
              "    </tr>\n",
              "    <tr>\n",
              "      <th>58</th>\n",
              "      <td>Show HN: A redesigned Wikipedia</td>\n",
              "      <td>13415243</td>\n",
              "      <td>https://wiki.shamdasani.org/</td>\n",
              "      <td>13</td>\n",
              "      <td>17</td>\n",
              "      <td>5</td>\n",
              "      <td>False</td>\n",
              "      <td>10</td>\n",
              "      <td>0.588235</td>\n",
              "    </tr>\n",
              "    <tr>\n",
              "      <th>96</th>\n",
              "      <td>Show HN: The Quibbler aggregates “fake news”</td>\n",
              "      <td>13489061</td>\n",
              "      <td>https://quibbler.press/#/</td>\n",
              "      <td>10</td>\n",
              "      <td>8</td>\n",
              "      <td>3</td>\n",
              "      <td>False</td>\n",
              "      <td>8</td>\n",
              "      <td>1.000000</td>\n",
              "    </tr>\n",
              "    <tr>\n",
              "      <th>124</th>\n",
              "      <td>Show HN: Wow, a mod here threatened to BAN me ...</td>\n",
              "      <td>13545186</td>\n",
              "      <td>NaN</td>\n",
              "      <td>8</td>\n",
              "      <td>11</td>\n",
              "      <td>-1</td>\n",
              "      <td>False</td>\n",
              "      <td>7</td>\n",
              "      <td>0.636364</td>\n",
              "    </tr>\n",
              "  </tbody>\n",
              "</table>\n",
              "</div>"
            ],
            "text/plain": [
              "                                                 title  ...     ratio\n",
              "0                                                       ...          \n",
              "6                       Show HN: Music Video Dispenser  ...  0.700000\n",
              "33     Show HN: Wiplo – A beautiful Trello replacement  ...  0.538462\n",
              "58                     Show HN: A redesigned Wikipedia  ...  0.588235\n",
              "96        Show HN: The Quibbler aggregates “fake news”  ...  1.000000\n",
              "124  Show HN: Wow, a mod here threatened to BAN me ...  ...  0.636364\n",
              "\n",
              "[5 rows x 9 columns]"
            ]
          },
          "metadata": {
            "tags": []
          },
          "execution_count": 76
        }
      ]
    },
    {
      "cell_type": "code",
      "metadata": {
        "id": "r6eHlXdc31Ah",
        "colab_type": "code",
        "outputId": "ed3b854c-c199-4ec7-85ab-886425656536",
        "colab": {
          "base_uri": "https://localhost:8080/",
          "height": 34
        }
      },
      "source": [
        "print(scores_data['hn_score'].max())"
      ],
      "execution_count": 0,
      "outputs": [
        {
          "output_type": "stream",
          "text": [
            "1535\n"
          ],
          "name": "stdout"
        }
      ]
    },
    {
      "cell_type": "code",
      "metadata": {
        "id": "XGMBbgBa4VGE",
        "colab_type": "code",
        "outputId": "c34a7b4e-ef28-412f-a71c-a6bb9cd0559d",
        "colab": {
          "base_uri": "https://localhost:8080/",
          "height": 34
        }
      },
      "source": [
        "print(scores_data['hn_score'].min())"
      ],
      "execution_count": 0,
      "outputs": [
        {
          "output_type": "stream",
          "text": [
            "1\n"
          ],
          "name": "stdout"
        }
      ]
    },
    {
      "cell_type": "code",
      "metadata": {
        "id": "IHnrmcYd4ZMi",
        "colab_type": "code",
        "outputId": "57723d57-bc8e-478b-daa6-f41e0dd9f233",
        "colab": {
          "base_uri": "https://localhost:8080/",
          "height": 34
        }
      },
      "source": [
        "print(scores_data['hn_score'].mean())"
      ],
      "execution_count": 0,
      "outputs": [
        {
          "output_type": "stream",
          "text": [
            "93.87611837577425\n"
          ],
          "name": "stdout"
        }
      ]
    },
    {
      "cell_type": "code",
      "metadata": {
        "id": "oGntbDKD4qPx",
        "colab_type": "code",
        "colab": {}
      },
      "source": [
        ""
      ],
      "execution_count": 0,
      "outputs": []
    }
  ]
}