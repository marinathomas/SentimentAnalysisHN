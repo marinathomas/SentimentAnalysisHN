{
  "nbformat": 4,
  "nbformat_minor": 0,
  "metadata": {
    "colab": {
      "name": "Export_Table.ipynb",
      "provenance": [],
      "include_colab_link": true
    },
    "kernelspec": {
      "name": "python3",
      "display_name": "Python 3"
    }
  },
  "cells": [
    {
      "cell_type": "markdown",
      "metadata": {
        "id": "view-in-github",
        "colab_type": "text"
      },
      "source": [
        "<a href=\"https://colab.research.google.com/github/marinathomas/SentimentAnalysisHN/blob/master/Export_Table.ipynb\" target=\"_parent\"><img src=\"https://colab.research.google.com/assets/colab-badge.svg\" alt=\"Open In Colab\"/></a>"
      ]
    },
    {
      "cell_type": "code",
      "metadata": {
        "id": "fQp6b_UOhDXd",
        "colab_type": "code",
        "outputId": "23a95413-02c8-4860-aa94-51ebb573326f",
        "colab": {
          "base_uri": "https://localhost:8080/",
          "height": 124
        }
      },
      "source": [
        "from google.cloud import bigquery\n",
        "import pandas as pd\n",
        "import os\n",
        "\n",
        "from google.colab import drive\n",
        "drive.mount('/content/gdrive')"
      ],
      "execution_count": 0,
      "outputs": [
        {
          "output_type": "stream",
          "text": [
            "Go to this URL in a browser: https://accounts.google.com/o/oauth2/auth?client_id=947318989803-6bn6qk8qdgf4n4g3pfee6491hc0brc4i.apps.googleusercontent.com&redirect_uri=urn%3aietf%3awg%3aoauth%3a2.0%3aoob&response_type=code&scope=email%20https%3a%2f%2fwww.googleapis.com%2fauth%2fdocs.test%20https%3a%2f%2fwww.googleapis.com%2fauth%2fdrive%20https%3a%2f%2fwww.googleapis.com%2fauth%2fdrive.photos.readonly%20https%3a%2f%2fwww.googleapis.com%2fauth%2fpeopleapi.readonly\n",
            "\n",
            "Enter your authorization code:\n",
            "··········\n",
            "Mounted at /content/gdrive\n"
          ],
          "name": "stdout"
        }
      ]
    },
    {
      "cell_type": "code",
      "metadata": {
        "id": "MGloHhbS8Neq",
        "colab_type": "code",
        "colab": {}
      },
      "source": [
        "root_path = \"/content/gdrive/Shared drives/HackerNews:SentimentAnalysis/\"\n",
        "credential_path = root_path+\"BigData-HackerNews-77d9fa1b02c1.json\"\n",
        "os.environ['GOOGLE_APPLICATION_CREDENTIALS'] = credential_path"
      ],
      "execution_count": 0,
      "outputs": []
    },
    {
      "cell_type": "code",
      "metadata": {
        "id": "70Z_t_lTogBN",
        "colab_type": "code",
        "outputId": "075960e9-1f77-4ee0-9c3a-b5ad460e3212",
        "colab": {
          "base_uri": "https://localhost:8080/",
          "height": 35
        }
      },
      "source": [
        "client = bigquery.Client()\n",
        "\n",
        "bucket_name = 'ut-hackernews-data'\n",
        "project = \"bigquery-public-data\"\n",
        "dataset_id = \"hacker_news\"\n",
        "table_id = \"full\"\n",
        "\n",
        "destination_uri = \"gs://{}/{}\".format(bucket_name, \"full-*.csv\")\n",
        "dataset_ref = client.dataset(dataset_id, project=project)\n",
        "table_ref = dataset_ref.table(table_id)\n",
        "\n",
        "extract_job = client.extract_table(\n",
        "    table_ref,\n",
        "    destination_uri,\n",
        "    # Location must match that of the source table.\n",
        "    location=\"US\",\n",
        ")  # API request\n",
        "extract_job.result()  # Waits for job to complete.\n",
        "\n",
        "print(\n",
        "    \"Exported {}:{}.{} to {}\".format(project, dataset_id, table_id, destination_uri)\n",
        ")"
      ],
      "execution_count": 0,
      "outputs": [
        {
          "output_type": "stream",
          "text": [
            "Exported bigquery-public-data:hacker_news.full to gs://ut-hackernews-data/full-*.csv\n"
          ],
          "name": "stdout"
        }
      ]
    }
  ]
}